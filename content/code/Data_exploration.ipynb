{
 "cells": [
  {
   "cell_type": "markdown",
   "id": "97761504",
   "metadata": {},
   "source": [
    "# Data exploration"
   ]
  },
  {
   "cell_type": "markdown",
   "id": "44335021",
   "metadata": {},
   "source": [
    "This section deals with the exploration of the dataset. First of all, the demographic data of the sample is described with regard to basic demographic variables. Second,the **macro- and microstructural** data is explored, comparing how the control and patient group might differ respectively. "
   ]
  },
  {
   "cell_type": "markdown",
   "id": "e6b3afe2",
   "metadata": {},
   "source": [
    "## 1. Demographic data"
   ]
  },
  {
   "cell_type": "markdown",
   "id": "b0cd24c6",
   "metadata": {},
   "source": [
    "In the Dublin sample, there is a different subset of patients with **micro-structural (MD and FA)** data compared to those with **macro-structural (CT)** data. Both \"subsets\" are loaded and compared with regard to basic demographic variables."
   ]
  },
  {
   "cell_type": "markdown",
   "id": "b6bfb37c",
   "metadata": {},
   "source": [
    "### 1.1 Reading and adjusting the macro- and microstructural data"
   ]
  },
  {
   "cell_type": "markdown",
   "id": "058b73a9",
   "metadata": {},
   "source": [
    "First, relevant modules are imported to read the data. Since different operating systems might differ in the way indicating file paths, the os.pardir() function is used to ensure that the code can run independently of various operating systems."
   ]
  },
  {
   "cell_type": "code",
   "execution_count": 2,
   "id": "43d78adc",
   "metadata": {},
   "outputs": [],
   "source": [
    "#import module to read data\n",
    "\n",
    "import pandas as pd\n",
    "import os\n",
    "\n",
    "#store CT data in variable \"CT_Dublin\"\n",
    "\n",
    "CT_Dublin_path = os.path.join(os.pardir, 'data', 'PARC_500.aparc_thickness_Dublin.csv')\n",
    "CT_Dublin = pd.read_csv(CT_Dublin_path)"
   ]
  },
  {
   "cell_type": "markdown",
   "id": "ff379c39",
   "metadata": {},
   "source": [
    "To get the columns of our dataframe in order to see which variables are measured, we simply run the following command. "
   ]
  },
  {
   "cell_type": "code",
   "execution_count": 3,
   "id": "e8565247",
   "metadata": {},
   "outputs": [
    {
     "data": {
      "text/plain": [
       "Index(['Subject ID', 'Age', 'Sex', 'Group', 'lh_bankssts_part1_thickness',\n",
       "       'lh_bankssts_part2_thickness',\n",
       "       'lh_caudalanteriorcingulate_part1_thickness',\n",
       "       'lh_caudalmiddlefrontal_part1_thickness',\n",
       "       'lh_caudalmiddlefrontal_part2_thickness',\n",
       "       'lh_caudalmiddlefrontal_part3_thickness',\n",
       "       ...\n",
       "       'rh_supramarginal_part5_thickness', 'rh_supramarginal_part6_thickness',\n",
       "       'rh_supramarginal_part7_thickness', 'rh_frontalpole_part1_thickness',\n",
       "       'rh_temporalpole_part1_thickness',\n",
       "       'rh_transversetemporal_part1_thickness', 'rh_insula_part1_thickness',\n",
       "       'rh_insula_part2_thickness', 'rh_insula_part3_thickness',\n",
       "       'rh_insula_part4_thickness'],\n",
       "      dtype='object', length=312)"
      ]
     },
     "execution_count": 3,
     "metadata": {},
     "output_type": "execute_result"
    }
   ],
   "source": [
    "CT_Dublin.columns"
   ]
  },
  {
   "cell_type": "markdown",
   "id": "0dcbaebb",
   "metadata": {},
   "source": [
    "As we can see, besides the different brain regions there are columns that indicate variables containing the demographic data that we are interested in for now. To make things easier, we adjust the dataframe in selecting a subset that only carries the demographic variables."
   ]
  },
  {
   "cell_type": "code",
   "execution_count": 4,
   "id": "7e4759c6",
   "metadata": {},
   "outputs": [],
   "source": [
    "#select a subset of the CT data with demographic variables\n",
    "\n",
    "demographic_CT = CT_Dublin[[\"Subject ID\", \"Age\", \"Sex\", \"Group\"]]"
   ]
  },
  {
   "cell_type": "markdown",
   "id": "522e1048",
   "metadata": {},
   "source": [
    "Having the subset of demographic information for the **macrostructural** data, the identical procedure is done for the **microstructural** data. So first, the data is read and adjusted to demographic variables only."
   ]
  },
  {
   "cell_type": "code",
   "execution_count": 5,
   "id": "4f9c2d09",
   "metadata": {},
   "outputs": [],
   "source": [
    "#read MD and FA data\n",
    "\n",
    "MD_Dublin_path = os.path.join(os.pardir, 'data', 'PARC_500.aparc_MD_cortexAv_mean_Dublin.csv')\n",
    "MD_Dublin = pd.read_csv(MD_Dublin_path)\n",
    "\n",
    "FA_Dublin_path = os.path.join(os.pardir, 'data', 'PARC_500.aparc_FA_cortexAv_mean_Dublin.csv')\n",
    "FA_Dublin = pd.read_csv(FA_Dublin_path)"
   ]
  },
  {
   "cell_type": "code",
   "execution_count": 6,
   "id": "aad845c1",
   "metadata": {},
   "outputs": [],
   "source": [
    "#select a subset of the MD and FA data with demographic variables\n",
    "\n",
    "demographic_MD = MD_Dublin[[\"Subject ID\", \"Age\", \"Sex\", \"Group\"]]\n",
    "demographic_FA = FA_Dublin[[\"Subject ID\", \"Age\", \"Sex\", \"Group\"]]"
   ]
  },
  {
   "cell_type": "markdown",
   "id": "3fc847a5",
   "metadata": {},
   "source": [
    "Normally, the shape of the dataframes for each MRI metric should be the same since it is only one sample. However, to check this we can run the following commands. "
   ]
  },
  {
   "cell_type": "code",
   "execution_count": 7,
   "id": "9fd35029",
   "metadata": {},
   "outputs": [
    {
     "data": {
      "text/plain": [
       "((108, 4), (115, 4), (115, 4))"
      ]
     },
     "execution_count": 7,
     "metadata": {},
     "output_type": "execute_result"
    }
   ],
   "source": [
    "demographic_CT.shape, demographic_MD.shape, demographic_FA.shape"
   ]
  },
  {
   "cell_type": "markdown",
   "id": "3cbea1de",
   "metadata": {},
   "source": [
    "As we can see, the shapes are not identicial except for the **MD** and **FA** dataframe. Since the latter are both central characteristics of diffusion tensors (see further below), it makes sense that they exhibit the identical shape and were measured for the same amount of subjects. However, for the **CT** data, it seems like there are fewer rows indicating not the same amount of subjects for whom the metric was measured. So having a look at the dataframes should show that."
   ]
  },
  {
   "cell_type": "code",
   "execution_count": 8,
   "id": "237e8552",
   "metadata": {},
   "outputs": [
    {
     "name": "stdout",
     "output_type": "stream",
     "text": [
      "    Subject ID  Age  Sex  Group\n",
      "0      CON9225   21    2      1\n",
      "1      CON9229   28    2      1\n",
      "2      CON9231   29    2      1\n",
      "3     GASP3037   61    1      2\n",
      "4     GASP3040   47    1      2\n",
      "..         ...  ...  ...    ...\n",
      "103    RPG9019   31    1      2\n",
      "104    RPG9102   42    2      2\n",
      "105    RPG9119   41    1      2\n",
      "106    RPG9121   51    1      2\n",
      "107    RPG9126   56    1      2\n",
      "\n",
      "[108 rows x 4 columns]     Subject ID  Age  Sex  Group\n",
      "0      CON3140   37    2      1\n",
      "1      CON3891   33    2      1\n",
      "2      CON4664   40    2      1\n",
      "3      CON7009   21    1      1\n",
      "4      CON7024   59    1      1\n",
      "..         ...  ...  ...    ...\n",
      "110    RPG9102   42    2      2\n",
      "111    RPG9103   37    1      2\n",
      "112    RPG9119   41    1      2\n",
      "113    RPG9121   51    1      2\n",
      "114    RPG9126   56    1      2\n",
      "\n",
      "[115 rows x 4 columns]     Subject ID  Age  Sex  Group\n",
      "0      CON3140   37    2      1\n",
      "1      CON3891   33    2      1\n",
      "2      CON4664   40    2      1\n",
      "3      CON7009   21    1      1\n",
      "4      CON7024   59    1      1\n",
      "..         ...  ...  ...    ...\n",
      "110    RPG9102   42    2      2\n",
      "111    RPG9103   37    1      2\n",
      "112    RPG9119   41    1      2\n",
      "113    RPG9121   51    1      2\n",
      "114    RPG9126   56    1      2\n",
      "\n",
      "[115 rows x 4 columns]\n"
     ]
    }
   ],
   "source": [
    "print(demographic_CT, demographic_MD, demographic_FA)"
   ]
  },
  {
   "cell_type": "markdown",
   "id": "4dc8b7d3",
   "metadata": {},
   "source": [
    "To prove that the subjects in the **MD** and **FA** dataframe are identical, we can compare them and run the following code. The code implies whether the subjects in the **MD** dataframe are also in the **FA** dataframe and returns the amount of \"True\" cases for  being in both dataframes and \"False\" if that is not the case. So we expect the amount of \"True\" cases to be 115 since the 115 rows indicate the amount of subjects."
   ]
  },
  {
   "cell_type": "code",
   "execution_count": 9,
   "id": "308dc8cf",
   "metadata": {},
   "outputs": [
    {
     "data": {
      "text/plain": [
       "True    115\n",
       "Name: Subject ID, dtype: int64"
      ]
     },
     "execution_count": 9,
     "metadata": {},
     "output_type": "execute_result"
    }
   ],
   "source": [
    "demographic_MD['Subject ID'].isin(demographic_FA['Subject ID']).value_counts() "
   ]
  },
  {
   "cell_type": "markdown",
   "id": "9f6b212f",
   "metadata": {},
   "source": [
    "To double check, we can run the following:"
   ]
  },
  {
   "cell_type": "code",
   "execution_count": 10,
   "id": "a0a21d88",
   "metadata": {},
   "outputs": [
    {
     "data": {
      "text/plain": [
       "True"
      ]
     },
     "execution_count": 10,
     "metadata": {},
     "output_type": "execute_result"
    }
   ],
   "source": [
    "demographic_MD['Subject ID'].equals(demographic_FA['Subject ID'])"
   ]
  },
  {
   "cell_type": "markdown",
   "id": "e70c4a02",
   "metadata": {},
   "source": [
    "The same can be done for the **CT** dataframe since it indicates 108 participants. It might be interesting to know in how far the participants overlap."
   ]
  },
  {
   "cell_type": "code",
   "execution_count": 11,
   "id": "e90213e1",
   "metadata": {},
   "outputs": [
    {
     "data": {
      "text/plain": [
       "False    62\n",
       "True     46\n",
       "Name: Subject ID, dtype: int64"
      ]
     },
     "execution_count": 11,
     "metadata": {},
     "output_type": "execute_result"
    }
   ],
   "source": [
    "demographic_CT['Subject ID'].isin(demographic_MD['Subject ID']).value_counts() "
   ]
  },
  {
   "cell_type": "markdown",
   "id": "03fd8329",
   "metadata": {},
   "source": [
    "As the output shows, the participants in the **CT** and the **MD** and **FA** dataframe are not entirely identical. So both MRI metrics are not measured for the same participants. Subsequently, for the comparison of the demographical data both dataframes are going to be used."
   ]
  },
  {
   "cell_type": "markdown",
   "id": "4a5a31f4",
   "metadata": {},
   "source": [
    "### 1.2 Comparing demographic variables for the macro- and microstructural data"
   ]
  },
  {
   "cell_type": "markdown",
   "id": "17326ee0",
   "metadata": {},
   "source": [
    "As already indicated above, the **macrostructural** data contains a total of N = 108 participants whereas the **microstructural** data was measured for a total of N = 115 participants. For n = 46 participants both MRI metrics were measured. \n",
    "\n",
    "Before comparing the demographic variables, first we will have a look at the amount of participants belongig to the control and patient group for both MRI metrics. The documentation on [figshare](https://figshare.com/articles/dataset/Data_for_Functional_MRI_connectivity_accurately_distinguishes_cases_with_psychotic_disorders_from_healthy_controls_based_on_cortical_features_associated_with_brain_network_development_/12361550) provides label information for Group (1=control, 2=case). To make the following visualizations more self-explaining, the numbers indicating the group are replaced with the respective label."
   ]
  },
  {
   "cell_type": "code",
   "execution_count": 12,
   "id": "bc3b6d23",
   "metadata": {},
   "outputs": [
    {
     "name": "stderr",
     "output_type": "stream",
     "text": [
      "/Users/mello/miniconda3/envs/neuro_ai/lib/python3.7/site-packages/ipykernel_launcher.py:3: SettingWithCopyWarning: \n",
      "A value is trying to be set on a copy of a slice from a DataFrame.\n",
      "Try using .loc[row_indexer,col_indexer] = value instead\n",
      "\n",
      "See the caveats in the documentation: https://pandas.pydata.org/pandas-docs/stable/user_guide/indexing.html#returning-a-view-versus-a-copy\n",
      "  This is separate from the ipykernel package so we can avoid doing imports until\n"
     ]
    }
   ],
   "source": [
    "#label group 1 as control and 2 as patient\n",
    "\n",
    "demographic_CT['Group'] = demographic_CT['Group'].replace([1,2],['Control', 'Patient'])"
   ]
  },
  {
   "cell_type": "markdown",
   "id": "9d2c2acb",
   "metadata": {},
   "source": [
    "Since the demographic variables in the **FA** and **MA** dataframes are the same, in the following the **FA** dataframe is used to display demographic variables."
   ]
  },
  {
   "cell_type": "code",
   "execution_count": 13,
   "id": "2b8428e6",
   "metadata": {},
   "outputs": [
    {
     "name": "stderr",
     "output_type": "stream",
     "text": [
      "/Users/mello/miniconda3/envs/neuro_ai/lib/python3.7/site-packages/ipykernel_launcher.py:3: SettingWithCopyWarning: \n",
      "A value is trying to be set on a copy of a slice from a DataFrame.\n",
      "Try using .loc[row_indexer,col_indexer] = value instead\n",
      "\n",
      "See the caveats in the documentation: https://pandas.pydata.org/pandas-docs/stable/user_guide/indexing.html#returning-a-view-versus-a-copy\n",
      "  This is separate from the ipykernel package so we can avoid doing imports until\n"
     ]
    }
   ],
   "source": [
    "#label group 1 as control and 2 as patient\n",
    "\n",
    "demographic_FA['Group'] = demographic_FA['Group'].replace([1,2],['Control', 'Patient'])"
   ]
  },
  {
   "cell_type": "code",
   "execution_count": 14,
   "id": "970eb952",
   "metadata": {},
   "outputs": [
    {
     "data": {
      "image/png": "[encoded data removed]",
      "text/plain": [
       "<Figure size 504x432 with 1 Axes>"
      ]
     },
     "metadata": {
      "needs_background": "light"
     },
     "output_type": "display_data"
    },
    {
     "data": {
      "image/png": "[encoded data removed]",
      "text/plain": [
       "<Figure size 504x432 with 1 Axes>"
      ]
     },
     "metadata": {
      "needs_background": "light"
     },
     "output_type": "display_data"
    }
   ],
   "source": [
    "import matplotlib.pyplot as plt\n",
    "%matplotlib inline\n",
    "\n",
    "Group_CT = demographic_CT['Group'].value_counts()\n",
    "plt.figure(figsize=(7, 6))\n",
    "\n",
    "ax = Group_CT.plot(kind='bar', rot=0, color=\"mediumaquamarine\")\n",
    "ax.set_title(\"Macrostructural data\", y = 1)\n",
    "ax.set_xlabel('Group')\n",
    "ax.set_ylabel('Number of Participants')\n",
    "ax.set_xticklabels(('Control', 'Patient'))\n",
    "\n",
    "\n",
    "for rect in ax.patches:\n",
    "    y_value = rect.get_height()\n",
    "    x_value = rect.get_x() + rect.get_width() / 2\n",
    "    space = 1\n",
    "    label = format(y_value)\n",
    "    ax.annotate(label, (x_value, y_value), xytext=(0, space), textcoords=\"offset points\", ha='center', va='bottom')    \n",
    "\n",
    "Group_FA = demographic_FA['Group'].value_counts()\n",
    "plt.figure(figsize=(7, 6))\n",
    "    \n",
    "ax = Group_FA.plot(kind='bar', rot=0, color=\"salmon\")\n",
    "ax.set_title(\"Microstructural data\", y = 1)\n",
    "ax.set_xlabel('Group')\n",
    "ax.set_ylabel('Number of Participants')\n",
    "ax.set_xticklabels(('Control', 'Patient'))\n",
    "\n",
    "\n",
    "for rect in ax.patches:\n",
    "    y_value = rect.get_height()\n",
    "    x_value = rect.get_x() + rect.get_width() / 2\n",
    "    space = 1\n",
    "    label = format(y_value)\n",
    "    ax.annotate(label, (x_value, y_value), xytext=(0, space), textcoords=\"offset points\", ha='center', va='bottom')    \n",
    "plt.show()"
   ]
  },
  {
   "cell_type": "markdown",
   "id": "f7a9012a",
   "metadata": {},
   "source": [
    "The plots clearly show an unequal distribution with more participants being controls for both **macrostructural** and **microstructural** data."
   ]
  },
  {
   "cell_type": "markdown",
   "id": "0b2bdbc6",
   "metadata": {},
   "source": [
    "#### 1.2.1 Gender"
   ]
  },
  {
   "cell_type": "markdown",
   "id": "6c190f7c",
   "metadata": {},
   "source": [
    "The documentation on [figshare](https://figshare.com/articles/dataset/Data_for_Functional_MRI_connectivity_accurately_distinguishes_cases_with_psychotic_disorders_from_healthy_controls_based_on_cortical_features_associated_with_brain_network_development_/12361550) also provides label information for gender (1=male, 2=female). The code for visualizing the control and patients group can be adapted accordingly to show how many males and females "
   ]
  },
  {
   "cell_type": "code",
   "execution_count": 15,
   "id": "5a6c3dcb",
   "metadata": {},
   "outputs": [
    {
     "data": {
      "image/png": "[encoded data removed]",
      "text/plain": [
       "<Figure size 504x432 with 1 Axes>"
      ]
     },
     "metadata": {
      "needs_background": "light"
     },
     "output_type": "display_data"
    },
    {
     "data": {
      "image/png": "[encoded data removed]",
      "text/plain": [
       "<Figure size 504x432 with 1 Axes>"
      ]
     },
     "metadata": {
      "needs_background": "light"
     },
     "output_type": "display_data"
    }
   ],
   "source": [
    "Gender_CT = demographic_CT['Sex'].value_counts()\n",
    "plt.figure(figsize=(7, 6))\n",
    "\n",
    "ax = Gender_CT.plot(kind='bar', rot=0, color=\"mediumaquamarine\")\n",
    "ax.set_title(\"Macrostructural data\", y = 1)\n",
    "ax.set_xlabel('Gender')\n",
    "ax.set_ylabel('Number of Participants')\n",
    "ax.set_xticklabels(('Male', 'Female'))\n",
    "\n",
    "\n",
    "for rect in ax.patches:\n",
    "    y_value = rect.get_height()\n",
    "    x_value = rect.get_x() + rect.get_width() / 2\n",
    "    space = 1\n",
    "    label = format(y_value)\n",
    "    ax.annotate(label, (x_value, y_value), xytext=(0, space), textcoords=\"offset points\", ha='center', va='bottom')    \n",
    "\n",
    "Gender_FA = demographic_FA['Sex'].value_counts()\n",
    "plt.figure(figsize=(7, 6))\n",
    "    \n",
    "ax = Group_FA.plot(kind='bar', rot=0, color=\"salmon\")\n",
    "ax.set_title(\"Microstructural data\", y = 1)\n",
    "ax.set_xlabel('Gender')\n",
    "ax.set_ylabel('Number of Participants')\n",
    "ax.set_xticklabels(('Male', 'Female'))\n",
    "\n",
    "\n",
    "for rect in ax.patches:\n",
    "    y_value = rect.get_height()\n",
    "    x_value = rect.get_x() + rect.get_width() / 2\n",
    "    space = 1\n",
    "    label = format(y_value)\n",
    "    ax.annotate(label, (x_value, y_value), xytext=(0, space), textcoords=\"offset points\", ha='center', va='bottom')    \n",
    "plt.show()"
   ]
  },
  {
   "cell_type": "markdown",
   "id": "412e78c6",
   "metadata": {},
   "source": [
    "Again, as the plots show, there are more males than females for both **macrostructural** and **microstructural** data. "
   ]
  },
  {
   "cell_type": "markdown",
   "id": "cd6a9617",
   "metadata": {},
   "source": [
    "#### 1.2.2 Age "
   ]
  },
  {
   "cell_type": "markdown",
   "id": "f45da24a",
   "metadata": {},
   "source": [
    "To get an inital idea of how the age distribution is for the **macrostructural** data, we can run the following command. Second, to have a look on how the ages differ within the groups, we can use raincloud plots."
   ]
  },
  {
   "cell_type": "code",
   "execution_count": 16,
   "id": "aed3be6b",
   "metadata": {},
   "outputs": [
    {
     "data": {
      "text/plain": [
       "count    108.000000\n",
       "mean      31.231481\n",
       "std       10.911373\n",
       "min       18.000000\n",
       "25%       22.000000\n",
       "50%       29.000000\n",
       "75%       38.250000\n",
       "max       64.000000\n",
       "Name: Age, dtype: float64"
      ]
     },
     "execution_count": 16,
     "metadata": {},
     "output_type": "execute_result"
    }
   ],
   "source": [
    "#get age information\n",
    "demographic_CT['Age'].describe()"
   ]
  },
  {
   "cell_type": "markdown",
   "id": "cbb656b6",
   "metadata": {},
   "source": [
    "<span style=\"color:red\">NOTE!</span> To be able to run the raincloud plots, ptitprince has to be installed. If you didn't install ptitprince yet, run the following cell and remove the #. "
   ]
  },
  {
   "cell_type": "code",
   "execution_count": 17,
   "id": "d254216b",
   "metadata": {},
   "outputs": [],
   "source": [
    "#!pip install ptitprince"
   ]
  },
  {
   "cell_type": "code",
   "execution_count": 18,
   "id": "966faf96",
   "metadata": {},
   "outputs": [
    {
     "data": {
      "text/plain": [
       "<AxesSubplot:title={'center':'Age Distribution in Control and Patient Group for Macrostructural Data'}, xlabel='Age', ylabel='Group'>"
      ]
     },
     "execution_count": 18,
     "metadata": {},
     "output_type": "execute_result"
    },
    {
     "data": {
      "image/png": "[encoded data removed]",
      "text/plain": [
       "<Figure size 864x792 with 1 Axes>"
      ]
     },
     "metadata": {
      "needs_background": "light"
     },
     "output_type": "display_data"
    }
   ],
   "source": [
    "from ptitprince import PtitPrince as pt\n",
    "\n",
    "f, ax = plt.subplots(figsize=(12, 11))\n",
    "ax.set_title('Age Distribution in Control and Patient Group for Macrostructural Data')\n",
    "\n",
    "pt.RainCloud(data = demographic_CT , x = \"Group\", y = \"Age\", ax = ax, orient='h')"
   ]
  },
  {
   "cell_type": "markdown",
   "id": "fd8c67f8",
   "metadata": {},
   "source": [
    "Now, the same is done for the **microstructural** data. "
   ]
  },
  {
   "cell_type": "code",
   "execution_count": 19,
   "id": "5974f69f",
   "metadata": {},
   "outputs": [
    {
     "data": {
      "text/plain": [
       "count    115.000000\n",
       "mean      36.043478\n",
       "std       12.895934\n",
       "min       19.000000\n",
       "25%       25.000000\n",
       "50%       34.000000\n",
       "75%       43.000000\n",
       "max       64.000000\n",
       "Name: Age, dtype: float64"
      ]
     },
     "execution_count": 19,
     "metadata": {},
     "output_type": "execute_result"
    }
   ],
   "source": [
    "demographic_FA['Age'].describe()"
   ]
  },
  {
   "cell_type": "code",
   "execution_count": 20,
   "id": "06d9195e",
   "metadata": {},
   "outputs": [
    {
     "data": {
      "text/plain": [
       "<AxesSubplot:title={'center':'Age Distribution in Control and Patient Group for Microstructural Data'}, xlabel='Age', ylabel='Group'>"
      ]
     },
     "execution_count": 20,
     "metadata": {},
     "output_type": "execute_result"
    },
    {
     "data": {
      "image/png": "[encoded data removed]",
      "text/plain": [
       "<Figure size 864x792 with 1 Axes>"
      ]
     },
     "metadata": {
      "needs_background": "light"
     },
     "output_type": "display_data"
    }
   ],
   "source": [
    "f, ax = plt.subplots(figsize=(12, 11))\n",
    "ax.set_title('Age Distribution in Control and Patient Group for Microstructural Data')\n",
    "\n",
    "pt.RainCloud(data = demographic_FA , x = \"Group\", y = \"Age\", ax = ax, orient='h')"
   ]
  },
  {
   "cell_type": "markdown",
   "id": "dc6949cb",
   "metadata": {},
   "source": [
    "As both plots show for both MRI metrics, the patient group involves participants that seem to be older in average "
   ]
  },
  {
   "cell_type": "markdown",
   "id": "e75fa436",
   "metadata": {},
   "source": [
    "# 2. Exploring the different MRI metrics"
   ]
  },
  {
   "cell_type": "markdown",
   "id": "bece3636",
   "metadata": {},
   "source": [
    "In the following chapter, the different MRI metrics are explored. Before getting a deeper look at the data, the derived form of the Desikan-Killiany Atlas with 308 cortical regions that is used for the **macro- and micro-structural data** is visualized.\n",
    "There is a [github repository](https://github.com/RafaelRomeroGarcia/subParcellation) for that specific atlas with the required files therein. Since there is a poor documentation of the files and their content, it might be confusing which of them is actually required for visualization purposes. "
   ]
  },
  {
   "cell_type": "markdown",
   "id": "e7eedcd0",
   "metadata": {},
   "source": [
    "If you click on the repository link, the first folder with the title \"500mm parcellation (308 regions)\" is the relevant one. In the folder itself, there are two text files (.txt) with the coordinates and names of the 308 regions and the NIFTI file called \"500.aparc_cortical_consecutive.nii\". These are the files used for visualization. For that, I used the nibabel and nilearn modules. "
   ]
  },
  {
   "cell_type": "code",
   "execution_count": 21,
   "id": "0ec68278",
   "metadata": {},
   "outputs": [],
   "source": [
    "#import relevant modules\n",
    "\n",
    "import nibabel as nb\n",
    "from nilearn import plotting"
   ]
  },
  {
   "cell_type": "code",
   "execution_count": 22,
   "id": "fc780291",
   "metadata": {},
   "outputs": [],
   "source": [
    "#load NIFTI file\n",
    "\n",
    "atlas_path = os.path.join(os.pardir,'data','500.aparc_cortical_consecutive.nii')\n",
    "\n",
    "atlas = nb.load(atlas_path)"
   ]
  },
  {
   "cell_type": "code",
   "execution_count": 23,
   "id": "6d043621",
   "metadata": {
    "scrolled": true
   },
   "outputs": [
    {
     "name": "stderr",
     "output_type": "stream",
     "text": [
      "/Users/mello/miniconda3/envs/neuro_ai/lib/python3.7/site-packages/nilearn/plotting/img_plotting.py:348: FutureWarning: Default resolution of the MNI template will change from 2mm to 1mm in version 0.10.0\n",
      "  anat_img = load_mni152_template()\n"
     ]
    },
    {
     "data": {
      "text/plain": [
       "<nilearn.plotting.displays._slicers.OrthoSlicer at 0x7fbe3a516080>"
      ]
     },
     "execution_count": 23,
     "metadata": {},
     "output_type": "execute_result"
    },
    {
     "data": {
      "image/png": "[encoded data removed]",
      "text/plain": [
       "<Figure size 525.6x187.2 with 5 Axes>"
      ]
     },
     "metadata": {},
     "output_type": "display_data"
    }
   ],
   "source": [
    "#plot atlas\n",
    "plotting.plot_roi(atlas, draw_cross = False, annotate = False, colorbar=True, cmap='Paired', title=\"Cortical parcellation with 308 cortical regions\")"
   ]
  },
  {
   "cell_type": "markdown",
   "id": "6684adaa",
   "metadata": {},
   "source": [
    "There is also a.txt file with the title \"308_regions_names.txt\"  contains all the 308 cortical region names. In the following, the .txt file is read."
   ]
  },
  {
   "cell_type": "code",
   "execution_count": 24,
   "id": "34fd38ef",
   "metadata": {},
   "outputs": [],
   "source": [
    "#read the .txt files with region names\n",
    "\n",
    "with open('../data/308_regions_names.txt') as f:\n",
    "    lines = f.readlines()"
   ]
  },
  {
   "cell_type": "code",
   "execution_count": 25,
   "id": "4bc8d33c",
   "metadata": {
    "scrolled": true
   },
   "outputs": [
    {
     "data": {
      "text/plain": [
       "['lh_bankssts_part1\\n',\n",
       " 'lh_bankssts_part2\\n',\n",
       " 'lh_caudalanteriorcingulate_part1\\n',\n",
       " 'lh_caudalmiddlefrontal_part1\\n',\n",
       " 'lh_caudalmiddlefrontal_part2\\n',\n",
       " 'lh_caudalmiddlefrontal_part3\\n',\n",
       " 'lh_caudalmiddlefrontal_part4\\n',\n",
       " 'lh_cuneus_part1\\n',\n",
       " 'lh_cuneus_part2\\n',\n",
       " 'lh_entorhinal_part1\\n',\n",
       " 'lh_fusiform_part1\\n',\n",
       " 'lh_fusiform_part2\\n',\n",
       " 'lh_fusiform_part3\\n',\n",
       " 'lh_fusiform_part4\\n',\n",
       " 'lh_fusiform_part5\\n',\n",
       " 'lh_inferiorparietal_part1\\n',\n",
       " 'lh_inferiorparietal_part2\\n',\n",
       " 'lh_inferiorparietal_part3\\n',\n",
       " 'lh_inferiorparietal_part4\\n',\n",
       " 'lh_inferiorparietal_part5\\n',\n",
       " 'lh_inferiorparietal_part6\\n',\n",
       " 'lh_inferiorparietal_part7\\n',\n",
       " 'lh_inferiorparietal_part8\\n',\n",
       " 'lh_inferiortemporal_part1\\n',\n",
       " 'lh_inferiortemporal_part2\\n',\n",
       " 'lh_inferiortemporal_part3\\n',\n",
       " 'lh_inferiortemporal_part4\\n',\n",
       " 'lh_inferiortemporal_part5\\n',\n",
       " 'lh_inferiortemporal_part6\\n',\n",
       " 'lh_isthmuscingulate_part1\\n',\n",
       " 'lh_isthmuscingulate_part2\\n',\n",
       " 'lh_lateraloccipital_part1\\n',\n",
       " 'lh_lateraloccipital_part2\\n',\n",
       " 'lh_lateraloccipital_part3\\n',\n",
       " 'lh_lateraloccipital_part4\\n',\n",
       " 'lh_lateraloccipital_part5\\n',\n",
       " 'lh_lateraloccipital_part6\\n',\n",
       " 'lh_lateraloccipital_part7\\n',\n",
       " 'lh_lateraloccipital_part8\\n',\n",
       " 'lh_lateraloccipital_part9\\n',\n",
       " 'lh_lateralorbitofrontal_part1\\n',\n",
       " 'lh_lateralorbitofrontal_part2\\n',\n",
       " 'lh_lateralorbitofrontal_part3\\n',\n",
       " 'lh_lateralorbitofrontal_part4\\n',\n",
       " 'lh_lingual_part1\\n',\n",
       " 'lh_lingual_part2\\n',\n",
       " 'lh_lingual_part3\\n',\n",
       " 'lh_lingual_part4\\n',\n",
       " 'lh_lingual_part5\\n',\n",
       " 'lh_lingual_part6\\n',\n",
       " 'lh_medialorbitofrontal_part1\\n',\n",
       " 'lh_medialorbitofrontal_part2\\n',\n",
       " 'lh_medialorbitofrontal_part3\\n',\n",
       " 'lh_middletemporal_part1\\n',\n",
       " 'lh_middletemporal_part2\\n',\n",
       " 'lh_middletemporal_part3\\n',\n",
       " 'lh_middletemporal_part4\\n',\n",
       " 'lh_middletemporal_part5\\n',\n",
       " 'lh_parahippocampal_part1\\n',\n",
       " 'lh_parahippocampal_part2\\n',\n",
       " 'lh_paracentral_part1\\n',\n",
       " 'lh_paracentral_part2\\n',\n",
       " 'lh_paracentral_part3\\n',\n",
       " 'lh_parsopercularis_part1\\n',\n",
       " 'lh_parsopercularis_part2\\n',\n",
       " 'lh_parsopercularis_part3\\n',\n",
       " 'lh_parsorbitalis_part1\\n',\n",
       " 'lh_parstriangularis_part1\\n',\n",
       " 'lh_parstriangularis_part2\\n',\n",
       " 'lh_pericalcarine_part1\\n',\n",
       " 'lh_pericalcarine_part2\\n',\n",
       " 'lh_postcentral_part1\\n',\n",
       " 'lh_postcentral_part2\\n',\n",
       " 'lh_postcentral_part3\\n',\n",
       " 'lh_postcentral_part4\\n',\n",
       " 'lh_postcentral_part5\\n',\n",
       " 'lh_postcentral_part6\\n',\n",
       " 'lh_postcentral_part7\\n',\n",
       " 'lh_postcentral_part8\\n',\n",
       " 'lh_posteriorcingulate_part1\\n',\n",
       " 'lh_posteriorcingulate_part2\\n',\n",
       " 'lh_precentral_part1\\n',\n",
       " 'lh_precentral_part2\\n',\n",
       " 'lh_precentral_part3\\n',\n",
       " 'lh_precentral_part4\\n',\n",
       " 'lh_precentral_part5\\n',\n",
       " 'lh_precentral_part6\\n',\n",
       " 'lh_precentral_part7\\n',\n",
       " 'lh_precentral_part8\\n',\n",
       " 'lh_precentral_part9\\n',\n",
       " 'lh_precuneus_part1\\n',\n",
       " 'lh_precuneus_part2\\n',\n",
       " 'lh_precuneus_part3\\n',\n",
       " 'lh_precuneus_part4\\n',\n",
       " 'lh_precuneus_part5\\n',\n",
       " 'lh_precuneus_part6\\n',\n",
       " 'lh_precuneus_part7\\n',\n",
       " 'lh_rostralanteriorcingulate_part1\\n',\n",
       " 'lh_rostralmiddlefrontal_part1\\n',\n",
       " 'lh_rostralmiddlefrontal_part2\\n',\n",
       " 'lh_rostralmiddlefrontal_part3\\n',\n",
       " 'lh_rostralmiddlefrontal_part4\\n',\n",
       " 'lh_rostralmiddlefrontal_part5\\n',\n",
       " 'lh_rostralmiddlefrontal_part6\\n',\n",
       " 'lh_rostralmiddlefrontal_part7\\n',\n",
       " 'lh_rostralmiddlefrontal_part8\\n',\n",
       " 'lh_rostralmiddlefrontal_part9\\n',\n",
       " 'lh_rostralmiddlefrontal_part10\\n',\n",
       " 'lh_superiorfrontal_part1\\n',\n",
       " 'lh_superiorfrontal_part2\\n',\n",
       " 'lh_superiorfrontal_part3\\n',\n",
       " 'lh_superiorfrontal_part4\\n',\n",
       " 'lh_superiorfrontal_part5\\n',\n",
       " 'lh_superiorfrontal_part6\\n',\n",
       " 'lh_superiorfrontal_part7\\n',\n",
       " 'lh_superiorfrontal_part8\\n',\n",
       " 'lh_superiorfrontal_part9\\n',\n",
       " 'lh_superiorfrontal_part10\\n',\n",
       " 'lh_superiorfrontal_part11\\n',\n",
       " 'lh_superiorfrontal_part12\\n',\n",
       " 'lh_superiorfrontal_part13\\n',\n",
       " 'lh_superiorparietal_part1\\n',\n",
       " 'lh_superiorparietal_part2\\n',\n",
       " 'lh_superiorparietal_part3\\n',\n",
       " 'lh_superiorparietal_part4\\n',\n",
       " 'lh_superiorparietal_part5\\n',\n",
       " 'lh_superiorparietal_part6\\n',\n",
       " 'lh_superiorparietal_part7\\n',\n",
       " 'lh_superiorparietal_part8\\n',\n",
       " 'lh_superiorparietal_part9\\n',\n",
       " 'lh_superiorparietal_part10\\n',\n",
       " 'lh_superiortemporal_part1\\n',\n",
       " 'lh_superiortemporal_part2\\n',\n",
       " 'lh_superiortemporal_part3\\n',\n",
       " 'lh_superiortemporal_part4\\n',\n",
       " 'lh_superiortemporal_part5\\n',\n",
       " 'lh_superiortemporal_part6\\n',\n",
       " 'lh_superiortemporal_part7\\n',\n",
       " 'lh_supramarginal_part1\\n',\n",
       " 'lh_supramarginal_part2\\n',\n",
       " 'lh_supramarginal_part3\\n',\n",
       " 'lh_supramarginal_part4\\n',\n",
       " 'lh_supramarginal_part5\\n',\n",
       " 'lh_supramarginal_part6\\n',\n",
       " 'lh_supramarginal_part7\\n',\n",
       " 'lh_frontalpole_part1\\n',\n",
       " 'lh_temporalpole_part1\\n',\n",
       " 'lh_transversetemporal_part1\\n',\n",
       " 'lh_insula_part1\\n',\n",
       " 'lh_insula_part2\\n',\n",
       " 'lh_insula_part3\\n',\n",
       " 'lh_insula_part4\\n',\n",
       " 'rh_bankssts_part1\\n',\n",
       " 'rh_bankssts_part2\\n',\n",
       " 'rh_caudalanteriorcingulate_part1\\n',\n",
       " 'rh_caudalmiddlefrontal_part1\\n',\n",
       " 'rh_caudalmiddlefrontal_part2\\n',\n",
       " 'rh_caudalmiddlefrontal_part3\\n',\n",
       " 'rh_caudalmiddlefrontal_part4\\n',\n",
       " 'rh_cuneus_part1\\n',\n",
       " 'rh_cuneus_part2\\n',\n",
       " 'rh_cuneus_part3\\n',\n",
       " 'rh_entorhinal_part1\\n',\n",
       " 'rh_fusiform_part1\\n',\n",
       " 'rh_fusiform_part2\\n',\n",
       " 'rh_fusiform_part3\\n',\n",
       " 'rh_fusiform_part4\\n',\n",
       " 'rh_fusiform_part5\\n',\n",
       " 'rh_inferiorparietal_part1\\n',\n",
       " 'rh_inferiorparietal_part2\\n',\n",
       " 'rh_inferiorparietal_part3\\n',\n",
       " 'rh_inferiorparietal_part4\\n',\n",
       " 'rh_inferiorparietal_part5\\n',\n",
       " 'rh_inferiorparietal_part6\\n',\n",
       " 'rh_inferiorparietal_part7\\n',\n",
       " 'rh_inferiorparietal_part8\\n',\n",
       " 'rh_inferiorparietal_part9\\n',\n",
       " 'rh_inferiorparietal_part10\\n',\n",
       " 'rh_inferiortemporal_part1\\n',\n",
       " 'rh_inferiortemporal_part2\\n',\n",
       " 'rh_inferiortemporal_part3\\n',\n",
       " 'rh_inferiortemporal_part4\\n',\n",
       " 'rh_inferiortemporal_part5\\n',\n",
       " 'rh_isthmuscingulate_part1\\n',\n",
       " 'rh_isthmuscingulate_part2\\n',\n",
       " 'rh_lateraloccipital_part1\\n',\n",
       " 'rh_lateraloccipital_part2\\n',\n",
       " 'rh_lateraloccipital_part3\\n',\n",
       " 'rh_lateraloccipital_part4\\n',\n",
       " 'rh_lateraloccipital_part5\\n',\n",
       " 'rh_lateraloccipital_part6\\n',\n",
       " 'rh_lateraloccipital_part7\\n',\n",
       " 'rh_lateraloccipital_part8\\n',\n",
       " 'rh_lateraloccipital_part9\\n',\n",
       " 'rh_lateralorbitofrontal_part1\\n',\n",
       " 'rh_lateralorbitofrontal_part2\\n',\n",
       " 'rh_lateralorbitofrontal_part3\\n',\n",
       " 'rh_lateralorbitofrontal_part4\\n',\n",
       " 'rh_lingual_part1\\n',\n",
       " 'rh_lingual_part2\\n',\n",
       " 'rh_lingual_part3\\n',\n",
       " 'rh_lingual_part4\\n',\n",
       " 'rh_lingual_part5\\n',\n",
       " 'rh_lingual_part6\\n',\n",
       " 'rh_medialorbitofrontal_part1\\n',\n",
       " 'rh_medialorbitofrontal_part2\\n',\n",
       " 'rh_medialorbitofrontal_part3\\n',\n",
       " 'rh_middletemporal_part1\\n',\n",
       " 'rh_middletemporal_part2\\n',\n",
       " 'rh_middletemporal_part3\\n',\n",
       " 'rh_middletemporal_part4\\n',\n",
       " 'rh_middletemporal_part5\\n',\n",
       " 'rh_middletemporal_part6\\n',\n",
       " 'rh_parahippocampal_part1\\n',\n",
       " 'rh_parahippocampal_part2\\n',\n",
       " 'rh_paracentral_part1\\n',\n",
       " 'rh_paracentral_part2\\n',\n",
       " 'rh_paracentral_part3\\n',\n",
       " 'rh_parsopercularis_part1\\n',\n",
       " 'rh_parsopercularis_part2\\n',\n",
       " 'rh_parsopercularis_part3\\n',\n",
       " 'rh_parsorbitalis_part1\\n',\n",
       " 'rh_parstriangularis_part1\\n',\n",
       " 'rh_parstriangularis_part2\\n',\n",
       " 'rh_parstriangularis_part3\\n',\n",
       " 'rh_pericalcarine_part1\\n',\n",
       " 'rh_pericalcarine_part2\\n',\n",
       " 'rh_pericalcarine_part3\\n',\n",
       " 'rh_postcentral_part1\\n',\n",
       " 'rh_postcentral_part2\\n',\n",
       " 'rh_postcentral_part3\\n',\n",
       " 'rh_postcentral_part4\\n',\n",
       " 'rh_postcentral_part5\\n',\n",
       " 'rh_postcentral_part6\\n',\n",
       " 'rh_postcentral_part7\\n',\n",
       " 'rh_postcentral_part8\\n',\n",
       " 'rh_posteriorcingulate_part1\\n',\n",
       " 'rh_posteriorcingulate_part2\\n',\n",
       " 'rh_precentral_part1\\n',\n",
       " 'rh_precentral_part2\\n',\n",
       " 'rh_precentral_part3\\n',\n",
       " 'rh_precentral_part4\\n',\n",
       " 'rh_precentral_part5\\n',\n",
       " 'rh_precentral_part6\\n',\n",
       " 'rh_precentral_part7\\n',\n",
       " 'rh_precentral_part8\\n',\n",
       " 'rh_precentral_part9\\n',\n",
       " 'rh_precuneus_part1\\n',\n",
       " 'rh_precuneus_part2\\n',\n",
       " 'rh_precuneus_part3\\n',\n",
       " 'rh_precuneus_part4\\n',\n",
       " 'rh_precuneus_part5\\n',\n",
       " 'rh_precuneus_part6\\n',\n",
       " 'rh_precuneus_part7\\n',\n",
       " 'rh_rostralanteriorcingulate_part1\\n',\n",
       " 'rh_rostralmiddlefrontal_part1\\n',\n",
       " 'rh_rostralmiddlefrontal_part2\\n',\n",
       " 'rh_rostralmiddlefrontal_part3\\n',\n",
       " 'rh_rostralmiddlefrontal_part4\\n',\n",
       " 'rh_rostralmiddlefrontal_part5\\n',\n",
       " 'rh_rostralmiddlefrontal_part6\\n',\n",
       " 'rh_rostralmiddlefrontal_part7\\n',\n",
       " 'rh_rostralmiddlefrontal_part8\\n',\n",
       " 'rh_rostralmiddlefrontal_part9\\n',\n",
       " 'rh_rostralmiddlefrontal_part10\\n',\n",
       " 'rh_superiorfrontal_part1\\n',\n",
       " 'rh_superiorfrontal_part2\\n',\n",
       " 'rh_superiorfrontal_part3\\n',\n",
       " 'rh_superiorfrontal_part4\\n',\n",
       " 'rh_superiorfrontal_part5\\n',\n",
       " 'rh_superiorfrontal_part6\\n',\n",
       " 'rh_superiorfrontal_part7\\n',\n",
       " 'rh_superiorfrontal_part8\\n',\n",
       " 'rh_superiorfrontal_part9\\n',\n",
       " 'rh_superiorfrontal_part10\\n',\n",
       " 'rh_superiorfrontal_part11\\n',\n",
       " 'rh_superiorfrontal_part12\\n',\n",
       " 'rh_superiorfrontal_part13\\n',\n",
       " 'rh_superiorparietal_part1\\n',\n",
       " 'rh_superiorparietal_part2\\n',\n",
       " 'rh_superiorparietal_part3\\n',\n",
       " 'rh_superiorparietal_part4\\n',\n",
       " 'rh_superiorparietal_part5\\n',\n",
       " 'rh_superiorparietal_part6\\n',\n",
       " 'rh_superiorparietal_part7\\n',\n",
       " 'rh_superiorparietal_part8\\n',\n",
       " 'rh_superiorparietal_part9\\n',\n",
       " 'rh_superiorparietal_part10\\n',\n",
       " 'rh_superiortemporal_part1\\n',\n",
       " 'rh_superiortemporal_part2\\n',\n",
       " 'rh_superiortemporal_part3\\n',\n",
       " 'rh_superiortemporal_part4\\n',\n",
       " 'rh_superiortemporal_part5\\n',\n",
       " 'rh_superiortemporal_part6\\n',\n",
       " 'rh_supramarginal_part1\\n',\n",
       " 'rh_supramarginal_part2\\n',\n",
       " 'rh_supramarginal_part3\\n',\n",
       " 'rh_supramarginal_part4\\n',\n",
       " 'rh_supramarginal_part5\\n',\n",
       " 'rh_supramarginal_part6\\n',\n",
       " 'rh_supramarginal_part7\\n',\n",
       " 'rh_frontalpole_part1\\n',\n",
       " 'rh_temporalpole_part1\\n',\n",
       " 'rh_transversetemporal_part1\\n',\n",
       " 'rh_insula_part1\\n',\n",
       " 'rh_insula_part2\\n',\n",
       " 'rh_insula_part3\\n',\n",
       " 'rh_insula_part4']"
      ]
     },
     "execution_count": 25,
     "metadata": {},
     "output_type": "execute_result"
    }
   ],
   "source": [
    "#region names\n",
    "lines"
   ]
  },
  {
   "cell_type": "code",
   "execution_count": 26,
   "id": "485edcb3",
   "metadata": {},
   "outputs": [
    {
     "data": {
      "text/plain": [
       "308"
      ]
     },
     "execution_count": 26,
     "metadata": {},
     "output_type": "execute_result"
    }
   ],
   "source": [
    "#proving 308 regions \n",
    "len(lines)"
   ]
  },
  {
   "cell_type": "markdown",
   "id": "d417314d",
   "metadata": {},
   "source": [
    "As we can see above, the 308 cortical region names are displayed in a chronological order from 1 to 308 for both left and right hemisphere. Each of the regions mostly consists of several parts as the names indicate.\n",
    "Now, having visualized the used atlas with its regions and according labels, we can explore our first MRI metric. "
   ]
  },
  {
   "cell_type": "markdown",
   "id": "6cc737cc",
   "metadata": {},
   "source": [
    "## 2.1 Macro-structural data: cortical thickness (CT)"
   ]
  },
  {
   "cell_type": "markdown",
   "id": "5f4c427d",
   "metadata": {},
   "source": [
    "**Cortical thickness (CT)** is a measurement of the *width of gray matter* of the cerebral cortex, whereas *gray matter* marks the area from the pial surface to the internal surface (where *white matter* begins). It has been shown that **CT** correlates with the diagnosis and prognosis of several psychiatric and neurological conditions [(Tahedl, 2020)](https://translational-medicine.biomedcentral.com/articles/10.1186/s12967-020-02317-9)."
   ]
  },
  {
   "cell_type": "markdown",
   "id": "23585cf5",
   "metadata": {},
   "source": [
    "First, the **CT** dataframe is adjusted in a way that it only involves the different brain areas and the Group."
   ]
  },
  {
   "cell_type": "code",
   "execution_count": 27,
   "id": "86d3d9df",
   "metadata": {},
   "outputs": [
    {
     "data": {
      "text/html": [
       "<div>\n",
       "<style scoped>\n",
       "    .dataframe tbody tr th:only-of-type {\n",
       "        vertical-align: middle;\n",
       "    }\n",
       "\n",
       "    .dataframe tbody tr th {\n",
       "        vertical-align: top;\n",
       "    }\n",
       "\n",
       "    .dataframe thead th {\n",
       "        text-align: right;\n",
       "    }\n",
       "</style>\n",
       "<table border=\"1\" class=\"dataframe\">\n",
       "  <thead>\n",
       "    <tr style=\"text-align: right;\">\n",
       "      <th></th>\n",
       "      <th>Group</th>\n",
       "      <th>lh_bankssts_part1_thickness</th>\n",
       "      <th>lh_bankssts_part2_thickness</th>\n",
       "      <th>lh_caudalanteriorcingulate_part1_thickness</th>\n",
       "      <th>lh_caudalmiddlefrontal_part1_thickness</th>\n",
       "      <th>lh_caudalmiddlefrontal_part2_thickness</th>\n",
       "      <th>lh_caudalmiddlefrontal_part3_thickness</th>\n",
       "      <th>lh_caudalmiddlefrontal_part4_thickness</th>\n",
       "      <th>lh_cuneus_part1_thickness</th>\n",
       "      <th>lh_cuneus_part2_thickness</th>\n",
       "      <th>...</th>\n",
       "      <th>rh_supramarginal_part5_thickness</th>\n",
       "      <th>rh_supramarginal_part6_thickness</th>\n",
       "      <th>rh_supramarginal_part7_thickness</th>\n",
       "      <th>rh_frontalpole_part1_thickness</th>\n",
       "      <th>rh_temporalpole_part1_thickness</th>\n",
       "      <th>rh_transversetemporal_part1_thickness</th>\n",
       "      <th>rh_insula_part1_thickness</th>\n",
       "      <th>rh_insula_part2_thickness</th>\n",
       "      <th>rh_insula_part3_thickness</th>\n",
       "      <th>rh_insula_part4_thickness</th>\n",
       "    </tr>\n",
       "  </thead>\n",
       "  <tbody>\n",
       "    <tr>\n",
       "      <th>0</th>\n",
       "      <td>1</td>\n",
       "      <td>2.180</td>\n",
       "      <td>2.382</td>\n",
       "      <td>2.346</td>\n",
       "      <td>2.526</td>\n",
       "      <td>2.747</td>\n",
       "      <td>2.544</td>\n",
       "      <td>2.582</td>\n",
       "      <td>1.816</td>\n",
       "      <td>2.228</td>\n",
       "      <td>...</td>\n",
       "      <td>2.817</td>\n",
       "      <td>2.325</td>\n",
       "      <td>2.430</td>\n",
       "      <td>3.004</td>\n",
       "      <td>3.979</td>\n",
       "      <td>2.329</td>\n",
       "      <td>3.620</td>\n",
       "      <td>2.776</td>\n",
       "      <td>3.282</td>\n",
       "      <td>3.347</td>\n",
       "    </tr>\n",
       "    <tr>\n",
       "      <th>1</th>\n",
       "      <td>1</td>\n",
       "      <td>2.394</td>\n",
       "      <td>1.973</td>\n",
       "      <td>2.534</td>\n",
       "      <td>2.439</td>\n",
       "      <td>2.485</td>\n",
       "      <td>2.435</td>\n",
       "      <td>2.458</td>\n",
       "      <td>1.723</td>\n",
       "      <td>1.821</td>\n",
       "      <td>...</td>\n",
       "      <td>2.611</td>\n",
       "      <td>2.418</td>\n",
       "      <td>2.317</td>\n",
       "      <td>2.794</td>\n",
       "      <td>3.851</td>\n",
       "      <td>2.034</td>\n",
       "      <td>3.588</td>\n",
       "      <td>2.654</td>\n",
       "      <td>3.124</td>\n",
       "      <td>3.214</td>\n",
       "    </tr>\n",
       "    <tr>\n",
       "      <th>2</th>\n",
       "      <td>1</td>\n",
       "      <td>2.551</td>\n",
       "      <td>2.567</td>\n",
       "      <td>1.954</td>\n",
       "      <td>2.439</td>\n",
       "      <td>2.428</td>\n",
       "      <td>2.190</td>\n",
       "      <td>2.377</td>\n",
       "      <td>2.026</td>\n",
       "      <td>1.800</td>\n",
       "      <td>...</td>\n",
       "      <td>2.777</td>\n",
       "      <td>2.309</td>\n",
       "      <td>2.390</td>\n",
       "      <td>2.365</td>\n",
       "      <td>4.039</td>\n",
       "      <td>2.337</td>\n",
       "      <td>3.657</td>\n",
       "      <td>2.495</td>\n",
       "      <td>2.669</td>\n",
       "      <td>2.886</td>\n",
       "    </tr>\n",
       "    <tr>\n",
       "      <th>3</th>\n",
       "      <td>2</td>\n",
       "      <td>2.187</td>\n",
       "      <td>1.923</td>\n",
       "      <td>2.160</td>\n",
       "      <td>2.410</td>\n",
       "      <td>2.381</td>\n",
       "      <td>2.277</td>\n",
       "      <td>2.361</td>\n",
       "      <td>1.585</td>\n",
       "      <td>1.750</td>\n",
       "      <td>...</td>\n",
       "      <td>2.265</td>\n",
       "      <td>2.306</td>\n",
       "      <td>2.129</td>\n",
       "      <td>2.281</td>\n",
       "      <td>3.505</td>\n",
       "      <td>2.275</td>\n",
       "      <td>3.121</td>\n",
       "      <td>2.333</td>\n",
       "      <td>2.604</td>\n",
       "      <td>2.731</td>\n",
       "    </tr>\n",
       "    <tr>\n",
       "      <th>4</th>\n",
       "      <td>2</td>\n",
       "      <td>1.862</td>\n",
       "      <td>1.750</td>\n",
       "      <td>2.129</td>\n",
       "      <td>2.516</td>\n",
       "      <td>2.244</td>\n",
       "      <td>2.169</td>\n",
       "      <td>2.220</td>\n",
       "      <td>1.646</td>\n",
       "      <td>1.717</td>\n",
       "      <td>...</td>\n",
       "      <td>2.582</td>\n",
       "      <td>2.314</td>\n",
       "      <td>2.047</td>\n",
       "      <td>2.389</td>\n",
       "      <td>3.272</td>\n",
       "      <td>2.445</td>\n",
       "      <td>3.171</td>\n",
       "      <td>2.216</td>\n",
       "      <td>2.659</td>\n",
       "      <td>2.657</td>\n",
       "    </tr>\n",
       "    <tr>\n",
       "      <th>...</th>\n",
       "      <td>...</td>\n",
       "      <td>...</td>\n",
       "      <td>...</td>\n",
       "      <td>...</td>\n",
       "      <td>...</td>\n",
       "      <td>...</td>\n",
       "      <td>...</td>\n",
       "      <td>...</td>\n",
       "      <td>...</td>\n",
       "      <td>...</td>\n",
       "      <td>...</td>\n",
       "      <td>...</td>\n",
       "      <td>...</td>\n",
       "      <td>...</td>\n",
       "      <td>...</td>\n",
       "      <td>...</td>\n",
       "      <td>...</td>\n",
       "      <td>...</td>\n",
       "      <td>...</td>\n",
       "      <td>...</td>\n",
       "      <td>...</td>\n",
       "    </tr>\n",
       "    <tr>\n",
       "      <th>103</th>\n",
       "      <td>2</td>\n",
       "      <td>2.240</td>\n",
       "      <td>2.150</td>\n",
       "      <td>1.995</td>\n",
       "      <td>2.254</td>\n",
       "      <td>2.164</td>\n",
       "      <td>2.008</td>\n",
       "      <td>2.298</td>\n",
       "      <td>1.918</td>\n",
       "      <td>1.717</td>\n",
       "      <td>...</td>\n",
       "      <td>2.273</td>\n",
       "      <td>2.288</td>\n",
       "      <td>2.395</td>\n",
       "      <td>2.105</td>\n",
       "      <td>3.267</td>\n",
       "      <td>2.257</td>\n",
       "      <td>3.231</td>\n",
       "      <td>2.574</td>\n",
       "      <td>2.920</td>\n",
       "      <td>2.899</td>\n",
       "    </tr>\n",
       "    <tr>\n",
       "      <th>104</th>\n",
       "      <td>2</td>\n",
       "      <td>2.269</td>\n",
       "      <td>2.124</td>\n",
       "      <td>2.531</td>\n",
       "      <td>2.502</td>\n",
       "      <td>2.250</td>\n",
       "      <td>2.183</td>\n",
       "      <td>2.408</td>\n",
       "      <td>1.539</td>\n",
       "      <td>1.611</td>\n",
       "      <td>...</td>\n",
       "      <td>2.302</td>\n",
       "      <td>2.182</td>\n",
       "      <td>2.182</td>\n",
       "      <td>2.327</td>\n",
       "      <td>2.881</td>\n",
       "      <td>2.124</td>\n",
       "      <td>3.159</td>\n",
       "      <td>2.450</td>\n",
       "      <td>2.753</td>\n",
       "      <td>2.791</td>\n",
       "    </tr>\n",
       "    <tr>\n",
       "      <th>105</th>\n",
       "      <td>2</td>\n",
       "      <td>2.273</td>\n",
       "      <td>2.559</td>\n",
       "      <td>2.578</td>\n",
       "      <td>2.463</td>\n",
       "      <td>2.463</td>\n",
       "      <td>2.053</td>\n",
       "      <td>2.526</td>\n",
       "      <td>1.733</td>\n",
       "      <td>1.859</td>\n",
       "      <td>...</td>\n",
       "      <td>2.534</td>\n",
       "      <td>2.604</td>\n",
       "      <td>2.449</td>\n",
       "      <td>2.370</td>\n",
       "      <td>3.111</td>\n",
       "      <td>2.190</td>\n",
       "      <td>3.480</td>\n",
       "      <td>2.294</td>\n",
       "      <td>2.571</td>\n",
       "      <td>2.875</td>\n",
       "    </tr>\n",
       "    <tr>\n",
       "      <th>106</th>\n",
       "      <td>2</td>\n",
       "      <td>1.940</td>\n",
       "      <td>2.438</td>\n",
       "      <td>2.272</td>\n",
       "      <td>2.272</td>\n",
       "      <td>2.610</td>\n",
       "      <td>2.099</td>\n",
       "      <td>2.538</td>\n",
       "      <td>1.931</td>\n",
       "      <td>1.792</td>\n",
       "      <td>...</td>\n",
       "      <td>2.638</td>\n",
       "      <td>2.225</td>\n",
       "      <td>2.013</td>\n",
       "      <td>2.115</td>\n",
       "      <td>3.853</td>\n",
       "      <td>2.231</td>\n",
       "      <td>3.187</td>\n",
       "      <td>2.510</td>\n",
       "      <td>2.759</td>\n",
       "      <td>2.838</td>\n",
       "    </tr>\n",
       "    <tr>\n",
       "      <th>107</th>\n",
       "      <td>2</td>\n",
       "      <td>2.108</td>\n",
       "      <td>2.269</td>\n",
       "      <td>2.145</td>\n",
       "      <td>2.192</td>\n",
       "      <td>2.443</td>\n",
       "      <td>1.977</td>\n",
       "      <td>2.453</td>\n",
       "      <td>1.590</td>\n",
       "      <td>1.715</td>\n",
       "      <td>...</td>\n",
       "      <td>2.013</td>\n",
       "      <td>2.251</td>\n",
       "      <td>2.021</td>\n",
       "      <td>2.419</td>\n",
       "      <td>3.679</td>\n",
       "      <td>1.970</td>\n",
       "      <td>3.192</td>\n",
       "      <td>2.551</td>\n",
       "      <td>2.855</td>\n",
       "      <td>2.985</td>\n",
       "    </tr>\n",
       "  </tbody>\n",
       "</table>\n",
       "<p>108 rows × 309 columns</p>\n",
       "</div>"
      ],
      "text/plain": [
       "     Group  lh_bankssts_part1_thickness  lh_bankssts_part2_thickness  \\\n",
       "0        1                        2.180                        2.382   \n",
       "1        1                        2.394                        1.973   \n",
       "2        1                        2.551                        2.567   \n",
       "3        2                        2.187                        1.923   \n",
       "4        2                        1.862                        1.750   \n",
       "..     ...                          ...                          ...   \n",
       "103      2                        2.240                        2.150   \n",
       "104      2                        2.269                        2.124   \n",
       "105      2                        2.273                        2.559   \n",
       "106      2                        1.940                        2.438   \n",
       "107      2                        2.108                        2.269   \n",
       "\n",
       "     lh_caudalanteriorcingulate_part1_thickness  \\\n",
       "0                                         2.346   \n",
       "1                                         2.534   \n",
       "2                                         1.954   \n",
       "3                                         2.160   \n",
       "4                                         2.129   \n",
       "..                                          ...   \n",
       "103                                       1.995   \n",
       "104                                       2.531   \n",
       "105                                       2.578   \n",
       "106                                       2.272   \n",
       "107                                       2.145   \n",
       "\n",
       "     lh_caudalmiddlefrontal_part1_thickness  \\\n",
       "0                                     2.526   \n",
       "1                                     2.439   \n",
       "2                                     2.439   \n",
       "3                                     2.410   \n",
       "4                                     2.516   \n",
       "..                                      ...   \n",
       "103                                   2.254   \n",
       "104                                   2.502   \n",
       "105                                   2.463   \n",
       "106                                   2.272   \n",
       "107                                   2.192   \n",
       "\n",
       "     lh_caudalmiddlefrontal_part2_thickness  \\\n",
       "0                                     2.747   \n",
       "1                                     2.485   \n",
       "2                                     2.428   \n",
       "3                                     2.381   \n",
       "4                                     2.244   \n",
       "..                                      ...   \n",
       "103                                   2.164   \n",
       "104                                   2.250   \n",
       "105                                   2.463   \n",
       "106                                   2.610   \n",
       "107                                   2.443   \n",
       "\n",
       "     lh_caudalmiddlefrontal_part3_thickness  \\\n",
       "0                                     2.544   \n",
       "1                                     2.435   \n",
       "2                                     2.190   \n",
       "3                                     2.277   \n",
       "4                                     2.169   \n",
       "..                                      ...   \n",
       "103                                   2.008   \n",
       "104                                   2.183   \n",
       "105                                   2.053   \n",
       "106                                   2.099   \n",
       "107                                   1.977   \n",
       "\n",
       "     lh_caudalmiddlefrontal_part4_thickness  lh_cuneus_part1_thickness  \\\n",
       "0                                     2.582                      1.816   \n",
       "1                                     2.458                      1.723   \n",
       "2                                     2.377                      2.026   \n",
       "3                                     2.361                      1.585   \n",
       "4                                     2.220                      1.646   \n",
       "..                                      ...                        ...   \n",
       "103                                   2.298                      1.918   \n",
       "104                                   2.408                      1.539   \n",
       "105                                   2.526                      1.733   \n",
       "106                                   2.538                      1.931   \n",
       "107                                   2.453                      1.590   \n",
       "\n",
       "     lh_cuneus_part2_thickness  ...  rh_supramarginal_part5_thickness  \\\n",
       "0                        2.228  ...                             2.817   \n",
       "1                        1.821  ...                             2.611   \n",
       "2                        1.800  ...                             2.777   \n",
       "3                        1.750  ...                             2.265   \n",
       "4                        1.717  ...                             2.582   \n",
       "..                         ...  ...                               ...   \n",
       "103                      1.717  ...                             2.273   \n",
       "104                      1.611  ...                             2.302   \n",
       "105                      1.859  ...                             2.534   \n",
       "106                      1.792  ...                             2.638   \n",
       "107                      1.715  ...                             2.013   \n",
       "\n",
       "     rh_supramarginal_part6_thickness  rh_supramarginal_part7_thickness  \\\n",
       "0                               2.325                             2.430   \n",
       "1                               2.418                             2.317   \n",
       "2                               2.309                             2.390   \n",
       "3                               2.306                             2.129   \n",
       "4                               2.314                             2.047   \n",
       "..                                ...                               ...   \n",
       "103                             2.288                             2.395   \n",
       "104                             2.182                             2.182   \n",
       "105                             2.604                             2.449   \n",
       "106                             2.225                             2.013   \n",
       "107                             2.251                             2.021   \n",
       "\n",
       "     rh_frontalpole_part1_thickness  rh_temporalpole_part1_thickness  \\\n",
       "0                             3.004                            3.979   \n",
       "1                             2.794                            3.851   \n",
       "2                             2.365                            4.039   \n",
       "3                             2.281                            3.505   \n",
       "4                             2.389                            3.272   \n",
       "..                              ...                              ...   \n",
       "103                           2.105                            3.267   \n",
       "104                           2.327                            2.881   \n",
       "105                           2.370                            3.111   \n",
       "106                           2.115                            3.853   \n",
       "107                           2.419                            3.679   \n",
       "\n",
       "     rh_transversetemporal_part1_thickness  rh_insula_part1_thickness  \\\n",
       "0                                    2.329                      3.620   \n",
       "1                                    2.034                      3.588   \n",
       "2                                    2.337                      3.657   \n",
       "3                                    2.275                      3.121   \n",
       "4                                    2.445                      3.171   \n",
       "..                                     ...                        ...   \n",
       "103                                  2.257                      3.231   \n",
       "104                                  2.124                      3.159   \n",
       "105                                  2.190                      3.480   \n",
       "106                                  2.231                      3.187   \n",
       "107                                  1.970                      3.192   \n",
       "\n",
       "     rh_insula_part2_thickness  rh_insula_part3_thickness  \\\n",
       "0                        2.776                      3.282   \n",
       "1                        2.654                      3.124   \n",
       "2                        2.495                      2.669   \n",
       "3                        2.333                      2.604   \n",
       "4                        2.216                      2.659   \n",
       "..                         ...                        ...   \n",
       "103                      2.574                      2.920   \n",
       "104                      2.450                      2.753   \n",
       "105                      2.294                      2.571   \n",
       "106                      2.510                      2.759   \n",
       "107                      2.551                      2.855   \n",
       "\n",
       "     rh_insula_part4_thickness  \n",
       "0                        3.347  \n",
       "1                        3.214  \n",
       "2                        2.886  \n",
       "3                        2.731  \n",
       "4                        2.657  \n",
       "..                         ...  \n",
       "103                      2.899  \n",
       "104                      2.791  \n",
       "105                      2.875  \n",
       "106                      2.838  \n",
       "107                      2.985  \n",
       "\n",
       "[108 rows x 309 columns]"
      ]
     },
     "execution_count": 27,
     "metadata": {},
     "output_type": "execute_result"
    }
   ],
   "source": [
    "#adjust data frame\n",
    "\n",
    "CT_Dublin_ad = CT_Dublin.drop(['Subject ID','Age', 'Sex'], axis=1)\n",
    "CT_Dublin_ad"
   ]
  },
  {
   "cell_type": "markdown",
   "id": "cba383e4",
   "metadata": {},
   "source": [
    "Again, we rename the numbers indicating whether a subject belongs to the patient or control group to \"Control\" and \"Patient\""
   ]
  },
  {
   "cell_type": "code",
   "execution_count": 28,
   "id": "2c9df4cc",
   "metadata": {},
   "outputs": [],
   "source": [
    "CT_Dublin_ad['Group'] = CT_Dublin_ad['Group'].replace([1,2],['Control', 'Patient'])"
   ]
  },
  {
   "cell_type": "markdown",
   "id": "b198595d",
   "metadata": {},
   "source": [
    "In the next step, the means for each brain region is grouped by \"Control\" and \"Patient\""
   ]
  },
  {
   "cell_type": "code",
   "execution_count": 29,
   "id": "3edfa5f1",
   "metadata": {},
   "outputs": [
    {
     "data": {
      "text/html": [
       "<div>\n",
       "<style scoped>\n",
       "    .dataframe tbody tr th:only-of-type {\n",
       "        vertical-align: middle;\n",
       "    }\n",
       "\n",
       "    .dataframe tbody tr th {\n",
       "        vertical-align: top;\n",
       "    }\n",
       "\n",
       "    .dataframe thead th {\n",
       "        text-align: right;\n",
       "    }\n",
       "</style>\n",
       "<table border=\"1\" class=\"dataframe\">\n",
       "  <thead>\n",
       "    <tr style=\"text-align: right;\">\n",
       "      <th></th>\n",
       "      <th>lh_bankssts_part1_thickness</th>\n",
       "      <th>lh_bankssts_part2_thickness</th>\n",
       "      <th>lh_caudalanteriorcingulate_part1_thickness</th>\n",
       "      <th>lh_caudalmiddlefrontal_part1_thickness</th>\n",
       "      <th>lh_caudalmiddlefrontal_part2_thickness</th>\n",
       "      <th>lh_caudalmiddlefrontal_part3_thickness</th>\n",
       "      <th>lh_caudalmiddlefrontal_part4_thickness</th>\n",
       "      <th>lh_cuneus_part1_thickness</th>\n",
       "      <th>lh_cuneus_part2_thickness</th>\n",
       "      <th>lh_entorhinal_part1_thickness</th>\n",
       "      <th>...</th>\n",
       "      <th>rh_supramarginal_part5_thickness</th>\n",
       "      <th>rh_supramarginal_part6_thickness</th>\n",
       "      <th>rh_supramarginal_part7_thickness</th>\n",
       "      <th>rh_frontalpole_part1_thickness</th>\n",
       "      <th>rh_temporalpole_part1_thickness</th>\n",
       "      <th>rh_transversetemporal_part1_thickness</th>\n",
       "      <th>rh_insula_part1_thickness</th>\n",
       "      <th>rh_insula_part2_thickness</th>\n",
       "      <th>rh_insula_part3_thickness</th>\n",
       "      <th>rh_insula_part4_thickness</th>\n",
       "    </tr>\n",
       "    <tr>\n",
       "      <th>Group</th>\n",
       "      <th></th>\n",
       "      <th></th>\n",
       "      <th></th>\n",
       "      <th></th>\n",
       "      <th></th>\n",
       "      <th></th>\n",
       "      <th></th>\n",
       "      <th></th>\n",
       "      <th></th>\n",
       "      <th></th>\n",
       "      <th></th>\n",
       "      <th></th>\n",
       "      <th></th>\n",
       "      <th></th>\n",
       "      <th></th>\n",
       "      <th></th>\n",
       "      <th></th>\n",
       "      <th></th>\n",
       "      <th></th>\n",
       "      <th></th>\n",
       "      <th></th>\n",
       "    </tr>\n",
       "  </thead>\n",
       "  <tbody>\n",
       "    <tr>\n",
       "      <th>Control</th>\n",
       "      <td>2.401038</td>\n",
       "      <td>2.373775</td>\n",
       "      <td>2.446513</td>\n",
       "      <td>2.578638</td>\n",
       "      <td>2.585075</td>\n",
       "      <td>2.295387</td>\n",
       "      <td>2.621975</td>\n",
       "      <td>1.837425</td>\n",
       "      <td>1.860138</td>\n",
       "      <td>3.277575</td>\n",
       "      <td>...</td>\n",
       "      <td>2.691400</td>\n",
       "      <td>2.599250</td>\n",
       "      <td>2.426575</td>\n",
       "      <td>2.539175</td>\n",
       "      <td>3.707100</td>\n",
       "      <td>2.419613</td>\n",
       "      <td>3.501175</td>\n",
       "      <td>2.693612</td>\n",
       "      <td>3.026488</td>\n",
       "      <td>3.112950</td>\n",
       "    </tr>\n",
       "    <tr>\n",
       "      <th>Patient</th>\n",
       "      <td>2.209143</td>\n",
       "      <td>2.197500</td>\n",
       "      <td>2.332000</td>\n",
       "      <td>2.361286</td>\n",
       "      <td>2.409857</td>\n",
       "      <td>2.116714</td>\n",
       "      <td>2.442500</td>\n",
       "      <td>1.738429</td>\n",
       "      <td>1.775964</td>\n",
       "      <td>3.128000</td>\n",
       "      <td>...</td>\n",
       "      <td>2.454321</td>\n",
       "      <td>2.413071</td>\n",
       "      <td>2.260607</td>\n",
       "      <td>2.255821</td>\n",
       "      <td>3.483464</td>\n",
       "      <td>2.255679</td>\n",
       "      <td>3.302893</td>\n",
       "      <td>2.521464</td>\n",
       "      <td>2.874179</td>\n",
       "      <td>2.923357</td>\n",
       "    </tr>\n",
       "  </tbody>\n",
       "</table>\n",
       "<p>2 rows × 308 columns</p>\n",
       "</div>"
      ],
      "text/plain": [
       "         lh_bankssts_part1_thickness  lh_bankssts_part2_thickness  \\\n",
       "Group                                                               \n",
       "Control                     2.401038                     2.373775   \n",
       "Patient                     2.209143                     2.197500   \n",
       "\n",
       "         lh_caudalanteriorcingulate_part1_thickness  \\\n",
       "Group                                                 \n",
       "Control                                    2.446513   \n",
       "Patient                                    2.332000   \n",
       "\n",
       "         lh_caudalmiddlefrontal_part1_thickness  \\\n",
       "Group                                             \n",
       "Control                                2.578638   \n",
       "Patient                                2.361286   \n",
       "\n",
       "         lh_caudalmiddlefrontal_part2_thickness  \\\n",
       "Group                                             \n",
       "Control                                2.585075   \n",
       "Patient                                2.409857   \n",
       "\n",
       "         lh_caudalmiddlefrontal_part3_thickness  \\\n",
       "Group                                             \n",
       "Control                                2.295387   \n",
       "Patient                                2.116714   \n",
       "\n",
       "         lh_caudalmiddlefrontal_part4_thickness  lh_cuneus_part1_thickness  \\\n",
       "Group                                                                        \n",
       "Control                                2.621975                   1.837425   \n",
       "Patient                                2.442500                   1.738429   \n",
       "\n",
       "         lh_cuneus_part2_thickness  lh_entorhinal_part1_thickness  ...  \\\n",
       "Group                                                              ...   \n",
       "Control                   1.860138                       3.277575  ...   \n",
       "Patient                   1.775964                       3.128000  ...   \n",
       "\n",
       "         rh_supramarginal_part5_thickness  rh_supramarginal_part6_thickness  \\\n",
       "Group                                                                         \n",
       "Control                          2.691400                          2.599250   \n",
       "Patient                          2.454321                          2.413071   \n",
       "\n",
       "         rh_supramarginal_part7_thickness  rh_frontalpole_part1_thickness  \\\n",
       "Group                                                                       \n",
       "Control                          2.426575                        2.539175   \n",
       "Patient                          2.260607                        2.255821   \n",
       "\n",
       "         rh_temporalpole_part1_thickness  \\\n",
       "Group                                      \n",
       "Control                         3.707100   \n",
       "Patient                         3.483464   \n",
       "\n",
       "         rh_transversetemporal_part1_thickness  rh_insula_part1_thickness  \\\n",
       "Group                                                                       \n",
       "Control                               2.419613                   3.501175   \n",
       "Patient                               2.255679                   3.302893   \n",
       "\n",
       "         rh_insula_part2_thickness  rh_insula_part3_thickness  \\\n",
       "Group                                                           \n",
       "Control                   2.693612                   3.026488   \n",
       "Patient                   2.521464                   2.874179   \n",
       "\n",
       "         rh_insula_part4_thickness  \n",
       "Group                               \n",
       "Control                   3.112950  \n",
       "Patient                   2.923357  \n",
       "\n",
       "[2 rows x 308 columns]"
      ]
     },
     "execution_count": 29,
     "metadata": {},
     "output_type": "execute_result"
    }
   ],
   "source": [
    "CT_means = CT_Dublin_ad.groupby(['Group']).mean()\n",
    "\n",
    "CT_means"
   ]
  },
  {
   "cell_type": "markdown",
   "id": "270e052a",
   "metadata": {},
   "source": [
    "A first look already reveals that patients seem to have lower **CT** compared to controls. However, in the following the mean of the means of each region is computed for both groups to get an idea of how the overall **CT** differs."
   ]
  },
  {
   "cell_type": "code",
   "execution_count": 30,
   "id": "b1fb3cdc",
   "metadata": {},
   "outputs": [
    {
     "data": {
      "text/plain": [
       "Group\n",
       "Control    2.419537\n",
       "Patient    2.264815\n",
       "dtype: float64"
      ]
     },
     "execution_count": 30,
     "metadata": {},
     "output_type": "execute_result"
    }
   ],
   "source": [
    "CT_means_mean = CT_means.mean(axis=1)\n",
    "\n",
    "CT_means_mean"
   ]
  },
  {
   "cell_type": "markdown",
   "id": "2f3b7705",
   "metadata": {},
   "source": [
    "As the values indicate, the overall mean of the means for each reagion is higher for the control group than for the patients group. We can visualize this with a violin plot. However, before visualizing the difference for control and patients, it might be helpful to reshape the dataframe so that the columns indicate the respective groups and the rows each brain region."
   ]
  },
  {
   "cell_type": "code",
   "execution_count": 31,
   "id": "2dbb3f78",
   "metadata": {},
   "outputs": [
    {
     "data": {
      "text/html": [
       "<div>\n",
       "<style scoped>\n",
       "    .dataframe tbody tr th:only-of-type {\n",
       "        vertical-align: middle;\n",
       "    }\n",
       "\n",
       "    .dataframe tbody tr th {\n",
       "        vertical-align: top;\n",
       "    }\n",
       "\n",
       "    .dataframe thead th {\n",
       "        text-align: right;\n",
       "    }\n",
       "</style>\n",
       "<table border=\"1\" class=\"dataframe\">\n",
       "  <thead>\n",
       "    <tr style=\"text-align: right;\">\n",
       "      <th>Group</th>\n",
       "      <th>Control</th>\n",
       "      <th>Patient</th>\n",
       "    </tr>\n",
       "  </thead>\n",
       "  <tbody>\n",
       "    <tr>\n",
       "      <th>lh_bankssts_part1_thickness</th>\n",
       "      <td>2.401038</td>\n",
       "      <td>2.209143</td>\n",
       "    </tr>\n",
       "    <tr>\n",
       "      <th>lh_bankssts_part2_thickness</th>\n",
       "      <td>2.373775</td>\n",
       "      <td>2.197500</td>\n",
       "    </tr>\n",
       "    <tr>\n",
       "      <th>lh_caudalanteriorcingulate_part1_thickness</th>\n",
       "      <td>2.446513</td>\n",
       "      <td>2.332000</td>\n",
       "    </tr>\n",
       "    <tr>\n",
       "      <th>lh_caudalmiddlefrontal_part1_thickness</th>\n",
       "      <td>2.578638</td>\n",
       "      <td>2.361286</td>\n",
       "    </tr>\n",
       "    <tr>\n",
       "      <th>lh_caudalmiddlefrontal_part2_thickness</th>\n",
       "      <td>2.585075</td>\n",
       "      <td>2.409857</td>\n",
       "    </tr>\n",
       "    <tr>\n",
       "      <th>...</th>\n",
       "      <td>...</td>\n",
       "      <td>...</td>\n",
       "    </tr>\n",
       "    <tr>\n",
       "      <th>rh_transversetemporal_part1_thickness</th>\n",
       "      <td>2.419613</td>\n",
       "      <td>2.255679</td>\n",
       "    </tr>\n",
       "    <tr>\n",
       "      <th>rh_insula_part1_thickness</th>\n",
       "      <td>3.501175</td>\n",
       "      <td>3.302893</td>\n",
       "    </tr>\n",
       "    <tr>\n",
       "      <th>rh_insula_part2_thickness</th>\n",
       "      <td>2.693612</td>\n",
       "      <td>2.521464</td>\n",
       "    </tr>\n",
       "    <tr>\n",
       "      <th>rh_insula_part3_thickness</th>\n",
       "      <td>3.026488</td>\n",
       "      <td>2.874179</td>\n",
       "    </tr>\n",
       "    <tr>\n",
       "      <th>rh_insula_part4_thickness</th>\n",
       "      <td>3.112950</td>\n",
       "      <td>2.923357</td>\n",
       "    </tr>\n",
       "  </tbody>\n",
       "</table>\n",
       "<p>308 rows × 2 columns</p>\n",
       "</div>"
      ],
      "text/plain": [
       "Group                                        Control   Patient\n",
       "lh_bankssts_part1_thickness                 2.401038  2.209143\n",
       "lh_bankssts_part2_thickness                 2.373775  2.197500\n",
       "lh_caudalanteriorcingulate_part1_thickness  2.446513  2.332000\n",
       "lh_caudalmiddlefrontal_part1_thickness      2.578638  2.361286\n",
       "lh_caudalmiddlefrontal_part2_thickness      2.585075  2.409857\n",
       "...                                              ...       ...\n",
       "rh_transversetemporal_part1_thickness       2.419613  2.255679\n",
       "rh_insula_part1_thickness                   3.501175  3.302893\n",
       "rh_insula_part2_thickness                   2.693612  2.521464\n",
       "rh_insula_part3_thickness                   3.026488  2.874179\n",
       "rh_insula_part4_thickness                   3.112950  2.923357\n",
       "\n",
       "[308 rows x 2 columns]"
      ]
     },
     "execution_count": 31,
     "metadata": {},
     "output_type": "execute_result"
    }
   ],
   "source": [
    "#switch column and rows \n",
    "\n",
    "CT_means_T = CT_means.T\n",
    "CT_means_T"
   ]
  },
  {
   "cell_type": "code",
   "execution_count": 32,
   "id": "64fabd96",
   "metadata": {},
   "outputs": [
    {
     "data": {
      "text/plain": [
       "Text(0.5, 1.0, 'Distribution of Cortical Thickness Means')"
      ]
     },
     "execution_count": 32,
     "metadata": {},
     "output_type": "execute_result"
    },
    {
     "data": {
      "image/png": "[encoded data removed]",
      "text/plain": [
       "<Figure size 720x576 with 1 Axes>"
      ]
     },
     "metadata": {
      "needs_background": "light"
     },
     "output_type": "display_data"
    }
   ],
   "source": [
    "#plot mean of CT means\n",
    "\n",
    "import seaborn as sb\n",
    "\n",
    "plt.figure(figsize=(10,8))\n",
    "ax = sb.violinplot(data=CT_means_T)\n",
    "ax.set(xlabel='Group', ylabel='Cortical Thickness Means')\n",
    "plt.title(\"Distribution of Cortical Thickness Means\", pad = '20')"
   ]
  },
  {
   "cell_type": "markdown",
   "id": "120defa5",
   "metadata": {},
   "source": [
    "The violin plot reveals that the overall **CT** means in the patient group is lower compared to the controls. It might be interesting to know whether this accounts for all brain regions or whether there might be specific brain regions where the **CT** is higher for the patients since it isn't so clear at the bottom part of the violoin plots. So we can look for an effect in brain areas in a specific direction comparing both groups by computing the difference of the means for each brain region. A negative value would indicate a higher **CT** mean in patients in a specific brain area."
   ]
  },
  {
   "cell_type": "code",
   "execution_count": 33,
   "id": "7933c84d",
   "metadata": {},
   "outputs": [
    {
     "data": {
      "text/html": [
       "<div>\n",
       "<style scoped>\n",
       "    .dataframe tbody tr th:only-of-type {\n",
       "        vertical-align: middle;\n",
       "    }\n",
       "\n",
       "    .dataframe tbody tr th {\n",
       "        vertical-align: top;\n",
       "    }\n",
       "\n",
       "    .dataframe thead th {\n",
       "        text-align: right;\n",
       "    }\n",
       "</style>\n",
       "<table border=\"1\" class=\"dataframe\">\n",
       "  <thead>\n",
       "    <tr style=\"text-align: right;\">\n",
       "      <th>Group</th>\n",
       "      <th>Control</th>\n",
       "      <th>Patient</th>\n",
       "      <th>Difference</th>\n",
       "    </tr>\n",
       "  </thead>\n",
       "  <tbody>\n",
       "    <tr>\n",
       "      <th>lh_bankssts_part1_thickness</th>\n",
       "      <td>2.401038</td>\n",
       "      <td>2.209143</td>\n",
       "      <td>0.191895</td>\n",
       "    </tr>\n",
       "    <tr>\n",
       "      <th>lh_bankssts_part2_thickness</th>\n",
       "      <td>2.373775</td>\n",
       "      <td>2.197500</td>\n",
       "      <td>0.176275</td>\n",
       "    </tr>\n",
       "    <tr>\n",
       "      <th>lh_caudalanteriorcingulate_part1_thickness</th>\n",
       "      <td>2.446513</td>\n",
       "      <td>2.332000</td>\n",
       "      <td>0.114513</td>\n",
       "    </tr>\n",
       "    <tr>\n",
       "      <th>lh_caudalmiddlefrontal_part1_thickness</th>\n",
       "      <td>2.578638</td>\n",
       "      <td>2.361286</td>\n",
       "      <td>0.217352</td>\n",
       "    </tr>\n",
       "    <tr>\n",
       "      <th>lh_caudalmiddlefrontal_part2_thickness</th>\n",
       "      <td>2.585075</td>\n",
       "      <td>2.409857</td>\n",
       "      <td>0.175218</td>\n",
       "    </tr>\n",
       "    <tr>\n",
       "      <th>...</th>\n",
       "      <td>...</td>\n",
       "      <td>...</td>\n",
       "      <td>...</td>\n",
       "    </tr>\n",
       "    <tr>\n",
       "      <th>rh_transversetemporal_part1_thickness</th>\n",
       "      <td>2.419613</td>\n",
       "      <td>2.255679</td>\n",
       "      <td>0.163934</td>\n",
       "    </tr>\n",
       "    <tr>\n",
       "      <th>rh_insula_part1_thickness</th>\n",
       "      <td>3.501175</td>\n",
       "      <td>3.302893</td>\n",
       "      <td>0.198282</td>\n",
       "    </tr>\n",
       "    <tr>\n",
       "      <th>rh_insula_part2_thickness</th>\n",
       "      <td>2.693612</td>\n",
       "      <td>2.521464</td>\n",
       "      <td>0.172148</td>\n",
       "    </tr>\n",
       "    <tr>\n",
       "      <th>rh_insula_part3_thickness</th>\n",
       "      <td>3.026488</td>\n",
       "      <td>2.874179</td>\n",
       "      <td>0.152309</td>\n",
       "    </tr>\n",
       "    <tr>\n",
       "      <th>rh_insula_part4_thickness</th>\n",
       "      <td>3.112950</td>\n",
       "      <td>2.923357</td>\n",
       "      <td>0.189593</td>\n",
       "    </tr>\n",
       "  </tbody>\n",
       "</table>\n",
       "<p>308 rows × 3 columns</p>\n",
       "</div>"
      ],
      "text/plain": [
       "Group                                        Control   Patient  Difference\n",
       "lh_bankssts_part1_thickness                 2.401038  2.209143    0.191895\n",
       "lh_bankssts_part2_thickness                 2.373775  2.197500    0.176275\n",
       "lh_caudalanteriorcingulate_part1_thickness  2.446513  2.332000    0.114513\n",
       "lh_caudalmiddlefrontal_part1_thickness      2.578638  2.361286    0.217352\n",
       "lh_caudalmiddlefrontal_part2_thickness      2.585075  2.409857    0.175218\n",
       "...                                              ...       ...         ...\n",
       "rh_transversetemporal_part1_thickness       2.419613  2.255679    0.163934\n",
       "rh_insula_part1_thickness                   3.501175  3.302893    0.198282\n",
       "rh_insula_part2_thickness                   2.693612  2.521464    0.172148\n",
       "rh_insula_part3_thickness                   3.026488  2.874179    0.152309\n",
       "rh_insula_part4_thickness                   3.112950  2.923357    0.189593\n",
       "\n",
       "[308 rows x 3 columns]"
      ]
     },
     "execution_count": 33,
     "metadata": {},
     "output_type": "execute_result"
    }
   ],
   "source": [
    "#compute difference\n",
    "\n",
    "CT_means_T['Difference'] = CT_means_T.iloc[:,0] - CT_means_T.iloc[:,1]\n",
    "\n",
    "CT_means_T"
   ]
  },
  {
   "cell_type": "markdown",
   "id": "1d56a004",
   "metadata": {},
   "source": [
    "Having computed the differences, we can use these values to plot a histogram to see how their distribution is. We can further specify to return a colored bin to show negative values. "
   ]
  },
  {
   "cell_type": "code",
   "execution_count": 34,
   "id": "9df8c54f",
   "metadata": {},
   "outputs": [
    {
     "data": {
      "image/png": "[encoded data removed]",
      "text/plain": [
       "<Figure size 1080x720 with 1 Axes>"
      ]
     },
     "metadata": {
      "needs_background": "light"
     },
     "output_type": "display_data"
    }
   ],
   "source": [
    "import numpy as np\n",
    "import matplotlib.pyplot as plt\n",
    "\n",
    "x = CT_means_T['Difference']\n",
    "\n",
    "fig, ax = plt.subplots(figsize = (15, 10))\n",
    "\n",
    "_, _, bars = plt.hist(CT_means_T['Difference'], bins = 308, color=\"C0\")\n",
    "for bar in bars:\n",
    "    if bar.get_x() < 0:\n",
    "        bar.set_facecolor(\"C1\")\n",
    "plt.xlabel(\"Difference of Cortical Thickness Means\")\n",
    "plt.ylabel(\"Amount of Brain Regions\")\n",
    "plt.axvline(x=0, linestyle='--',linewidth=1, color='grey')\n",
    "plt.show()"
   ]
  },
  {
   "cell_type": "markdown",
   "id": "71b143b6",
   "metadata": {},
   "source": [
    "As indicated by the orange bin, there is only one brain region for which the **CT** mean is higher in patients in comparison to controls. We can futher specify which brain region is at stake. "
   ]
  },
  {
   "cell_type": "code",
   "execution_count": 35,
   "id": "c17447ed",
   "metadata": {},
   "outputs": [
    {
     "data": {
      "text/html": [
       "<div>\n",
       "<style scoped>\n",
       "    .dataframe tbody tr th:only-of-type {\n",
       "        vertical-align: middle;\n",
       "    }\n",
       "\n",
       "    .dataframe tbody tr th {\n",
       "        vertical-align: top;\n",
       "    }\n",
       "\n",
       "    .dataframe thead th {\n",
       "        text-align: right;\n",
       "    }\n",
       "</style>\n",
       "<table border=\"1\" class=\"dataframe\">\n",
       "  <thead>\n",
       "    <tr style=\"text-align: right;\">\n",
       "      <th>Group</th>\n",
       "      <th>Control</th>\n",
       "      <th>Patient</th>\n",
       "      <th>Difference</th>\n",
       "    </tr>\n",
       "  </thead>\n",
       "  <tbody>\n",
       "    <tr>\n",
       "      <th>rh_precentral_part6_thickness</th>\n",
       "      <td>2.424338</td>\n",
       "      <td>2.429214</td>\n",
       "      <td>-0.004877</td>\n",
       "    </tr>\n",
       "  </tbody>\n",
       "</table>\n",
       "</div>"
      ],
      "text/plain": [
       "Group                           Control   Patient  Difference\n",
       "rh_precentral_part6_thickness  2.424338  2.429214   -0.004877"
      ]
     },
     "execution_count": 35,
     "metadata": {},
     "output_type": "execute_result"
    }
   ],
   "source": [
    "CT_means_T.loc[CT_means_T['Difference'] < 0]"
   ]
  },
  {
   "cell_type": "markdown",
   "id": "0b0886fd",
   "metadata": {},
   "source": [
    "The brain region is just one out of nine parts of the precentral gyrus in the right hemisphere. Looking at the difference, it just seems very little. However, for the **macro-structural** data we can conclude that there is a loss of **CT** towards psychosis."
   ]
  },
  {
   "cell_type": "markdown",
   "id": "e19e823a",
   "metadata": {},
   "source": [
    "## 2.2 Micro-structural data: mean diffusivity (MD) and fractional anisotropy (FA)"
   ]
  },
  {
   "cell_type": "markdown",
   "id": "154f5ce7",
   "metadata": {},
   "source": [
    "In general, Diffusion MRI measures white matter fibres which makes it feasible to examine connections between different regions. For that, we look at how water diffuses in the brain which again provides information of the brain itself. The diffusion of water can be visualized as cloud if points which again can be approximated with a tensor model. Since there is a distinction in isotropic (characteristics are similar in all directions) vs anisotropic (characteristics e.g. faster in a given direction) diffusion, the tensor model might differ."
   ]
  },
  {
   "cell_type": "markdown",
   "id": "b65d5fa4",
   "metadata": {},
   "source": [
    "**MD** and **FA** are central characteristics of tensors. **MD** indicates how much diffusion there is inside a voxel. **FA** is a measurement of the anisotropy of diffusion with a value range between 0 and 1. While the a **FA** value of 0 stands for isotropic diffusion, the **FA** value of 1 indicates anisotropic diffusion."
   ]
  },
  {
   "cell_type": "markdown",
   "id": "17b2373a",
   "metadata": {},
   "source": [
    "In the following, the same procedure is done as for the **CT** data. First, we adjust the dataframes, compute the means and plot the differences between control and patients."
   ]
  },
  {
   "cell_type": "code",
   "execution_count": 36,
   "id": "d0912302",
   "metadata": {},
   "outputs": [],
   "source": [
    "#adjust dataframes\n",
    "\n",
    "MD_Dublin_ad = MD_Dublin.drop(['Subject ID','Age', 'Sex'], axis=1)\n",
    "\n",
    "FA_Dublin_ad = FA_Dublin.drop(['Subject ID','Age', 'Sex'], axis=1)"
   ]
  },
  {
   "cell_type": "markdown",
   "id": "473c3e31",
   "metadata": {},
   "source": [
    "Again, the numbers indicating the group are renamed with the respective label."
   ]
  },
  {
   "cell_type": "code",
   "execution_count": 37,
   "id": "e63fa446",
   "metadata": {},
   "outputs": [],
   "source": [
    "MD_Dublin_ad['Group'] = MD_Dublin_ad['Group'].replace([1,2],['Control', 'Patient'])\n",
    "\n",
    "FA_Dublin_ad['Group'] = FA_Dublin_ad['Group'].replace([1,2],['Control', 'Patient'])"
   ]
  },
  {
   "cell_type": "markdown",
   "id": "963a626c",
   "metadata": {},
   "source": [
    "Now we can compute the mean for each brain region for controls and patients. "
   ]
  },
  {
   "cell_type": "code",
   "execution_count": 38,
   "id": "ce8616bb",
   "metadata": {},
   "outputs": [
    {
     "data": {
      "text/html": [
       "<div>\n",
       "<style scoped>\n",
       "    .dataframe tbody tr th:only-of-type {\n",
       "        vertical-align: middle;\n",
       "    }\n",
       "\n",
       "    .dataframe tbody tr th {\n",
       "        vertical-align: top;\n",
       "    }\n",
       "\n",
       "    .dataframe thead th {\n",
       "        text-align: right;\n",
       "    }\n",
       "</style>\n",
       "<table border=\"1\" class=\"dataframe\">\n",
       "  <thead>\n",
       "    <tr style=\"text-align: right;\">\n",
       "      <th></th>\n",
       "      <th>lh_bankssts_part1_thickness</th>\n",
       "      <th>lh_bankssts_part2_thickness</th>\n",
       "      <th>lh_caudalanteriorcingulate_part1_thickness</th>\n",
       "      <th>lh_caudalmiddlefrontal_part1_thickness</th>\n",
       "      <th>lh_caudalmiddlefrontal_part2_thickness</th>\n",
       "      <th>lh_caudalmiddlefrontal_part3_thickness</th>\n",
       "      <th>lh_caudalmiddlefrontal_part4_thickness</th>\n",
       "      <th>lh_cuneus_part1_thickness</th>\n",
       "      <th>lh_cuneus_part2_thickness</th>\n",
       "      <th>lh_entorhinal_part1_thickness</th>\n",
       "      <th>...</th>\n",
       "      <th>rh_supramarginal_part5_thickness</th>\n",
       "      <th>rh_supramarginal_part6_thickness</th>\n",
       "      <th>rh_supramarginal_part7_thickness</th>\n",
       "      <th>rh_frontalpole_part1_thickness</th>\n",
       "      <th>rh_temporalpole_part1_thickness</th>\n",
       "      <th>rh_transversetemporal_part1_thickness</th>\n",
       "      <th>rh_insula_part1_thickness</th>\n",
       "      <th>rh_insula_part2_thickness</th>\n",
       "      <th>rh_insula_part3_thickness</th>\n",
       "      <th>rh_insula_part4_thickness</th>\n",
       "    </tr>\n",
       "    <tr>\n",
       "      <th>Group</th>\n",
       "      <th></th>\n",
       "      <th></th>\n",
       "      <th></th>\n",
       "      <th></th>\n",
       "      <th></th>\n",
       "      <th></th>\n",
       "      <th></th>\n",
       "      <th></th>\n",
       "      <th></th>\n",
       "      <th></th>\n",
       "      <th></th>\n",
       "      <th></th>\n",
       "      <th></th>\n",
       "      <th></th>\n",
       "      <th></th>\n",
       "      <th></th>\n",
       "      <th></th>\n",
       "      <th></th>\n",
       "      <th></th>\n",
       "      <th></th>\n",
       "      <th></th>\n",
       "    </tr>\n",
       "  </thead>\n",
       "  <tbody>\n",
       "    <tr>\n",
       "      <th>Control</th>\n",
       "      <td>0.886598</td>\n",
       "      <td>0.890146</td>\n",
       "      <td>0.873439</td>\n",
       "      <td>0.919476</td>\n",
       "      <td>0.858488</td>\n",
       "      <td>0.888854</td>\n",
       "      <td>0.943110</td>\n",
       "      <td>0.953671</td>\n",
       "      <td>0.960768</td>\n",
       "      <td>0.927415</td>\n",
       "      <td>...</td>\n",
       "      <td>0.913402</td>\n",
       "      <td>0.969293</td>\n",
       "      <td>0.976659</td>\n",
       "      <td>0.921305</td>\n",
       "      <td>1.074159</td>\n",
       "      <td>1.046293</td>\n",
       "      <td>1.073183</td>\n",
       "      <td>0.911683</td>\n",
       "      <td>0.914988</td>\n",
       "      <td>0.933293</td>\n",
       "    </tr>\n",
       "    <tr>\n",
       "      <th>Patient</th>\n",
       "      <td>0.920545</td>\n",
       "      <td>0.920939</td>\n",
       "      <td>0.906485</td>\n",
       "      <td>0.965030</td>\n",
       "      <td>0.879091</td>\n",
       "      <td>0.931667</td>\n",
       "      <td>0.997727</td>\n",
       "      <td>1.025030</td>\n",
       "      <td>1.003879</td>\n",
       "      <td>0.985485</td>\n",
       "      <td>...</td>\n",
       "      <td>0.939303</td>\n",
       "      <td>0.997000</td>\n",
       "      <td>1.017303</td>\n",
       "      <td>0.989152</td>\n",
       "      <td>1.248970</td>\n",
       "      <td>1.135364</td>\n",
       "      <td>1.206697</td>\n",
       "      <td>0.965242</td>\n",
       "      <td>0.981182</td>\n",
       "      <td>1.001848</td>\n",
       "    </tr>\n",
       "  </tbody>\n",
       "</table>\n",
       "<p>2 rows × 308 columns</p>\n",
       "</div>"
      ],
      "text/plain": [
       "         lh_bankssts_part1_thickness  lh_bankssts_part2_thickness  \\\n",
       "Group                                                               \n",
       "Control                     0.886598                     0.890146   \n",
       "Patient                     0.920545                     0.920939   \n",
       "\n",
       "         lh_caudalanteriorcingulate_part1_thickness  \\\n",
       "Group                                                 \n",
       "Control                                    0.873439   \n",
       "Patient                                    0.906485   \n",
       "\n",
       "         lh_caudalmiddlefrontal_part1_thickness  \\\n",
       "Group                                             \n",
       "Control                                0.919476   \n",
       "Patient                                0.965030   \n",
       "\n",
       "         lh_caudalmiddlefrontal_part2_thickness  \\\n",
       "Group                                             \n",
       "Control                                0.858488   \n",
       "Patient                                0.879091   \n",
       "\n",
       "         lh_caudalmiddlefrontal_part3_thickness  \\\n",
       "Group                                             \n",
       "Control                                0.888854   \n",
       "Patient                                0.931667   \n",
       "\n",
       "         lh_caudalmiddlefrontal_part4_thickness  lh_cuneus_part1_thickness  \\\n",
       "Group                                                                        \n",
       "Control                                0.943110                   0.953671   \n",
       "Patient                                0.997727                   1.025030   \n",
       "\n",
       "         lh_cuneus_part2_thickness  lh_entorhinal_part1_thickness  ...  \\\n",
       "Group                                                              ...   \n",
       "Control                   0.960768                       0.927415  ...   \n",
       "Patient                   1.003879                       0.985485  ...   \n",
       "\n",
       "         rh_supramarginal_part5_thickness  rh_supramarginal_part6_thickness  \\\n",
       "Group                                                                         \n",
       "Control                          0.913402                          0.969293   \n",
       "Patient                          0.939303                          0.997000   \n",
       "\n",
       "         rh_supramarginal_part7_thickness  rh_frontalpole_part1_thickness  \\\n",
       "Group                                                                       \n",
       "Control                          0.976659                        0.921305   \n",
       "Patient                          1.017303                        0.989152   \n",
       "\n",
       "         rh_temporalpole_part1_thickness  \\\n",
       "Group                                      \n",
       "Control                         1.074159   \n",
       "Patient                         1.248970   \n",
       "\n",
       "         rh_transversetemporal_part1_thickness  rh_insula_part1_thickness  \\\n",
       "Group                                                                       \n",
       "Control                               1.046293                   1.073183   \n",
       "Patient                               1.135364                   1.206697   \n",
       "\n",
       "         rh_insula_part2_thickness  rh_insula_part3_thickness  \\\n",
       "Group                                                           \n",
       "Control                   0.911683                   0.914988   \n",
       "Patient                   0.965242                   0.981182   \n",
       "\n",
       "         rh_insula_part4_thickness  \n",
       "Group                               \n",
       "Control                   0.933293  \n",
       "Patient                   1.001848  \n",
       "\n",
       "[2 rows x 308 columns]"
      ]
     },
     "execution_count": 38,
     "metadata": {},
     "output_type": "execute_result"
    }
   ],
   "source": [
    "MD_means = MD_Dublin_ad.groupby('Group').mean()\n",
    "MD_means"
   ]
  },
  {
   "cell_type": "markdown",
   "id": "62f8cb54",
   "metadata": {},
   "source": [
    "Interestingly, we see that **MD** seems to be higher in patients than in controls. To get an idea of the overall **MD**, we compute the mean of the means of the brain regions for both groups."
   ]
  },
  {
   "cell_type": "code",
   "execution_count": 39,
   "id": "e12a196d",
   "metadata": {},
   "outputs": [
    {
     "data": {
      "text/plain": [
       "Group\n",
       "Control    0.937044\n",
       "Patient    0.974837\n",
       "dtype: float64"
      ]
     },
     "execution_count": 39,
     "metadata": {},
     "output_type": "execute_result"
    }
   ],
   "source": [
    "#mean of means of mean diffusivity for control and patients\n",
    "\n",
    "MD_means_mean = MD_means.mean(axis=1)\n",
    "MD_means_mean"
   ]
  },
  {
   "cell_type": "markdown",
   "id": "8284d3b0",
   "metadata": {},
   "source": [
    "The values indicate that the control group has a lower average mean diffusivity compared to patients."
   ]
  },
  {
   "cell_type": "markdown",
   "id": "76180e4b",
   "metadata": {},
   "source": [
    "Now, we will have a look at **FA**."
   ]
  },
  {
   "cell_type": "code",
   "execution_count": 40,
   "id": "0adc034e",
   "metadata": {},
   "outputs": [
    {
     "data": {
      "text/html": [
       "<div>\n",
       "<style scoped>\n",
       "    .dataframe tbody tr th:only-of-type {\n",
       "        vertical-align: middle;\n",
       "    }\n",
       "\n",
       "    .dataframe tbody tr th {\n",
       "        vertical-align: top;\n",
       "    }\n",
       "\n",
       "    .dataframe thead th {\n",
       "        text-align: right;\n",
       "    }\n",
       "</style>\n",
       "<table border=\"1\" class=\"dataframe\">\n",
       "  <thead>\n",
       "    <tr style=\"text-align: right;\">\n",
       "      <th></th>\n",
       "      <th>lh_bankssts_part1_thickness</th>\n",
       "      <th>lh_bankssts_part2_thickness</th>\n",
       "      <th>lh_caudalanteriorcingulate_part1_thickness</th>\n",
       "      <th>lh_caudalmiddlefrontal_part1_thickness</th>\n",
       "      <th>lh_caudalmiddlefrontal_part2_thickness</th>\n",
       "      <th>lh_caudalmiddlefrontal_part3_thickness</th>\n",
       "      <th>lh_caudalmiddlefrontal_part4_thickness</th>\n",
       "      <th>lh_cuneus_part1_thickness</th>\n",
       "      <th>lh_cuneus_part2_thickness</th>\n",
       "      <th>lh_entorhinal_part1_thickness</th>\n",
       "      <th>...</th>\n",
       "      <th>rh_supramarginal_part5_thickness</th>\n",
       "      <th>rh_supramarginal_part6_thickness</th>\n",
       "      <th>rh_supramarginal_part7_thickness</th>\n",
       "      <th>rh_frontalpole_part1_thickness</th>\n",
       "      <th>rh_temporalpole_part1_thickness</th>\n",
       "      <th>rh_transversetemporal_part1_thickness</th>\n",
       "      <th>rh_insula_part1_thickness</th>\n",
       "      <th>rh_insula_part2_thickness</th>\n",
       "      <th>rh_insula_part3_thickness</th>\n",
       "      <th>rh_insula_part4_thickness</th>\n",
       "    </tr>\n",
       "    <tr>\n",
       "      <th>Group</th>\n",
       "      <th></th>\n",
       "      <th></th>\n",
       "      <th></th>\n",
       "      <th></th>\n",
       "      <th></th>\n",
       "      <th></th>\n",
       "      <th></th>\n",
       "      <th></th>\n",
       "      <th></th>\n",
       "      <th></th>\n",
       "      <th></th>\n",
       "      <th></th>\n",
       "      <th></th>\n",
       "      <th></th>\n",
       "      <th></th>\n",
       "      <th></th>\n",
       "      <th></th>\n",
       "      <th></th>\n",
       "      <th></th>\n",
       "      <th></th>\n",
       "      <th></th>\n",
       "    </tr>\n",
       "  </thead>\n",
       "  <tbody>\n",
       "    <tr>\n",
       "      <th>Control</th>\n",
       "      <td>0.318866</td>\n",
       "      <td>0.157451</td>\n",
       "      <td>0.218463</td>\n",
       "      <td>0.157512</td>\n",
       "      <td>0.174805</td>\n",
       "      <td>0.147061</td>\n",
       "      <td>0.144451</td>\n",
       "      <td>0.135451</td>\n",
       "      <td>0.148573</td>\n",
       "      <td>0.213183</td>\n",
       "      <td>...</td>\n",
       "      <td>0.151720</td>\n",
       "      <td>0.137244</td>\n",
       "      <td>0.136427</td>\n",
       "      <td>0.223732</td>\n",
       "      <td>0.193293</td>\n",
       "      <td>0.135671</td>\n",
       "      <td>0.156598</td>\n",
       "      <td>0.155098</td>\n",
       "      <td>0.151024</td>\n",
       "      <td>0.143634</td>\n",
       "    </tr>\n",
       "    <tr>\n",
       "      <th>Patient</th>\n",
       "      <td>0.304939</td>\n",
       "      <td>0.157788</td>\n",
       "      <td>0.220758</td>\n",
       "      <td>0.156121</td>\n",
       "      <td>0.177636</td>\n",
       "      <td>0.147818</td>\n",
       "      <td>0.143879</td>\n",
       "      <td>0.124909</td>\n",
       "      <td>0.140182</td>\n",
       "      <td>0.212152</td>\n",
       "      <td>...</td>\n",
       "      <td>0.146455</td>\n",
       "      <td>0.134091</td>\n",
       "      <td>0.133909</td>\n",
       "      <td>0.230152</td>\n",
       "      <td>0.194030</td>\n",
       "      <td>0.141606</td>\n",
       "      <td>0.149121</td>\n",
       "      <td>0.158455</td>\n",
       "      <td>0.147667</td>\n",
       "      <td>0.142030</td>\n",
       "    </tr>\n",
       "  </tbody>\n",
       "</table>\n",
       "<p>2 rows × 308 columns</p>\n",
       "</div>"
      ],
      "text/plain": [
       "         lh_bankssts_part1_thickness  lh_bankssts_part2_thickness  \\\n",
       "Group                                                               \n",
       "Control                     0.318866                     0.157451   \n",
       "Patient                     0.304939                     0.157788   \n",
       "\n",
       "         lh_caudalanteriorcingulate_part1_thickness  \\\n",
       "Group                                                 \n",
       "Control                                    0.218463   \n",
       "Patient                                    0.220758   \n",
       "\n",
       "         lh_caudalmiddlefrontal_part1_thickness  \\\n",
       "Group                                             \n",
       "Control                                0.157512   \n",
       "Patient                                0.156121   \n",
       "\n",
       "         lh_caudalmiddlefrontal_part2_thickness  \\\n",
       "Group                                             \n",
       "Control                                0.174805   \n",
       "Patient                                0.177636   \n",
       "\n",
       "         lh_caudalmiddlefrontal_part3_thickness  \\\n",
       "Group                                             \n",
       "Control                                0.147061   \n",
       "Patient                                0.147818   \n",
       "\n",
       "         lh_caudalmiddlefrontal_part4_thickness  lh_cuneus_part1_thickness  \\\n",
       "Group                                                                        \n",
       "Control                                0.144451                   0.135451   \n",
       "Patient                                0.143879                   0.124909   \n",
       "\n",
       "         lh_cuneus_part2_thickness  lh_entorhinal_part1_thickness  ...  \\\n",
       "Group                                                              ...   \n",
       "Control                   0.148573                       0.213183  ...   \n",
       "Patient                   0.140182                       0.212152  ...   \n",
       "\n",
       "         rh_supramarginal_part5_thickness  rh_supramarginal_part6_thickness  \\\n",
       "Group                                                                         \n",
       "Control                          0.151720                          0.137244   \n",
       "Patient                          0.146455                          0.134091   \n",
       "\n",
       "         rh_supramarginal_part7_thickness  rh_frontalpole_part1_thickness  \\\n",
       "Group                                                                       \n",
       "Control                          0.136427                        0.223732   \n",
       "Patient                          0.133909                        0.230152   \n",
       "\n",
       "         rh_temporalpole_part1_thickness  \\\n",
       "Group                                      \n",
       "Control                         0.193293   \n",
       "Patient                         0.194030   \n",
       "\n",
       "         rh_transversetemporal_part1_thickness  rh_insula_part1_thickness  \\\n",
       "Group                                                                       \n",
       "Control                               0.135671                   0.156598   \n",
       "Patient                               0.141606                   0.149121   \n",
       "\n",
       "         rh_insula_part2_thickness  rh_insula_part3_thickness  \\\n",
       "Group                                                           \n",
       "Control                   0.155098                   0.151024   \n",
       "Patient                   0.158455                   0.147667   \n",
       "\n",
       "         rh_insula_part4_thickness  \n",
       "Group                               \n",
       "Control                   0.143634  \n",
       "Patient                   0.142030  \n",
       "\n",
       "[2 rows x 308 columns]"
      ]
     },
     "execution_count": 40,
     "metadata": {},
     "output_type": "execute_result"
    }
   ],
   "source": [
    "FA_means = FA_Dublin_ad.groupby('Group').mean()\n",
    "FA_means"
   ]
  },
  {
   "cell_type": "code",
   "execution_count": 41,
   "id": "cd19b0d3",
   "metadata": {},
   "outputs": [
    {
     "data": {
      "text/plain": [
       "Group\n",
       "Control    0.166799\n",
       "Patient    0.164951\n",
       "dtype: float64"
      ]
     },
     "execution_count": 41,
     "metadata": {},
     "output_type": "execute_result"
    }
   ],
   "source": [
    "#mean of means of fractional anisotropy for control and patients\n",
    "\n",
    "FA_means_mean = FA_means.mean(axis=1)\n",
    "FA_means_mean"
   ]
  },
  {
   "cell_type": "markdown",
   "id": "8fdd2e14",
   "metadata": {},
   "source": [
    "The values indicate that the patient group has a lower mean fractional anisotropy compared to patients. To plot these means, again the columns and rows has to be switched."
   ]
  },
  {
   "cell_type": "code",
   "execution_count": 42,
   "id": "95aa94bc",
   "metadata": {},
   "outputs": [],
   "source": [
    "#switch colums and rows\n",
    "\n",
    "MD_means_T = MD_means.T\n",
    "FA_means_T = FA_means.T"
   ]
  },
  {
   "cell_type": "code",
   "execution_count": 43,
   "id": "4bd5dc38",
   "metadata": {},
   "outputs": [
    {
     "data": {
      "text/plain": [
       "Text(0.5, 1.0, 'Distribution of Mean Diffusivity Means')"
      ]
     },
     "execution_count": 43,
     "metadata": {},
     "output_type": "execute_result"
    },
    {
     "data": {
      "image/png": "[encoded data removed]",
      "text/plain": [
       "<Figure size 576x432 with 1 Axes>"
      ]
     },
     "metadata": {
      "needs_background": "light"
     },
     "output_type": "display_data"
    }
   ],
   "source": [
    "#plot the MD means\n",
    "\n",
    "plt.figure(figsize=(8,6))\n",
    "ax = sb.violinplot(data=MD_means.T)\n",
    "ax.set(xlabel='Groups', ylabel='Mean Diffusivity Means')\n",
    "plt.title(\"Distribution of Mean Diffusivity Means\", pad = '20')"
   ]
  },
  {
   "cell_type": "markdown",
   "id": "a358c432",
   "metadata": {},
   "source": [
    "The violin plot also shows that the **MD** means for controls are lower. While the mean values for **FA** does not to seem to differ remarkably, they are also plotted for a better imagination.  "
   ]
  },
  {
   "cell_type": "code",
   "execution_count": 44,
   "id": "b173cf5f",
   "metadata": {},
   "outputs": [
    {
     "data": {
      "text/plain": [
       "Text(0.5, 1.0, 'Distribution of Fractional Anisotropy Means')"
      ]
     },
     "execution_count": 44,
     "metadata": {},
     "output_type": "execute_result"
    },
    {
     "data": {
      "image/png": "[encoded data removed]",
      "text/plain": [
       "<Figure size 576x432 with 1 Axes>"
      ]
     },
     "metadata": {
      "needs_background": "light"
     },
     "output_type": "display_data"
    }
   ],
   "source": [
    "#plot the FA means\n",
    "\n",
    "plt.figure(figsize=(8,6))\n",
    "ax = sb.violinplot(data=FA_means.T)\n",
    "ax.set(xlabel='Groups', ylabel='Fractional Anisotropy Means')\n",
    "plt.title(\"Distribution of Fractional Anisotropy Means\", pad = '20')"
   ]
  },
  {
   "cell_type": "markdown",
   "id": "0fd40a15",
   "metadata": {},
   "source": [
    "Coherently with the mean values, the **FA** means seem to be rather similar. "
   ]
  },
  {
   "cell_type": "markdown",
   "id": "81ace3b8",
   "metadata": {},
   "source": [
    "Next, we will again look for whether all brain regions show an effect in the same direction as it was for **CT** the case. For that, the differences in the means of patient and control group is computed and their distribution plotted."
   ]
  },
  {
   "cell_type": "code",
   "execution_count": 45,
   "id": "8099a016",
   "metadata": {},
   "outputs": [
    {
     "data": {
      "text/html": [
       "<div>\n",
       "<style scoped>\n",
       "    .dataframe tbody tr th:only-of-type {\n",
       "        vertical-align: middle;\n",
       "    }\n",
       "\n",
       "    .dataframe tbody tr th {\n",
       "        vertical-align: top;\n",
       "    }\n",
       "\n",
       "    .dataframe thead th {\n",
       "        text-align: right;\n",
       "    }\n",
       "</style>\n",
       "<table border=\"1\" class=\"dataframe\">\n",
       "  <thead>\n",
       "    <tr style=\"text-align: right;\">\n",
       "      <th>Group</th>\n",
       "      <th>Control</th>\n",
       "      <th>Patient</th>\n",
       "      <th>Difference</th>\n",
       "    </tr>\n",
       "  </thead>\n",
       "  <tbody>\n",
       "    <tr>\n",
       "      <th>lh_bankssts_part1_thickness</th>\n",
       "      <td>0.886598</td>\n",
       "      <td>0.920545</td>\n",
       "      <td>-0.033948</td>\n",
       "    </tr>\n",
       "    <tr>\n",
       "      <th>lh_bankssts_part2_thickness</th>\n",
       "      <td>0.890146</td>\n",
       "      <td>0.920939</td>\n",
       "      <td>-0.030793</td>\n",
       "    </tr>\n",
       "    <tr>\n",
       "      <th>lh_caudalanteriorcingulate_part1_thickness</th>\n",
       "      <td>0.873439</td>\n",
       "      <td>0.906485</td>\n",
       "      <td>-0.033046</td>\n",
       "    </tr>\n",
       "    <tr>\n",
       "      <th>lh_caudalmiddlefrontal_part1_thickness</th>\n",
       "      <td>0.919476</td>\n",
       "      <td>0.965030</td>\n",
       "      <td>-0.045555</td>\n",
       "    </tr>\n",
       "    <tr>\n",
       "      <th>lh_caudalmiddlefrontal_part2_thickness</th>\n",
       "      <td>0.858488</td>\n",
       "      <td>0.879091</td>\n",
       "      <td>-0.020603</td>\n",
       "    </tr>\n",
       "    <tr>\n",
       "      <th>...</th>\n",
       "      <td>...</td>\n",
       "      <td>...</td>\n",
       "      <td>...</td>\n",
       "    </tr>\n",
       "    <tr>\n",
       "      <th>rh_transversetemporal_part1_thickness</th>\n",
       "      <td>1.046293</td>\n",
       "      <td>1.135364</td>\n",
       "      <td>-0.089071</td>\n",
       "    </tr>\n",
       "    <tr>\n",
       "      <th>rh_insula_part1_thickness</th>\n",
       "      <td>1.073183</td>\n",
       "      <td>1.206697</td>\n",
       "      <td>-0.133514</td>\n",
       "    </tr>\n",
       "    <tr>\n",
       "      <th>rh_insula_part2_thickness</th>\n",
       "      <td>0.911683</td>\n",
       "      <td>0.965242</td>\n",
       "      <td>-0.053559</td>\n",
       "    </tr>\n",
       "    <tr>\n",
       "      <th>rh_insula_part3_thickness</th>\n",
       "      <td>0.914988</td>\n",
       "      <td>0.981182</td>\n",
       "      <td>-0.066194</td>\n",
       "    </tr>\n",
       "    <tr>\n",
       "      <th>rh_insula_part4_thickness</th>\n",
       "      <td>0.933293</td>\n",
       "      <td>1.001848</td>\n",
       "      <td>-0.068556</td>\n",
       "    </tr>\n",
       "  </tbody>\n",
       "</table>\n",
       "<p>308 rows × 3 columns</p>\n",
       "</div>"
      ],
      "text/plain": [
       "Group                                        Control   Patient  Difference\n",
       "lh_bankssts_part1_thickness                 0.886598  0.920545   -0.033948\n",
       "lh_bankssts_part2_thickness                 0.890146  0.920939   -0.030793\n",
       "lh_caudalanteriorcingulate_part1_thickness  0.873439  0.906485   -0.033046\n",
       "lh_caudalmiddlefrontal_part1_thickness      0.919476  0.965030   -0.045555\n",
       "lh_caudalmiddlefrontal_part2_thickness      0.858488  0.879091   -0.020603\n",
       "...                                              ...       ...         ...\n",
       "rh_transversetemporal_part1_thickness       1.046293  1.135364   -0.089071\n",
       "rh_insula_part1_thickness                   1.073183  1.206697   -0.133514\n",
       "rh_insula_part2_thickness                   0.911683  0.965242   -0.053559\n",
       "rh_insula_part3_thickness                   0.914988  0.981182   -0.066194\n",
       "rh_insula_part4_thickness                   0.933293  1.001848   -0.068556\n",
       "\n",
       "[308 rows x 3 columns]"
      ]
     },
     "execution_count": 45,
     "metadata": {},
     "output_type": "execute_result"
    }
   ],
   "source": [
    "#compute difference\n",
    "\n",
    "MD_means_T['Difference'] = MD_means_T.iloc[:,0] - MD_means_T.iloc[:,1]\n",
    "\n",
    "MD_means_T"
   ]
  },
  {
   "cell_type": "code",
   "execution_count": 51,
   "id": "dd235b19",
   "metadata": {},
   "outputs": [
    {
     "data": {
      "image/png": "[encoded data removed]",
      "text/plain": [
       "<Figure size 1080x720 with 1 Axes>"
      ]
     },
     "metadata": {
      "needs_background": "light"
     },
     "output_type": "display_data"
    }
   ],
   "source": [
    "x_MD = MD_means_T['Difference']\n",
    "\n",
    "fig, ax = plt.subplots(figsize = (15, 10))\n",
    "\n",
    "_, _, bars = plt.hist(MD_means_T['Difference'], bins = 308, color=\"C0\")\n",
    "for bar in bars:\n",
    "    if bar.get_x() < 0:\n",
    "        bar.set_facecolor(\"C1\")\n",
    "plt.xlabel(\"Difference of Mean Diffusivity Means\")\n",
    "plt.ylabel(\"Amount of Brain Regions\")\n",
    "plt.axvline(x=0, linestyle='--',linewidth=1, color='grey')\n",
    "plt.show()"
   ]
  },
  {
   "cell_type": "markdown",
   "id": "7e83589c",
   "metadata": {},
   "source": [
    "As it can be seen, the majority of the brain regions show increased **MD** in patients. The brain regions that seem to be higher in **MD** in controls are the following:"
   ]
  },
  {
   "cell_type": "code",
   "execution_count": 47,
   "id": "3673140b",
   "metadata": {},
   "outputs": [
    {
     "name": "stdout",
     "output_type": "stream",
     "text": [
      "Group                                 Control   Patient  Difference\n",
      "lh_inferiortemporal_part4_thickness  0.855829  0.854818    0.001011\n",
      "lh_lateraloccipital_part5_thickness  1.087037  1.054606    0.032431\n",
      "lh_lateraloccipital_part6_thickness  0.907402  0.888455    0.018948\n",
      "lh_lateraloccipital_part8_thickness  0.925695  0.891939    0.033756\n",
      "lh_lateraloccipital_part9_thickness  0.969159  0.938515    0.030643\n",
      "lh_postcentral_part1_thickness       1.276159  1.220030    0.056128\n",
      "lh_precentral_part5_thickness        0.986951  0.980424    0.006527\n",
      "lh_precuneus_part2_thickness         1.048524  1.034576    0.013949\n",
      "lh_superiorparietal_part1_thickness  0.999524  0.993727    0.005797\n",
      "rh_lateraloccipital_part1_thickness  1.078963  1.046515    0.032448\n",
      "rh_lateraloccipital_part5_thickness  0.926024  0.914970    0.011055\n",
      "rh_lateraloccipital_part7_thickness  0.883988  0.878061    0.005927\n",
      "rh_lateraloccipital_part8_thickness  0.972439  0.945788    0.026651\n",
      "rh_lingual_part2_thickness           1.057695  1.014485    0.043210\n",
      "rh_postcentral_part1_thickness       1.286098  1.209879    0.076219\n",
      "rh_precuneus_part3_thickness         1.022220  1.006121    0.016098\n",
      "rh_superiorparietal_part2_thickness  1.013451  1.002394    0.011057\n",
      "rh_superiorparietal_part6_thickness  1.088402  1.066879    0.021524\n"
     ]
    }
   ],
   "source": [
    "print(MD_means_T.loc[MD_means_T['Difference']  > 0])"
   ]
  },
  {
   "cell_type": "markdown",
   "id": "c2ec0047",
   "metadata": {},
   "source": [
    "Given the mean of  **FA** means, the distriubtion of their differences might be more ambigious. However, let's check this."
   ]
  },
  {
   "cell_type": "code",
   "execution_count": 48,
   "id": "b50e8b0a",
   "metadata": {},
   "outputs": [
    {
     "data": {
      "text/html": [
       "<div>\n",
       "<style scoped>\n",
       "    .dataframe tbody tr th:only-of-type {\n",
       "        vertical-align: middle;\n",
       "    }\n",
       "\n",
       "    .dataframe tbody tr th {\n",
       "        vertical-align: top;\n",
       "    }\n",
       "\n",
       "    .dataframe thead th {\n",
       "        text-align: right;\n",
       "    }\n",
       "</style>\n",
       "<table border=\"1\" class=\"dataframe\">\n",
       "  <thead>\n",
       "    <tr style=\"text-align: right;\">\n",
       "      <th>Group</th>\n",
       "      <th>Control</th>\n",
       "      <th>Patient</th>\n",
       "      <th>Difference</th>\n",
       "    </tr>\n",
       "  </thead>\n",
       "  <tbody>\n",
       "    <tr>\n",
       "      <th>lh_bankssts_part1_thickness</th>\n",
       "      <td>0.318866</td>\n",
       "      <td>0.304939</td>\n",
       "      <td>0.013926</td>\n",
       "    </tr>\n",
       "    <tr>\n",
       "      <th>lh_bankssts_part2_thickness</th>\n",
       "      <td>0.157451</td>\n",
       "      <td>0.157788</td>\n",
       "      <td>-0.000337</td>\n",
       "    </tr>\n",
       "    <tr>\n",
       "      <th>lh_caudalanteriorcingulate_part1_thickness</th>\n",
       "      <td>0.218463</td>\n",
       "      <td>0.220758</td>\n",
       "      <td>-0.002294</td>\n",
       "    </tr>\n",
       "    <tr>\n",
       "      <th>lh_caudalmiddlefrontal_part1_thickness</th>\n",
       "      <td>0.157512</td>\n",
       "      <td>0.156121</td>\n",
       "      <td>0.001391</td>\n",
       "    </tr>\n",
       "    <tr>\n",
       "      <th>lh_caudalmiddlefrontal_part2_thickness</th>\n",
       "      <td>0.174805</td>\n",
       "      <td>0.177636</td>\n",
       "      <td>-0.002831</td>\n",
       "    </tr>\n",
       "    <tr>\n",
       "      <th>...</th>\n",
       "      <td>...</td>\n",
       "      <td>...</td>\n",
       "      <td>...</td>\n",
       "    </tr>\n",
       "    <tr>\n",
       "      <th>rh_transversetemporal_part1_thickness</th>\n",
       "      <td>0.135671</td>\n",
       "      <td>0.141606</td>\n",
       "      <td>-0.005935</td>\n",
       "    </tr>\n",
       "    <tr>\n",
       "      <th>rh_insula_part1_thickness</th>\n",
       "      <td>0.156598</td>\n",
       "      <td>0.149121</td>\n",
       "      <td>0.007476</td>\n",
       "    </tr>\n",
       "    <tr>\n",
       "      <th>rh_insula_part2_thickness</th>\n",
       "      <td>0.155098</td>\n",
       "      <td>0.158455</td>\n",
       "      <td>-0.003357</td>\n",
       "    </tr>\n",
       "    <tr>\n",
       "      <th>rh_insula_part3_thickness</th>\n",
       "      <td>0.151024</td>\n",
       "      <td>0.147667</td>\n",
       "      <td>0.003358</td>\n",
       "    </tr>\n",
       "    <tr>\n",
       "      <th>rh_insula_part4_thickness</th>\n",
       "      <td>0.143634</td>\n",
       "      <td>0.142030</td>\n",
       "      <td>0.001604</td>\n",
       "    </tr>\n",
       "  </tbody>\n",
       "</table>\n",
       "<p>308 rows × 3 columns</p>\n",
       "</div>"
      ],
      "text/plain": [
       "Group                                        Control   Patient  Difference\n",
       "lh_bankssts_part1_thickness                 0.318866  0.304939    0.013926\n",
       "lh_bankssts_part2_thickness                 0.157451  0.157788   -0.000337\n",
       "lh_caudalanteriorcingulate_part1_thickness  0.218463  0.220758   -0.002294\n",
       "lh_caudalmiddlefrontal_part1_thickness      0.157512  0.156121    0.001391\n",
       "lh_caudalmiddlefrontal_part2_thickness      0.174805  0.177636   -0.002831\n",
       "...                                              ...       ...         ...\n",
       "rh_transversetemporal_part1_thickness       0.135671  0.141606   -0.005935\n",
       "rh_insula_part1_thickness                   0.156598  0.149121    0.007476\n",
       "rh_insula_part2_thickness                   0.155098  0.158455   -0.003357\n",
       "rh_insula_part3_thickness                   0.151024  0.147667    0.003358\n",
       "rh_insula_part4_thickness                   0.143634  0.142030    0.001604\n",
       "\n",
       "[308 rows x 3 columns]"
      ]
     },
     "execution_count": 48,
     "metadata": {},
     "output_type": "execute_result"
    }
   ],
   "source": [
    "#compute difference\n",
    "\n",
    "FA_means_T['Difference'] = FA_means_T.iloc[:,0] - FA_means_T.iloc[:,1]\n",
    "\n",
    "FA_means_T"
   ]
  },
  {
   "cell_type": "markdown",
   "id": "70fb4979",
   "metadata": {},
   "source": [
    "The \"Difference\" Column already shows mixed directions. To visualize that, we run the following code."
   ]
  },
  {
   "cell_type": "code",
   "execution_count": 52,
   "id": "942e89f0",
   "metadata": {},
   "outputs": [
    {
     "data": {
      "image/png": "[encoded data removed]",
      "text/plain": [
       "<Figure size 1080x720 with 1 Axes>"
      ]
     },
     "metadata": {
      "needs_background": "light"
     },
     "output_type": "display_data"
    }
   ],
   "source": [
    "x_FA = FA_means_T['Difference']\n",
    "\n",
    "fig, ax = plt.subplots(figsize = (15, 10))\n",
    "\n",
    "_, _, bars = plt.hist(FA_means_T['Difference'], bins = 308, color=\"C0\")\n",
    "for bar in bars:\n",
    "    if bar.get_x() < 0:\n",
    "        bar.set_facecolor(\"C1\")\n",
    "plt.xlabel(\"Difference of Fractional Anisotropy Means\")\n",
    "plt.ylabel(\"Amount of Brain Regions\")\n",
    "plt.axvline(x=0, linestyle='--',linewidth=1, color='grey')\n",
    "plt.show()"
   ]
  },
  {
   "cell_type": "markdown",
   "id": "7437bb82",
   "metadata": {},
   "source": [
    "The distribution of the means here is not to clear as it was for **CT** and **MD** the case. Overall it can be said that the directions are mixed, however, what can be seen is that there is a little tendency of more decrease in **FA** for patients. The brain regions higher in **FA** for patients can be returned with the following code."
   ]
  },
  {
   "cell_type": "code",
   "execution_count": 50,
   "id": "9636a83c",
   "metadata": {},
   "outputs": [
    {
     "data": {
      "text/html": [
       "<div>\n",
       "<style scoped>\n",
       "    .dataframe tbody tr th:only-of-type {\n",
       "        vertical-align: middle;\n",
       "    }\n",
       "\n",
       "    .dataframe tbody tr th {\n",
       "        vertical-align: top;\n",
       "    }\n",
       "\n",
       "    .dataframe thead th {\n",
       "        text-align: right;\n",
       "    }\n",
       "</style>\n",
       "<table border=\"1\" class=\"dataframe\">\n",
       "  <thead>\n",
       "    <tr style=\"text-align: right;\">\n",
       "      <th>Group</th>\n",
       "      <th>Control</th>\n",
       "      <th>Patient</th>\n",
       "      <th>Difference</th>\n",
       "    </tr>\n",
       "  </thead>\n",
       "  <tbody>\n",
       "    <tr>\n",
       "      <th>lh_bankssts_part2_thickness</th>\n",
       "      <td>0.157451</td>\n",
       "      <td>0.157788</td>\n",
       "      <td>-0.000337</td>\n",
       "    </tr>\n",
       "    <tr>\n",
       "      <th>lh_caudalanteriorcingulate_part1_thickness</th>\n",
       "      <td>0.218463</td>\n",
       "      <td>0.220758</td>\n",
       "      <td>-0.002294</td>\n",
       "    </tr>\n",
       "    <tr>\n",
       "      <th>lh_caudalmiddlefrontal_part2_thickness</th>\n",
       "      <td>0.174805</td>\n",
       "      <td>0.177636</td>\n",
       "      <td>-0.002831</td>\n",
       "    </tr>\n",
       "    <tr>\n",
       "      <th>lh_caudalmiddlefrontal_part3_thickness</th>\n",
       "      <td>0.147061</td>\n",
       "      <td>0.147818</td>\n",
       "      <td>-0.000757</td>\n",
       "    </tr>\n",
       "    <tr>\n",
       "      <th>lh_fusiform_part2_thickness</th>\n",
       "      <td>0.234183</td>\n",
       "      <td>0.234909</td>\n",
       "      <td>-0.000726</td>\n",
       "    </tr>\n",
       "    <tr>\n",
       "      <th>...</th>\n",
       "      <td>...</td>\n",
       "      <td>...</td>\n",
       "      <td>...</td>\n",
       "    </tr>\n",
       "    <tr>\n",
       "      <th>rh_supramarginal_part4_thickness</th>\n",
       "      <td>0.131000</td>\n",
       "      <td>0.134455</td>\n",
       "      <td>-0.003455</td>\n",
       "    </tr>\n",
       "    <tr>\n",
       "      <th>rh_frontalpole_part1_thickness</th>\n",
       "      <td>0.223732</td>\n",
       "      <td>0.230152</td>\n",
       "      <td>-0.006420</td>\n",
       "    </tr>\n",
       "    <tr>\n",
       "      <th>rh_temporalpole_part1_thickness</th>\n",
       "      <td>0.193293</td>\n",
       "      <td>0.194030</td>\n",
       "      <td>-0.000738</td>\n",
       "    </tr>\n",
       "    <tr>\n",
       "      <th>rh_transversetemporal_part1_thickness</th>\n",
       "      <td>0.135671</td>\n",
       "      <td>0.141606</td>\n",
       "      <td>-0.005935</td>\n",
       "    </tr>\n",
       "    <tr>\n",
       "      <th>rh_insula_part2_thickness</th>\n",
       "      <td>0.155098</td>\n",
       "      <td>0.158455</td>\n",
       "      <td>-0.003357</td>\n",
       "    </tr>\n",
       "  </tbody>\n",
       "</table>\n",
       "<p>120 rows × 3 columns</p>\n",
       "</div>"
      ],
      "text/plain": [
       "Group                                        Control   Patient  Difference\n",
       "lh_bankssts_part2_thickness                 0.157451  0.157788   -0.000337\n",
       "lh_caudalanteriorcingulate_part1_thickness  0.218463  0.220758   -0.002294\n",
       "lh_caudalmiddlefrontal_part2_thickness      0.174805  0.177636   -0.002831\n",
       "lh_caudalmiddlefrontal_part3_thickness      0.147061  0.147818   -0.000757\n",
       "lh_fusiform_part2_thickness                 0.234183  0.234909   -0.000726\n",
       "...                                              ...       ...         ...\n",
       "rh_supramarginal_part4_thickness            0.131000  0.134455   -0.003455\n",
       "rh_frontalpole_part1_thickness              0.223732  0.230152   -0.006420\n",
       "rh_temporalpole_part1_thickness             0.193293  0.194030   -0.000738\n",
       "rh_transversetemporal_part1_thickness       0.135671  0.141606   -0.005935\n",
       "rh_insula_part2_thickness                   0.155098  0.158455   -0.003357\n",
       "\n",
       "[120 rows x 3 columns]"
      ]
     },
     "execution_count": 50,
     "metadata": {},
     "output_type": "execute_result"
    }
   ],
   "source": [
    "FA_means_T.loc[FA_means_T['Difference'] < 0]"
   ]
  },
  {
   "cell_type": "markdown",
   "id": "70e4c751",
   "metadata": {},
   "source": [
    "This was the data exploration section analyzing basic demographic variables and the distribution of differences in brain areas between controls and patients. The following pages deal with the application of machine learning algorithms to our data."
   ]
  }
 ],
 "metadata": {
  "kernelspec": {
   "display_name": "Python 3 (ipykernel)",
   "language": "python",
   "name": "python3"
  },
  "language_info": {
   "codemirror_mode": {
    "name": "ipython",
    "version": 3
   },
   "file_extension": ".py",
   "mimetype": "text/x-python",
   "name": "python",
   "nbconvert_exporter": "python",
   "pygments_lexer": "ipython3",
   "version": "3.7.0"
  },
  "vscode": {
   "interpreter": {
    "hash": "578504114d49301275c44c87035f08411733f9928d9347745d7de100c09f7611"
   }
  }
 },
 "nbformat": 4,
 "nbformat_minor": 5
}
