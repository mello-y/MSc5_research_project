{
 "cells": [
  {
   "cell_type": "markdown",
   "id": "97761504",
   "metadata": {},
   "source": [
    "# Data exploration"
   ]
  },
  {
   "cell_type": "markdown",
   "id": "44335021",
   "metadata": {},
   "source": [
    "This section deals with the exploration of the dataset. First of all, the demographic data of the sample is described with regard to basic demographic variables. Second,the **macro- and microstructural** data is explored, comparing how the control and patient group might differ respectively. "
   ]
  },
  {
   "cell_type": "markdown",
   "id": "e6b3afe2",
   "metadata": {},
   "source": [
    "## 1. Demographic data"
   ]
  },
  {
   "cell_type": "markdown",
   "id": "b0cd24c6",
   "metadata": {},
   "source": [
    "In the Dublin sample, there is a different subset of patients with **micro-structural (MD and FA)** data compared to those with **macro-structural (CT)** data. Both \"subsets\" are loaded and compared with regard to basic demographic variables."
   ]
  },
  {
   "cell_type": "markdown",
   "id": "b6bfb37c",
   "metadata": {},
   "source": [
    "### 1.1 Reading and adjusting the macro- and microstructural data"
   ]
  },
  {
   "cell_type": "markdown",
   "id": "058b73a9",
   "metadata": {},
   "source": [
    "First, relevant modules are imported to read the data. Since different operating systems might differ in the way indicating file paths, the os.pardir() function is used to ensure that the code can run independently of various operating systems."
   ]
  },
  {
   "cell_type": "code",
   "execution_count": 124,
   "id": "43d78adc",
   "metadata": {},
   "outputs": [],
   "source": [
    "#import module to read data\n",
    "\n",
    "import pandas as pd\n",
    "import os\n",
    "\n",
    "#store CT data in variable \"CT_Dublin\"\n",
    "\n",
    "CT_Dublin_path = os.path.join(os.pardir, 'data', 'PARC_500.aparc_thickness_Dublin.csv')\n",
    "CT_Dublin = pd.read_csv(CT_Dublin_path)"
   ]
  },
  {
   "cell_type": "markdown",
   "id": "ff379c39",
   "metadata": {},
   "source": [
    "To get the columns of our dataframe in order to see which variables are measured, we simply run the following command. "
   ]
  },
  {
   "cell_type": "code",
   "execution_count": 125,
   "id": "e8565247",
   "metadata": {},
   "outputs": [
    {
     "data": {
      "text/plain": [
       "Index(['Subject ID', 'Age', 'Sex', 'Group', 'lh_bankssts_part1_thickness',\n",
       "       'lh_bankssts_part2_thickness',\n",
       "       'lh_caudalanteriorcingulate_part1_thickness',\n",
       "       'lh_caudalmiddlefrontal_part1_thickness',\n",
       "       'lh_caudalmiddlefrontal_part2_thickness',\n",
       "       'lh_caudalmiddlefrontal_part3_thickness',\n",
       "       ...\n",
       "       'rh_supramarginal_part5_thickness', 'rh_supramarginal_part6_thickness',\n",
       "       'rh_supramarginal_part7_thickness', 'rh_frontalpole_part1_thickness',\n",
       "       'rh_temporalpole_part1_thickness',\n",
       "       'rh_transversetemporal_part1_thickness', 'rh_insula_part1_thickness',\n",
       "       'rh_insula_part2_thickness', 'rh_insula_part3_thickness',\n",
       "       'rh_insula_part4_thickness'],\n",
       "      dtype='object', length=312)"
      ]
     },
     "execution_count": 125,
     "metadata": {},
     "output_type": "execute_result"
    }
   ],
   "source": [
    "CT_Dublin.columns"
   ]
  },
  {
   "cell_type": "markdown",
   "id": "0dcbaebb",
   "metadata": {},
   "source": [
    "As we can see, besides the different brain regions there are columns that indicate variables containing the demographic data that we are interested in for now. To make things easier, we adjust the dataframe in selecting a subset that only carries the demographic variables."
   ]
  },
  {
   "cell_type": "code",
   "execution_count": 126,
   "id": "7e4759c6",
   "metadata": {},
   "outputs": [],
   "source": [
    "#select a subset of the CT data with demographic variables\n",
    "\n",
    "demographic_CT = CT_Dublin[[\"Subject ID\", \"Age\", \"Sex\", \"Group\"]]"
   ]
  },
  {
   "cell_type": "markdown",
   "id": "522e1048",
   "metadata": {},
   "source": [
    "Having the subset of demographic information for the **macrostructural** data, the identical procedure is done for the **microstructural** data. So first, the data is read and adjusted to demographic variables only."
   ]
  },
  {
   "cell_type": "code",
   "execution_count": 127,
   "id": "4f9c2d09",
   "metadata": {},
   "outputs": [],
   "source": [
    "#read MD and FA data\n",
    "\n",
    "MD_Dublin_path = os.path.join(os.pardir, 'data', 'PARC_500.aparc_MD_cortexAv_mean_Dublin.csv')\n",
    "MD_Dublin = pd.read_csv(MD_Dublin_path)\n",
    "\n",
    "FA_Dublin_path = os.path.join(os.pardir, 'data', 'PARC_500.aparc_FA_cortexAv_mean_Dublin.csv')\n",
    "FA_Dublin = pd.read_csv(FA_Dublin_path)"
   ]
  },
  {
   "cell_type": "code",
   "execution_count": 128,
   "id": "aad845c1",
   "metadata": {},
   "outputs": [],
   "source": [
    "#select a subset of the MD and FA data with demographic variables\n",
    "\n",
    "demographic_MD = MD_Dublin[[\"Subject ID\", \"Age\", \"Sex\", \"Group\"]]\n",
    "demographic_FA = FA_Dublin[[\"Subject ID\", \"Age\", \"Sex\", \"Group\"]]"
   ]
  },
  {
   "cell_type": "markdown",
   "id": "3fc847a5",
   "metadata": {},
   "source": [
    "Normally, the shape of the dataframes for each MRI metric should be the same since it is only one sample. However, to check this we can run the following commands. "
   ]
  },
  {
   "cell_type": "code",
   "execution_count": 129,
   "id": "9fd35029",
   "metadata": {},
   "outputs": [
    {
     "data": {
      "text/plain": [
       "((108, 4), (115, 4), (115, 4))"
      ]
     },
     "execution_count": 129,
     "metadata": {},
     "output_type": "execute_result"
    }
   ],
   "source": [
    "demographic_CT.shape, demographic_MD.shape, demographic_FA.shape"
   ]
  },
  {
   "cell_type": "markdown",
   "id": "3cbea1de",
   "metadata": {},
   "source": [
    "As we can see, the shapes are not identicial except for the **MD** and **FA** dataframe. Since the latter are both central characteristics of diffusion tensors (see further below), it makes sense that they exhibit the identical shape and were measured for the same amount of subjects. However, for the **CT** data, it seems like there are fewer rows indicating not the same amount of subjects for whom the metric was measured. So having a look at the dataframes should show that."
   ]
  },
  {
   "cell_type": "code",
   "execution_count": 130,
   "id": "237e8552",
   "metadata": {},
   "outputs": [
    {
     "name": "stdout",
     "output_type": "stream",
     "text": [
      "    Subject ID  Age  Sex  Group\n",
      "0      CON9225   21    2      1\n",
      "1      CON9229   28    2      1\n",
      "2      CON9231   29    2      1\n",
      "3     GASP3037   61    1      2\n",
      "4     GASP3040   47    1      2\n",
      "..         ...  ...  ...    ...\n",
      "103    RPG9019   31    1      2\n",
      "104    RPG9102   42    2      2\n",
      "105    RPG9119   41    1      2\n",
      "106    RPG9121   51    1      2\n",
      "107    RPG9126   56    1      2\n",
      "\n",
      "[108 rows x 4 columns]     Subject ID  Age  Sex  Group\n",
      "0      CON3140   37    2      1\n",
      "1      CON3891   33    2      1\n",
      "2      CON4664   40    2      1\n",
      "3      CON7009   21    1      1\n",
      "4      CON7024   59    1      1\n",
      "..         ...  ...  ...    ...\n",
      "110    RPG9102   42    2      2\n",
      "111    RPG9103   37    1      2\n",
      "112    RPG9119   41    1      2\n",
      "113    RPG9121   51    1      2\n",
      "114    RPG9126   56    1      2\n",
      "\n",
      "[115 rows x 4 columns]     Subject ID  Age  Sex  Group\n",
      "0      CON3140   37    2      1\n",
      "1      CON3891   33    2      1\n",
      "2      CON4664   40    2      1\n",
      "3      CON7009   21    1      1\n",
      "4      CON7024   59    1      1\n",
      "..         ...  ...  ...    ...\n",
      "110    RPG9102   42    2      2\n",
      "111    RPG9103   37    1      2\n",
      "112    RPG9119   41    1      2\n",
      "113    RPG9121   51    1      2\n",
      "114    RPG9126   56    1      2\n",
      "\n",
      "[115 rows x 4 columns]\n"
     ]
    }
   ],
   "source": [
    "print(demographic_CT, demographic_MD, demographic_FA)"
   ]
  },
  {
   "cell_type": "markdown",
   "id": "7090087a",
   "metadata": {},
   "source": [
    "To prove that the subjects in the **MD** and **FA** dataframe are identical, we can compare them and run the following code. The code implies whether the subjects in the **MD** dataframe are also in the **FA** dataframe and returns the amount of \"True\" cases for  being in both dataframes and \"False\" if that is not the case. So we expect the amount of \"True\" cases to be 115 since the 115 rows indicate the amount of subjects."
   ]
  },
  {
   "cell_type": "code",
   "execution_count": 131,
   "id": "0d512190",
   "metadata": {},
   "outputs": [
    {
     "data": {
      "text/plain": [
       "True    115\n",
       "Name: Subject ID, dtype: int64"
      ]
     },
     "execution_count": 131,
     "metadata": {},
     "output_type": "execute_result"
    }
   ],
   "source": [
    "demographic_MD['Subject ID'].isin(demographic_FA['Subject ID']).value_counts() "
   ]
  },
  {
   "cell_type": "markdown",
   "id": "ff92ff5c",
   "metadata": {},
   "source": [
    "To double check, we can run the following:"
   ]
  },
  {
   "cell_type": "code",
   "execution_count": 132,
   "id": "e847e74d",
   "metadata": {},
   "outputs": [
    {
     "data": {
      "text/plain": [
       "True"
      ]
     },
     "execution_count": 132,
     "metadata": {},
     "output_type": "execute_result"
    }
   ],
   "source": [
    "demographic_MD['Subject ID'].equals(demographic_FA['Subject ID'])"
   ]
  },
  {
   "cell_type": "markdown",
   "id": "f85eb247",
   "metadata": {},
   "source": [
    "The same can be done for the **CT** dataframe since it indicates 108 participants. It might be interesting to know in how far the participants overlap."
   ]
  },
  {
   "cell_type": "code",
   "execution_count": 133,
   "id": "e3fb7f85",
   "metadata": {},
   "outputs": [
    {
     "data": {
      "text/plain": [
       "False    62\n",
       "True     46\n",
       "Name: Subject ID, dtype: int64"
      ]
     },
     "execution_count": 133,
     "metadata": {},
     "output_type": "execute_result"
    }
   ],
   "source": [
    "demographic_CT['Subject ID'].isin(demographic_MD['Subject ID']).value_counts() "
   ]
  },
  {
   "cell_type": "markdown",
   "id": "5a53350b",
   "metadata": {},
   "source": [
    "As the output shows, the participants in the **CT** and the **MD** and **FA** dataframe are not entirely identical. So both MRI metrics are not measured for the same participants. Subsequently, for the comparison of the demographical data both dataframes are going to be used."
   ]
  },
  {
   "cell_type": "markdown",
   "id": "d713b18e",
   "metadata": {},
   "source": [
    "### 1.1 Comparing demographic variables for the macro- and microstructural data"
   ]
  },
  {
   "cell_type": "markdown",
   "id": "82d858f7",
   "metadata": {},
   "source": [
    "As already indicated above, the **macrostructural** data contains a total of N = 108 participants whereas the **microstructural** data was measured for a total of N = 115 participants. For n = 46 participants both MRI metrics were measured. \n",
    "\n",
    "Before comparing the demographic variables, first we will have a look at the amount of participants belongig to the control and patient group for both MRI metrics. The documentation on [figshare](https://figshare.com/articles/dataset/Data_for_Functional_MRI_connectivity_accurately_distinguishes_cases_with_psychotic_disorders_from_healthy_controls_based_on_cortical_features_associated_with_brain_network_development_/12361550) provides label information for Group (1=control, 2=case). To make the following visualizations more self-explaining, the numbers indicating the group are replaced with the respective label."
   ]
  },
  {
   "cell_type": "code",
   "execution_count": 135,
   "id": "1960abc5",
   "metadata": {},
   "outputs": [
    {
     "name": "stderr",
     "output_type": "stream",
     "text": [
      "/Users/mello/miniconda3/envs/neuro_ai/lib/python3.7/site-packages/ipykernel_launcher.py:3: SettingWithCopyWarning: \n",
      "A value is trying to be set on a copy of a slice from a DataFrame.\n",
      "Try using .loc[row_indexer,col_indexer] = value instead\n",
      "\n",
      "See the caveats in the documentation: https://pandas.pydata.org/pandas-docs/stable/user_guide/indexing.html#returning-a-view-versus-a-copy\n",
      "  This is separate from the ipykernel package so we can avoid doing imports until\n"
     ]
    }
   ],
   "source": [
    "#label group 1 as control and 2 as patient\n",
    "\n",
    "demographic_CT['Group'] = demographic_CT['Group'].replace([1,2],['Control', 'Patient'])"
   ]
  },
  {
   "cell_type": "markdown",
   "id": "e2f0b41c",
   "metadata": {},
   "source": [
    "Since the demographic variables in the **FA** and **MA** dataframes are the same, in the following the **FA** dataframe is used to display demographic variables."
   ]
  },
  {
   "cell_type": "code",
   "execution_count": 136,
   "id": "ce23d89c",
   "metadata": {},
   "outputs": [
    {
     "name": "stderr",
     "output_type": "stream",
     "text": [
      "/Users/mello/miniconda3/envs/neuro_ai/lib/python3.7/site-packages/ipykernel_launcher.py:3: SettingWithCopyWarning: \n",
      "A value is trying to be set on a copy of a slice from a DataFrame.\n",
      "Try using .loc[row_indexer,col_indexer] = value instead\n",
      "\n",
      "See the caveats in the documentation: https://pandas.pydata.org/pandas-docs/stable/user_guide/indexing.html#returning-a-view-versus-a-copy\n",
      "  This is separate from the ipykernel package so we can avoid doing imports until\n"
     ]
    }
   ],
   "source": [
    "#label group 1 as control and 2 as patient\n",
    "\n",
    "demographic_FA['Group'] = demographic_FA['Group'].replace([1,2],['Control', 'Patient'])"
   ]
  },
  {
   "cell_type": "code",
   "execution_count": 137,
   "id": "1ad74196",
   "metadata": {},
   "outputs": [
    {
     "data": {
      "image/png": "[encoded data removed]",
      "text/plain": [
       "<Figure size 504x432 with 1 Axes>"
      ]
     },
     "metadata": {
      "needs_background": "light"
     },
     "output_type": "display_data"
    },
    {
     "data": {
      "image/png": "[encoded data removed]",
      "text/plain": [
       "<Figure size 504x432 with 1 Axes>"
      ]
     },
     "metadata": {
      "needs_background": "light"
     },
     "output_type": "display_data"
    }
   ],
   "source": [
    "import matplotlib.pyplot as plt\n",
    "\n",
    "Group_CT = demographic_CT['Group'].value_counts()\n",
    "plt.figure(figsize=(7, 6))\n",
    "\n",
    "ax = Group_CT.plot(kind='bar', rot=0, color=\"blue\")\n",
    "ax.set_title(\"Macrostructural data\", y = 1)\n",
    "ax.set_xlabel('Group')\n",
    "ax.set_ylabel('Number of Participants')\n",
    "ax.set_xticklabels(('Control', 'Patient'))\n",
    "\n",
    "\n",
    "for rect in ax.patches:\n",
    "    y_value = rect.get_height()\n",
    "    x_value = rect.get_x() + rect.get_width() / 2\n",
    "    space = 1\n",
    "    label = format(y_value)\n",
    "    ax.annotate(label, (x_value, y_value), xytext=(0, space), textcoords=\"offset points\", ha='center', va='bottom')    \n",
    "\n",
    "Group_FA = demographic_FA['Group'].value_counts()\n",
    "plt.figure(figsize=(7, 6))\n",
    "    \n",
    "ax = Group_FA.plot(kind='bar', rot=0, color=\"orange\")\n",
    "ax.set_title(\"Microstructural data\", y = 1)\n",
    "ax.set_xlabel('Group')\n",
    "ax.set_ylabel('Number of Participants')\n",
    "ax.set_xticklabels(('Control', 'Patient'))\n",
    "\n",
    "\n",
    "for rect in ax.patches:\n",
    "    y_value = rect.get_height()\n",
    "    x_value = rect.get_x() + rect.get_width() / 2\n",
    "    space = 1\n",
    "    label = format(y_value)\n",
    "    ax.annotate(label, (x_value, y_value), xytext=(0, space), textcoords=\"offset points\", ha='center', va='bottom')    \n",
    "plt.show()"
   ]
  },
  {
   "cell_type": "markdown",
   "id": "98efc346",
   "metadata": {},
   "source": [
    "The plots clearly show an unequal distribution with more participants being controls for both **macrostructural** and **microstructural** data."
   ]
  },
  {
   "cell_type": "markdown",
   "id": "7481d1cb",
   "metadata": {},
   "source": [
    "#### 1.1.1 Gender"
   ]
  },
  {
   "cell_type": "markdown",
   "id": "6c190f7c",
   "metadata": {},
   "source": [
    "The documentation on [figshare](https://figshare.com/articles/dataset/Data_for_Functional_MRI_connectivity_accurately_distinguishes_cases_with_psychotic_disorders_from_healthy_controls_based_on_cortical_features_associated_with_brain_network_development_/12361550) also provides label information for gender (1=male, 2=female). The code for visualizing the control and patients group can be adapted accordingly to show how many males and females "
   ]
  },
  {
   "cell_type": "code",
   "execution_count": 147,
   "id": "5a6c3dcb",
   "metadata": {},
   "outputs": [
    {
     "data": {
      "image/png": "[encoded data removed]",
      "text/plain": [
       "<Figure size 504x432 with 1 Axes>"
      ]
     },
     "metadata": {
      "needs_background": "light"
     },
     "output_type": "display_data"
    },
    {
     "data": {
      "image/png": "[encoded data removed]",
      "text/plain": [
       "<Figure size 504x432 with 1 Axes>"
      ]
     },
     "metadata": {
      "needs_background": "light"
     },
     "output_type": "display_data"
    }
   ],
   "source": [
    "Gender_CT = demographic_CT['Sex'].value_counts()\n",
    "plt.figure(figsize=(7, 6))\n",
    "\n",
    "ax = Gender_CT.plot(kind='bar', rot=0, color=\"blue\")\n",
    "ax.set_title(\"Macrostructural data\", y = 1)\n",
    "ax.set_xlabel('Gender')\n",
    "ax.set_ylabel('Number of Participants')\n",
    "ax.set_xticklabels(('Male', 'Female'))\n",
    "\n",
    "\n",
    "for rect in ax.patches:\n",
    "    y_value = rect.get_height()\n",
    "    x_value = rect.get_x() + rect.get_width() / 2\n",
    "    space = 1\n",
    "    label = format(y_value)\n",
    "    ax.annotate(label, (x_value, y_value), xytext=(0, space), textcoords=\"offset points\", ha='center', va='bottom')    \n",
    "\n",
    "Gender_FA = demographic_FA['Sex'].value_counts()\n",
    "plt.figure(figsize=(7, 6))\n",
    "    \n",
    "ax = Group_FA.plot(kind='bar', rot=0, color=\"orange\")\n",
    "ax.set_title(\"Microstructural data\", y = 1)\n",
    "ax.set_xlabel('Gender')\n",
    "ax.set_ylabel('Number of Participants')\n",
    "ax.set_xticklabels(('Male', 'Female'))\n",
    "\n",
    "\n",
    "for rect in ax.patches:\n",
    "    y_value = rect.get_height()\n",
    "    x_value = rect.get_x() + rect.get_width() / 2\n",
    "    space = 1\n",
    "    label = format(y_value)\n",
    "    ax.annotate(label, (x_value, y_value), xytext=(0, space), textcoords=\"offset points\", ha='center', va='bottom')    \n",
    "plt.show()"
   ]
  },
  {
   "cell_type": "markdown",
   "id": "02c3c013",
   "metadata": {},
   "source": [
    "Again, as the plots show, there are more males than females for both **macrostructural** and **microstructural** data. "
   ]
  },
  {
   "cell_type": "markdown",
   "id": "bc5c1870",
   "metadata": {},
   "source": [
    "#### 1.1.2 Age "
   ]
  },
  {
   "cell_type": "markdown",
   "id": "c4ca0b96",
   "metadata": {},
   "source": [
    "To get an inital idea of how the age distribution is for the **macrostructural** data, we can run the following command. Second, to have a look on how the ages differ within the groups, we can use raincloud plots."
   ]
  },
  {
   "cell_type": "code",
   "execution_count": 141,
   "id": "aed3be6b",
   "metadata": {},
   "outputs": [
    {
     "data": {
      "text/plain": [
       "count    108.000000\n",
       "mean      31.231481\n",
       "std       10.911373\n",
       "min       18.000000\n",
       "25%       22.000000\n",
       "50%       29.000000\n",
       "75%       38.250000\n",
       "max       64.000000\n",
       "Name: Age, dtype: float64"
      ]
     },
     "execution_count": 141,
     "metadata": {},
     "output_type": "execute_result"
    }
   ],
   "source": [
    "#get age information\n",
    "demographic_CT['Age'].describe()"
   ]
  },
  {
   "cell_type": "markdown",
   "id": "58faf76e",
   "metadata": {},
   "source": [
    "<span style=\"color:red\">NOTE!</span> To be able to run the raincloud plots, ptitprince has to be installed. If you didn't install ptitprince yet, run the following cell and remove the #. "
   ]
  },
  {
   "cell_type": "code",
   "execution_count": 148,
   "id": "36fdd33b",
   "metadata": {},
   "outputs": [],
   "source": [
    "#!pip install ptitprince"
   ]
  },
  {
   "cell_type": "code",
   "execution_count": 143,
   "id": "cf6728db",
   "metadata": {},
   "outputs": [
    {
     "data": {
      "text/plain": [
       "<AxesSubplot:title={'center':'Age Distribution in Control and Patient Group for Macrostructural Data'}, xlabel='Age', ylabel='Group'>"
      ]
     },
     "execution_count": 143,
     "metadata": {},
     "output_type": "execute_result"
    },
    {
     "data": {
      "image/png": "[encoded data removed]",
      "text/plain": [
       "<Figure size 864x792 with 1 Axes>"
      ]
     },
     "metadata": {
      "needs_background": "light"
     },
     "output_type": "display_data"
    }
   ],
   "source": [
    "from ptitprince import PtitPrince as pt\n",
    "\n",
    "f, ax = plt.subplots(figsize=(12, 11))\n",
    "ax.set_title('Age Distribution in Control and Patient Group for Macrostructural Data')\n",
    "\n",
    "pt.RainCloud(data = demographic_CT , x = \"Group\", y = \"Age\", ax = ax, orient='h')"
   ]
  },
  {
   "cell_type": "markdown",
   "id": "018fd535",
   "metadata": {},
   "source": [
    "Now, the same is done for the **microstructural** data. "
   ]
  },
  {
   "cell_type": "code",
   "execution_count": 145,
   "id": "881d29b1",
   "metadata": {},
   "outputs": [
    {
     "data": {
      "text/plain": [
       "count    115.000000\n",
       "mean      36.043478\n",
       "std       12.895934\n",
       "min       19.000000\n",
       "25%       25.000000\n",
       "50%       34.000000\n",
       "75%       43.000000\n",
       "max       64.000000\n",
       "Name: Age, dtype: float64"
      ]
     },
     "execution_count": 145,
     "metadata": {},
     "output_type": "execute_result"
    }
   ],
   "source": [
    "demographic_FA['Age'].describe()"
   ]
  },
  {
   "cell_type": "code",
   "execution_count": 144,
   "id": "cc790771",
   "metadata": {},
   "outputs": [
    {
     "data": {
      "text/plain": [
       "<AxesSubplot:title={'center':'Age Distribution in Control and Patient Group for Microstructural Data'}, xlabel='Age', ylabel='Group'>"
      ]
     },
     "execution_count": 144,
     "metadata": {},
     "output_type": "execute_result"
    },
    {
     "data": {
      "image/png": "[encoded data removed]",
      "text/plain": [
       "<Figure size 864x792 with 1 Axes>"
      ]
     },
     "metadata": {
      "needs_background": "light"
     },
     "output_type": "display_data"
    }
   ],
   "source": [
    "f, ax = plt.subplots(figsize=(12, 11))\n",
    "ax.set_title('Age Distribution in Control and Patient Group for Microstructural Data')\n",
    "\n",
    "pt.RainCloud(data = demographic_FA , x = \"Group\", y = \"Age\", ax = ax, orient='h')"
   ]
  },
  {
   "cell_type": "markdown",
   "id": "18ecf844",
   "metadata": {},
   "source": [
    "As both plots show for both MRI metrics, the patient group involves participants that seem to be older in average "
   ]
  },
  {
   "cell_type": "markdown",
   "id": "e75fa436",
   "metadata": {},
   "source": [
    "## 2. Exploring the different modalities"
   ]
  },
  {
   "cell_type": "markdown",
   "id": "bece3636",
   "metadata": {},
   "source": [
    "In the following chapter, the different modalities are explored. Before getting a deeper look at the data, the derived form of the Desikan-Killiany Atlas with 308 cortical regions that is used for the **macro- and micro-structural data** is visualized.\n",
    "As already mentioned above, there is a [github repository](https://github.com/RafaelRomeroGarcia/subParcellation) for that specific atlas with the required files therein. Since there is a poor documentation of the files and their content, it might be confusing which of them is actually required for visualization purposes. \n"
   ]
  },
  {
   "cell_type": "markdown",
   "id": "e7eedcd0",
   "metadata": {},
   "source": [
    "If you click on the repository link, the first folder with the title \"500mm parcellation (308 regions)\" is the relevant one. In the folder itself, there are two text files (.txt) with the coordinates and names of the 308 regions and two NIFTI files (.nii.gz). These are the files, that I used for visualization. For that, I used the nibabel and nilearn modules. "
   ]
  },
  {
   "cell_type": "code",
   "execution_count": null,
   "id": "0ec68278",
   "metadata": {},
   "outputs": [],
   "source": [
    "#import relevant modules\n",
    "\n",
    "import nibabel as nb\n",
    "from nilearn import plotting"
   ]
  },
  {
   "cell_type": "code",
   "execution_count": null,
   "id": "fc780291",
   "metadata": {},
   "outputs": [],
   "source": [
    "#load NIFTI file\n",
    "\n",
    "atlas_path = os.path.join(os.pardir,'data','500.aparc_cortical_consecutive.nii')\n",
    "\n",
    "atlas = nb.load(atlas_path)"
   ]
  },
  {
   "cell_type": "code",
   "execution_count": null,
   "id": "6d043621",
   "metadata": {
    "scrolled": true
   },
   "outputs": [],
   "source": [
    "#plot atlas\n",
    "plotting.plot_roi(atlas, draw_cross = False, annotate = False, colorbar=True, cmap='Paired', title=\"Cortical parcellation with 308 cortical regions\")"
   ]
  },
  {
   "cell_type": "markdown",
   "id": "6684adaa",
   "metadata": {},
   "source": [
    "There is also a.txt file that contains all the 308 cortical region names. In the following, the .txt file is read."
   ]
  },
  {
   "cell_type": "code",
   "execution_count": null,
   "id": "34fd38ef",
   "metadata": {},
   "outputs": [],
   "source": [
    "#read the .txt files with region names\n",
    "\n",
    "with open('../data/atlas/308_regions_names.txt') as f:\n",
    "    lines = f.readlines()"
   ]
  },
  {
   "cell_type": "code",
   "execution_count": null,
   "id": "4bc8d33c",
   "metadata": {
    "scrolled": true
   },
   "outputs": [],
   "source": [
    "#region names\n",
    "lines"
   ]
  },
  {
   "cell_type": "code",
   "execution_count": null,
   "id": "485edcb3",
   "metadata": {},
   "outputs": [],
   "source": [
    "#proving 308 regions \n",
    "len(lines)"
   ]
  },
  {
   "cell_type": "markdown",
   "id": "d417314d",
   "metadata": {},
   "source": [
    "As we can see above, the 308 cortical region names are displayed in a chronological order from 1 to 308 for both left and right hemisphere. Each of the regions mostly consists of several parts as the names indicate.\n",
    "Now, having visualized the used atlas with its regions and according labels, we can explore our first modality. "
   ]
  },
  {
   "cell_type": "markdown",
   "id": "6cc737cc",
   "metadata": {},
   "source": [
    "### 2.1 Macro-structural data: cortical thickness (CT)"
   ]
  },
  {
   "cell_type": "markdown",
   "id": "20784cd8",
   "metadata": {},
   "source": [
    "For the **macro-structural data**, T1-weighted MPRAGE images were used. The images were aquired with MPRAGE sequences, capturing high tissue contrast and providing high spatial resolution with whole brain coverage in a short scan time [(Wang et al.,2014)](https://doi.org/10.1371/journal.pone.0096899). These were already preprocessed by a prior pipeline [(Withtaker et al., 2016)](https://pubmed.ncbi.nlm.nih.gov/27457931/), using the command from FreeSurfer called \"recon-all\" [(Dale et al., 1999)](https://pubmed.ncbi.nlm.nih.gov/9931268/). The surface was parcellated according to the above displayed atlas into 308 regions. For each of those regions cortical thickness was estimated."
   ]
  },
  {
   "cell_type": "markdown",
   "id": "5f4c427d",
   "metadata": {},
   "source": [
    "**Cortical thickness (CT)** is a measurement of the *width of gray matter* of the cerebral cortex, whereas *gray matter* marks the area from the pial surface to the internal surface (where *white matter* begins). It has been shown that **CT** correlates with the diagnosis and prognosis of several psychiatric and neurological conditions [(Tahedl, 2020)](https://translational-medicine.biomedcentral.com/articles/10.1186/s12967-020-02317-9)."
   ]
  },
  {
   "cell_type": "code",
   "execution_count": null,
   "id": "b7eb5e22",
   "metadata": {},
   "outputs": [],
   "source": [
    "#load estimated CT data\n",
    "\n",
    "CT_Dublin_path = os.path.join(os.pardir, 'data', 'PARC_500.aparc_thickness_Dublin.csv')\n",
    "CT_Dublin = pd.read_csv(CT_Dublin_path)\n"
   ]
  },
  {
   "cell_type": "code",
   "execution_count": null,
   "id": "8c4dfd84",
   "metadata": {
    "scrolled": false
   },
   "outputs": [],
   "source": [
    "CT_Dublin"
   ]
  },
  {
   "cell_type": "code",
   "execution_count": null,
   "id": "86d3d9df",
   "metadata": {},
   "outputs": [],
   "source": [
    "#adjust data frame\n",
    "\n",
    "CT_Dublin_ad = CT_Dublin.drop(['Subject ID','Age', 'Sex'], axis=1)\n",
    "CT_Dublin_ad"
   ]
  },
  {
   "cell_type": "code",
   "execution_count": null,
   "id": "b1fb3cdc",
   "metadata": {},
   "outputs": [],
   "source": [
    "#compute mean for patients and control in each brain region\n",
    "\n",
    "df_mean = CT_Dublin_ad.groupby('Group').mean()"
   ]
  },
  {
   "cell_type": "code",
   "execution_count": null,
   "id": "0691ad74",
   "metadata": {},
   "outputs": [],
   "source": [
    "df_mean"
   ]
  },
  {
   "cell_type": "code",
   "execution_count": null,
   "id": "d3897f87",
   "metadata": {},
   "outputs": [],
   "source": [
    "#mean of cortical thickness for control and patients\n",
    "\n",
    "df_mean.mean(axis=1)"
   ]
  },
  {
   "cell_type": "markdown",
   "id": "e51bb9b5",
   "metadata": {},
   "source": [
    "As the mean values indicate, the control group has higher mean in **CT** over all brain areas compared to the patients group. Although the difference does not seem too big at first glance, visualization might help to have a better imagination of the data. Before visualizing the difference in mean values for control and patients, it might be helpful to reshape the dataframe as the columns indicate the respective groups and the rows each brain region."
   ]
  },
  {
   "cell_type": "code",
   "execution_count": null,
   "id": "9c4937dd",
   "metadata": {},
   "outputs": [],
   "source": [
    "#switch colums and rows\n",
    "\n",
    "df_trans = df_mean.T"
   ]
  },
  {
   "cell_type": "code",
   "execution_count": null,
   "id": "5bc9f080",
   "metadata": {},
   "outputs": [],
   "source": [
    "df_trans"
   ]
  },
  {
   "cell_type": "code",
   "execution_count": null,
   "id": "b1456dc0",
   "metadata": {},
   "outputs": [],
   "source": [
    "#import modules for visualization\n",
    "\n",
    "import seaborn as sb\n",
    "import matplotlib.pyplot as plt"
   ]
  },
  {
   "cell_type": "code",
   "execution_count": null,
   "id": "1298934c",
   "metadata": {
    "scrolled": false
   },
   "outputs": [],
   "source": [
    "#plot the CT\n",
    "\n",
    "plt.figure(figsize=(8,6))\n",
    "ax = sb.violinplot(data=df_trans)\n",
    "ax.set(xlabel='Groups', ylabel='Cortical Thickness')\n",
    "plt.title(\"Distribution of means of Cortical Thickness for Controls vs. Patients\", pad = '20')"
   ]
  },
  {
   "cell_type": "markdown",
   "id": "120defa5",
   "metadata": {},
   "source": [
    "The violin plot reveals that the overall cortical thickness in the patient group is lower compared to the controls. "
   ]
  },
  {
   "cell_type": "markdown",
   "id": "a00ac6ee",
   "metadata": {},
   "source": [
    "Group differences between metrics for different brain areas "
   ]
  },
  {
   "cell_type": "markdown",
   "id": "1d824d4d",
   "metadata": {},
   "source": [
    "To get a broad idea and see, whether there is an effect in certain brain areas in a specific direction compared both groups, the differences in every brain region between the patient and control group is computed and plotted. "
   ]
  },
  {
   "cell_type": "code",
   "execution_count": null,
   "id": "7933c84d",
   "metadata": {},
   "outputs": [],
   "source": [
    "#compute difference\n",
    "\n",
    "df_trans['diff'] = df_trans.iloc[:,0] - df_trans.iloc[:,1]"
   ]
  },
  {
   "cell_type": "code",
   "execution_count": null,
   "id": "4aaaafd1",
   "metadata": {},
   "outputs": [],
   "source": [
    "df_trans"
   ]
  },
  {
   "cell_type": "code",
   "execution_count": null,
   "id": "cce2c688",
   "metadata": {
    "scrolled": false
   },
   "outputs": [],
   "source": [
    "#plot the difference \n",
    "\n",
    "# Initialize layout\n",
    "fig, ax = plt.subplots(figsize = (20, 20))\n",
    "\n",
    "# Make histogram\n",
    "ax.hist(df_trans[\"diff\"],bins= 100, edgecolor = 'black')\n",
    "\n",
    "plt.title('My title')\n",
    "plt.xlabel('categories')\n",
    "plt.ylabel('values')"
   ]
  },
  {
   "cell_type": "markdown",
   "id": "4f9bdb48",
   "metadata": {},
   "source": []
  },
  {
   "cell_type": "markdown",
   "id": "e19e823a",
   "metadata": {},
   "source": [
    "### 3.2 Micro-structural data: mean diffusivity (MD) and fractional anisotropy (FA)"
   ]
  },
  {
   "cell_type": "markdown",
   "id": "154f5ce7",
   "metadata": {},
   "source": [
    "The **micro-structural** data contains diffusion weighted images (DWI) from which regional cortical measures such as ***mean diffusivity (MD)*** and ***fractional anisotropy (FA)*** were estimated. \n",
    "\n",
    "In general, Diffusion MRI measures white matter fibres which makes it feasible to examine connections between different regions. For that, we look at how water diffuses in the brain which again provides information of the brain itself. The diffusion of water can be visualized as cloud if points which again can be approximated with a tensor model. Since there is a distinction in isotropic (characteristics are similar in all directions) vs anisotropic (characteristics e.g. faster in a given direction) diffusion, the tensor model might differ."
   ]
  },
  {
   "cell_type": "markdown",
   "id": "b65d5fa4",
   "metadata": {},
   "source": [
    "**MD** and **FA** are central characteristics of tensors. **MD** indicates how much diffusion there is inside a voxel. **FA** is a measurement of the anisotropy of diffusion with a value range between 0 and 1. While the a **FA** value of 0 stands for isotropic diffusion, the **FA** value of 1 indicates anisotropic diffusion."
   ]
  },
  {
   "cell_type": "code",
   "execution_count": null,
   "id": "d0912302",
   "metadata": {},
   "outputs": [],
   "source": [
    "#read MD and FA datasets\n",
    "\n",
    "\n",
    "MD_Dublin_path = os.path.join(os.pardir, 'data', 'PARC_500.aparc_MD_cortexAv_mean_Dublin.csv')\n",
    "\n",
    "FA_Dublin_path = os.path.join(os.pardir, 'data', 'PARC_500.aparc_FA_cortexAv_mean_Dublin.csv')\n",
    "\n",
    "\n",
    "MD_Dublin= pd.read_csv(MD_Dublin_path)\n",
    "FA_Dublin = pd.read_csv(FA_Dublin_path)"
   ]
  },
  {
   "cell_type": "code",
   "execution_count": null,
   "id": "f087b512",
   "metadata": {},
   "outputs": [],
   "source": [
    "MD_Dublin"
   ]
  },
  {
   "cell_type": "code",
   "execution_count": null,
   "id": "1b814d67",
   "metadata": {},
   "outputs": [],
   "source": [
    "#adjust data frame\n",
    "MD_Dublin_ad = MD_Dublin.drop(['Subject ID','Age', 'Sex'], axis=1)"
   ]
  },
  {
   "cell_type": "code",
   "execution_count": null,
   "id": "093cff19",
   "metadata": {},
   "outputs": [],
   "source": [
    "MD_Dublin_ad"
   ]
  },
  {
   "cell_type": "code",
   "execution_count": null,
   "id": "82c474dd",
   "metadata": {},
   "outputs": [],
   "source": [
    "MD_Dublin_ad.describe()"
   ]
  },
  {
   "cell_type": "code",
   "execution_count": null,
   "id": "ce8616bb",
   "metadata": {},
   "outputs": [],
   "source": [
    "#compute mean for patients and control in each brain region\n",
    "\n",
    "MD_df_mean = MD_Dublin_ad.groupby('Group').mean()"
   ]
  },
  {
   "cell_type": "code",
   "execution_count": null,
   "id": "149be8c7",
   "metadata": {},
   "outputs": [],
   "source": [
    "MD_df_mean"
   ]
  },
  {
   "cell_type": "code",
   "execution_count": null,
   "id": "e12a196d",
   "metadata": {},
   "outputs": [],
   "source": [
    "#mean of mean diffusivity for control and patients\n",
    "\n",
    "MD_df_mean.mean(axis=1)"
   ]
  },
  {
   "cell_type": "markdown",
   "id": "8284d3b0",
   "metadata": {},
   "source": [
    "The values indicate descriptively that the control group has a lower average mean diffusivity compared to patients."
   ]
  },
  {
   "cell_type": "code",
   "execution_count": null,
   "id": "95aa94bc",
   "metadata": {},
   "outputs": [],
   "source": [
    "#switch colums and rows\n",
    "\n",
    "MD_df_trans = MD_df_mean.T"
   ]
  },
  {
   "cell_type": "code",
   "execution_count": null,
   "id": "fc32d47a",
   "metadata": {},
   "outputs": [],
   "source": [
    "MD_df_trans"
   ]
  },
  {
   "cell_type": "code",
   "execution_count": null,
   "id": "4bd5dc38",
   "metadata": {},
   "outputs": [],
   "source": [
    "#plot the MD\n",
    "\n",
    "plt.figure(figsize=(8,6))\n",
    "ax = sb.violinplot(data=MD_df_trans)\n",
    "ax.set(xlabel='Groups', ylabel='Mean Diffusivity')\n",
    "plt.title(\"Distribution of Mean Diffusivity Means for Controls vs. Patients\", pad = '20')"
   ]
  },
  {
   "cell_type": "markdown",
   "id": "81ace3b8",
   "metadata": {},
   "source": [
    "Group differences"
   ]
  },
  {
   "cell_type": "code",
   "execution_count": null,
   "id": "0644dce9",
   "metadata": {},
   "outputs": [],
   "source": [
    "#compute difference\n",
    "\n",
    "MD_df_trans['diff'] = MD_df_trans.iloc[:,0] - MD_df_trans.iloc[:,1]"
   ]
  },
  {
   "cell_type": "code",
   "execution_count": null,
   "id": "b78c0f20",
   "metadata": {},
   "outputs": [],
   "source": [
    "MD_df_trans"
   ]
  },
  {
   "cell_type": "code",
   "execution_count": null,
   "id": "671cdd4f",
   "metadata": {},
   "outputs": [],
   "source": [
    "#plot the difference \n",
    "\n",
    "# Initialize layout\n",
    "fig, ax = plt.subplots(figsize = (9, 9))\n",
    "\n",
    "# Make histogram\n",
    "ax.hist(MD_df_trans[\"diff\"], edgecolor = 'black')\n"
   ]
  },
  {
   "cell_type": "code",
   "execution_count": null,
   "id": "a97066b1",
   "metadata": {
    "scrolled": true
   },
   "outputs": [],
   "source": [
    "FA_Dublin"
   ]
  },
  {
   "cell_type": "code",
   "execution_count": null,
   "id": "d57be6d1",
   "metadata": {},
   "outputs": [],
   "source": [
    "#adjust data frame\n",
    "\n",
    "FA_Dublin_ad = FA_Dublin.drop(['Subject ID','Age', 'Sex'], axis=1)"
   ]
  },
  {
   "cell_type": "code",
   "execution_count": null,
   "id": "4c8ed4de",
   "metadata": {},
   "outputs": [],
   "source": [
    "FA_Dublin_ad"
   ]
  },
  {
   "cell_type": "code",
   "execution_count": null,
   "id": "ceb0b9b1",
   "metadata": {},
   "outputs": [],
   "source": [
    "FA_Dublin_ad.describe()"
   ]
  },
  {
   "cell_type": "code",
   "execution_count": null,
   "id": "c0bf6da2",
   "metadata": {},
   "outputs": [],
   "source": [
    "#compute mean for patients and control in each brain region\n",
    "\n",
    "FA_df_mean = FA_Dublin_ad.groupby('Group').mean()"
   ]
  },
  {
   "cell_type": "code",
   "execution_count": null,
   "id": "cbb58a8f",
   "metadata": {},
   "outputs": [],
   "source": [
    "FA_df_mean"
   ]
  },
  {
   "cell_type": "code",
   "execution_count": null,
   "id": "e02b004c",
   "metadata": {},
   "outputs": [],
   "source": [
    "#mean of fractional anisotropy for control and patients\n",
    "\n",
    "FA_df_mean.mean(axis=1)"
   ]
  },
  {
   "cell_type": "markdown",
   "id": "02f9137d",
   "metadata": {},
   "source": [
    "The values seem to indicate an isotropic diffusion in both control and patient groups."
   ]
  },
  {
   "cell_type": "code",
   "execution_count": null,
   "id": "349f4659",
   "metadata": {},
   "outputs": [],
   "source": [
    "#switch colums and rows\n",
    "\n",
    "FA_df_trans = FA_df_mean.T"
   ]
  },
  {
   "cell_type": "code",
   "execution_count": null,
   "id": "5d37e52a",
   "metadata": {
    "scrolled": true
   },
   "outputs": [],
   "source": [
    "FA_df_trans"
   ]
  },
  {
   "cell_type": "code",
   "execution_count": null,
   "id": "e6d4bd9b",
   "metadata": {},
   "outputs": [],
   "source": [
    "#plot the FA\n",
    "\n",
    "plt.figure(figsize=(8,6))\n",
    "ax = sb.violinplot(data=FA_df_trans)\n",
    "ax.set(xlabel='Groups', ylabel='Fractional Anisotropy')\n",
    "plt.title(\"Distribution of Fractional Anisotropy Means for Controls vs. Patients\", pad = '20')"
   ]
  },
  {
   "cell_type": "code",
   "execution_count": null,
   "id": "a35e9894",
   "metadata": {},
   "outputs": [],
   "source": [
    "#compute difference\n",
    "\n",
    "FA_df_trans['diff'] = FA_df_trans.iloc[:,0] - FA_df_trans.iloc[:,1]"
   ]
  },
  {
   "cell_type": "code",
   "execution_count": null,
   "id": "4d33bb53",
   "metadata": {},
   "outputs": [],
   "source": [
    "FA_df_trans"
   ]
  },
  {
   "cell_type": "code",
   "execution_count": null,
   "id": "a32866a2",
   "metadata": {},
   "outputs": [],
   "source": [
    "#plot the difference \n",
    "\n",
    "# Initialize layout\n",
    "fig, ax = plt.subplots(figsize = (9, 9))\n",
    "\n",
    "# Make histogram\n",
    "ax.hist(FA_df_trans[\"diff\"], edgecolor = 'black')"
   ]
  }
 ],
 "metadata": {
  "kernelspec": {
   "display_name": "Python 3 (ipykernel)",
   "language": "python",
   "name": "python3"
  },
  "language_info": {
   "codemirror_mode": {
    "name": "ipython",
    "version": 3
   },
   "file_extension": ".py",
   "mimetype": "text/x-python",
   "name": "python",
   "nbconvert_exporter": "python",
   "pygments_lexer": "ipython3",
   "version": "3.7.0"
  },
  "vscode": {
   "interpreter": {
    "hash": "578504114d49301275c44c87035f08411733f9928d9347745d7de100c09f7611"
   }
  }
 },
 "nbformat": 4,
 "nbformat_minor": 5
}
