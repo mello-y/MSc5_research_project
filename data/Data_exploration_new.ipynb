{
 "cells": [
  {
   "cell_type": "markdown",
   "id": "97761504",
   "metadata": {},
   "source": [
    "## Data exploration for MSc5_research_project "
   ]
  },
  {
   "cell_type": "markdown",
   "id": "b0d27a69",
   "metadata": {},
   "source": [
    "### Data access"
   ]
  },
  {
   "cell_type": "markdown",
   "id": "27f11691",
   "metadata": {},
   "source": [
    "The data set is available on figshare (see link) and was used for the paper \"Functional MRI connectivity accurately distinguishes cases with psychotic disorders from healthy controls, based on cortical features associated with brain network development\" (Young et al., 2020). https://doi.org/10.1101/19009894\n",
    "\n",
    "https://figshare.com/articles/dataset/Data_for_Functional_MRI_connectivity_accurately_distinguishes_cases_with_psychotic_disorders_from_healthy_controls_based_on_cortical_features_associated_with_brain_network_development_/12361550 \n",
    "\n",
    "Further, the github repository for the above mentioned study can be accessed via the following link: https://github.com/jmyoung36/fMRI_connectivity_accurately_distinguishes_cases\n",
    "\n",
    "\n"
   ]
  },
  {
   "cell_type": "markdown",
   "id": "1f58425b",
   "metadata": {},
   "source": [
    "### What does the data contain?"
   ]
  },
  {
   "cell_type": "markdown",
   "id": "c451ba9c",
   "metadata": {},
   "source": [
    "The pre-processed data contains five MRI metrics being regional CT (cortical thickness), MD (mean diffusivity) and FA (functional anisotropy) values as well as DTI networks. There are datasets for different locations. CT is available for the Maastricht, Dublin and Cobre datasets whereas MD, FA and DTI are available for the Maastricht and Dublin datasets. Demographic data is also provided."
   ]
  },
  {
   "cell_type": "markdown",
   "id": "10e5161d",
   "metadata": {},
   "source": [
    "### Read the .mat files"
   ]
  },
  {
   "cell_type": "code",
   "execution_count": 1,
   "id": "f19787fd",
   "metadata": {},
   "outputs": [],
   "source": [
    "import urllib.request"
   ]
  },
  {
   "cell_type": "code",
   "execution_count": 2,
   "id": "90cd75aa",
   "metadata": {},
   "outputs": [
    {
     "name": "stdout",
     "output_type": "stream",
     "text": [
      "Beginning file download with urllib2...\n"
     ]
    },
    {
     "data": {
      "text/plain": [
       "('/Users/mello/data/Msc5_research_project/data/DTI_Dublin.mat',\n",
       " <http.client.HTTPMessage at 0x7f9621542518>)"
      ]
     },
     "execution_count": 2,
     "metadata": {},
     "output_type": "execute_result"
    }
   ],
   "source": [
    "print('Beginning file download with urllib2...')\n",
    "\n",
    "url = \"https://figshare.com/articles/dataset/Data_for_Functional_MRI_connectivity_accurately_distinguishes_cases_with_psychotic_disorders_from_healthy_controls_based_on_cortical_features_associated_with_brain_network_development_/12361550?file=22782440\" \n",
    "urllib.request.urlretrieve(url, '/Users/mello/data/Msc5_research_project/data/DTI_Dublin.mat')"
   ]
  },
  {
   "cell_type": "code",
   "execution_count": 4,
   "id": "913de0aa",
   "metadata": {},
   "outputs": [
    {
     "name": "stdout",
     "output_type": "stream",
     "text": [
      "Beginning file download with urllib2...\n"
     ]
    },
    {
     "data": {
      "text/plain": [
       "('/Users/mello/data/Msc5_research_project/data/DTI_Maastricht.mat',\n",
       " <http.client.HTTPMessage at 0x7f9621542b00>)"
      ]
     },
     "execution_count": 4,
     "metadata": {},
     "output_type": "execute_result"
    }
   ],
   "source": [
    "print('Beginning file download with urllib2...')\n",
    "\n",
    "url = \"https://figshare.com/articles/dataset/Data_for_Functional_MRI_connectivity_accurately_distinguishes_cases_with_psychotic_disorders_from_healthy_controls_based_on_cortical_features_associated_with_brain_network_development_/12361550?file=22782443\" \n",
    "urllib.request.urlretrieve(url, '/Users/mello/data/Msc5_research_project/data/DTI_Maastricht.mat')"
   ]
  },
  {
   "cell_type": "code",
   "execution_count": 5,
   "id": "d05d0a79",
   "metadata": {},
   "outputs": [],
   "source": [
    "from pymatreader import read_mat"
   ]
  },
  {
   "cell_type": "code",
   "execution_count": 6,
   "id": "2504e90e",
   "metadata": {},
   "outputs": [],
   "source": [
    "from os import chdir\n",
    "chdir('/Users/mello/data/MSc5_research_project/data')"
   ]
  },
  {
   "cell_type": "code",
   "execution_count": 7,
   "id": "93570393",
   "metadata": {},
   "outputs": [
    {
     "ename": "ValueError",
     "evalue": "Unknown mat file type, version 116, 105",
     "output_type": "error",
     "traceback": [
      "\u001b[0;31m---------------------------------------------------------------------------\u001b[0m",
      "\u001b[0;31mValueError\u001b[0m                                Traceback (most recent call last)",
      "\u001b[0;32m/var/folders/3m/1g132z9j3_14k03_9l9qv2wr0000gn/T/ipykernel_56243/3075697098.py\u001b[0m in \u001b[0;36m<module>\u001b[0;34m\u001b[0m\n\u001b[0;32m----> 1\u001b[0;31m \u001b[0mDTI_Maastricht\u001b[0m \u001b[0;34m=\u001b[0m \u001b[0mread_mat\u001b[0m\u001b[0;34m(\u001b[0m\u001b[0;34m'DTI_Maastricht.mat'\u001b[0m\u001b[0;34m)\u001b[0m\u001b[0;34m\u001b[0m\u001b[0m\n\u001b[0m",
      "\u001b[0;32m~/miniconda3/envs/neuro_ai/lib/python3.7/site-packages/pymatreader/pymatreader.py\u001b[0m in \u001b[0;36mread_mat\u001b[0;34m(filename, variable_names, ignore_fields, uint16_codec)\u001b[0m\n\u001b[1;32m     85\u001b[0m     \u001b[0;32mtry\u001b[0m\u001b[0;34m:\u001b[0m\u001b[0;34m\u001b[0m\u001b[0m\n\u001b[1;32m     86\u001b[0m         \u001b[0;32mwith\u001b[0m \u001b[0mopen\u001b[0m\u001b[0;34m(\u001b[0m\u001b[0mfilename\u001b[0m\u001b[0;34m,\u001b[0m \u001b[0;34m'rb'\u001b[0m\u001b[0;34m)\u001b[0m \u001b[0;32mas\u001b[0m \u001b[0mfid\u001b[0m\u001b[0;34m:\u001b[0m  \u001b[0;31m# avoid open file warnings on error\u001b[0m\u001b[0;34m\u001b[0m\u001b[0m\n\u001b[0;32m---> 87\u001b[0;31m             \u001b[0mmjv\u001b[0m\u001b[0;34m,\u001b[0m \u001b[0m_\u001b[0m \u001b[0;34m=\u001b[0m \u001b[0mmatfile_version\u001b[0m\u001b[0;34m(\u001b[0m\u001b[0mfid\u001b[0m\u001b[0;34m)\u001b[0m\u001b[0;34m\u001b[0m\u001b[0m\n\u001b[0m\u001b[1;32m     88\u001b[0m             \u001b[0mextra_kwargs\u001b[0m \u001b[0;34m=\u001b[0m \u001b[0;34m{\u001b[0m\u001b[0;34m}\u001b[0m\u001b[0;34m\u001b[0m\u001b[0m\n\u001b[1;32m     89\u001b[0m             \u001b[0;32mif\u001b[0m \u001b[0mmjv\u001b[0m \u001b[0;34m==\u001b[0m \u001b[0;36m1\u001b[0m\u001b[0;34m:\u001b[0m\u001b[0;34m\u001b[0m\u001b[0m\n",
      "\u001b[0;32m~/miniconda3/envs/neuro_ai/lib/python3.7/site-packages/scipy/io/matlab/miobase.py\u001b[0m in \u001b[0;36mget_matfile_version\u001b[0;34m(fileobj)\u001b[0m\n\u001b[1;32m    229\u001b[0m     \u001b[0;32mif\u001b[0m \u001b[0mmaj_val\u001b[0m \u001b[0;32min\u001b[0m \u001b[0;34m(\u001b[0m\u001b[0;36m1\u001b[0m\u001b[0;34m,\u001b[0m \u001b[0;36m2\u001b[0m\u001b[0;34m)\u001b[0m\u001b[0;34m:\u001b[0m\u001b[0;34m\u001b[0m\u001b[0m\n\u001b[1;32m    230\u001b[0m         \u001b[0;32mreturn\u001b[0m \u001b[0mret\u001b[0m\u001b[0;34m\u001b[0m\u001b[0m\n\u001b[0;32m--> 231\u001b[0;31m     \u001b[0;32mraise\u001b[0m \u001b[0mValueError\u001b[0m\u001b[0;34m(\u001b[0m\u001b[0;34m'Unknown mat file type, version %s, %s'\u001b[0m \u001b[0;34m%\u001b[0m \u001b[0mret\u001b[0m\u001b[0;34m)\u001b[0m\u001b[0;34m\u001b[0m\u001b[0m\n\u001b[0m\u001b[1;32m    232\u001b[0m \u001b[0;34m\u001b[0m\u001b[0m\n\u001b[1;32m    233\u001b[0m \u001b[0;34m\u001b[0m\u001b[0m\n",
      "\u001b[0;31mValueError\u001b[0m: Unknown mat file type, version 116, 105"
     ]
    }
   ],
   "source": [
    "DTI_Maastricht = read_mat('DTI_Maastricht.mat')\n"
   ]
  },
  {
   "cell_type": "code",
   "execution_count": null,
   "id": "b6bb211d",
   "metadata": {},
   "outputs": [],
   "source": []
  }
 ],
 "metadata": {
  "kernelspec": {
   "display_name": "neuro_ai",
   "language": "python",
   "name": "neuro_ai"
  },
  "language_info": {
   "codemirror_mode": {
    "name": "ipython",
    "version": 3
   },
   "file_extension": ".py",
   "mimetype": "text/x-python",
   "name": "python",
   "nbconvert_exporter": "python",
   "pygments_lexer": "ipython3",
   "version": "3.7.0"
  }
 },
 "nbformat": 4,
 "nbformat_minor": 5
}
