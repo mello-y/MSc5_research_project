{
 "cells": [
  {
   "cell_type": "markdown",
   "id": "97761504",
   "metadata": {},
   "source": [
    "## Data exploration for MSc5_research_project "
   ]
  },
  {
   "cell_type": "markdown",
   "id": "8b379b25",
   "metadata": {},
   "source": [
    "This jupyter notebook deals with exploring the data for my research project within the MSc05 course in the Neurocognitive Psychology lab at Goethe University Frankfurt within the psychology master. \n",
    "\n",
    "The main idea of the project is to use machine learning in order to predict whether a person can be classified either as a healthy control or a patient with psychotic disorder based on cortical features that are associated with brain network development.\n",
    "\n"
   ]
  },
  {
   "cell_type": "markdown",
   "id": "fd6c9739",
   "metadata": {},
   "source": [
    "## Table of contents"
   ]
  },
  {
   "cell_type": "markdown",
   "id": "51b8029d",
   "metadata": {},
   "source": [
    "The notebook is structured as followed.\n",
    "\n",
    "### **1. Data access**\n",
    "### **2. What does the data contain?**\n",
    "### **3. Exploring the different modalities**\n",
    "        3.1 DTI Networks\n",
    "            3.1.1 Downloading the .mat files\n",
    "            3.1.2 Read the .mat files\n",
    "        3.2 Regional mean diffusivity (MD) and functional anisotropy (FA) values\n",
    "        3.3 sMRT: Cortical thickness (CT)\n"
   ]
  },
  {
   "cell_type": "markdown",
   "id": "b0d27a69",
   "metadata": {},
   "source": [
    "### 1. Data access"
   ]
  },
  {
   "cell_type": "markdown",
   "id": "27f11691",
   "metadata": {},
   "source": [
    "The data set is available on figshare (see link) and was used for the paper \"Functional MRI connectivity accurately distinguishes cases with psychotic disorders from healthy controls, based on cortical features associated with brain network development\" (Young et al., 2020). https://doi.org/10.1101/19009894\n",
    "\n",
    "https://figshare.com/articles/dataset/Data_for_Functional_MRI_connectivity_accurately_distinguishes_cases_with_psychotic_disorders_from_healthy_controls_based_on_cortical_features_associated_with_brain_network_development_/12361550 \n",
    "\n",
    "Further, the github repository for the above mentioned study can be accessed via the following link: https://github.com/jmyoung36/fMRI_connectivity_accurately_distinguishes_cases\n",
    "\n",
    "\n"
   ]
  },
  {
   "cell_type": "markdown",
   "id": "1f58425b",
   "metadata": {},
   "source": [
    "### 2. What does the data contain?"
   ]
  },
  {
   "cell_type": "markdown",
   "id": "c451ba9c",
   "metadata": {},
   "source": [
    "The pre-processed data contains five MRI metrics being regional CT (cortical thickness), MD (mean diffusivity) and FA (functional anisotropy) values as well as DTI networks. There are datasets for different locations. CT is available for the Maastricht, Dublin and Cobre datasets whereas MD, FA and DTI are available for the Maastricht and Dublin datasets. Demographic data is also provided."
   ]
  },
  {
   "cell_type": "markdown",
   "id": "e75fa436",
   "metadata": {},
   "source": [
    "### 3. Exploring the different modalities"
   ]
  },
  {
   "cell_type": "markdown",
   "id": "d2ba0be6",
   "metadata": {},
   "source": [
    "First of all, I am going to explore the DTI network data, followed by the regional MD and FA values and lastly the CT data."
   ]
  },
  {
   "cell_type": "markdown",
   "id": "48a0094c",
   "metadata": {},
   "source": [
    "### 3.1 DTI Networks"
   ]
  },
  {
   "cell_type": "markdown",
   "id": "86c38d60",
   "metadata": {},
   "source": [
    "The data that contains the DTI networks are available as matlab files. In the following, it is depicted how the matlab files can be downloaded and read."
   ]
  },
  {
   "cell_type": "markdown",
   "id": "10e5161d",
   "metadata": {},
   "source": [
    "####  3.1.1 Download the .mat files"
   ]
  },
  {
   "cell_type": "markdown",
   "id": "04d01d26",
   "metadata": {},
   "source": [
    "If you click on the name of the matlab datafile on figshare , it then only shows you the preview of the matlab file and the link of that is for the respective preview. If you want to copy the link of the matlab file itself, you have to right-click on the datafile name and then copy the link."
   ]
  },
  {
   "cell_type": "code",
   "execution_count": 1,
   "id": "f19787fd",
   "metadata": {},
   "outputs": [],
   "source": [
    "import urllib.request"
   ]
  },
  {
   "cell_type": "code",
   "execution_count": 2,
   "id": "90cd75aa",
   "metadata": {},
   "outputs": [
    {
     "name": "stdout",
     "output_type": "stream",
     "text": [
      "Beginning file download with urllib2...\n"
     ]
    },
    {
     "data": {
      "text/plain": [
       "('/Users/mello/data/Msc5_research_project/data/DTI_Dublin.mat',\n",
       " <http.client.HTTPMessage at 0x7fd8400461d0>)"
      ]
     },
     "execution_count": 2,
     "metadata": {},
     "output_type": "execute_result"
    }
   ],
   "source": [
    "print('Beginning file download with urllib2...')\n",
    "\n",
    "url = \"https://figshare.com/ndownloader/files/22782440\"\n",
    "urllib.request.urlretrieve(url, '/Users/mello/data/Msc5_research_project/data/DTI_Dublin.mat')"
   ]
  },
  {
   "cell_type": "code",
   "execution_count": 3,
   "id": "913de0aa",
   "metadata": {},
   "outputs": [
    {
     "name": "stdout",
     "output_type": "stream",
     "text": [
      "Beginning file download with urllib2...\n"
     ]
    },
    {
     "data": {
      "text/plain": [
       "('/Users/mello/data/Msc5_research_project/data/DTI_Maastricht.mat',\n",
       " <http.client.HTTPMessage at 0x7fd8400465c0>)"
      ]
     },
     "execution_count": 3,
     "metadata": {},
     "output_type": "execute_result"
    }
   ],
   "source": [
    "print('Beginning file download with urllib2...')\n",
    "\n",
    "url = \"https://figshare.com/articles/dataset/Data_for_Functional_MRI_connectivity_accurately_distinguishes_cases_with_psychotic_disorders_from_healthy_controls_based_on_cortical_features_associated_with_brain_network_development_/12361550?file=22782443\" \n",
    "urllib.request.urlretrieve(url, '/Users/mello/data/Msc5_research_project/data/DTI_Maastricht.mat')"
   ]
  },
  {
   "cell_type": "markdown",
   "id": "cc431cb7",
   "metadata": {},
   "source": [
    "#### 3.1.2 Read the .mat files"
   ]
  },
  {
   "cell_type": "code",
   "execution_count": 4,
   "id": "2a0888cf",
   "metadata": {},
   "outputs": [],
   "source": [
    "import scipy.io"
   ]
  },
  {
   "cell_type": "markdown",
   "id": "8bd79bc9",
   "metadata": {},
   "source": [
    "**Dublin**"
   ]
  },
  {
   "cell_type": "code",
   "execution_count": 5,
   "id": "caa6af8e",
   "metadata": {},
   "outputs": [],
   "source": [
    "DTI_Dublin = scipy.io.loadmat('/Users/mello/data/Msc5_research_project/data/DTI_Dublin.mat')"
   ]
  },
  {
   "cell_type": "code",
   "execution_count": 6,
   "id": "846c9cb8",
   "metadata": {},
   "outputs": [
    {
     "data": {
      "text/plain": [
       "dict_keys(['__header__', '__version__', '__globals__', 'nostreamlines_new'])"
      ]
     },
     "execution_count": 6,
     "metadata": {},
     "output_type": "execute_result"
    }
   ],
   "source": [
    "DTI_Dublin.keys()"
   ]
  },
  {
   "cell_type": "code",
   "execution_count": 7,
   "id": "bf5dec54",
   "metadata": {},
   "outputs": [
    {
     "data": {
      "text/plain": [
       "(1, 123)"
      ]
     },
     "execution_count": 7,
     "metadata": {},
     "output_type": "execute_result"
    }
   ],
   "source": [
    "DTI_Dublin['nostreamlines_new'].shape"
   ]
  },
  {
   "cell_type": "markdown",
   "id": "105ac268",
   "metadata": {},
   "source": [
    "123 Probanden mit DTI Matrizen.\n",
    "Wie sehen DTI Matrizen aus?"
   ]
  },
  {
   "cell_type": "code",
   "execution_count": 8,
   "id": "cb224776",
   "metadata": {},
   "outputs": [
    {
     "data": {
      "text/plain": [
       "(123,)"
      ]
     },
     "execution_count": 8,
     "metadata": {},
     "output_type": "execute_result"
    }
   ],
   "source": [
    "DTI_Dublin['nostreamlines_new'][0].shape"
   ]
  },
  {
   "cell_type": "code",
   "execution_count": 9,
   "id": "3768ff65",
   "metadata": {},
   "outputs": [
    {
     "data": {
      "text/plain": [
       "(308, 308)"
      ]
     },
     "execution_count": 9,
     "metadata": {},
     "output_type": "execute_result"
    }
   ],
   "source": [
    "DTI_Dublin['nostreamlines_new'][0][0].shape"
   ]
  },
  {
   "cell_type": "markdown",
   "id": "ec5118dd",
   "metadata": {},
   "source": [
    "Zwischen 308 Regionen basierend auf DTI Daten Werte (siehe course website, nochmal durchlesen!!)"
   ]
  },
  {
   "cell_type": "code",
   "execution_count": 10,
   "id": "aba1649d",
   "metadata": {},
   "outputs": [
    {
     "data": {
      "text/plain": [
       "<AxesSubplot:>"
      ]
     },
     "execution_count": 10,
     "metadata": {},
     "output_type": "execute_result"
    },
    {
     "data": {
      "image/png": "[encoded data removed]",
      "text/plain": [
       "<Figure size 720x504 with 2 Axes>"
      ]
     },
     "metadata": {
      "needs_background": "light"
     },
     "output_type": "display_data"
    }
   ],
   "source": [
    "import matplotlib.pyplot as plt\n",
    "import seaborn as sns\n",
    "\n",
    "plt.figure(figsize=(10,7))\n",
    "sns.heatmap(DTI_Dublin['nostreamlines_new'][0][0], xticklabels=False, cmap='rocket')"
   ]
  },
  {
   "cell_type": "markdown",
   "id": "ad17563a",
   "metadata": {},
   "source": [
    "**Maastricht**"
   ]
  },
  {
   "cell_type": "code",
   "execution_count": 11,
   "id": "bcd06b42",
   "metadata": {},
   "outputs": [],
   "source": [
    "DTI_Maastricht = scipy.io.loadmat('/Users/mello/Desktop/Dataset//DTI_Maastricht.mat')"
   ]
  },
  {
   "cell_type": "code",
   "execution_count": 12,
   "id": "0837fb14",
   "metadata": {},
   "outputs": [
    {
     "data": {
      "text/plain": [
       "dict_keys(['__header__', '__version__', '__globals__', 'nostreamlines_new'])"
      ]
     },
     "execution_count": 12,
     "metadata": {},
     "output_type": "execute_result"
    }
   ],
   "source": [
    "DTI_Maastricht.keys()"
   ]
  },
  {
   "cell_type": "markdown",
   "id": "8341741f",
   "metadata": {},
   "source": [
    "### 3.2 Regional Mean diffusivity (MD) and functional anisotropy (FA) values"
   ]
  },
  {
   "cell_type": "code",
   "execution_count": 13,
   "id": "8c5e4836",
   "metadata": {},
   "outputs": [],
   "source": [
    "import pandas as pd"
   ]
  },
  {
   "cell_type": "code",
   "execution_count": 14,
   "id": "7dc4bfdf",
   "metadata": {},
   "outputs": [],
   "source": [
    "MD_Dublin = pd.read_csv('/Users/mello/Desktop/Dataset/PARC_500.aparc_MD_cortexAv_mean_Dublin.csv', delimiter = ',')\n",
    "MD_Maastricht = pd.read_csv('/Users/mello/Desktop/Dataset/PARC_500.aparc_MD_cortexAv_mean_Maastricht.csv', delimiter = ',')"
   ]
  },
  {
   "cell_type": "code",
   "execution_count": 15,
   "id": "aebc11a4",
   "metadata": {},
   "outputs": [],
   "source": [
    "FA_Dublin = pd.read_csv('/Users/mello/Desktop/Dataset/PARC_500.aparc_FA_cortexAv_mean_Dublin.csv', delimiter = ',')\n",
    "FA_Maastricht = pd.read_csv('/Users/mello/Desktop/Dataset/PARC_500.aparc_FA_cortexAv_mean_Maastricht.csv', delimiter = ',')"
   ]
  },
  {
   "cell_type": "code",
   "execution_count": 16,
   "id": "2b85ec07",
   "metadata": {},
   "outputs": [
    {
     "data": {
      "text/html": [
       "<div>\n",
       "<style scoped>\n",
       "    .dataframe tbody tr th:only-of-type {\n",
       "        vertical-align: middle;\n",
       "    }\n",
       "\n",
       "    .dataframe tbody tr th {\n",
       "        vertical-align: top;\n",
       "    }\n",
       "\n",
       "    .dataframe thead th {\n",
       "        text-align: right;\n",
       "    }\n",
       "</style>\n",
       "<table border=\"1\" class=\"dataframe\">\n",
       "  <thead>\n",
       "    <tr style=\"text-align: right;\">\n",
       "      <th></th>\n",
       "      <th>Subject ID</th>\n",
       "      <th>Age</th>\n",
       "      <th>Sex</th>\n",
       "      <th>Group</th>\n",
       "      <th>lh_bankssts_part1_thickness</th>\n",
       "      <th>lh_bankssts_part2_thickness</th>\n",
       "      <th>lh_caudalanteriorcingulate_part1_thickness</th>\n",
       "      <th>lh_caudalmiddlefrontal_part1_thickness</th>\n",
       "      <th>lh_caudalmiddlefrontal_part2_thickness</th>\n",
       "      <th>lh_caudalmiddlefrontal_part3_thickness</th>\n",
       "      <th>...</th>\n",
       "      <th>rh_supramarginal_part5_thickness</th>\n",
       "      <th>rh_supramarginal_part6_thickness</th>\n",
       "      <th>rh_supramarginal_part7_thickness</th>\n",
       "      <th>rh_frontalpole_part1_thickness</th>\n",
       "      <th>rh_temporalpole_part1_thickness</th>\n",
       "      <th>rh_transversetemporal_part1_thickness</th>\n",
       "      <th>rh_insula_part1_thickness</th>\n",
       "      <th>rh_insula_part2_thickness</th>\n",
       "      <th>rh_insula_part3_thickness</th>\n",
       "      <th>rh_insula_part4_thickness</th>\n",
       "    </tr>\n",
       "  </thead>\n",
       "  <tbody>\n",
       "    <tr>\n",
       "      <th>0</th>\n",
       "      <td>CON3140</td>\n",
       "      <td>37</td>\n",
       "      <td>2</td>\n",
       "      <td>1</td>\n",
       "      <td>0.911</td>\n",
       "      <td>0.931</td>\n",
       "      <td>0.891</td>\n",
       "      <td>1.048</td>\n",
       "      <td>0.881</td>\n",
       "      <td>0.939</td>\n",
       "      <td>...</td>\n",
       "      <td>0.928</td>\n",
       "      <td>1.067</td>\n",
       "      <td>1.096</td>\n",
       "      <td>0.892</td>\n",
       "      <td>1.238</td>\n",
       "      <td>1.021</td>\n",
       "      <td>1.166</td>\n",
       "      <td>0.900</td>\n",
       "      <td>0.907</td>\n",
       "      <td>0.937</td>\n",
       "    </tr>\n",
       "    <tr>\n",
       "      <th>1</th>\n",
       "      <td>CON3891</td>\n",
       "      <td>33</td>\n",
       "      <td>2</td>\n",
       "      <td>1</td>\n",
       "      <td>0.861</td>\n",
       "      <td>0.913</td>\n",
       "      <td>0.846</td>\n",
       "      <td>0.927</td>\n",
       "      <td>0.888</td>\n",
       "      <td>0.894</td>\n",
       "      <td>...</td>\n",
       "      <td>0.878</td>\n",
       "      <td>0.985</td>\n",
       "      <td>1.045</td>\n",
       "      <td>1.001</td>\n",
       "      <td>1.196</td>\n",
       "      <td>1.083</td>\n",
       "      <td>1.143</td>\n",
       "      <td>0.917</td>\n",
       "      <td>0.923</td>\n",
       "      <td>0.960</td>\n",
       "    </tr>\n",
       "    <tr>\n",
       "      <th>2</th>\n",
       "      <td>CON4664</td>\n",
       "      <td>40</td>\n",
       "      <td>2</td>\n",
       "      <td>1</td>\n",
       "      <td>0.817</td>\n",
       "      <td>0.827</td>\n",
       "      <td>0.828</td>\n",
       "      <td>0.828</td>\n",
       "      <td>0.780</td>\n",
       "      <td>0.843</td>\n",
       "      <td>...</td>\n",
       "      <td>0.847</td>\n",
       "      <td>0.849</td>\n",
       "      <td>0.819</td>\n",
       "      <td>0.952</td>\n",
       "      <td>0.933</td>\n",
       "      <td>0.942</td>\n",
       "      <td>1.059</td>\n",
       "      <td>0.794</td>\n",
       "      <td>0.834</td>\n",
       "      <td>0.860</td>\n",
       "    </tr>\n",
       "    <tr>\n",
       "      <th>3</th>\n",
       "      <td>CON7009</td>\n",
       "      <td>21</td>\n",
       "      <td>1</td>\n",
       "      <td>1</td>\n",
       "      <td>0.887</td>\n",
       "      <td>0.905</td>\n",
       "      <td>0.878</td>\n",
       "      <td>0.932</td>\n",
       "      <td>0.820</td>\n",
       "      <td>0.888</td>\n",
       "      <td>...</td>\n",
       "      <td>0.957</td>\n",
       "      <td>0.985</td>\n",
       "      <td>0.989</td>\n",
       "      <td>1.075</td>\n",
       "      <td>1.150</td>\n",
       "      <td>1.017</td>\n",
       "      <td>0.986</td>\n",
       "      <td>0.888</td>\n",
       "      <td>0.916</td>\n",
       "      <td>0.928</td>\n",
       "    </tr>\n",
       "    <tr>\n",
       "      <th>4</th>\n",
       "      <td>CON7024</td>\n",
       "      <td>59</td>\n",
       "      <td>1</td>\n",
       "      <td>1</td>\n",
       "      <td>0.887</td>\n",
       "      <td>0.854</td>\n",
       "      <td>0.905</td>\n",
       "      <td>1.011</td>\n",
       "      <td>0.946</td>\n",
       "      <td>0.922</td>\n",
       "      <td>...</td>\n",
       "      <td>0.871</td>\n",
       "      <td>0.952</td>\n",
       "      <td>0.987</td>\n",
       "      <td>1.325</td>\n",
       "      <td>0.996</td>\n",
       "      <td>1.094</td>\n",
       "      <td>1.064</td>\n",
       "      <td>0.966</td>\n",
       "      <td>0.989</td>\n",
       "      <td>0.977</td>\n",
       "    </tr>\n",
       "    <tr>\n",
       "      <th>...</th>\n",
       "      <td>...</td>\n",
       "      <td>...</td>\n",
       "      <td>...</td>\n",
       "      <td>...</td>\n",
       "      <td>...</td>\n",
       "      <td>...</td>\n",
       "      <td>...</td>\n",
       "      <td>...</td>\n",
       "      <td>...</td>\n",
       "      <td>...</td>\n",
       "      <td>...</td>\n",
       "      <td>...</td>\n",
       "      <td>...</td>\n",
       "      <td>...</td>\n",
       "      <td>...</td>\n",
       "      <td>...</td>\n",
       "      <td>...</td>\n",
       "      <td>...</td>\n",
       "      <td>...</td>\n",
       "      <td>...</td>\n",
       "      <td>...</td>\n",
       "    </tr>\n",
       "    <tr>\n",
       "      <th>110</th>\n",
       "      <td>RPG9102</td>\n",
       "      <td>42</td>\n",
       "      <td>2</td>\n",
       "      <td>2</td>\n",
       "      <td>0.843</td>\n",
       "      <td>0.855</td>\n",
       "      <td>0.940</td>\n",
       "      <td>1.017</td>\n",
       "      <td>0.954</td>\n",
       "      <td>0.840</td>\n",
       "      <td>...</td>\n",
       "      <td>0.938</td>\n",
       "      <td>1.062</td>\n",
       "      <td>1.143</td>\n",
       "      <td>0.903</td>\n",
       "      <td>1.364</td>\n",
       "      <td>1.284</td>\n",
       "      <td>1.218</td>\n",
       "      <td>1.017</td>\n",
       "      <td>0.972</td>\n",
       "      <td>1.028</td>\n",
       "    </tr>\n",
       "    <tr>\n",
       "      <th>111</th>\n",
       "      <td>RPG9103</td>\n",
       "      <td>37</td>\n",
       "      <td>1</td>\n",
       "      <td>2</td>\n",
       "      <td>0.911</td>\n",
       "      <td>0.914</td>\n",
       "      <td>0.926</td>\n",
       "      <td>1.001</td>\n",
       "      <td>0.918</td>\n",
       "      <td>1.115</td>\n",
       "      <td>...</td>\n",
       "      <td>0.957</td>\n",
       "      <td>1.085</td>\n",
       "      <td>1.098</td>\n",
       "      <td>1.059</td>\n",
       "      <td>1.268</td>\n",
       "      <td>1.089</td>\n",
       "      <td>1.173</td>\n",
       "      <td>0.990</td>\n",
       "      <td>1.065</td>\n",
       "      <td>1.021</td>\n",
       "    </tr>\n",
       "    <tr>\n",
       "      <th>112</th>\n",
       "      <td>RPG9119</td>\n",
       "      <td>41</td>\n",
       "      <td>1</td>\n",
       "      <td>2</td>\n",
       "      <td>0.890</td>\n",
       "      <td>0.899</td>\n",
       "      <td>0.886</td>\n",
       "      <td>0.930</td>\n",
       "      <td>0.883</td>\n",
       "      <td>0.882</td>\n",
       "      <td>...</td>\n",
       "      <td>0.916</td>\n",
       "      <td>1.010</td>\n",
       "      <td>0.974</td>\n",
       "      <td>0.968</td>\n",
       "      <td>1.305</td>\n",
       "      <td>1.168</td>\n",
       "      <td>1.265</td>\n",
       "      <td>0.981</td>\n",
       "      <td>0.975</td>\n",
       "      <td>0.972</td>\n",
       "    </tr>\n",
       "    <tr>\n",
       "      <th>113</th>\n",
       "      <td>RPG9121</td>\n",
       "      <td>51</td>\n",
       "      <td>1</td>\n",
       "      <td>2</td>\n",
       "      <td>0.920</td>\n",
       "      <td>0.986</td>\n",
       "      <td>0.883</td>\n",
       "      <td>0.879</td>\n",
       "      <td>0.794</td>\n",
       "      <td>0.983</td>\n",
       "      <td>...</td>\n",
       "      <td>0.942</td>\n",
       "      <td>0.985</td>\n",
       "      <td>0.990</td>\n",
       "      <td>1.199</td>\n",
       "      <td>1.353</td>\n",
       "      <td>1.187</td>\n",
       "      <td>1.444</td>\n",
       "      <td>0.947</td>\n",
       "      <td>1.047</td>\n",
       "      <td>1.085</td>\n",
       "    </tr>\n",
       "    <tr>\n",
       "      <th>114</th>\n",
       "      <td>RPG9126</td>\n",
       "      <td>56</td>\n",
       "      <td>1</td>\n",
       "      <td>2</td>\n",
       "      <td>0.970</td>\n",
       "      <td>0.868</td>\n",
       "      <td>0.940</td>\n",
       "      <td>0.967</td>\n",
       "      <td>0.930</td>\n",
       "      <td>1.022</td>\n",
       "      <td>...</td>\n",
       "      <td>1.074</td>\n",
       "      <td>1.122</td>\n",
       "      <td>1.215</td>\n",
       "      <td>0.891</td>\n",
       "      <td>1.333</td>\n",
       "      <td>1.295</td>\n",
       "      <td>1.284</td>\n",
       "      <td>1.125</td>\n",
       "      <td>1.110</td>\n",
       "      <td>1.139</td>\n",
       "    </tr>\n",
       "  </tbody>\n",
       "</table>\n",
       "<p>115 rows × 312 columns</p>\n",
       "</div>"
      ],
      "text/plain": [
       "    Subject ID  Age  Sex  Group  lh_bankssts_part1_thickness  \\\n",
       "0      CON3140   37    2      1                        0.911   \n",
       "1      CON3891   33    2      1                        0.861   \n",
       "2      CON4664   40    2      1                        0.817   \n",
       "3      CON7009   21    1      1                        0.887   \n",
       "4      CON7024   59    1      1                        0.887   \n",
       "..         ...  ...  ...    ...                          ...   \n",
       "110    RPG9102   42    2      2                        0.843   \n",
       "111    RPG9103   37    1      2                        0.911   \n",
       "112    RPG9119   41    1      2                        0.890   \n",
       "113    RPG9121   51    1      2                        0.920   \n",
       "114    RPG9126   56    1      2                        0.970   \n",
       "\n",
       "     lh_bankssts_part2_thickness  lh_caudalanteriorcingulate_part1_thickness  \\\n",
       "0                          0.931                                       0.891   \n",
       "1                          0.913                                       0.846   \n",
       "2                          0.827                                       0.828   \n",
       "3                          0.905                                       0.878   \n",
       "4                          0.854                                       0.905   \n",
       "..                           ...                                         ...   \n",
       "110                        0.855                                       0.940   \n",
       "111                        0.914                                       0.926   \n",
       "112                        0.899                                       0.886   \n",
       "113                        0.986                                       0.883   \n",
       "114                        0.868                                       0.940   \n",
       "\n",
       "     lh_caudalmiddlefrontal_part1_thickness  \\\n",
       "0                                     1.048   \n",
       "1                                     0.927   \n",
       "2                                     0.828   \n",
       "3                                     0.932   \n",
       "4                                     1.011   \n",
       "..                                      ...   \n",
       "110                                   1.017   \n",
       "111                                   1.001   \n",
       "112                                   0.930   \n",
       "113                                   0.879   \n",
       "114                                   0.967   \n",
       "\n",
       "     lh_caudalmiddlefrontal_part2_thickness  \\\n",
       "0                                     0.881   \n",
       "1                                     0.888   \n",
       "2                                     0.780   \n",
       "3                                     0.820   \n",
       "4                                     0.946   \n",
       "..                                      ...   \n",
       "110                                   0.954   \n",
       "111                                   0.918   \n",
       "112                                   0.883   \n",
       "113                                   0.794   \n",
       "114                                   0.930   \n",
       "\n",
       "     lh_caudalmiddlefrontal_part3_thickness  ...  \\\n",
       "0                                     0.939  ...   \n",
       "1                                     0.894  ...   \n",
       "2                                     0.843  ...   \n",
       "3                                     0.888  ...   \n",
       "4                                     0.922  ...   \n",
       "..                                      ...  ...   \n",
       "110                                   0.840  ...   \n",
       "111                                   1.115  ...   \n",
       "112                                   0.882  ...   \n",
       "113                                   0.983  ...   \n",
       "114                                   1.022  ...   \n",
       "\n",
       "     rh_supramarginal_part5_thickness  rh_supramarginal_part6_thickness  \\\n",
       "0                               0.928                             1.067   \n",
       "1                               0.878                             0.985   \n",
       "2                               0.847                             0.849   \n",
       "3                               0.957                             0.985   \n",
       "4                               0.871                             0.952   \n",
       "..                                ...                               ...   \n",
       "110                             0.938                             1.062   \n",
       "111                             0.957                             1.085   \n",
       "112                             0.916                             1.010   \n",
       "113                             0.942                             0.985   \n",
       "114                             1.074                             1.122   \n",
       "\n",
       "     rh_supramarginal_part7_thickness  rh_frontalpole_part1_thickness  \\\n",
       "0                               1.096                           0.892   \n",
       "1                               1.045                           1.001   \n",
       "2                               0.819                           0.952   \n",
       "3                               0.989                           1.075   \n",
       "4                               0.987                           1.325   \n",
       "..                                ...                             ...   \n",
       "110                             1.143                           0.903   \n",
       "111                             1.098                           1.059   \n",
       "112                             0.974                           0.968   \n",
       "113                             0.990                           1.199   \n",
       "114                             1.215                           0.891   \n",
       "\n",
       "     rh_temporalpole_part1_thickness  rh_transversetemporal_part1_thickness  \\\n",
       "0                              1.238                                  1.021   \n",
       "1                              1.196                                  1.083   \n",
       "2                              0.933                                  0.942   \n",
       "3                              1.150                                  1.017   \n",
       "4                              0.996                                  1.094   \n",
       "..                               ...                                    ...   \n",
       "110                            1.364                                  1.284   \n",
       "111                            1.268                                  1.089   \n",
       "112                            1.305                                  1.168   \n",
       "113                            1.353                                  1.187   \n",
       "114                            1.333                                  1.295   \n",
       "\n",
       "     rh_insula_part1_thickness  rh_insula_part2_thickness  \\\n",
       "0                        1.166                      0.900   \n",
       "1                        1.143                      0.917   \n",
       "2                        1.059                      0.794   \n",
       "3                        0.986                      0.888   \n",
       "4                        1.064                      0.966   \n",
       "..                         ...                        ...   \n",
       "110                      1.218                      1.017   \n",
       "111                      1.173                      0.990   \n",
       "112                      1.265                      0.981   \n",
       "113                      1.444                      0.947   \n",
       "114                      1.284                      1.125   \n",
       "\n",
       "     rh_insula_part3_thickness  rh_insula_part4_thickness  \n",
       "0                        0.907                      0.937  \n",
       "1                        0.923                      0.960  \n",
       "2                        0.834                      0.860  \n",
       "3                        0.916                      0.928  \n",
       "4                        0.989                      0.977  \n",
       "..                         ...                        ...  \n",
       "110                      0.972                      1.028  \n",
       "111                      1.065                      1.021  \n",
       "112                      0.975                      0.972  \n",
       "113                      1.047                      1.085  \n",
       "114                      1.110                      1.139  \n",
       "\n",
       "[115 rows x 312 columns]"
      ]
     },
     "execution_count": 16,
     "metadata": {},
     "output_type": "execute_result"
    }
   ],
   "source": [
    "MD_Dublin"
   ]
  },
  {
   "cell_type": "code",
   "execution_count": 17,
   "id": "58c3d4ea",
   "metadata": {},
   "outputs": [
    {
     "data": {
      "text/html": [
       "<div>\n",
       "<style scoped>\n",
       "    .dataframe tbody tr th:only-of-type {\n",
       "        vertical-align: middle;\n",
       "    }\n",
       "\n",
       "    .dataframe tbody tr th {\n",
       "        vertical-align: top;\n",
       "    }\n",
       "\n",
       "    .dataframe thead th {\n",
       "        text-align: right;\n",
       "    }\n",
       "</style>\n",
       "<table border=\"1\" class=\"dataframe\">\n",
       "  <thead>\n",
       "    <tr style=\"text-align: right;\">\n",
       "      <th></th>\n",
       "      <th>Subject ID</th>\n",
       "      <th>Age</th>\n",
       "      <th>Sex</th>\n",
       "      <th>Group</th>\n",
       "      <th>lh_bankssts_part1_thickness</th>\n",
       "      <th>lh_bankssts_part2_thickness</th>\n",
       "      <th>lh_caudalanteriorcingulate_part1_thickness</th>\n",
       "      <th>lh_caudalmiddlefrontal_part1_thickness</th>\n",
       "      <th>lh_caudalmiddlefrontal_part2_thickness</th>\n",
       "      <th>lh_caudalmiddlefrontal_part3_thickness</th>\n",
       "      <th>...</th>\n",
       "      <th>rh_supramarginal_part5_thickness</th>\n",
       "      <th>rh_supramarginal_part6_thickness</th>\n",
       "      <th>rh_supramarginal_part7_thickness</th>\n",
       "      <th>rh_frontalpole_part1_thickness</th>\n",
       "      <th>rh_temporalpole_part1_thickness</th>\n",
       "      <th>rh_transversetemporal_part1_thickness</th>\n",
       "      <th>rh_insula_part1_thickness</th>\n",
       "      <th>rh_insula_part2_thickness</th>\n",
       "      <th>rh_insula_part3_thickness</th>\n",
       "      <th>rh_insula_part4_thickness</th>\n",
       "    </tr>\n",
       "  </thead>\n",
       "  <tbody>\n",
       "    <tr>\n",
       "      <th>0</th>\n",
       "      <td>CON3140</td>\n",
       "      <td>37</td>\n",
       "      <td>2</td>\n",
       "      <td>1</td>\n",
       "      <td>0.322</td>\n",
       "      <td>0.147</td>\n",
       "      <td>0.200</td>\n",
       "      <td>0.143</td>\n",
       "      <td>0.189</td>\n",
       "      <td>0.133</td>\n",
       "      <td>...</td>\n",
       "      <td>0.171</td>\n",
       "      <td>0.150</td>\n",
       "      <td>0.127</td>\n",
       "      <td>0.218</td>\n",
       "      <td>0.163</td>\n",
       "      <td>0.158</td>\n",
       "      <td>0.147</td>\n",
       "      <td>0.157</td>\n",
       "      <td>0.147</td>\n",
       "      <td>0.137</td>\n",
       "    </tr>\n",
       "    <tr>\n",
       "      <th>1</th>\n",
       "      <td>CON3891</td>\n",
       "      <td>33</td>\n",
       "      <td>2</td>\n",
       "      <td>1</td>\n",
       "      <td>0.302</td>\n",
       "      <td>0.155</td>\n",
       "      <td>0.234</td>\n",
       "      <td>0.139</td>\n",
       "      <td>0.164</td>\n",
       "      <td>0.145</td>\n",
       "      <td>...</td>\n",
       "      <td>0.155</td>\n",
       "      <td>0.139</td>\n",
       "      <td>0.121</td>\n",
       "      <td>0.185</td>\n",
       "      <td>0.173</td>\n",
       "      <td>0.126</td>\n",
       "      <td>0.151</td>\n",
       "      <td>0.152</td>\n",
       "      <td>0.148</td>\n",
       "      <td>0.152</td>\n",
       "    </tr>\n",
       "    <tr>\n",
       "      <th>2</th>\n",
       "      <td>CON4664</td>\n",
       "      <td>40</td>\n",
       "      <td>2</td>\n",
       "      <td>1</td>\n",
       "      <td>0.324</td>\n",
       "      <td>0.180</td>\n",
       "      <td>0.226</td>\n",
       "      <td>0.197</td>\n",
       "      <td>0.206</td>\n",
       "      <td>0.142</td>\n",
       "      <td>...</td>\n",
       "      <td>0.176</td>\n",
       "      <td>0.143</td>\n",
       "      <td>0.150</td>\n",
       "      <td>0.173</td>\n",
       "      <td>0.228</td>\n",
       "      <td>0.144</td>\n",
       "      <td>0.150</td>\n",
       "      <td>0.171</td>\n",
       "      <td>0.174</td>\n",
       "      <td>0.143</td>\n",
       "    </tr>\n",
       "    <tr>\n",
       "      <th>3</th>\n",
       "      <td>CON7009</td>\n",
       "      <td>21</td>\n",
       "      <td>1</td>\n",
       "      <td>1</td>\n",
       "      <td>0.323</td>\n",
       "      <td>0.139</td>\n",
       "      <td>0.219</td>\n",
       "      <td>0.154</td>\n",
       "      <td>0.200</td>\n",
       "      <td>0.147</td>\n",
       "      <td>...</td>\n",
       "      <td>0.146</td>\n",
       "      <td>0.128</td>\n",
       "      <td>0.147</td>\n",
       "      <td>0.195</td>\n",
       "      <td>0.174</td>\n",
       "      <td>0.134</td>\n",
       "      <td>0.171</td>\n",
       "      <td>0.164</td>\n",
       "      <td>0.159</td>\n",
       "      <td>0.131</td>\n",
       "    </tr>\n",
       "    <tr>\n",
       "      <th>4</th>\n",
       "      <td>CON7024</td>\n",
       "      <td>59</td>\n",
       "      <td>1</td>\n",
       "      <td>1</td>\n",
       "      <td>0.295</td>\n",
       "      <td>0.143</td>\n",
       "      <td>0.168</td>\n",
       "      <td>0.139</td>\n",
       "      <td>0.173</td>\n",
       "      <td>0.171</td>\n",
       "      <td>...</td>\n",
       "      <td>0.156</td>\n",
       "      <td>0.140</td>\n",
       "      <td>0.135</td>\n",
       "      <td>0.325</td>\n",
       "      <td>0.168</td>\n",
       "      <td>0.162</td>\n",
       "      <td>0.167</td>\n",
       "      <td>0.144</td>\n",
       "      <td>0.138</td>\n",
       "      <td>0.157</td>\n",
       "    </tr>\n",
       "    <tr>\n",
       "      <th>...</th>\n",
       "      <td>...</td>\n",
       "      <td>...</td>\n",
       "      <td>...</td>\n",
       "      <td>...</td>\n",
       "      <td>...</td>\n",
       "      <td>...</td>\n",
       "      <td>...</td>\n",
       "      <td>...</td>\n",
       "      <td>...</td>\n",
       "      <td>...</td>\n",
       "      <td>...</td>\n",
       "      <td>...</td>\n",
       "      <td>...</td>\n",
       "      <td>...</td>\n",
       "      <td>...</td>\n",
       "      <td>...</td>\n",
       "      <td>...</td>\n",
       "      <td>...</td>\n",
       "      <td>...</td>\n",
       "      <td>...</td>\n",
       "      <td>...</td>\n",
       "    </tr>\n",
       "    <tr>\n",
       "      <th>110</th>\n",
       "      <td>RPG9102</td>\n",
       "      <td>42</td>\n",
       "      <td>2</td>\n",
       "      <td>2</td>\n",
       "      <td>0.294</td>\n",
       "      <td>0.168</td>\n",
       "      <td>0.238</td>\n",
       "      <td>0.142</td>\n",
       "      <td>0.167</td>\n",
       "      <td>0.162</td>\n",
       "      <td>...</td>\n",
       "      <td>0.144</td>\n",
       "      <td>0.117</td>\n",
       "      <td>0.105</td>\n",
       "      <td>0.199</td>\n",
       "      <td>0.157</td>\n",
       "      <td>0.127</td>\n",
       "      <td>0.136</td>\n",
       "      <td>0.143</td>\n",
       "      <td>0.147</td>\n",
       "      <td>0.134</td>\n",
       "    </tr>\n",
       "    <tr>\n",
       "      <th>111</th>\n",
       "      <td>RPG9103</td>\n",
       "      <td>37</td>\n",
       "      <td>1</td>\n",
       "      <td>2</td>\n",
       "      <td>0.293</td>\n",
       "      <td>0.140</td>\n",
       "      <td>0.257</td>\n",
       "      <td>0.151</td>\n",
       "      <td>0.170</td>\n",
       "      <td>0.125</td>\n",
       "      <td>...</td>\n",
       "      <td>0.132</td>\n",
       "      <td>0.106</td>\n",
       "      <td>0.114</td>\n",
       "      <td>0.257</td>\n",
       "      <td>0.164</td>\n",
       "      <td>0.134</td>\n",
       "      <td>0.153</td>\n",
       "      <td>0.157</td>\n",
       "      <td>0.144</td>\n",
       "      <td>0.140</td>\n",
       "    </tr>\n",
       "    <tr>\n",
       "      <th>112</th>\n",
       "      <td>RPG9119</td>\n",
       "      <td>41</td>\n",
       "      <td>1</td>\n",
       "      <td>2</td>\n",
       "      <td>0.323</td>\n",
       "      <td>0.173</td>\n",
       "      <td>0.278</td>\n",
       "      <td>0.171</td>\n",
       "      <td>0.188</td>\n",
       "      <td>0.170</td>\n",
       "      <td>...</td>\n",
       "      <td>0.167</td>\n",
       "      <td>0.139</td>\n",
       "      <td>0.143</td>\n",
       "      <td>0.172</td>\n",
       "      <td>0.170</td>\n",
       "      <td>0.157</td>\n",
       "      <td>0.150</td>\n",
       "      <td>0.181</td>\n",
       "      <td>0.143</td>\n",
       "      <td>0.151</td>\n",
       "    </tr>\n",
       "    <tr>\n",
       "      <th>113</th>\n",
       "      <td>RPG9121</td>\n",
       "      <td>51</td>\n",
       "      <td>1</td>\n",
       "      <td>2</td>\n",
       "      <td>0.311</td>\n",
       "      <td>0.174</td>\n",
       "      <td>0.226</td>\n",
       "      <td>0.153</td>\n",
       "      <td>0.178</td>\n",
       "      <td>0.127</td>\n",
       "      <td>...</td>\n",
       "      <td>0.145</td>\n",
       "      <td>0.126</td>\n",
       "      <td>0.136</td>\n",
       "      <td>0.158</td>\n",
       "      <td>0.270</td>\n",
       "      <td>0.135</td>\n",
       "      <td>0.140</td>\n",
       "      <td>0.162</td>\n",
       "      <td>0.145</td>\n",
       "      <td>0.123</td>\n",
       "    </tr>\n",
       "    <tr>\n",
       "      <th>114</th>\n",
       "      <td>RPG9126</td>\n",
       "      <td>56</td>\n",
       "      <td>1</td>\n",
       "      <td>2</td>\n",
       "      <td>0.294</td>\n",
       "      <td>0.164</td>\n",
       "      <td>0.207</td>\n",
       "      <td>0.154</td>\n",
       "      <td>0.134</td>\n",
       "      <td>0.111</td>\n",
       "      <td>...</td>\n",
       "      <td>0.130</td>\n",
       "      <td>0.121</td>\n",
       "      <td>0.119</td>\n",
       "      <td>0.249</td>\n",
       "      <td>0.172</td>\n",
       "      <td>0.130</td>\n",
       "      <td>0.139</td>\n",
       "      <td>0.145</td>\n",
       "      <td>0.147</td>\n",
       "      <td>0.127</td>\n",
       "    </tr>\n",
       "  </tbody>\n",
       "</table>\n",
       "<p>115 rows × 312 columns</p>\n",
       "</div>"
      ],
      "text/plain": [
       "    Subject ID  Age  Sex  Group  lh_bankssts_part1_thickness  \\\n",
       "0      CON3140   37    2      1                        0.322   \n",
       "1      CON3891   33    2      1                        0.302   \n",
       "2      CON4664   40    2      1                        0.324   \n",
       "3      CON7009   21    1      1                        0.323   \n",
       "4      CON7024   59    1      1                        0.295   \n",
       "..         ...  ...  ...    ...                          ...   \n",
       "110    RPG9102   42    2      2                        0.294   \n",
       "111    RPG9103   37    1      2                        0.293   \n",
       "112    RPG9119   41    1      2                        0.323   \n",
       "113    RPG9121   51    1      2                        0.311   \n",
       "114    RPG9126   56    1      2                        0.294   \n",
       "\n",
       "     lh_bankssts_part2_thickness  lh_caudalanteriorcingulate_part1_thickness  \\\n",
       "0                          0.147                                       0.200   \n",
       "1                          0.155                                       0.234   \n",
       "2                          0.180                                       0.226   \n",
       "3                          0.139                                       0.219   \n",
       "4                          0.143                                       0.168   \n",
       "..                           ...                                         ...   \n",
       "110                        0.168                                       0.238   \n",
       "111                        0.140                                       0.257   \n",
       "112                        0.173                                       0.278   \n",
       "113                        0.174                                       0.226   \n",
       "114                        0.164                                       0.207   \n",
       "\n",
       "     lh_caudalmiddlefrontal_part1_thickness  \\\n",
       "0                                     0.143   \n",
       "1                                     0.139   \n",
       "2                                     0.197   \n",
       "3                                     0.154   \n",
       "4                                     0.139   \n",
       "..                                      ...   \n",
       "110                                   0.142   \n",
       "111                                   0.151   \n",
       "112                                   0.171   \n",
       "113                                   0.153   \n",
       "114                                   0.154   \n",
       "\n",
       "     lh_caudalmiddlefrontal_part2_thickness  \\\n",
       "0                                     0.189   \n",
       "1                                     0.164   \n",
       "2                                     0.206   \n",
       "3                                     0.200   \n",
       "4                                     0.173   \n",
       "..                                      ...   \n",
       "110                                   0.167   \n",
       "111                                   0.170   \n",
       "112                                   0.188   \n",
       "113                                   0.178   \n",
       "114                                   0.134   \n",
       "\n",
       "     lh_caudalmiddlefrontal_part3_thickness  ...  \\\n",
       "0                                     0.133  ...   \n",
       "1                                     0.145  ...   \n",
       "2                                     0.142  ...   \n",
       "3                                     0.147  ...   \n",
       "4                                     0.171  ...   \n",
       "..                                      ...  ...   \n",
       "110                                   0.162  ...   \n",
       "111                                   0.125  ...   \n",
       "112                                   0.170  ...   \n",
       "113                                   0.127  ...   \n",
       "114                                   0.111  ...   \n",
       "\n",
       "     rh_supramarginal_part5_thickness  rh_supramarginal_part6_thickness  \\\n",
       "0                               0.171                             0.150   \n",
       "1                               0.155                             0.139   \n",
       "2                               0.176                             0.143   \n",
       "3                               0.146                             0.128   \n",
       "4                               0.156                             0.140   \n",
       "..                                ...                               ...   \n",
       "110                             0.144                             0.117   \n",
       "111                             0.132                             0.106   \n",
       "112                             0.167                             0.139   \n",
       "113                             0.145                             0.126   \n",
       "114                             0.130                             0.121   \n",
       "\n",
       "     rh_supramarginal_part7_thickness  rh_frontalpole_part1_thickness  \\\n",
       "0                               0.127                           0.218   \n",
       "1                               0.121                           0.185   \n",
       "2                               0.150                           0.173   \n",
       "3                               0.147                           0.195   \n",
       "4                               0.135                           0.325   \n",
       "..                                ...                             ...   \n",
       "110                             0.105                           0.199   \n",
       "111                             0.114                           0.257   \n",
       "112                             0.143                           0.172   \n",
       "113                             0.136                           0.158   \n",
       "114                             0.119                           0.249   \n",
       "\n",
       "     rh_temporalpole_part1_thickness  rh_transversetemporal_part1_thickness  \\\n",
       "0                              0.163                                  0.158   \n",
       "1                              0.173                                  0.126   \n",
       "2                              0.228                                  0.144   \n",
       "3                              0.174                                  0.134   \n",
       "4                              0.168                                  0.162   \n",
       "..                               ...                                    ...   \n",
       "110                            0.157                                  0.127   \n",
       "111                            0.164                                  0.134   \n",
       "112                            0.170                                  0.157   \n",
       "113                            0.270                                  0.135   \n",
       "114                            0.172                                  0.130   \n",
       "\n",
       "     rh_insula_part1_thickness  rh_insula_part2_thickness  \\\n",
       "0                        0.147                      0.157   \n",
       "1                        0.151                      0.152   \n",
       "2                        0.150                      0.171   \n",
       "3                        0.171                      0.164   \n",
       "4                        0.167                      0.144   \n",
       "..                         ...                        ...   \n",
       "110                      0.136                      0.143   \n",
       "111                      0.153                      0.157   \n",
       "112                      0.150                      0.181   \n",
       "113                      0.140                      0.162   \n",
       "114                      0.139                      0.145   \n",
       "\n",
       "     rh_insula_part3_thickness  rh_insula_part4_thickness  \n",
       "0                        0.147                      0.137  \n",
       "1                        0.148                      0.152  \n",
       "2                        0.174                      0.143  \n",
       "3                        0.159                      0.131  \n",
       "4                        0.138                      0.157  \n",
       "..                         ...                        ...  \n",
       "110                      0.147                      0.134  \n",
       "111                      0.144                      0.140  \n",
       "112                      0.143                      0.151  \n",
       "113                      0.145                      0.123  \n",
       "114                      0.147                      0.127  \n",
       "\n",
       "[115 rows x 312 columns]"
      ]
     },
     "execution_count": 17,
     "metadata": {},
     "output_type": "execute_result"
    }
   ],
   "source": [
    "FA_Dublin"
   ]
  },
  {
   "cell_type": "markdown",
   "id": "6cc737cc",
   "metadata": {},
   "source": [
    "### 3.3 sMRT: cortical thickness"
   ]
  },
  {
   "cell_type": "markdown",
   "id": "20784cd8",
   "metadata": {},
   "source": [
    "For the macro-structural data T1-weighted images were used and the surface was parcellated according to a template derived from the Desikan-Killiany atlas into 308 regions. For each of those regions cortical thickness was estimated. Before getting a deeper look into those data, first the atlas is loaded.\n",
    "The atlas can be accessed via the following github repository: https://github.com/RafaelRomeroGarcia/subParcellation. The files used for visualization are located in the folder \"500mm parcellation (308 regions)\"."
   ]
  },
  {
   "cell_type": "markdown",
   "id": "86bbeacf",
   "metadata": {},
   "source": [
    "To visualize the atlas, the nilearn module is used. "
   ]
  },
  {
   "cell_type": "code",
   "execution_count": 4,
   "id": "d6427c95",
   "metadata": {},
   "outputs": [
    {
     "ename": "TypeError",
     "evalue": "smooth_img() missing 1 required positional argument: 'fwhm'",
     "output_type": "error",
     "traceback": [
      "\u001b[0;31m---------------------------------------------------------------------------\u001b[0m",
      "\u001b[0;31mTypeError\u001b[0m                                 Traceback (most recent call last)",
      "\u001b[0;32m/var/folders/3m/1g132z9j3_14k03_9l9qv2wr0000gn/T/ipykernel_92266/3195040358.py\u001b[0m in \u001b[0;36m<module>\u001b[0;34m\u001b[0m\n\u001b[1;32m      1\u001b[0m \u001b[0;32mfrom\u001b[0m \u001b[0mnilearn\u001b[0m \u001b[0;32mimport\u001b[0m \u001b[0mimage\u001b[0m\u001b[0;34m\u001b[0m\u001b[0m\n\u001b[0;32m----> 2\u001b[0;31m \u001b[0msmoothed_img\u001b[0m \u001b[0;34m=\u001b[0m \u001b[0mimage\u001b[0m\u001b[0;34m.\u001b[0m\u001b[0msmooth_img\u001b[0m\u001b[0;34m(\u001b[0m\u001b[0;34m'/Users/mello/data/MSc5_research_project/data/atlas/500.aparc_cortical_consecutive.nii'\u001b[0m\u001b[0;34m)\u001b[0m\u001b[0;34m\u001b[0m\u001b[0m\n\u001b[0m",
      "\u001b[0;31mTypeError\u001b[0m: smooth_img() missing 1 required positional argument: 'fwhm'"
     ]
    }
   ],
   "source": [
    "from nilearn import image\n",
    "smoothed_img = image.smooth_img('/Users/mello/data/MSc5_research_project/data/atlas/500.aparc_cortical_consecutive.nii')"
   ]
  },
  {
   "cell_type": "code",
   "execution_count": 5,
   "id": "0ec68278",
   "metadata": {},
   "outputs": [],
   "source": [
    "import nibabel as nb"
   ]
  },
  {
   "cell_type": "code",
   "execution_count": 6,
   "id": "fc780291",
   "metadata": {},
   "outputs": [],
   "source": [
    "f_one = nb.load('/Users/mello/data/MSc5_research_project/data/atlas/500.aparc_cortical_consecutive.nii')\n",
    "f_two = nb.load('/Users/mello/data/MSc5_research_project/data/atlas/500.aparc.nii')"
   ]
  },
  {
   "cell_type": "code",
   "execution_count": 1,
   "id": "e669878c",
   "metadata": {},
   "outputs": [],
   "source": [
    "from nilearn import plotting"
   ]
  },
  {
   "cell_type": "code",
   "execution_count": 8,
   "id": "bfcca599",
   "metadata": {},
   "outputs": [
    {
     "name": "stderr",
     "output_type": "stream",
     "text": [
      "/Users/mello/miniconda3/envs/neuro_ai/lib/python3.7/site-packages/nilearn/plotting/img_plotting.py:348: FutureWarning: Default resolution of the MNI template will change from 2mm to 1mm in version 0.10.0\n",
      "  anat_img = load_mni152_template()\n"
     ]
    },
    {
     "data": {
      "text/plain": [
       "<nilearn.plotting.displays._slicers.OrthoSlicer at 0x7f929b606518>"
      ]
     },
     "execution_count": 8,
     "metadata": {},
     "output_type": "execute_result"
    },
    {
     "data": {
      "image/png": "[encoded data removed]",
      "text/plain": [
       "<Figure size 475.2x187.2 with 4 Axes>"
      ]
     },
     "metadata": {},
     "output_type": "display_data"
    }
   ],
   "source": [
    "plotting.plot_roi(f_one, title=\"Desikan-Killiany atlas\")"
   ]
  },
  {
   "cell_type": "code",
   "execution_count": 9,
   "id": "3d478ecc",
   "metadata": {},
   "outputs": [
    {
     "data": {
      "text/plain": [
       "<nilearn.plotting.displays._slicers.OrthoSlicer at 0x7f92282bffd0>"
      ]
     },
     "execution_count": 9,
     "metadata": {},
     "output_type": "execute_result"
    },
    {
     "data": {
      "image/png": "[encoded data removed]",
      "text/plain": [
       "<Figure size 475.2x187.2 with 4 Axes>"
      ]
     },
     "metadata": {},
     "output_type": "display_data"
    }
   ],
   "source": [
    "plotting.plot_roi(f_two, title=\"Desikan-Killiany atlas\")"
   ]
  },
  {
   "cell_type": "code",
   "execution_count": 18,
   "id": "a78fd8ae",
   "metadata": {},
   "outputs": [],
   "source": [
    "CT_Dublin = pd.read_csv('/Users/mello/Desktop/Dataset/PARC_500.aparc_thickness_Dublin.csv', delimiter = ',')\n",
    "CT_Maastricht = pd.read_csv('/Users/mello/Desktop/Dataset/PARC_500.aparc_thickness_Maast.csv', delimiter = ',')\n",
    "CT_Cobre = pd.read_csv('/Users/mello/Desktop/Dataset/PARC_500.aparc_thickness_Cobre.csv', delimiter = ',')"
   ]
  }
 ],
 "metadata": {
  "kernelspec": {
   "display_name": "Python 3 (ipykernel)",
   "language": "python",
   "name": "python3"
  },
  "language_info": {
   "codemirror_mode": {
    "name": "ipython",
    "version": 3
   },
   "file_extension": ".py",
   "mimetype": "text/x-python",
   "name": "python",
   "nbconvert_exporter": "python",
   "pygments_lexer": "ipython3",
   "version": "3.7.0"
  },
  "vscode": {
   "interpreter": {
    "hash": "578504114d49301275c44c87035f08411733f9928d9347745d7de100c09f7611"
   }
  }
 },
 "nbformat": 4,
 "nbformat_minor": 5
}
