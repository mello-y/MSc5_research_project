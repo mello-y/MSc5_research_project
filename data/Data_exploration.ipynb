{
 "cells": [
  {
   "cell_type": "markdown",
   "id": "97761504",
   "metadata": {},
   "source": [
    "# Data exploration for MSc5_research_project "
   ]
  },
  {
   "cell_type": "markdown",
   "id": "8b379b25",
   "metadata": {},
   "source": [
    "This jupyter notebook deals with exploring the data for my research project within the MSc05 course in the Neurocognitive Psychology lab at Goethe University Frankfurt within the psychology master degree program. \n",
    "\n",
    "The main idea of the project is to use machine learning in order to predict whether a person can be classified either as a healthy control or a patient with psychotic disorder based on different MRI metrics and to see which of them provides more accuracy. \n",
    "\n",
    "\n",
    "\n"
   ]
  },
  {
   "cell_type": "markdown",
   "id": "b0d27a69",
   "metadata": {},
   "source": [
    "## 1. Data access"
   ]
  },
  {
   "cell_type": "markdown",
   "id": "27f11691",
   "metadata": {},
   "source": [
    "The data I am going to use for the project is available on [figshare](https://figshare.com/articles/dataset/Data_for_Functional_MRI_connectivity_accurately_distinguishes_cases_with_psychotic_disorders_from_healthy_controls_based_on_cortical_features_associated_with_brain_network_development_/12361550) and orginates from the paper \"Functional MRI connectivity accurately distinguishes cases with psychotic disorders from healthy controls, based on cortical features associated with brain network development\" by [Young et al. (2020)](https://doi.org/10.1101/19009894). The github repository for the study can be accessed [here](https://github.com/jmyoung36/fMRI_connectivity_accurately_distinguishes_cases).\n",
    "\n",
    "\n"
   ]
  },
  {
   "cell_type": "markdown",
   "id": "1f58425b",
   "metadata": {},
   "source": [
    "## 2. What does the data contain? General overview"
   ]
  },
  {
   "cell_type": "markdown",
   "id": "c451ba9c",
   "metadata": {},
   "source": [
    "The already pre-processed data contains different metrics for three different locations being Dublin, Maastricht and Cobre. \n",
    "\n",
    "For the **macro-structural** data ***cortical thickness (CT)*** was estimated for 308 cortical regions according to a derived version of the Desikian-Killiany atlas [(Desikan et al, 2006)](https://www.sciencedirect.com/science/article/abs/pii/S1053811906000437?via%3Dihub). The files for the derived and adjusted atlas can be found in this [github repository](https://github.com/RafaelRomeroGarcia/subParcellation), the respective paper [here](https://doi.org/10.1016/j.neuroimage.2011.10.086).\n",
    "\n",
    "The **micro-structural** data contains diffusion weighted images (DWI) from which regional cortical measures such as ***mean diffusivity (MD)*** and ***fractional anisotropy (FA)*** were estimated. \n",
    "\n",
    "There are further metrics such as ***functional magnet resonance imaging data (fMRI), fMRI connectivity and network data*** and ***structural connectivity*** and ***DWI tractography***. For project purposes, only the **macro and micro-structural** data will be used. On top of that, the data for only Dublin is going to be explored since it provides the best image quality (see Table 1 in [Young et al., 2020)](https://doi.org/10.1101/19009894) and not every modality was measured for the Cobre dataset. \n",
    "\n",
    "Demographic data is also provided."
   ]
  },
  {
   "cell_type": "markdown",
   "id": "e6b3afe2",
   "metadata": {},
   "source": [
    "## 3. Demographic data"
   ]
  },
  {
   "cell_type": "markdown",
   "id": "b0cd24c6",
   "metadata": {},
   "source": [
    "First of all, I am going to explore the demographic data to get a better understanding of the sample. In the Dublin dataset, there is a different subset of patients with **DWI** data compared to those with **CT** data. Both \"subsets\" are loaded and compared with regard to basic demographic variables."
   ]
  },
  {
   "cell_type": "code",
   "execution_count": 3,
   "id": "43d78adc",
   "metadata": {},
   "outputs": [],
   "source": [
    "#import module to read the CT and DWI data\n",
    "\n",
    "import pandas as pd\n",
    "\n",
    "#store CT data in variable \"CT_Dublin\"\n",
    "\n",
    "CT_Dublin = pd.read_csv('/Users/mello/Desktop/Dataset/PARC_500.aparc_thickness_Dublin.csv', delimiter = ',')"
   ]
  },
  {
   "cell_type": "code",
   "execution_count": 4,
   "id": "e8565247",
   "metadata": {},
   "outputs": [
    {
     "data": {
      "text/plain": [
       "Index(['Subject ID', 'Age', 'Sex', 'Group', 'lh_bankssts_part1_thickness',\n",
       "       'lh_bankssts_part2_thickness',\n",
       "       'lh_caudalanteriorcingulate_part1_thickness',\n",
       "       'lh_caudalmiddlefrontal_part1_thickness',\n",
       "       'lh_caudalmiddlefrontal_part2_thickness',\n",
       "       'lh_caudalmiddlefrontal_part3_thickness',\n",
       "       ...\n",
       "       'rh_supramarginal_part5_thickness', 'rh_supramarginal_part6_thickness',\n",
       "       'rh_supramarginal_part7_thickness', 'rh_frontalpole_part1_thickness',\n",
       "       'rh_temporalpole_part1_thickness',\n",
       "       'rh_transversetemporal_part1_thickness', 'rh_insula_part1_thickness',\n",
       "       'rh_insula_part2_thickness', 'rh_insula_part3_thickness',\n",
       "       'rh_insula_part4_thickness'],\n",
       "      dtype='object', length=312)"
      ]
     },
     "execution_count": 4,
     "metadata": {},
     "output_type": "execute_result"
    }
   ],
   "source": [
    "#get columns of pandas dataframe\n",
    "\n",
    "CT_Dublin.columns"
   ]
  },
  {
   "cell_type": "markdown",
   "id": "0dcbaebb",
   "metadata": {},
   "source": [
    "As we can see, besides the different brain regions there are columns that indicate the demographic data that we are interested in for now. "
   ]
  },
  {
   "cell_type": "code",
   "execution_count": 5,
   "id": "7e4759c6",
   "metadata": {},
   "outputs": [],
   "source": [
    "#select a subset of the CT data\n",
    "\n",
    "demographic_CT = CT_Dublin[[\"Subject ID\", \"Age\", \"Sex\", \"Group\"]]"
   ]
  },
  {
   "cell_type": "code",
   "execution_count": 6,
   "id": "a4d72b9b",
   "metadata": {
    "scrolled": false
   },
   "outputs": [
    {
     "data": {
      "text/html": [
       "<div>\n",
       "<style scoped>\n",
       "    .dataframe tbody tr th:only-of-type {\n",
       "        vertical-align: middle;\n",
       "    }\n",
       "\n",
       "    .dataframe tbody tr th {\n",
       "        vertical-align: top;\n",
       "    }\n",
       "\n",
       "    .dataframe thead th {\n",
       "        text-align: right;\n",
       "    }\n",
       "</style>\n",
       "<table border=\"1\" class=\"dataframe\">\n",
       "  <thead>\n",
       "    <tr style=\"text-align: right;\">\n",
       "      <th></th>\n",
       "      <th>Subject ID</th>\n",
       "      <th>Age</th>\n",
       "      <th>Sex</th>\n",
       "      <th>Group</th>\n",
       "    </tr>\n",
       "  </thead>\n",
       "  <tbody>\n",
       "    <tr>\n",
       "      <th>0</th>\n",
       "      <td>CON9225</td>\n",
       "      <td>21</td>\n",
       "      <td>2</td>\n",
       "      <td>1</td>\n",
       "    </tr>\n",
       "    <tr>\n",
       "      <th>1</th>\n",
       "      <td>CON9229</td>\n",
       "      <td>28</td>\n",
       "      <td>2</td>\n",
       "      <td>1</td>\n",
       "    </tr>\n",
       "    <tr>\n",
       "      <th>2</th>\n",
       "      <td>CON9231</td>\n",
       "      <td>29</td>\n",
       "      <td>2</td>\n",
       "      <td>1</td>\n",
       "    </tr>\n",
       "    <tr>\n",
       "      <th>3</th>\n",
       "      <td>GASP3037</td>\n",
       "      <td>61</td>\n",
       "      <td>1</td>\n",
       "      <td>2</td>\n",
       "    </tr>\n",
       "    <tr>\n",
       "      <th>4</th>\n",
       "      <td>GASP3040</td>\n",
       "      <td>47</td>\n",
       "      <td>1</td>\n",
       "      <td>2</td>\n",
       "    </tr>\n",
       "    <tr>\n",
       "      <th>...</th>\n",
       "      <td>...</td>\n",
       "      <td>...</td>\n",
       "      <td>...</td>\n",
       "      <td>...</td>\n",
       "    </tr>\n",
       "    <tr>\n",
       "      <th>103</th>\n",
       "      <td>RPG9019</td>\n",
       "      <td>31</td>\n",
       "      <td>1</td>\n",
       "      <td>2</td>\n",
       "    </tr>\n",
       "    <tr>\n",
       "      <th>104</th>\n",
       "      <td>RPG9102</td>\n",
       "      <td>42</td>\n",
       "      <td>2</td>\n",
       "      <td>2</td>\n",
       "    </tr>\n",
       "    <tr>\n",
       "      <th>105</th>\n",
       "      <td>RPG9119</td>\n",
       "      <td>41</td>\n",
       "      <td>1</td>\n",
       "      <td>2</td>\n",
       "    </tr>\n",
       "    <tr>\n",
       "      <th>106</th>\n",
       "      <td>RPG9121</td>\n",
       "      <td>51</td>\n",
       "      <td>1</td>\n",
       "      <td>2</td>\n",
       "    </tr>\n",
       "    <tr>\n",
       "      <th>107</th>\n",
       "      <td>RPG9126</td>\n",
       "      <td>56</td>\n",
       "      <td>1</td>\n",
       "      <td>2</td>\n",
       "    </tr>\n",
       "  </tbody>\n",
       "</table>\n",
       "<p>108 rows × 4 columns</p>\n",
       "</div>"
      ],
      "text/plain": [
       "    Subject ID  Age  Sex  Group\n",
       "0      CON9225   21    2      1\n",
       "1      CON9229   28    2      1\n",
       "2      CON9231   29    2      1\n",
       "3     GASP3037   61    1      2\n",
       "4     GASP3040   47    1      2\n",
       "..         ...  ...  ...    ...\n",
       "103    RPG9019   31    1      2\n",
       "104    RPG9102   42    2      2\n",
       "105    RPG9119   41    1      2\n",
       "106    RPG9121   51    1      2\n",
       "107    RPG9126   56    1      2\n",
       "\n",
       "[108 rows x 4 columns]"
      ]
     },
     "execution_count": 6,
     "metadata": {},
     "output_type": "execute_result"
    }
   ],
   "source": [
    "#view demographic data of CT data\n",
    "\n",
    "demographic_CT"
   ]
  },
  {
   "cell_type": "markdown",
   "id": "788ce172",
   "metadata": {},
   "source": [
    "As it can be seen, for the **CT** data there is a total of N=108 participants. "
   ]
  },
  {
   "cell_type": "markdown",
   "id": "522e1048",
   "metadata": {},
   "source": [
    "Having the subset of demographic information for the **CT** data, there is an excel file for the demographic information for the **DWI** data. "
   ]
  },
  {
   "cell_type": "code",
   "execution_count": 54,
   "id": "6ea95251",
   "metadata": {},
   "outputs": [
    {
     "data": {
      "text/html": [
       "<div>\n",
       "<style scoped>\n",
       "    .dataframe tbody tr th:only-of-type {\n",
       "        vertical-align: middle;\n",
       "    }\n",
       "\n",
       "    .dataframe tbody tr th {\n",
       "        vertical-align: top;\n",
       "    }\n",
       "\n",
       "    .dataframe thead th {\n",
       "        text-align: right;\n",
       "    }\n",
       "</style>\n",
       "<table border=\"1\" class=\"dataframe\">\n",
       "  <thead>\n",
       "    <tr style=\"text-align: right;\">\n",
       "      <th></th>\n",
       "      <th>Subject ID</th>\n",
       "      <th>Age</th>\n",
       "      <th>Sex</th>\n",
       "      <th>Group</th>\n",
       "    </tr>\n",
       "  </thead>\n",
       "  <tbody>\n",
       "    <tr>\n",
       "      <th>0</th>\n",
       "      <td>con11</td>\n",
       "      <td>34</td>\n",
       "      <td>1</td>\n",
       "      <td>1</td>\n",
       "    </tr>\n",
       "    <tr>\n",
       "      <th>1</th>\n",
       "      <td>con12</td>\n",
       "      <td>26</td>\n",
       "      <td>2</td>\n",
       "      <td>1</td>\n",
       "    </tr>\n",
       "    <tr>\n",
       "      <th>2</th>\n",
       "      <td>con18</td>\n",
       "      <td>27</td>\n",
       "      <td>2</td>\n",
       "      <td>1</td>\n",
       "    </tr>\n",
       "    <tr>\n",
       "      <th>3</th>\n",
       "      <td>con19</td>\n",
       "      <td>36</td>\n",
       "      <td>1</td>\n",
       "      <td>1</td>\n",
       "    </tr>\n",
       "    <tr>\n",
       "      <th>4</th>\n",
       "      <td>con20</td>\n",
       "      <td>23</td>\n",
       "      <td>1</td>\n",
       "      <td>1</td>\n",
       "    </tr>\n",
       "    <tr>\n",
       "      <th>...</th>\n",
       "      <td>...</td>\n",
       "      <td>...</td>\n",
       "      <td>...</td>\n",
       "      <td>...</td>\n",
       "    </tr>\n",
       "    <tr>\n",
       "      <th>118</th>\n",
       "      <td>pat92</td>\n",
       "      <td>26</td>\n",
       "      <td>1</td>\n",
       "      <td>2</td>\n",
       "    </tr>\n",
       "    <tr>\n",
       "      <th>119</th>\n",
       "      <td>pat94</td>\n",
       "      <td>27</td>\n",
       "      <td>1</td>\n",
       "      <td>2</td>\n",
       "    </tr>\n",
       "    <tr>\n",
       "      <th>120</th>\n",
       "      <td>pat96</td>\n",
       "      <td>23</td>\n",
       "      <td>2</td>\n",
       "      <td>2</td>\n",
       "    </tr>\n",
       "    <tr>\n",
       "      <th>121</th>\n",
       "      <td>pat98</td>\n",
       "      <td>32</td>\n",
       "      <td>2</td>\n",
       "      <td>2</td>\n",
       "    </tr>\n",
       "    <tr>\n",
       "      <th>122</th>\n",
       "      <td>pat9</td>\n",
       "      <td>25</td>\n",
       "      <td>2</td>\n",
       "      <td>2</td>\n",
       "    </tr>\n",
       "  </tbody>\n",
       "</table>\n",
       "<p>123 rows × 4 columns</p>\n",
       "</div>"
      ],
      "text/plain": [
       "    Subject ID  Age  Sex  Group\n",
       "0        con11   34    1      1\n",
       "1        con12   26    2      1\n",
       "2        con18   27    2      1\n",
       "3        con19   36    1      1\n",
       "4        con20   23    1      1\n",
       "..         ...  ...  ...    ...\n",
       "118      pat92   26    1      2\n",
       "119      pat94   27    1      2\n",
       "120      pat96   23    2      2\n",
       "121      pat98   32    2      2\n",
       "122       pat9   25    2      2\n",
       "\n",
       "[123 rows x 4 columns]"
      ]
     },
     "execution_count": 54,
     "metadata": {},
     "output_type": "execute_result"
    }
   ],
   "source": [
    "#read an Excel file as pandas data frame\n",
    "\n",
    "demographic_DWI = pd.read_excel(r'/Users/mello/data/MSc5_research_project/data/DTI_demographics_Dublin.xls')\n",
    "demographic_DWI"
   ]
  },
  {
   "cell_type": "markdown",
   "id": "3cf47c65",
   "metadata": {},
   "source": [
    "For the **DWI** data there is a total of N=123 participants."
   ]
  },
  {
   "cell_type": "markdown",
   "id": "ab075d9d",
   "metadata": {},
   "source": [
    "<font color='red'>**NOTE:**</font> **In my case, the excel file format had to be in \"xls\" for it to be converted into a pandas data frame. The formats \"xlsm\" and \"xlsx\" did not work for me. In case you get an import error saying \"Missing optional dependency \"xlrd\"\", run the following code below in bash. For further help, click [here](https://datatofish.com/read_excel/).**"
   ]
  },
  {
   "cell_type": "code",
   "execution_count": 8,
   "id": "01969357",
   "metadata": {},
   "outputs": [
    {
     "name": "stdout",
     "output_type": "stream",
     "text": [
      "Requirement already satisfied: xlrd in /Users/mello/miniconda3/envs/neuro_ai/lib/python3.7/site-packages (2.0.1)\r\n"
     ]
    }
   ],
   "source": [
    "#use ! to run command in bash\n",
    "!pip install xlrd"
   ]
  },
  {
   "cell_type": "markdown",
   "id": "6c190f7c",
   "metadata": {},
   "source": [
    "Now, having demographic data subsets of both **CT** and **DWI** data, they can be explored. The documentation on [figshare](https://figshare.com/articles/dataset/Data_for_Functional_MRI_connectivity_accurately_distinguishes_cases_with_psychotic_disorders_from_healthy_controls_based_on_cortical_features_associated_with_brain_network_development_/12361550) provides label information for Sex (1=male, 2=female) and Group (1=control, 2=case)."
   ]
  },
  {
   "cell_type": "code",
   "execution_count": 28,
   "id": "5a6c3dcb",
   "metadata": {},
   "outputs": [
    {
     "name": "stdout",
     "output_type": "stream",
     "text": [
      "1    80\n",
      "2    28\n",
      "Name: Group, dtype: int64\n"
     ]
    }
   ],
   "source": [
    "#n of control and patients\n",
    "print(demographic_CT['Group'].value_counts()) "
   ]
  },
  {
   "cell_type": "code",
   "execution_count": 29,
   "id": "73e36f22",
   "metadata": {},
   "outputs": [
    {
     "name": "stdout",
     "output_type": "stream",
     "text": [
      "1    60\n",
      "2    48\n",
      "Name: Sex, dtype: int64\n"
     ]
    }
   ],
   "source": [
    "#n of males and females\n",
    "print(demographic_CT['Sex'].value_counts()) "
   ]
  },
  {
   "cell_type": "code",
   "execution_count": 66,
   "id": "9718020b",
   "metadata": {},
   "outputs": [],
   "source": [
    "#modules for visualization\n",
    "import matplotlib.pyplot as plt\n",
    "%matplotlib inline\n",
    "import numpy as np\n",
    "import seaborn as sns"
   ]
  },
  {
   "cell_type": "code",
   "execution_count": 38,
   "id": "aed3be6b",
   "metadata": {},
   "outputs": [
    {
     "data": {
      "text/plain": [
       "count    108.000000\n",
       "mean      31.231481\n",
       "std       10.911373\n",
       "min       18.000000\n",
       "25%       22.000000\n",
       "50%       29.000000\n",
       "75%       38.250000\n",
       "max       64.000000\n",
       "Name: Age, dtype: float64"
      ]
     },
     "execution_count": 38,
     "metadata": {},
     "output_type": "execute_result"
    }
   ],
   "source": [
    "#get age information\n",
    "demographic_CT['Age'].describe()"
   ]
  },
  {
   "cell_type": "markdown",
   "id": "e1e2bac2",
   "metadata": {},
   "source": [
    "To sum up the demographic data, for the **CT** data within the Dublin sample there is n=80 controls and n=28 patients, a total of N=108 participants of which n=60 are males and n=48 females. The mean age is M=31.23 years with a standard deviation of SD=10.91 years. The age ranges from min=18 years to max=64 years."
   ]
  },
  {
   "cell_type": "code",
   "execution_count": 56,
   "id": "7b768ed6",
   "metadata": {},
   "outputs": [
    {
     "name": "stdout",
     "output_type": "stream",
     "text": [
      "2    64\n",
      "1    59\n",
      "Name: Group, dtype: int64\n"
     ]
    }
   ],
   "source": [
    "#n of control and patients\n",
    "print(demographic_DWI['Group'].value_counts()) "
   ]
  },
  {
   "cell_type": "code",
   "execution_count": 52,
   "id": "2d9290fc",
   "metadata": {},
   "outputs": [
    {
     "name": "stdout",
     "output_type": "stream",
     "text": [
      "1    66\n",
      "2    57\n",
      "Name: Sex, dtype: int64\n"
     ]
    }
   ],
   "source": [
    "#n of males and females\n",
    "print(demographic_DWI['Sex'].value_counts()) "
   ]
  },
  {
   "cell_type": "code",
   "execution_count": 53,
   "id": "fc50e403",
   "metadata": {},
   "outputs": [
    {
     "data": {
      "text/plain": [
       "count    123.000000\n",
       "mean      28.455285\n",
       "std        8.518304\n",
       "min       17.000000\n",
       "25%       22.000000\n",
       "50%       27.000000\n",
       "75%       32.000000\n",
       "max       50.000000\n",
       "Name: Age, dtype: float64"
      ]
     },
     "execution_count": 53,
     "metadata": {},
     "output_type": "execute_result"
    }
   ],
   "source": [
    "#get age information\n",
    "demographic_DWI['Age'].describe()"
   ]
  },
  {
   "cell_type": "markdown",
   "id": "abf93314",
   "metadata": {},
   "source": [
    "The **DWI data** subset for the Dublin sample consists of a total of N=123 particpants with n=56 being control and n=64 patients. There are n=66 males and n=57 females. The mean age is M=28.46 years with a standard deviation of SD=8.52 years. The age ranges from min=17 years to max=50 years."
   ]
  },
  {
   "cell_type": "markdown",
   "id": "e75fa436",
   "metadata": {},
   "source": [
    "### 3. Exploring the different modalities"
   ]
  },
  {
   "cell_type": "markdown",
   "id": "6cc737cc",
   "metadata": {},
   "source": [
    "### 3.3 sMRT: cortical thickness"
   ]
  },
  {
   "cell_type": "markdown",
   "id": "20784cd8",
   "metadata": {},
   "source": [
    "For the macro-structural data T1-weighted images were used and the surface was parcellated according to a template derived from the Desikan-Killiany atlas into 308 regions. For each of those regions cortical thickness was estimated. Before getting a deeper look into those data, first the atlas is loaded.\n",
    "The atlas can be accessed via the following github repository: https://github.com/RafaelRomeroGarcia/subParcellation. The files used for visualization are located in the folder \"500mm parcellation (308 regions)\"."
   ]
  },
  {
   "cell_type": "markdown",
   "id": "86bbeacf",
   "metadata": {},
   "source": [
    "To visualize the atlas, the nilearn module is used. "
   ]
  },
  {
   "cell_type": "code",
   "execution_count": null,
   "id": "0ec68278",
   "metadata": {},
   "outputs": [],
   "source": [
    "import nibabel as nb"
   ]
  },
  {
   "cell_type": "code",
   "execution_count": null,
   "id": "fc780291",
   "metadata": {},
   "outputs": [],
   "source": [
    "f_one = nb.load('/Users/mello/data/MSc5_research_project/data/atlas/500.aparc_cortical_consecutive.nii')\n",
    "f_two = nb.load('/Users/mello/data/MSc5_research_project/data/atlas/500.aparc.nii')"
   ]
  },
  {
   "cell_type": "code",
   "execution_count": null,
   "id": "68f3eb8a",
   "metadata": {},
   "outputs": [],
   "source": [
    "type(f_one)"
   ]
  },
  {
   "cell_type": "code",
   "execution_count": null,
   "id": "4bf9b488",
   "metadata": {},
   "outputs": [],
   "source": [
    "test = f_one.get_data()"
   ]
  },
  {
   "cell_type": "code",
   "execution_count": null,
   "id": "995129e2",
   "metadata": {},
   "outputs": [],
   "source": [
    "test.shape\n",
    "\n",
    "import numpy as np\n",
    "np.unique(test)\n",
    "\n",
    "np.where(test==4)\n",
    "\n",
    "#For isolating regions\n",
    "#region_1 = test\n",
    "#region_1[region_1!=1] = 0"
   ]
  },
  {
   "cell_type": "code",
   "execution_count": null,
   "id": "e669878c",
   "metadata": {},
   "outputs": [],
   "source": [
    "from nilearn import plotting"
   ]
  },
  {
   "cell_type": "code",
   "execution_count": null,
   "id": "bfcca599",
   "metadata": {},
   "outputs": [],
   "source": [
    "plotting.plot_roi(f_one, title=\"Desikan-Killiany atlas\")"
   ]
  },
  {
   "cell_type": "code",
   "execution_count": null,
   "id": "3d478ecc",
   "metadata": {},
   "outputs": [],
   "source": [
    "plotting.plot_roi(f_two, title=\"Desikan-Killiany atlas\")"
   ]
  },
  {
   "cell_type": "code",
   "execution_count": null,
   "id": "eb2869b6",
   "metadata": {
    "scrolled": true
   },
   "outputs": [],
   "source": [
    "plotting.plot_img_on_surf(f_one,\n",
    "                          views=['lateral', 'medial'],\n",
    "                          hemispheres=['left', 'right'],\n",
    "                          colorbar=True)\n",
    "plotting.show()"
   ]
  },
  {
   "cell_type": "code",
   "execution_count": null,
   "id": "816913bf",
   "metadata": {
    "scrolled": true
   },
   "outputs": [],
   "source": [
    "plotting.plot_img_on_surf(f_two,\n",
    "                          views=['lateral', 'medial'],\n",
    "                          hemispheres=['left', 'right'],\n",
    "                          colorbar=True)\n",
    "plotting.show()"
   ]
  },
  {
   "cell_type": "code",
   "execution_count": null,
   "id": "b4bbfff0",
   "metadata": {
    "scrolled": true
   },
   "outputs": [],
   "source": [
    "plotting.plot_glass_brain(f_one, display_mode='r', plot_abs=False,\n",
    "                          title='Glass brain', threshold=2.)\n",
    "\n",
    "plotting.plot_stat_map(f_one, display_mode='x', threshold=1.,\n",
    "                       cut_coords=range(0, 51, 10), title='Slices')"
   ]
  },
  {
   "cell_type": "code",
   "execution_count": null,
   "id": "dc461354",
   "metadata": {
    "scrolled": true
   },
   "outputs": [],
   "source": [
    "plotting.plot_stat_map(f_one, display_mode='x', threshold=1.,\n",
    "                       cut_coords=range(0, 51, 10), title='Slices')"
   ]
  },
  {
   "cell_type": "markdown",
   "id": "48a0094c",
   "metadata": {},
   "source": [
    "### 3.1 DTI Networks"
   ]
  },
  {
   "cell_type": "markdown",
   "id": "d2ba0be6",
   "metadata": {},
   "source": [
    "First of all, I am going to explore the DTI network data, followed by the regional MD and FA values and lastly the CT data."
   ]
  },
  {
   "cell_type": "markdown",
   "id": "86c38d60",
   "metadata": {},
   "source": [
    "The data that contains the DTI networks are available as matlab files. In the following, it is depicted how the matlab files can be downloaded and read."
   ]
  },
  {
   "cell_type": "markdown",
   "id": "10e5161d",
   "metadata": {},
   "source": [
    "####  3.1.1 Download the .mat files"
   ]
  },
  {
   "cell_type": "markdown",
   "id": "04d01d26",
   "metadata": {},
   "source": [
    "If you click on the name of the matlab datafile on figshare , it then only shows you the preview of the matlab file and the link of that is for the respective preview. If you want to copy the link of the matlab file itself, you have to right-click on the datafile name and then copy the link."
   ]
  },
  {
   "cell_type": "code",
   "execution_count": null,
   "id": "f19787fd",
   "metadata": {},
   "outputs": [],
   "source": [
    "import urllib.request"
   ]
  },
  {
   "cell_type": "code",
   "execution_count": null,
   "id": "90cd75aa",
   "metadata": {},
   "outputs": [],
   "source": [
    "print('Beginning file download with urllib2...')\n",
    "\n",
    "url = \"https://figshare.com/ndownloader/files/22782440\"\n",
    "urllib.request.urlretrieve(url, '/Users/mello/data/Msc5_research_project/data/DTI_Dublin.mat')"
   ]
  },
  {
   "cell_type": "code",
   "execution_count": null,
   "id": "913de0aa",
   "metadata": {},
   "outputs": [],
   "source": [
    "print('Beginning file download with urllib2...')\n",
    "\n",
    "url = \"https://figshare.com/articles/dataset/Data_for_Functional_MRI_connectivity_accurately_distinguishes_cases_with_psychotic_disorders_from_healthy_controls_based_on_cortical_features_associated_with_brain_network_development_/12361550?file=22782443\" \n",
    "urllib.request.urlretrieve(url, '/Users/mello/data/Msc5_research_project/data/DTI_Maastricht.mat')"
   ]
  },
  {
   "cell_type": "markdown",
   "id": "cc431cb7",
   "metadata": {},
   "source": [
    "#### 3.1.2 Read the .mat files"
   ]
  },
  {
   "cell_type": "code",
   "execution_count": null,
   "id": "2a0888cf",
   "metadata": {},
   "outputs": [],
   "source": [
    "import scipy.io"
   ]
  },
  {
   "cell_type": "markdown",
   "id": "8bd79bc9",
   "metadata": {},
   "source": [
    "**Dublin**"
   ]
  },
  {
   "cell_type": "code",
   "execution_count": null,
   "id": "caa6af8e",
   "metadata": {},
   "outputs": [],
   "source": [
    "DTI_Dublin = scipy.io.loadmat('/Users/mello/data/Msc5_research_project/data/DTI_Dublin.mat')"
   ]
  },
  {
   "cell_type": "code",
   "execution_count": null,
   "id": "846c9cb8",
   "metadata": {},
   "outputs": [],
   "source": [
    "DTI_Dublin.keys()"
   ]
  },
  {
   "cell_type": "code",
   "execution_count": null,
   "id": "bf5dec54",
   "metadata": {},
   "outputs": [],
   "source": [
    "DTI_Dublin['nostreamlines_new'].shape"
   ]
  },
  {
   "cell_type": "markdown",
   "id": "105ac268",
   "metadata": {},
   "source": [
    "123 Probanden mit DTI Matrizen.\n",
    "Wie sehen DTI Matrizen aus?"
   ]
  },
  {
   "cell_type": "code",
   "execution_count": null,
   "id": "cb224776",
   "metadata": {},
   "outputs": [],
   "source": [
    "DTI_Dublin['nostreamlines_new'][0].shape"
   ]
  },
  {
   "cell_type": "code",
   "execution_count": null,
   "id": "3768ff65",
   "metadata": {},
   "outputs": [],
   "source": [
    "DTI_Dublin['nostreamlines_new'][0][0].shape"
   ]
  },
  {
   "cell_type": "markdown",
   "id": "ec5118dd",
   "metadata": {},
   "source": [
    "Zwischen 308 Regionen basierend auf DTI Daten Werte (siehe course website, nochmal durchlesen!!)"
   ]
  },
  {
   "cell_type": "code",
   "execution_count": null,
   "id": "aba1649d",
   "metadata": {},
   "outputs": [],
   "source": [
    "import matplotlib.pyplot as plt\n",
    "import seaborn as sns\n",
    "\n",
    "plt.figure(figsize=(10,7))\n",
    "sns.heatmap(DTI_Dublin['nostreamlines_new'][0][0], xticklabels=False, cmap='rocket')"
   ]
  },
  {
   "cell_type": "markdown",
   "id": "ad17563a",
   "metadata": {},
   "source": [
    "**Maastricht**"
   ]
  },
  {
   "cell_type": "code",
   "execution_count": null,
   "id": "bcd06b42",
   "metadata": {},
   "outputs": [],
   "source": [
    "DTI_Maastricht = scipy.io.loadmat('/Users/mello/Desktop/Dataset//DTI_Maastricht.mat')"
   ]
  },
  {
   "cell_type": "code",
   "execution_count": null,
   "id": "0837fb14",
   "metadata": {},
   "outputs": [],
   "source": [
    "DTI_Maastricht.keys()"
   ]
  },
  {
   "cell_type": "markdown",
   "id": "8341741f",
   "metadata": {},
   "source": [
    "### 3.2 Regional Mean diffusivity (MD) and functional anisotropy (FA) values"
   ]
  },
  {
   "cell_type": "code",
   "execution_count": null,
   "id": "8c5e4836",
   "metadata": {},
   "outputs": [],
   "source": [
    "import pandas as pd"
   ]
  },
  {
   "cell_type": "code",
   "execution_count": null,
   "id": "7dc4bfdf",
   "metadata": {},
   "outputs": [],
   "source": [
    "MD_Dublin = pd.read_csv('/Users/mello/Desktop/Dataset/PARC_500.aparc_MD_cortexAv_mean_Dublin.csv', delimiter = ',')\n",
    "MD_Maastricht = pd.read_csv('/Users/mello/Desktop/Dataset/PARC_500.aparc_MD_cortexAv_mean_Maastricht.csv', delimiter = ',')"
   ]
  },
  {
   "cell_type": "code",
   "execution_count": null,
   "id": "aebc11a4",
   "metadata": {},
   "outputs": [],
   "source": [
    "FA_Dublin = pd.read_csv('/Users/mello/Desktop/Dataset/PARC_500.aparc_FA_cortexAv_mean_Dublin.csv', delimiter = ',')\n",
    "FA_Maastricht = pd.read_csv('/Users/mello/Desktop/Dataset/PARC_500.aparc_FA_cortexAv_mean_Maastricht.csv', delimiter = ',')"
   ]
  },
  {
   "cell_type": "code",
   "execution_count": null,
   "id": "2b85ec07",
   "metadata": {},
   "outputs": [],
   "source": [
    "MD_Dublin"
   ]
  },
  {
   "cell_type": "code",
   "execution_count": null,
   "id": "58c3d4ea",
   "metadata": {},
   "outputs": [],
   "source": [
    "FA_Dublin"
   ]
  },
  {
   "cell_type": "code",
   "execution_count": null,
   "id": "f42ed19a",
   "metadata": {},
   "outputs": [],
   "source": []
  },
  {
   "cell_type": "code",
   "execution_count": null,
   "id": "2ceddd5f",
   "metadata": {},
   "outputs": [],
   "source": []
  },
  {
   "cell_type": "code",
   "execution_count": null,
   "id": "a78fd8ae",
   "metadata": {},
   "outputs": [],
   "source": [
    "CT_Dublin = pd.read_csv('/Users/mello/Desktop/Dataset/PARC_500.aparc_thickness_Dublin.csv', delimiter = ',')\n",
    "CT_Maastricht = pd.read_csv('/Users/mello/Desktop/Dataset/PARC_500.aparc_thickness_Maast.csv', delimiter = ',')\n",
    "CT_Cobre = pd.read_csv('/Users/mello/Desktop/Dataset/PARC_500.aparc_thickness_Cobre.csv', delimiter = ',')"
   ]
  },
  {
   "cell_type": "code",
   "execution_count": null,
   "id": "2fe57019",
   "metadata": {},
   "outputs": [],
   "source": [
    "CT_Dublin"
   ]
  },
  {
   "cell_type": "code",
   "execution_count": null,
   "id": "311d8c40",
   "metadata": {},
   "outputs": [],
   "source": [
    "CT_Maastricht"
   ]
  },
  {
   "cell_type": "code",
   "execution_count": null,
   "id": "31afe9c4",
   "metadata": {},
   "outputs": [],
   "source": []
  }
 ],
 "metadata": {
  "kernelspec": {
   "display_name": "Python 3 (ipykernel)",
   "language": "python",
   "name": "python3"
  },
  "language_info": {
   "codemirror_mode": {
    "name": "ipython",
    "version": 3
   },
   "file_extension": ".py",
   "mimetype": "text/x-python",
   "name": "python",
   "nbconvert_exporter": "python",
   "pygments_lexer": "ipython3",
   "version": "3.7.0"
  },
  "vscode": {
   "interpreter": {
    "hash": "578504114d49301275c44c87035f08411733f9928d9347745d7de100c09f7611"
   }
  }
 },
 "nbformat": 4,
 "nbformat_minor": 5
}
