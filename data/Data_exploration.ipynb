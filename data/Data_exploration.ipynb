{
 "cells": [
  {
   "cell_type": "markdown",
   "id": "97761504",
   "metadata": {},
   "source": [
    "# Data exploration for MSc5_research_project "
   ]
  },
  {
   "cell_type": "markdown",
   "id": "8b379b25",
   "metadata": {},
   "source": [
    "This jupyter notebook deals with exploring the data for my research project within the MSc05 course in the Neurocognitive Psychology lab at Goethe University Frankfurt within the psychology master degree program. \n",
    "\n",
    "The main idea of the project is to use machine learning in order to predict whether a person can be classified either as a healthy control or a patient with psychotic disorder based on different MRI metrics and to see which of them provides more accuracy. \n",
    "\n",
    "\n",
    "\n"
   ]
  },
  {
   "cell_type": "markdown",
   "id": "b0d27a69",
   "metadata": {},
   "source": [
    "## 1. Data access"
   ]
  },
  {
   "cell_type": "markdown",
   "id": "27f11691",
   "metadata": {},
   "source": [
    "The data I am going to use for the project is available on [figshare](https://figshare.com/articles/dataset/Data_for_Functional_MRI_connectivity_accurately_distinguishes_cases_with_psychotic_disorders_from_healthy_controls_based_on_cortical_features_associated_with_brain_network_development_/12361550) and orginates from the paper \"Functional MRI connectivity accurately distinguishes cases with psychotic disorders from healthy controls, based on cortical features associated with brain network development\" by [Young et al. (2020)](https://doi.org/10.1101/19009894). The github repository for the study can be accessed [here](https://github.com/jmyoung36/fMRI_connectivity_accurately_distinguishes_cases).\n",
    "\n",
    "\n"
   ]
  },
  {
   "cell_type": "markdown",
   "id": "1f58425b",
   "metadata": {},
   "source": [
    "## 2. What does the data contain? General overview"
   ]
  },
  {
   "cell_type": "markdown",
   "id": "c451ba9c",
   "metadata": {},
   "source": [
    "The already pre-processed data contains different metrics for three different locations being Dublin, Maastricht and Cobre. \n",
    "\n",
    "For the **macro-structural** data ***cortical thickness (CT)*** was estimated for 308 cortical regions according to a derived version of the Desikian-Killiany atlas [(Desikan et al, 2006)](https://www.sciencedirect.com/science/article/abs/pii/S1053811906000437?via%3Dihub). The files for the derived and adjusted atlas can be found in this [github repository](https://github.com/RafaelRomeroGarcia/subParcellation), the respective paper [here](https://doi.org/10.1016/j.neuroimage.2011.10.086).\n",
    "\n",
    "The **micro-structural** data contains diffusion weighted images (DWI) from which regional cortical measures such as ***mean diffusivity (MD)*** and ***fractional anisotropy (FA)*** were estimated. \n",
    "\n",
    "There are further metrics such as ***functional magnet resonance imaging data (fMRI), fMRI connectivity and network data*** and ***structural connectivity*** and ***DWI tractography***. For project purposes, only the **macro and micro-structural** data will be used. On top of that, the data for only Dublin is going to be explored since it provides the best image quality (see Table 1 in [Young et al., 2020)](https://doi.org/10.1101/19009894) and not every modality was measured for the Cobre dataset. \n",
    "\n",
    "Demographic data such as Age and Gender is also provided."
   ]
  },
  {
   "cell_type": "markdown",
   "id": "e6b3afe2",
   "metadata": {},
   "source": [
    "## 3. Demographic data"
   ]
  },
  {
   "cell_type": "markdown",
   "id": "b0cd24c6",
   "metadata": {},
   "source": [
    "First of all, I am going to explore the demographic data to get a better understanding of the sample. In the Dublin dataset, there is a different subset of patients with **DWI** data compared to those with **CT** data. Both \"subsets\" are loaded and compared with regard to basic demographic variables."
   ]
  },
  {
   "cell_type": "code",
   "execution_count": 2,
   "id": "43d78adc",
   "metadata": {},
   "outputs": [],
   "source": [
    "#import module to read the CT and DWI data\n",
    "\n",
    "import pandas as pd\n",
    "\n",
    "#store CT data in variable \"CT_Dublin\"\n",
    "\n",
    "CT_Dublin = pd.read_csv('/Users/mello/Desktop/Dataset/PARC_500.aparc_thickness_Dublin.csv', delimiter = ',')"
   ]
  },
  {
   "cell_type": "code",
   "execution_count": 3,
   "id": "e8565247",
   "metadata": {},
   "outputs": [
    {
     "data": {
      "text/plain": [
       "Index(['Subject ID', 'Age', 'Sex', 'Group', 'lh_bankssts_part1_thickness',\n",
       "       'lh_bankssts_part2_thickness',\n",
       "       'lh_caudalanteriorcingulate_part1_thickness',\n",
       "       'lh_caudalmiddlefrontal_part1_thickness',\n",
       "       'lh_caudalmiddlefrontal_part2_thickness',\n",
       "       'lh_caudalmiddlefrontal_part3_thickness',\n",
       "       ...\n",
       "       'rh_supramarginal_part5_thickness', 'rh_supramarginal_part6_thickness',\n",
       "       'rh_supramarginal_part7_thickness', 'rh_frontalpole_part1_thickness',\n",
       "       'rh_temporalpole_part1_thickness',\n",
       "       'rh_transversetemporal_part1_thickness', 'rh_insula_part1_thickness',\n",
       "       'rh_insula_part2_thickness', 'rh_insula_part3_thickness',\n",
       "       'rh_insula_part4_thickness'],\n",
       "      dtype='object', length=312)"
      ]
     },
     "execution_count": 3,
     "metadata": {},
     "output_type": "execute_result"
    }
   ],
   "source": [
    "#get columns of pandas dataframe\n",
    "\n",
    "CT_Dublin.columns"
   ]
  },
  {
   "cell_type": "markdown",
   "id": "0dcbaebb",
   "metadata": {},
   "source": [
    "As we can see, besides the different brain regions there are columns that indicate the demographic data that we are interested in for now. "
   ]
  },
  {
   "cell_type": "code",
   "execution_count": 4,
   "id": "7e4759c6",
   "metadata": {},
   "outputs": [],
   "source": [
    "#select a subset of the CT data\n",
    "\n",
    "demographic_CT = CT_Dublin[[\"Subject ID\", \"Age\", \"Sex\", \"Group\"]]"
   ]
  },
  {
   "cell_type": "code",
   "execution_count": 5,
   "id": "a4d72b9b",
   "metadata": {
    "scrolled": false
   },
   "outputs": [
    {
     "data": {
      "text/html": [
       "<div>\n",
       "<style scoped>\n",
       "    .dataframe tbody tr th:only-of-type {\n",
       "        vertical-align: middle;\n",
       "    }\n",
       "\n",
       "    .dataframe tbody tr th {\n",
       "        vertical-align: top;\n",
       "    }\n",
       "\n",
       "    .dataframe thead th {\n",
       "        text-align: right;\n",
       "    }\n",
       "</style>\n",
       "<table border=\"1\" class=\"dataframe\">\n",
       "  <thead>\n",
       "    <tr style=\"text-align: right;\">\n",
       "      <th></th>\n",
       "      <th>Subject ID</th>\n",
       "      <th>Age</th>\n",
       "      <th>Sex</th>\n",
       "      <th>Group</th>\n",
       "    </tr>\n",
       "  </thead>\n",
       "  <tbody>\n",
       "    <tr>\n",
       "      <th>0</th>\n",
       "      <td>CON9225</td>\n",
       "      <td>21</td>\n",
       "      <td>2</td>\n",
       "      <td>1</td>\n",
       "    </tr>\n",
       "    <tr>\n",
       "      <th>1</th>\n",
       "      <td>CON9229</td>\n",
       "      <td>28</td>\n",
       "      <td>2</td>\n",
       "      <td>1</td>\n",
       "    </tr>\n",
       "    <tr>\n",
       "      <th>2</th>\n",
       "      <td>CON9231</td>\n",
       "      <td>29</td>\n",
       "      <td>2</td>\n",
       "      <td>1</td>\n",
       "    </tr>\n",
       "    <tr>\n",
       "      <th>3</th>\n",
       "      <td>GASP3037</td>\n",
       "      <td>61</td>\n",
       "      <td>1</td>\n",
       "      <td>2</td>\n",
       "    </tr>\n",
       "    <tr>\n",
       "      <th>4</th>\n",
       "      <td>GASP3040</td>\n",
       "      <td>47</td>\n",
       "      <td>1</td>\n",
       "      <td>2</td>\n",
       "    </tr>\n",
       "    <tr>\n",
       "      <th>...</th>\n",
       "      <td>...</td>\n",
       "      <td>...</td>\n",
       "      <td>...</td>\n",
       "      <td>...</td>\n",
       "    </tr>\n",
       "    <tr>\n",
       "      <th>103</th>\n",
       "      <td>RPG9019</td>\n",
       "      <td>31</td>\n",
       "      <td>1</td>\n",
       "      <td>2</td>\n",
       "    </tr>\n",
       "    <tr>\n",
       "      <th>104</th>\n",
       "      <td>RPG9102</td>\n",
       "      <td>42</td>\n",
       "      <td>2</td>\n",
       "      <td>2</td>\n",
       "    </tr>\n",
       "    <tr>\n",
       "      <th>105</th>\n",
       "      <td>RPG9119</td>\n",
       "      <td>41</td>\n",
       "      <td>1</td>\n",
       "      <td>2</td>\n",
       "    </tr>\n",
       "    <tr>\n",
       "      <th>106</th>\n",
       "      <td>RPG9121</td>\n",
       "      <td>51</td>\n",
       "      <td>1</td>\n",
       "      <td>2</td>\n",
       "    </tr>\n",
       "    <tr>\n",
       "      <th>107</th>\n",
       "      <td>RPG9126</td>\n",
       "      <td>56</td>\n",
       "      <td>1</td>\n",
       "      <td>2</td>\n",
       "    </tr>\n",
       "  </tbody>\n",
       "</table>\n",
       "<p>108 rows × 4 columns</p>\n",
       "</div>"
      ],
      "text/plain": [
       "    Subject ID  Age  Sex  Group\n",
       "0      CON9225   21    2      1\n",
       "1      CON9229   28    2      1\n",
       "2      CON9231   29    2      1\n",
       "3     GASP3037   61    1      2\n",
       "4     GASP3040   47    1      2\n",
       "..         ...  ...  ...    ...\n",
       "103    RPG9019   31    1      2\n",
       "104    RPG9102   42    2      2\n",
       "105    RPG9119   41    1      2\n",
       "106    RPG9121   51    1      2\n",
       "107    RPG9126   56    1      2\n",
       "\n",
       "[108 rows x 4 columns]"
      ]
     },
     "execution_count": 5,
     "metadata": {},
     "output_type": "execute_result"
    }
   ],
   "source": [
    "#view demographic data of CT data\n",
    "\n",
    "demographic_CT"
   ]
  },
  {
   "cell_type": "markdown",
   "id": "788ce172",
   "metadata": {},
   "source": [
    "As it can be seen, for the **CT** data there is a total of N=108 participants. "
   ]
  },
  {
   "cell_type": "markdown",
   "id": "522e1048",
   "metadata": {},
   "source": [
    "Having the subset of demographic information for the **CT** data, there is an excel file for the demographic information for the **DWI** data. "
   ]
  },
  {
   "cell_type": "code",
   "execution_count": 6,
   "id": "6ea95251",
   "metadata": {},
   "outputs": [
    {
     "data": {
      "text/html": [
       "<div>\n",
       "<style scoped>\n",
       "    .dataframe tbody tr th:only-of-type {\n",
       "        vertical-align: middle;\n",
       "    }\n",
       "\n",
       "    .dataframe tbody tr th {\n",
       "        vertical-align: top;\n",
       "    }\n",
       "\n",
       "    .dataframe thead th {\n",
       "        text-align: right;\n",
       "    }\n",
       "</style>\n",
       "<table border=\"1\" class=\"dataframe\">\n",
       "  <thead>\n",
       "    <tr style=\"text-align: right;\">\n",
       "      <th></th>\n",
       "      <th>Subject ID</th>\n",
       "      <th>Age</th>\n",
       "      <th>Sex</th>\n",
       "      <th>Group</th>\n",
       "    </tr>\n",
       "  </thead>\n",
       "  <tbody>\n",
       "    <tr>\n",
       "      <th>0</th>\n",
       "      <td>con11</td>\n",
       "      <td>34</td>\n",
       "      <td>1</td>\n",
       "      <td>1</td>\n",
       "    </tr>\n",
       "    <tr>\n",
       "      <th>1</th>\n",
       "      <td>con12</td>\n",
       "      <td>26</td>\n",
       "      <td>2</td>\n",
       "      <td>1</td>\n",
       "    </tr>\n",
       "    <tr>\n",
       "      <th>2</th>\n",
       "      <td>con18</td>\n",
       "      <td>27</td>\n",
       "      <td>2</td>\n",
       "      <td>1</td>\n",
       "    </tr>\n",
       "    <tr>\n",
       "      <th>3</th>\n",
       "      <td>con19</td>\n",
       "      <td>36</td>\n",
       "      <td>1</td>\n",
       "      <td>1</td>\n",
       "    </tr>\n",
       "    <tr>\n",
       "      <th>4</th>\n",
       "      <td>con20</td>\n",
       "      <td>23</td>\n",
       "      <td>1</td>\n",
       "      <td>1</td>\n",
       "    </tr>\n",
       "    <tr>\n",
       "      <th>...</th>\n",
       "      <td>...</td>\n",
       "      <td>...</td>\n",
       "      <td>...</td>\n",
       "      <td>...</td>\n",
       "    </tr>\n",
       "    <tr>\n",
       "      <th>118</th>\n",
       "      <td>pat92</td>\n",
       "      <td>26</td>\n",
       "      <td>1</td>\n",
       "      <td>2</td>\n",
       "    </tr>\n",
       "    <tr>\n",
       "      <th>119</th>\n",
       "      <td>pat94</td>\n",
       "      <td>27</td>\n",
       "      <td>1</td>\n",
       "      <td>2</td>\n",
       "    </tr>\n",
       "    <tr>\n",
       "      <th>120</th>\n",
       "      <td>pat96</td>\n",
       "      <td>23</td>\n",
       "      <td>2</td>\n",
       "      <td>2</td>\n",
       "    </tr>\n",
       "    <tr>\n",
       "      <th>121</th>\n",
       "      <td>pat98</td>\n",
       "      <td>32</td>\n",
       "      <td>2</td>\n",
       "      <td>2</td>\n",
       "    </tr>\n",
       "    <tr>\n",
       "      <th>122</th>\n",
       "      <td>pat9</td>\n",
       "      <td>25</td>\n",
       "      <td>2</td>\n",
       "      <td>2</td>\n",
       "    </tr>\n",
       "  </tbody>\n",
       "</table>\n",
       "<p>123 rows × 4 columns</p>\n",
       "</div>"
      ],
      "text/plain": [
       "    Subject ID  Age  Sex  Group\n",
       "0        con11   34    1      1\n",
       "1        con12   26    2      1\n",
       "2        con18   27    2      1\n",
       "3        con19   36    1      1\n",
       "4        con20   23    1      1\n",
       "..         ...  ...  ...    ...\n",
       "118      pat92   26    1      2\n",
       "119      pat94   27    1      2\n",
       "120      pat96   23    2      2\n",
       "121      pat98   32    2      2\n",
       "122       pat9   25    2      2\n",
       "\n",
       "[123 rows x 4 columns]"
      ]
     },
     "execution_count": 6,
     "metadata": {},
     "output_type": "execute_result"
    }
   ],
   "source": [
    "#read an Excel file as pandas data frame\n",
    "\n",
    "demographic_DWI = pd.read_excel(r'/Users/mello/data/MSc5_research_project/data/DTI_demographics_Dublin.xls')\n",
    "demographic_DWI"
   ]
  },
  {
   "cell_type": "markdown",
   "id": "3cf47c65",
   "metadata": {},
   "source": [
    "For the **DWI** data there is a total of N=123 participants."
   ]
  },
  {
   "cell_type": "markdown",
   "id": "ab075d9d",
   "metadata": {},
   "source": [
    "<font color='red'>**NOTE:**</font> **In my case, the excel file format had to be in \"xls\" for it to be converted into a pandas data frame. The formats \"xlsm\" and \"xlsx\" did not work for me. In case you get an import error saying \"Missing optional dependency \"xlrd\"\", run the following code below in bash. For further help, click [here](https://datatofish.com/read_excel/).**"
   ]
  },
  {
   "cell_type": "code",
   "execution_count": 7,
   "id": "01969357",
   "metadata": {},
   "outputs": [
    {
     "name": "stdout",
     "output_type": "stream",
     "text": [
      "Requirement already satisfied: xlrd in /Users/mello/miniconda3/envs/neuro_ai/lib/python3.7/site-packages (2.0.1)\r\n"
     ]
    }
   ],
   "source": [
    "#use ! to run command in bash\n",
    "!pip install xlrd"
   ]
  },
  {
   "cell_type": "markdown",
   "id": "6c190f7c",
   "metadata": {},
   "source": [
    "Now, having demographic data subsets of both **CT** and **DWI** data, they can be explored. The documentation on [figshare](https://figshare.com/articles/dataset/Data_for_Functional_MRI_connectivity_accurately_distinguishes_cases_with_psychotic_disorders_from_healthy_controls_based_on_cortical_features_associated_with_brain_network_development_/12361550) provides label information for Sex (1=male, 2=female) and Group (1=control, 2=case)."
   ]
  },
  {
   "cell_type": "code",
   "execution_count": 8,
   "id": "5a6c3dcb",
   "metadata": {},
   "outputs": [
    {
     "name": "stdout",
     "output_type": "stream",
     "text": [
      "1    80\n",
      "2    28\n",
      "Name: Group, dtype: int64\n"
     ]
    }
   ],
   "source": [
    "#n of control and patients\n",
    "print(demographic_CT['Group'].value_counts()) "
   ]
  },
  {
   "cell_type": "code",
   "execution_count": 9,
   "id": "73e36f22",
   "metadata": {},
   "outputs": [
    {
     "name": "stdout",
     "output_type": "stream",
     "text": [
      "1    60\n",
      "2    48\n",
      "Name: Sex, dtype: int64\n"
     ]
    }
   ],
   "source": [
    "#n of males and females\n",
    "print(demographic_CT['Sex'].value_counts()) "
   ]
  },
  {
   "cell_type": "code",
   "execution_count": 10,
   "id": "aed3be6b",
   "metadata": {},
   "outputs": [
    {
     "data": {
      "text/plain": [
       "count    108.000000\n",
       "mean      31.231481\n",
       "std       10.911373\n",
       "min       18.000000\n",
       "25%       22.000000\n",
       "50%       29.000000\n",
       "75%       38.250000\n",
       "max       64.000000\n",
       "Name: Age, dtype: float64"
      ]
     },
     "execution_count": 10,
     "metadata": {},
     "output_type": "execute_result"
    }
   ],
   "source": [
    "#get age information\n",
    "demographic_CT['Age'].describe()"
   ]
  },
  {
   "cell_type": "markdown",
   "id": "e1e2bac2",
   "metadata": {},
   "source": [
    "To sum up the demographic data, for the **CT** data within the Dublin sample there is n=80 controls and n=28 patients, a total of N=108 participants of which n=60 are males and n=48 females. The mean age is M=31.23 years with a standard deviation of SD=10.91 years. The age ranges from min=18 years to max=64 years."
   ]
  },
  {
   "cell_type": "code",
   "execution_count": 11,
   "id": "7b768ed6",
   "metadata": {},
   "outputs": [
    {
     "name": "stdout",
     "output_type": "stream",
     "text": [
      "2    64\n",
      "1    59\n",
      "Name: Group, dtype: int64\n"
     ]
    }
   ],
   "source": [
    "#n of control and patients\n",
    "print(demographic_DWI['Group'].value_counts()) "
   ]
  },
  {
   "cell_type": "code",
   "execution_count": 12,
   "id": "2d9290fc",
   "metadata": {},
   "outputs": [
    {
     "name": "stdout",
     "output_type": "stream",
     "text": [
      "1    66\n",
      "2    57\n",
      "Name: Sex, dtype: int64\n"
     ]
    }
   ],
   "source": [
    "#n of males and females\n",
    "print(demographic_DWI['Sex'].value_counts()) "
   ]
  },
  {
   "cell_type": "code",
   "execution_count": 13,
   "id": "fc50e403",
   "metadata": {},
   "outputs": [
    {
     "data": {
      "text/plain": [
       "count    123.000000\n",
       "mean      28.455285\n",
       "std        8.518304\n",
       "min       17.000000\n",
       "25%       22.000000\n",
       "50%       27.000000\n",
       "75%       32.000000\n",
       "max       50.000000\n",
       "Name: Age, dtype: float64"
      ]
     },
     "execution_count": 13,
     "metadata": {},
     "output_type": "execute_result"
    }
   ],
   "source": [
    "#get age information\n",
    "demographic_DWI['Age'].describe()"
   ]
  },
  {
   "cell_type": "markdown",
   "id": "abf93314",
   "metadata": {},
   "source": [
    "The **DWI data** subset for the Dublin sample consists of a total of N=123 particpants with n=56 being control and n=64 patients. There are n=66 males and n=57 females. The mean age is M=28.46 years with a standard deviation of SD=8.52 years. The age ranges from min=17 years to max=50 years."
   ]
  },
  {
   "cell_type": "markdown",
   "id": "e75fa436",
   "metadata": {},
   "source": [
    "### 3. Exploring the different modalities"
   ]
  },
  {
   "cell_type": "markdown",
   "id": "bece3636",
   "metadata": {},
   "source": [
    "In the following chapter, the different modalities are explored. Before getting a deeper look at the data, the derived form of the Desikan-Killiany Atlas with 308 cortical regions that is used for the **macro- and micro-structural data** is visualized.\n",
    "As already mentioned above, there is a [github repository](https://github.com/RafaelRomeroGarcia/subParcellation) for that specific atlas with the required files therein. Since there is a poor documentation of the files and their content, it might be confusing which of them is actually required for visualization purposes. \n"
   ]
  },
  {
   "cell_type": "markdown",
   "id": "e7eedcd0",
   "metadata": {},
   "source": [
    "If you click on the repository link, the first folder with the title \"500mm parcellation (308 regions)\" is the relevant one. In the folder itself, there are two text files (.txt) with the coordinates and names of the 308 regions and two NIFTI files (.nii.gz). These are the files, that I used for visualization. For that, I used the nibabel and nilearn modules. "
   ]
  },
  {
   "cell_type": "code",
   "execution_count": 14,
   "id": "0ec68278",
   "metadata": {},
   "outputs": [],
   "source": [
    "#import relevant modules\n",
    "\n",
    "import nibabel as nb\n",
    "from nilearn import plotting"
   ]
  },
  {
   "cell_type": "code",
   "execution_count": 15,
   "id": "fc780291",
   "metadata": {},
   "outputs": [],
   "source": [
    "#load NIFTI files\n",
    "f_one = nb.load('/Users/mello/data/MSc5_research_project/data/atlas/500.aparc_cortical_consecutive.nii')\n",
    "f_two = nb.load('/Users/mello/data/MSc5_research_project/data/atlas/500.aparc.nii')"
   ]
  },
  {
   "cell_type": "code",
   "execution_count": 16,
   "id": "07f18134",
   "metadata": {
    "scrolled": true
   },
   "outputs": [
    {
     "data": {
      "text/plain": [
       "(array([ 83, 129, 115, ...,  60,  13,  13], dtype=int32),\n",
       " array([[     109,       68,      192,        0, 12600429],\n",
       "        [     229,      186,      104,        0,  6863589],\n",
       "        [     240,       65,      136,        0,  8929776],\n",
       "        [     244,       68,       64,        0,  4211956],\n",
       "        [     237,       17,       76,        0,  4985325],\n",
       "        [     151,       52,      162,        0, 10630295],\n",
       "        [     204,      128,      166,        0, 10911948],\n",
       "        [     203,       59,      153,        0, 10042315],\n",
       "        [      28,      132,      214,        0, 14058524],\n",
       "        [     235,      127,       71,        0,  4685803],\n",
       "        [     167,      234,      130,        0,  8579751],\n",
       "        [     249,       50,       28,        0,  1848057],\n",
       "        [      76,      101,      107,        0,  7038284],\n",
       "        [      79,      177,       23,        0,  1552719],\n",
       "        [     102,       75,       78,        0,  5131110],\n",
       "        [      27,      152,       72,        0,  4757531],\n",
       "        [      39,        0,       72,        0,  4718631],\n",
       "        [     141,      222,       10,        0,   712333],\n",
       "        [     231,       33,      213,        0, 13967847],\n",
       "        [     204,      234,       35,        0,  2353868],\n",
       "        [     129,      103,       44,        0,  2910081],\n",
       "        [     147,      155,       54,        0,  3578771],\n",
       "        [     133,      253,      125,        0,  8256901],\n",
       "        [     177,      105,        8,        0,   551345],\n",
       "        [      74,      205,       88,        0,  5819722],\n",
       "        [      21,      130,       93,        0,  6128149],\n",
       "        [     189,      134,      205,        0, 13469373],\n",
       "        [     209,       48,       31,        0,  2044113],\n",
       "        [     210,      163,        4,        0,   304082],\n",
       "        [     229,      131,      139,        0,  9143269],\n",
       "        [     155,      194,      218,        0, 14336667],\n",
       "        [      98,       21,      187,        0, 12260706],\n",
       "        [      84,      214,       95,        0,  6280788],\n",
       "        [     212,       45,       33,        0,  2174420],\n",
       "        [     225,       11,      175,        0, 11471841],\n",
       "        [     187,      111,       97,        0,  6385595],\n",
       "        [     250,      102,      112,        0,  7366394],\n",
       "        [      40,       83,       80,        0,  5264168],\n",
       "        [     228,       63,       79,        0,  5193700],\n",
       "        [     104,      181,       36,        0,  2405736],\n",
       "        [     223,       21,      118,        0,  7738847],\n",
       "        [       7,      192,      179,        0, 11780103],\n",
       "        [      54,      174,      142,        0,  9350710],\n",
       "        [     217,      142,      230,        0, 15109849],\n",
       "        [     107,       91,      125,        0,  8215403],\n",
       "        [      65,      237,      119,        0,  7859521],\n",
       "        [      65,      110,      179,        0, 11759169],\n",
       "        [     102,       46,      219,        0, 14364262],\n",
       "        [     149,       95,       56,        0,  3694485],\n",
       "        [      56,      133,      110,        0,  7243064],\n",
       "        [     189,       18,      216,        0, 14160573],\n",
       "        [     174,       34,      219,        0, 14361262],\n",
       "        [      51,      155,      139,        0,  9149235],\n",
       "        [      41,        1,      197,        0, 12910889],\n",
       "        [     195,      107,       14,        0,   945091],\n",
       "        [     149,       44,      186,        0, 12201109],\n",
       "        [     136,       64,      234,        0, 15351944],\n",
       "        [     194,      227,       17,        0,  1172418],\n",
       "        [      46,      188,      178,        0, 11713582],\n",
       "        [     198,      128,      108,        0,  7110854],\n",
       "        [     156,      219,      171,        0, 11262876],\n",
       "        [     134,       76,      180,        0, 11816070],\n",
       "        [      97,      145,      227,        0, 14913889],\n",
       "        [     215,      230,      240,        0, 15787735],\n",
       "        [     208,        0,        0,        0,      208],\n",
       "        [      22,       66,        5,        0,   344598],\n",
       "        [     108,       87,      138,        0,  9066348],\n",
       "        [     237,       76,       86,        0,  5655789],\n",
       "        [     220,       87,       35,        0,  2316252],\n",
       "        [     129,      219,       98,        0,  6478721],\n",
       "        [     178,      160,      115,        0,  7577778],\n",
       "        [     121,      243,       21,        0,  1438585],\n",
       "        [      71,      114,      150,        0,  9859655],\n",
       "        [     224,      120,      111,        0,  7305440],\n",
       "        [     191,      119,      220,        0, 14448575],\n",
       "        [     119,      127,      124,        0,  8159095],\n",
       "        [      58,       21,       17,        0,  1119546],\n",
       "        [     227,       59,      220,        0, 14433251],\n",
       "        [     182,      223,      240,        0, 15785910],\n",
       "        [      35,      100,      251,        0, 16475171],\n",
       "        [     165,      229,      123,        0,  8119717],\n",
       "        [       3,      159,       59,        0,  3907331],\n",
       "        [     135,      185,      155,        0, 10205575],\n",
       "        [     150,      110,       62,        0,  4091542],\n",
       "        [     109,        2,      155,        0, 10158701],\n",
       "        [     245,       24,        9,        0,   596213],\n",
       "        [     226,       63,        2,        0,   147426],\n",
       "        [     208,       35,      225,        0, 14754768],\n",
       "        [      24,       90,      151,        0,  9919000],\n",
       "        [     149,      170,      165,        0, 10857109],\n",
       "        [     110,       35,      192,        0, 12591982],\n",
       "        [      61,      166,      219,        0, 14394941],\n",
       "        [      21,      248,        8,        0,   587797],\n",
       "        [     213,      213,       12,        0,   841173],\n",
       "        [     139,      241,       82,        0,  5435787],\n",
       "        [     206,      153,      202,        0, 13277646],\n",
       "        [     204,       12,       72,        0,  4721868],\n",
       "        [     167,      125,      249,        0, 16350631],\n",
       "        [     191,      145,       76,        0,  5018047],\n",
       "        [      65,      226,      114,        0,  7529025],\n",
       "        [     208,       25,      220,        0, 14424528],\n",
       "        [       7,      230,      230,        0, 15132167],\n",
       "        [     134,       30,       45,        0,  2956934],\n",
       "        [     180,      212,        8,        0,   578740],\n",
       "        [     194,      245,       87,        0,  5764546],\n",
       "        [     163,       87,       55,        0,  3626915],\n",
       "        [     201,      185,       71,        0,  4700617],\n",
       "        [     149,      107,       23,        0,  1534869],\n",
       "        [       6,      125,       71,        0,  4685062],\n",
       "        [      86,       73,       43,        0,  2836822],\n",
       "        [     102,      178,       52,        0,  3453542],\n",
       "        [     170,      113,      110,        0,  7238058],\n",
       "        [      44,       49,      157,        0, 10301740],\n",
       "        [      68,      143,      241,        0, 15830852],\n",
       "        [     182,      173,      245,        0, 16100790],\n",
       "        [     198,      155,      242,        0, 15899590],\n",
       "        [      15,       68,      252,        0, 16532495],\n",
       "        [     197,      121,      174,        0, 11434437],\n",
       "        [     106,       97,       54,        0,  3563882],\n",
       "        [      98,        7,      120,        0,  7866210],\n",
       "        [      85,      249,      142,        0,  9369941],\n",
       "        [     216,      104,      118,        0,  7760088],\n",
       "        [     211,      253,      134,        0,  8846803],\n",
       "        [     236,      189,      145,        0,  9551340],\n",
       "        [     248,      211,      245,        0, 16110584],\n",
       "        [     165,       97,      122,        0,  8020389],\n",
       "        [     233,        3,       40,        0,  2622441],\n",
       "        [     120,      139,       15,        0,  1018744],\n",
       "        [     168,      227,       28,        0,  1893288],\n",
       "        [     112,       71,      252,        0, 16533360],\n",
       "        [     155,       64,       33,        0,  2179227],\n",
       "        [     139,      211,      214,        0, 14078859],\n",
       "        [     213,       52,      139,        0,  9123029],\n",
       "        [     223,       30,      219,        0, 14360287],\n",
       "        [     230,       55,       19,        0,  1259494],\n",
       "        [     121,      213,      120,        0,  7918969],\n",
       "        [     105,      128,       32,        0,  2130025],\n",
       "        [      33,      222,      154,        0, 10149409],\n",
       "        [      67,      221,       14,        0,   974147],\n",
       "        [     117,      184,       86,        0,  5683317],\n",
       "        [     102,      134,      228,        0, 14976614],\n",
       "        [     199,       17,       71,        0,  4657607],\n",
       "        [      97,      221,      107,        0,  7069025],\n",
       "        [      61,      152,      122,        0,  8034365],\n",
       "        [     230,      239,      209,        0, 13758438],\n",
       "        [     181,      190,      230,        0, 15122101],\n",
       "        [      16,       85,        1,        0,    87312],\n",
       "        [     211,      129,       93,        0,  6128083],\n",
       "        [      58,      136,       74,        0,  4884538],\n",
       "        [      17,       21,       17,        0,  1119505],\n",
       "        [     104,       31,      113,        0,  7413608],\n",
       "        [     230,       90,       30,        0,  1989350],\n",
       "        [     145,      224,       89,        0,  5890193],\n",
       "        [      10,       36,       19,        0,  1254410]], dtype=int32),\n",
       " [b'unknown_part1',\n",
       "  b'bankssts_part1',\n",
       "  b'bankssts_part2',\n",
       "  b'caudalanteriorcingulate_part1',\n",
       "  b'caudalmiddlefrontal_part1',\n",
       "  b'caudalmiddlefrontal_part2',\n",
       "  b'caudalmiddlefrontal_part3',\n",
       "  b'caudalmiddlefrontal_part4',\n",
       "  b'corpuscallosum_part1',\n",
       "  b'cuneus_part1',\n",
       "  b'cuneus_part2',\n",
       "  b'entorhinal_part1',\n",
       "  b'fusiform_part1',\n",
       "  b'fusiform_part2',\n",
       "  b'fusiform_part3',\n",
       "  b'fusiform_part4',\n",
       "  b'fusiform_part5',\n",
       "  b'inferiorparietal_part1',\n",
       "  b'inferiorparietal_part2',\n",
       "  b'inferiorparietal_part3',\n",
       "  b'inferiorparietal_part4',\n",
       "  b'inferiorparietal_part5',\n",
       "  b'inferiorparietal_part6',\n",
       "  b'inferiorparietal_part7',\n",
       "  b'inferiorparietal_part8',\n",
       "  b'inferiortemporal_part1',\n",
       "  b'inferiortemporal_part2',\n",
       "  b'inferiortemporal_part3',\n",
       "  b'inferiortemporal_part4',\n",
       "  b'inferiortemporal_part5',\n",
       "  b'inferiortemporal_part6',\n",
       "  b'isthmuscingulate_part1',\n",
       "  b'isthmuscingulate_part2',\n",
       "  b'lateraloccipital_part1',\n",
       "  b'lateraloccipital_part2',\n",
       "  b'lateraloccipital_part3',\n",
       "  b'lateraloccipital_part4',\n",
       "  b'lateraloccipital_part5',\n",
       "  b'lateraloccipital_part6',\n",
       "  b'lateraloccipital_part7',\n",
       "  b'lateraloccipital_part8',\n",
       "  b'lateraloccipital_part9',\n",
       "  b'lateralorbitofrontal_part1',\n",
       "  b'lateralorbitofrontal_part2',\n",
       "  b'lateralorbitofrontal_part3',\n",
       "  b'lateralorbitofrontal_part4',\n",
       "  b'lingual_part1',\n",
       "  b'lingual_part2',\n",
       "  b'lingual_part3',\n",
       "  b'lingual_part4',\n",
       "  b'lingual_part5',\n",
       "  b'lingual_part6',\n",
       "  b'medialorbitofrontal_part1',\n",
       "  b'medialorbitofrontal_part2',\n",
       "  b'medialorbitofrontal_part3',\n",
       "  b'middletemporal_part1',\n",
       "  b'middletemporal_part2',\n",
       "  b'middletemporal_part3',\n",
       "  b'middletemporal_part4',\n",
       "  b'middletemporal_part5',\n",
       "  b'parahippocampal_part1',\n",
       "  b'parahippocampal_part2',\n",
       "  b'paracentral_part1',\n",
       "  b'paracentral_part2',\n",
       "  b'paracentral_part3',\n",
       "  b'parsopercularis_part1',\n",
       "  b'parsopercularis_part2',\n",
       "  b'parsopercularis_part3',\n",
       "  b'parsorbitalis_part1',\n",
       "  b'parstriangularis_part1',\n",
       "  b'parstriangularis_part2',\n",
       "  b'pericalcarine_part1',\n",
       "  b'pericalcarine_part2',\n",
       "  b'postcentral_part1',\n",
       "  b'postcentral_part2',\n",
       "  b'postcentral_part3',\n",
       "  b'postcentral_part4',\n",
       "  b'postcentral_part5',\n",
       "  b'postcentral_part6',\n",
       "  b'postcentral_part7',\n",
       "  b'postcentral_part8',\n",
       "  b'posteriorcingulate_part1',\n",
       "  b'posteriorcingulate_part2',\n",
       "  b'precentral_part1',\n",
       "  b'precentral_part2',\n",
       "  b'precentral_part3',\n",
       "  b'precentral_part4',\n",
       "  b'precentral_part5',\n",
       "  b'precentral_part6',\n",
       "  b'precentral_part7',\n",
       "  b'precentral_part8',\n",
       "  b'precentral_part9',\n",
       "  b'precuneus_part1',\n",
       "  b'precuneus_part2',\n",
       "  b'precuneus_part3',\n",
       "  b'precuneus_part4',\n",
       "  b'precuneus_part5',\n",
       "  b'precuneus_part6',\n",
       "  b'precuneus_part7',\n",
       "  b'rostralanteriorcingulate_part1',\n",
       "  b'rostralmiddlefrontal_part1',\n",
       "  b'rostralmiddlefrontal_part2',\n",
       "  b'rostralmiddlefrontal_part3',\n",
       "  b'rostralmiddlefrontal_part4',\n",
       "  b'rostralmiddlefrontal_part5',\n",
       "  b'rostralmiddlefrontal_part6',\n",
       "  b'rostralmiddlefrontal_part7',\n",
       "  b'rostralmiddlefrontal_part8',\n",
       "  b'rostralmiddlefrontal_part9',\n",
       "  b'rostralmiddlefrontal_part10',\n",
       "  b'superiorfrontal_part1',\n",
       "  b'superiorfrontal_part2',\n",
       "  b'superiorfrontal_part3',\n",
       "  b'superiorfrontal_part4',\n",
       "  b'superiorfrontal_part5',\n",
       "  b'superiorfrontal_part6',\n",
       "  b'superiorfrontal_part7',\n",
       "  b'superiorfrontal_part8',\n",
       "  b'superiorfrontal_part9',\n",
       "  b'superiorfrontal_part10',\n",
       "  b'superiorfrontal_part11',\n",
       "  b'superiorfrontal_part12',\n",
       "  b'superiorfrontal_part13',\n",
       "  b'superiorparietal_part1',\n",
       "  b'superiorparietal_part2',\n",
       "  b'superiorparietal_part3',\n",
       "  b'superiorparietal_part4',\n",
       "  b'superiorparietal_part5',\n",
       "  b'superiorparietal_part6',\n",
       "  b'superiorparietal_part7',\n",
       "  b'superiorparietal_part8',\n",
       "  b'superiorparietal_part9',\n",
       "  b'superiorparietal_part10',\n",
       "  b'superiortemporal_part1',\n",
       "  b'superiortemporal_part2',\n",
       "  b'superiortemporal_part3',\n",
       "  b'superiortemporal_part4',\n",
       "  b'superiortemporal_part5',\n",
       "  b'superiortemporal_part6',\n",
       "  b'superiortemporal_part7',\n",
       "  b'supramarginal_part1',\n",
       "  b'supramarginal_part2',\n",
       "  b'supramarginal_part3',\n",
       "  b'supramarginal_part4',\n",
       "  b'supramarginal_part5',\n",
       "  b'supramarginal_part6',\n",
       "  b'supramarginal_part7',\n",
       "  b'frontalpole_part1',\n",
       "  b'temporalpole_part1',\n",
       "  b'transversetemporal_part1',\n",
       "  b'insula_part1',\n",
       "  b'insula_part2',\n",
       "  b'insula_part3',\n",
       "  b'insula_part4'])"
      ]
     },
     "execution_count": 16,
     "metadata": {},
     "output_type": "execute_result"
    }
   ],
   "source": [
    "#read .annot files\n",
    "nb.freesurfer.io.read_annot('/Users/mello/data/MSc5_research_project/data/atlas/lh.500.aparc.annot', orig_ids=False)"
   ]
  },
  {
   "cell_type": "code",
   "execution_count": 17,
   "id": "2b330aaf",
   "metadata": {
    "scrolled": true
   },
   "outputs": [],
   "source": [
    "#read .annot files\n",
    "a, b, reg = nb.freesurfer.io.read_annot('/Users/mello/data/MSc5_research_project/data/atlas/rh.500.aparc.annot', orig_ids=False)"
   ]
  },
  {
   "cell_type": "code",
   "execution_count": 18,
   "id": "6d043621",
   "metadata": {
    "scrolled": true
   },
   "outputs": [
    {
     "name": "stderr",
     "output_type": "stream",
     "text": [
      "/Users/mello/miniconda3/envs/neuro_ai/lib/python3.7/site-packages/nilearn/plotting/img_plotting.py:348: FutureWarning: Default resolution of the MNI template will change from 2mm to 1mm in version 0.10.0\n",
      "  anat_img = load_mni152_template()\n"
     ]
    },
    {
     "data": {
      "text/plain": [
       "<nilearn.plotting.displays._slicers.OrthoSlicer at 0x7fb89bfc3898>"
      ]
     },
     "execution_count": 18,
     "metadata": {},
     "output_type": "execute_result"
    },
    {
     "data": {
      "image/png": "[encoded data removed]",
      "text/plain": [
       "<Figure size 525.6x187.2 with 5 Axes>"
      ]
     },
     "metadata": {},
     "output_type": "display_data"
    }
   ],
   "source": [
    "#plot atlas\n",
    "plotting.plot_roi(f_one, draw_cross = False, annotate = False, colorbar=True, cmap='Paired', title=\"Cortical parcellation with 308 cortical regions\")"
   ]
  },
  {
   "cell_type": "markdown",
   "id": "6684adaa",
   "metadata": {},
   "source": [
    "There is also a.txt file that contains all the 308 cortical region names. In the following, the .txt file is read."
   ]
  },
  {
   "cell_type": "code",
   "execution_count": 19,
   "id": "34fd38ef",
   "metadata": {},
   "outputs": [],
   "source": [
    "#read the .txt files with region names\n",
    "\n",
    "with open('/Users/mello/data/MSc5_research_project/data/atlas/308_regions_names.txt') as f:\n",
    "    lines = f.readlines()"
   ]
  },
  {
   "cell_type": "code",
   "execution_count": 20,
   "id": "4bc8d33c",
   "metadata": {
    "scrolled": true
   },
   "outputs": [
    {
     "data": {
      "text/plain": [
       "['lh_bankssts_part1\\n',\n",
       " 'lh_bankssts_part2\\n',\n",
       " 'lh_caudalanteriorcingulate_part1\\n',\n",
       " 'lh_caudalmiddlefrontal_part1\\n',\n",
       " 'lh_caudalmiddlefrontal_part2\\n',\n",
       " 'lh_caudalmiddlefrontal_part3\\n',\n",
       " 'lh_caudalmiddlefrontal_part4\\n',\n",
       " 'lh_cuneus_part1\\n',\n",
       " 'lh_cuneus_part2\\n',\n",
       " 'lh_entorhinal_part1\\n',\n",
       " 'lh_fusiform_part1\\n',\n",
       " 'lh_fusiform_part2\\n',\n",
       " 'lh_fusiform_part3\\n',\n",
       " 'lh_fusiform_part4\\n',\n",
       " 'lh_fusiform_part5\\n',\n",
       " 'lh_inferiorparietal_part1\\n',\n",
       " 'lh_inferiorparietal_part2\\n',\n",
       " 'lh_inferiorparietal_part3\\n',\n",
       " 'lh_inferiorparietal_part4\\n',\n",
       " 'lh_inferiorparietal_part5\\n',\n",
       " 'lh_inferiorparietal_part6\\n',\n",
       " 'lh_inferiorparietal_part7\\n',\n",
       " 'lh_inferiorparietal_part8\\n',\n",
       " 'lh_inferiortemporal_part1\\n',\n",
       " 'lh_inferiortemporal_part2\\n',\n",
       " 'lh_inferiortemporal_part3\\n',\n",
       " 'lh_inferiortemporal_part4\\n',\n",
       " 'lh_inferiortemporal_part5\\n',\n",
       " 'lh_inferiortemporal_part6\\n',\n",
       " 'lh_isthmuscingulate_part1\\n',\n",
       " 'lh_isthmuscingulate_part2\\n',\n",
       " 'lh_lateraloccipital_part1\\n',\n",
       " 'lh_lateraloccipital_part2\\n',\n",
       " 'lh_lateraloccipital_part3\\n',\n",
       " 'lh_lateraloccipital_part4\\n',\n",
       " 'lh_lateraloccipital_part5\\n',\n",
       " 'lh_lateraloccipital_part6\\n',\n",
       " 'lh_lateraloccipital_part7\\n',\n",
       " 'lh_lateraloccipital_part8\\n',\n",
       " 'lh_lateraloccipital_part9\\n',\n",
       " 'lh_lateralorbitofrontal_part1\\n',\n",
       " 'lh_lateralorbitofrontal_part2\\n',\n",
       " 'lh_lateralorbitofrontal_part3\\n',\n",
       " 'lh_lateralorbitofrontal_part4\\n',\n",
       " 'lh_lingual_part1\\n',\n",
       " 'lh_lingual_part2\\n',\n",
       " 'lh_lingual_part3\\n',\n",
       " 'lh_lingual_part4\\n',\n",
       " 'lh_lingual_part5\\n',\n",
       " 'lh_lingual_part6\\n',\n",
       " 'lh_medialorbitofrontal_part1\\n',\n",
       " 'lh_medialorbitofrontal_part2\\n',\n",
       " 'lh_medialorbitofrontal_part3\\n',\n",
       " 'lh_middletemporal_part1\\n',\n",
       " 'lh_middletemporal_part2\\n',\n",
       " 'lh_middletemporal_part3\\n',\n",
       " 'lh_middletemporal_part4\\n',\n",
       " 'lh_middletemporal_part5\\n',\n",
       " 'lh_parahippocampal_part1\\n',\n",
       " 'lh_parahippocampal_part2\\n',\n",
       " 'lh_paracentral_part1\\n',\n",
       " 'lh_paracentral_part2\\n',\n",
       " 'lh_paracentral_part3\\n',\n",
       " 'lh_parsopercularis_part1\\n',\n",
       " 'lh_parsopercularis_part2\\n',\n",
       " 'lh_parsopercularis_part3\\n',\n",
       " 'lh_parsorbitalis_part1\\n',\n",
       " 'lh_parstriangularis_part1\\n',\n",
       " 'lh_parstriangularis_part2\\n',\n",
       " 'lh_pericalcarine_part1\\n',\n",
       " 'lh_pericalcarine_part2\\n',\n",
       " 'lh_postcentral_part1\\n',\n",
       " 'lh_postcentral_part2\\n',\n",
       " 'lh_postcentral_part3\\n',\n",
       " 'lh_postcentral_part4\\n',\n",
       " 'lh_postcentral_part5\\n',\n",
       " 'lh_postcentral_part6\\n',\n",
       " 'lh_postcentral_part7\\n',\n",
       " 'lh_postcentral_part8\\n',\n",
       " 'lh_posteriorcingulate_part1\\n',\n",
       " 'lh_posteriorcingulate_part2\\n',\n",
       " 'lh_precentral_part1\\n',\n",
       " 'lh_precentral_part2\\n',\n",
       " 'lh_precentral_part3\\n',\n",
       " 'lh_precentral_part4\\n',\n",
       " 'lh_precentral_part5\\n',\n",
       " 'lh_precentral_part6\\n',\n",
       " 'lh_precentral_part7\\n',\n",
       " 'lh_precentral_part8\\n',\n",
       " 'lh_precentral_part9\\n',\n",
       " 'lh_precuneus_part1\\n',\n",
       " 'lh_precuneus_part2\\n',\n",
       " 'lh_precuneus_part3\\n',\n",
       " 'lh_precuneus_part4\\n',\n",
       " 'lh_precuneus_part5\\n',\n",
       " 'lh_precuneus_part6\\n',\n",
       " 'lh_precuneus_part7\\n',\n",
       " 'lh_rostralanteriorcingulate_part1\\n',\n",
       " 'lh_rostralmiddlefrontal_part1\\n',\n",
       " 'lh_rostralmiddlefrontal_part2\\n',\n",
       " 'lh_rostralmiddlefrontal_part3\\n',\n",
       " 'lh_rostralmiddlefrontal_part4\\n',\n",
       " 'lh_rostralmiddlefrontal_part5\\n',\n",
       " 'lh_rostralmiddlefrontal_part6\\n',\n",
       " 'lh_rostralmiddlefrontal_part7\\n',\n",
       " 'lh_rostralmiddlefrontal_part8\\n',\n",
       " 'lh_rostralmiddlefrontal_part9\\n',\n",
       " 'lh_rostralmiddlefrontal_part10\\n',\n",
       " 'lh_superiorfrontal_part1\\n',\n",
       " 'lh_superiorfrontal_part2\\n',\n",
       " 'lh_superiorfrontal_part3\\n',\n",
       " 'lh_superiorfrontal_part4\\n',\n",
       " 'lh_superiorfrontal_part5\\n',\n",
       " 'lh_superiorfrontal_part6\\n',\n",
       " 'lh_superiorfrontal_part7\\n',\n",
       " 'lh_superiorfrontal_part8\\n',\n",
       " 'lh_superiorfrontal_part9\\n',\n",
       " 'lh_superiorfrontal_part10\\n',\n",
       " 'lh_superiorfrontal_part11\\n',\n",
       " 'lh_superiorfrontal_part12\\n',\n",
       " 'lh_superiorfrontal_part13\\n',\n",
       " 'lh_superiorparietal_part1\\n',\n",
       " 'lh_superiorparietal_part2\\n',\n",
       " 'lh_superiorparietal_part3\\n',\n",
       " 'lh_superiorparietal_part4\\n',\n",
       " 'lh_superiorparietal_part5\\n',\n",
       " 'lh_superiorparietal_part6\\n',\n",
       " 'lh_superiorparietal_part7\\n',\n",
       " 'lh_superiorparietal_part8\\n',\n",
       " 'lh_superiorparietal_part9\\n',\n",
       " 'lh_superiorparietal_part10\\n',\n",
       " 'lh_superiortemporal_part1\\n',\n",
       " 'lh_superiortemporal_part2\\n',\n",
       " 'lh_superiortemporal_part3\\n',\n",
       " 'lh_superiortemporal_part4\\n',\n",
       " 'lh_superiortemporal_part5\\n',\n",
       " 'lh_superiortemporal_part6\\n',\n",
       " 'lh_superiortemporal_part7\\n',\n",
       " 'lh_supramarginal_part1\\n',\n",
       " 'lh_supramarginal_part2\\n',\n",
       " 'lh_supramarginal_part3\\n',\n",
       " 'lh_supramarginal_part4\\n',\n",
       " 'lh_supramarginal_part5\\n',\n",
       " 'lh_supramarginal_part6\\n',\n",
       " 'lh_supramarginal_part7\\n',\n",
       " 'lh_frontalpole_part1\\n',\n",
       " 'lh_temporalpole_part1\\n',\n",
       " 'lh_transversetemporal_part1\\n',\n",
       " 'lh_insula_part1\\n',\n",
       " 'lh_insula_part2\\n',\n",
       " 'lh_insula_part3\\n',\n",
       " 'lh_insula_part4\\n',\n",
       " 'rh_bankssts_part1\\n',\n",
       " 'rh_bankssts_part2\\n',\n",
       " 'rh_caudalanteriorcingulate_part1\\n',\n",
       " 'rh_caudalmiddlefrontal_part1\\n',\n",
       " 'rh_caudalmiddlefrontal_part2\\n',\n",
       " 'rh_caudalmiddlefrontal_part3\\n',\n",
       " 'rh_caudalmiddlefrontal_part4\\n',\n",
       " 'rh_cuneus_part1\\n',\n",
       " 'rh_cuneus_part2\\n',\n",
       " 'rh_cuneus_part3\\n',\n",
       " 'rh_entorhinal_part1\\n',\n",
       " 'rh_fusiform_part1\\n',\n",
       " 'rh_fusiform_part2\\n',\n",
       " 'rh_fusiform_part3\\n',\n",
       " 'rh_fusiform_part4\\n',\n",
       " 'rh_fusiform_part5\\n',\n",
       " 'rh_inferiorparietal_part1\\n',\n",
       " 'rh_inferiorparietal_part2\\n',\n",
       " 'rh_inferiorparietal_part3\\n',\n",
       " 'rh_inferiorparietal_part4\\n',\n",
       " 'rh_inferiorparietal_part5\\n',\n",
       " 'rh_inferiorparietal_part6\\n',\n",
       " 'rh_inferiorparietal_part7\\n',\n",
       " 'rh_inferiorparietal_part8\\n',\n",
       " 'rh_inferiorparietal_part9\\n',\n",
       " 'rh_inferiorparietal_part10\\n',\n",
       " 'rh_inferiortemporal_part1\\n',\n",
       " 'rh_inferiortemporal_part2\\n',\n",
       " 'rh_inferiortemporal_part3\\n',\n",
       " 'rh_inferiortemporal_part4\\n',\n",
       " 'rh_inferiortemporal_part5\\n',\n",
       " 'rh_isthmuscingulate_part1\\n',\n",
       " 'rh_isthmuscingulate_part2\\n',\n",
       " 'rh_lateraloccipital_part1\\n',\n",
       " 'rh_lateraloccipital_part2\\n',\n",
       " 'rh_lateraloccipital_part3\\n',\n",
       " 'rh_lateraloccipital_part4\\n',\n",
       " 'rh_lateraloccipital_part5\\n',\n",
       " 'rh_lateraloccipital_part6\\n',\n",
       " 'rh_lateraloccipital_part7\\n',\n",
       " 'rh_lateraloccipital_part8\\n',\n",
       " 'rh_lateraloccipital_part9\\n',\n",
       " 'rh_lateralorbitofrontal_part1\\n',\n",
       " 'rh_lateralorbitofrontal_part2\\n',\n",
       " 'rh_lateralorbitofrontal_part3\\n',\n",
       " 'rh_lateralorbitofrontal_part4\\n',\n",
       " 'rh_lingual_part1\\n',\n",
       " 'rh_lingual_part2\\n',\n",
       " 'rh_lingual_part3\\n',\n",
       " 'rh_lingual_part4\\n',\n",
       " 'rh_lingual_part5\\n',\n",
       " 'rh_lingual_part6\\n',\n",
       " 'rh_medialorbitofrontal_part1\\n',\n",
       " 'rh_medialorbitofrontal_part2\\n',\n",
       " 'rh_medialorbitofrontal_part3\\n',\n",
       " 'rh_middletemporal_part1\\n',\n",
       " 'rh_middletemporal_part2\\n',\n",
       " 'rh_middletemporal_part3\\n',\n",
       " 'rh_middletemporal_part4\\n',\n",
       " 'rh_middletemporal_part5\\n',\n",
       " 'rh_middletemporal_part6\\n',\n",
       " 'rh_parahippocampal_part1\\n',\n",
       " 'rh_parahippocampal_part2\\n',\n",
       " 'rh_paracentral_part1\\n',\n",
       " 'rh_paracentral_part2\\n',\n",
       " 'rh_paracentral_part3\\n',\n",
       " 'rh_parsopercularis_part1\\n',\n",
       " 'rh_parsopercularis_part2\\n',\n",
       " 'rh_parsopercularis_part3\\n',\n",
       " 'rh_parsorbitalis_part1\\n',\n",
       " 'rh_parstriangularis_part1\\n',\n",
       " 'rh_parstriangularis_part2\\n',\n",
       " 'rh_parstriangularis_part3\\n',\n",
       " 'rh_pericalcarine_part1\\n',\n",
       " 'rh_pericalcarine_part2\\n',\n",
       " 'rh_pericalcarine_part3\\n',\n",
       " 'rh_postcentral_part1\\n',\n",
       " 'rh_postcentral_part2\\n',\n",
       " 'rh_postcentral_part3\\n',\n",
       " 'rh_postcentral_part4\\n',\n",
       " 'rh_postcentral_part5\\n',\n",
       " 'rh_postcentral_part6\\n',\n",
       " 'rh_postcentral_part7\\n',\n",
       " 'rh_postcentral_part8\\n',\n",
       " 'rh_posteriorcingulate_part1\\n',\n",
       " 'rh_posteriorcingulate_part2\\n',\n",
       " 'rh_precentral_part1\\n',\n",
       " 'rh_precentral_part2\\n',\n",
       " 'rh_precentral_part3\\n',\n",
       " 'rh_precentral_part4\\n',\n",
       " 'rh_precentral_part5\\n',\n",
       " 'rh_precentral_part6\\n',\n",
       " 'rh_precentral_part7\\n',\n",
       " 'rh_precentral_part8\\n',\n",
       " 'rh_precentral_part9\\n',\n",
       " 'rh_precuneus_part1\\n',\n",
       " 'rh_precuneus_part2\\n',\n",
       " 'rh_precuneus_part3\\n',\n",
       " 'rh_precuneus_part4\\n',\n",
       " 'rh_precuneus_part5\\n',\n",
       " 'rh_precuneus_part6\\n',\n",
       " 'rh_precuneus_part7\\n',\n",
       " 'rh_rostralanteriorcingulate_part1\\n',\n",
       " 'rh_rostralmiddlefrontal_part1\\n',\n",
       " 'rh_rostralmiddlefrontal_part2\\n',\n",
       " 'rh_rostralmiddlefrontal_part3\\n',\n",
       " 'rh_rostralmiddlefrontal_part4\\n',\n",
       " 'rh_rostralmiddlefrontal_part5\\n',\n",
       " 'rh_rostralmiddlefrontal_part6\\n',\n",
       " 'rh_rostralmiddlefrontal_part7\\n',\n",
       " 'rh_rostralmiddlefrontal_part8\\n',\n",
       " 'rh_rostralmiddlefrontal_part9\\n',\n",
       " 'rh_rostralmiddlefrontal_part10\\n',\n",
       " 'rh_superiorfrontal_part1\\n',\n",
       " 'rh_superiorfrontal_part2\\n',\n",
       " 'rh_superiorfrontal_part3\\n',\n",
       " 'rh_superiorfrontal_part4\\n',\n",
       " 'rh_superiorfrontal_part5\\n',\n",
       " 'rh_superiorfrontal_part6\\n',\n",
       " 'rh_superiorfrontal_part7\\n',\n",
       " 'rh_superiorfrontal_part8\\n',\n",
       " 'rh_superiorfrontal_part9\\n',\n",
       " 'rh_superiorfrontal_part10\\n',\n",
       " 'rh_superiorfrontal_part11\\n',\n",
       " 'rh_superiorfrontal_part12\\n',\n",
       " 'rh_superiorfrontal_part13\\n',\n",
       " 'rh_superiorparietal_part1\\n',\n",
       " 'rh_superiorparietal_part2\\n',\n",
       " 'rh_superiorparietal_part3\\n',\n",
       " 'rh_superiorparietal_part4\\n',\n",
       " 'rh_superiorparietal_part5\\n',\n",
       " 'rh_superiorparietal_part6\\n',\n",
       " 'rh_superiorparietal_part7\\n',\n",
       " 'rh_superiorparietal_part8\\n',\n",
       " 'rh_superiorparietal_part9\\n',\n",
       " 'rh_superiorparietal_part10\\n',\n",
       " 'rh_superiortemporal_part1\\n',\n",
       " 'rh_superiortemporal_part2\\n',\n",
       " 'rh_superiortemporal_part3\\n',\n",
       " 'rh_superiortemporal_part4\\n',\n",
       " 'rh_superiortemporal_part5\\n',\n",
       " 'rh_superiortemporal_part6\\n',\n",
       " 'rh_supramarginal_part1\\n',\n",
       " 'rh_supramarginal_part2\\n',\n",
       " 'rh_supramarginal_part3\\n',\n",
       " 'rh_supramarginal_part4\\n',\n",
       " 'rh_supramarginal_part5\\n',\n",
       " 'rh_supramarginal_part6\\n',\n",
       " 'rh_supramarginal_part7\\n',\n",
       " 'rh_frontalpole_part1\\n',\n",
       " 'rh_temporalpole_part1\\n',\n",
       " 'rh_transversetemporal_part1\\n',\n",
       " 'rh_insula_part1\\n',\n",
       " 'rh_insula_part2\\n',\n",
       " 'rh_insula_part3\\n',\n",
       " 'rh_insula_part4']"
      ]
     },
     "execution_count": 20,
     "metadata": {},
     "output_type": "execute_result"
    }
   ],
   "source": [
    "#region names\n",
    "lines"
   ]
  },
  {
   "cell_type": "code",
   "execution_count": 21,
   "id": "485edcb3",
   "metadata": {},
   "outputs": [
    {
     "data": {
      "text/plain": [
       "308"
      ]
     },
     "execution_count": 21,
     "metadata": {},
     "output_type": "execute_result"
    }
   ],
   "source": [
    "#proving 308 regions \n",
    "len(lines)"
   ]
  },
  {
   "cell_type": "markdown",
   "id": "d417314d",
   "metadata": {},
   "source": [
    "As we can see above, the 308 cortical region names are displayed in a chronological order from 1 to 308 for both left and right hemisphere. Each of the regions mostly consists of several parts as the names indicate.\n",
    "Now, having visualized the used atlas with its regions and according labels, we can explore our first modality. "
   ]
  },
  {
   "cell_type": "markdown",
   "id": "6cc737cc",
   "metadata": {},
   "source": [
    "### 3.1 Macro-structural data: cortical thickness (CT)"
   ]
  },
  {
   "cell_type": "markdown",
   "id": "20784cd8",
   "metadata": {},
   "source": [
    "For the **macro-structural data**, T1-weighted MPRAGE images were used. The images were aquired with MPRAGE sequences, capturing high tissue contrast and providing high spatial resolution with whole brain coverage in a short scan time [(Wang et al.,2014)](https://doi.org/10.1371/journal.pone.0096899). These were already preprocessed by a prior pipeline [(Withtaker et al., 2016)](https://pubmed.ncbi.nlm.nih.gov/27457931/), using the command from FreeSurfer called \"recon-all\" [(Dale et al., 1999)](https://pubmed.ncbi.nlm.nih.gov/9931268/). The surface was parcellated according to the above displayed atlas into 308 regions. For each of those regions cortical thickness was estimated."
   ]
  },
  {
   "cell_type": "markdown",
   "id": "5f4c427d",
   "metadata": {},
   "source": [
    "**Cortical thickness (CT)** is a measurement of the *width of gray matter* of the cerebral cortex, whereas *gray matter* marks the area from the pial surface to the internal surface (where *white matter* begins). It has been shown that **CT** correlates with the diagnosis and prognosis of several psychiatric and neurological conditions [(Tahedl,2020)](https://translational-medicine.biomedcentral.com/articles/10.1186/s12967-020-02317-9)."
   ]
  },
  {
   "cell_type": "code",
   "execution_count": 22,
   "id": "b7eb5e22",
   "metadata": {},
   "outputs": [],
   "source": [
    "#load CT data\n",
    "\n",
    "CT_Dublin = pd.read_csv('/Users/mello/Desktop/Dataset/PARC_500.aparc_thickness_Dublin.csv', delimiter = ',')"
   ]
  },
  {
   "cell_type": "code",
   "execution_count": 23,
   "id": "8c4dfd84",
   "metadata": {
    "scrolled": false
   },
   "outputs": [
    {
     "data": {
      "text/html": [
       "<div>\n",
       "<style scoped>\n",
       "    .dataframe tbody tr th:only-of-type {\n",
       "        vertical-align: middle;\n",
       "    }\n",
       "\n",
       "    .dataframe tbody tr th {\n",
       "        vertical-align: top;\n",
       "    }\n",
       "\n",
       "    .dataframe thead th {\n",
       "        text-align: right;\n",
       "    }\n",
       "</style>\n",
       "<table border=\"1\" class=\"dataframe\">\n",
       "  <thead>\n",
       "    <tr style=\"text-align: right;\">\n",
       "      <th></th>\n",
       "      <th>Subject ID</th>\n",
       "      <th>Age</th>\n",
       "      <th>Sex</th>\n",
       "      <th>Group</th>\n",
       "      <th>lh_bankssts_part1_thickness</th>\n",
       "      <th>lh_bankssts_part2_thickness</th>\n",
       "      <th>lh_caudalanteriorcingulate_part1_thickness</th>\n",
       "      <th>lh_caudalmiddlefrontal_part1_thickness</th>\n",
       "      <th>lh_caudalmiddlefrontal_part2_thickness</th>\n",
       "      <th>lh_caudalmiddlefrontal_part3_thickness</th>\n",
       "      <th>...</th>\n",
       "      <th>rh_supramarginal_part5_thickness</th>\n",
       "      <th>rh_supramarginal_part6_thickness</th>\n",
       "      <th>rh_supramarginal_part7_thickness</th>\n",
       "      <th>rh_frontalpole_part1_thickness</th>\n",
       "      <th>rh_temporalpole_part1_thickness</th>\n",
       "      <th>rh_transversetemporal_part1_thickness</th>\n",
       "      <th>rh_insula_part1_thickness</th>\n",
       "      <th>rh_insula_part2_thickness</th>\n",
       "      <th>rh_insula_part3_thickness</th>\n",
       "      <th>rh_insula_part4_thickness</th>\n",
       "    </tr>\n",
       "  </thead>\n",
       "  <tbody>\n",
       "    <tr>\n",
       "      <th>0</th>\n",
       "      <td>CON9225</td>\n",
       "      <td>21</td>\n",
       "      <td>2</td>\n",
       "      <td>1</td>\n",
       "      <td>2.180</td>\n",
       "      <td>2.382</td>\n",
       "      <td>2.346</td>\n",
       "      <td>2.526</td>\n",
       "      <td>2.747</td>\n",
       "      <td>2.544</td>\n",
       "      <td>...</td>\n",
       "      <td>2.817</td>\n",
       "      <td>2.325</td>\n",
       "      <td>2.430</td>\n",
       "      <td>3.004</td>\n",
       "      <td>3.979</td>\n",
       "      <td>2.329</td>\n",
       "      <td>3.620</td>\n",
       "      <td>2.776</td>\n",
       "      <td>3.282</td>\n",
       "      <td>3.347</td>\n",
       "    </tr>\n",
       "    <tr>\n",
       "      <th>1</th>\n",
       "      <td>CON9229</td>\n",
       "      <td>28</td>\n",
       "      <td>2</td>\n",
       "      <td>1</td>\n",
       "      <td>2.394</td>\n",
       "      <td>1.973</td>\n",
       "      <td>2.534</td>\n",
       "      <td>2.439</td>\n",
       "      <td>2.485</td>\n",
       "      <td>2.435</td>\n",
       "      <td>...</td>\n",
       "      <td>2.611</td>\n",
       "      <td>2.418</td>\n",
       "      <td>2.317</td>\n",
       "      <td>2.794</td>\n",
       "      <td>3.851</td>\n",
       "      <td>2.034</td>\n",
       "      <td>3.588</td>\n",
       "      <td>2.654</td>\n",
       "      <td>3.124</td>\n",
       "      <td>3.214</td>\n",
       "    </tr>\n",
       "    <tr>\n",
       "      <th>2</th>\n",
       "      <td>CON9231</td>\n",
       "      <td>29</td>\n",
       "      <td>2</td>\n",
       "      <td>1</td>\n",
       "      <td>2.551</td>\n",
       "      <td>2.567</td>\n",
       "      <td>1.954</td>\n",
       "      <td>2.439</td>\n",
       "      <td>2.428</td>\n",
       "      <td>2.190</td>\n",
       "      <td>...</td>\n",
       "      <td>2.777</td>\n",
       "      <td>2.309</td>\n",
       "      <td>2.390</td>\n",
       "      <td>2.365</td>\n",
       "      <td>4.039</td>\n",
       "      <td>2.337</td>\n",
       "      <td>3.657</td>\n",
       "      <td>2.495</td>\n",
       "      <td>2.669</td>\n",
       "      <td>2.886</td>\n",
       "    </tr>\n",
       "    <tr>\n",
       "      <th>3</th>\n",
       "      <td>GASP3037</td>\n",
       "      <td>61</td>\n",
       "      <td>1</td>\n",
       "      <td>2</td>\n",
       "      <td>2.187</td>\n",
       "      <td>1.923</td>\n",
       "      <td>2.160</td>\n",
       "      <td>2.410</td>\n",
       "      <td>2.381</td>\n",
       "      <td>2.277</td>\n",
       "      <td>...</td>\n",
       "      <td>2.265</td>\n",
       "      <td>2.306</td>\n",
       "      <td>2.129</td>\n",
       "      <td>2.281</td>\n",
       "      <td>3.505</td>\n",
       "      <td>2.275</td>\n",
       "      <td>3.121</td>\n",
       "      <td>2.333</td>\n",
       "      <td>2.604</td>\n",
       "      <td>2.731</td>\n",
       "    </tr>\n",
       "    <tr>\n",
       "      <th>4</th>\n",
       "      <td>GASP3040</td>\n",
       "      <td>47</td>\n",
       "      <td>1</td>\n",
       "      <td>2</td>\n",
       "      <td>1.862</td>\n",
       "      <td>1.750</td>\n",
       "      <td>2.129</td>\n",
       "      <td>2.516</td>\n",
       "      <td>2.244</td>\n",
       "      <td>2.169</td>\n",
       "      <td>...</td>\n",
       "      <td>2.582</td>\n",
       "      <td>2.314</td>\n",
       "      <td>2.047</td>\n",
       "      <td>2.389</td>\n",
       "      <td>3.272</td>\n",
       "      <td>2.445</td>\n",
       "      <td>3.171</td>\n",
       "      <td>2.216</td>\n",
       "      <td>2.659</td>\n",
       "      <td>2.657</td>\n",
       "    </tr>\n",
       "    <tr>\n",
       "      <th>...</th>\n",
       "      <td>...</td>\n",
       "      <td>...</td>\n",
       "      <td>...</td>\n",
       "      <td>...</td>\n",
       "      <td>...</td>\n",
       "      <td>...</td>\n",
       "      <td>...</td>\n",
       "      <td>...</td>\n",
       "      <td>...</td>\n",
       "      <td>...</td>\n",
       "      <td>...</td>\n",
       "      <td>...</td>\n",
       "      <td>...</td>\n",
       "      <td>...</td>\n",
       "      <td>...</td>\n",
       "      <td>...</td>\n",
       "      <td>...</td>\n",
       "      <td>...</td>\n",
       "      <td>...</td>\n",
       "      <td>...</td>\n",
       "      <td>...</td>\n",
       "    </tr>\n",
       "    <tr>\n",
       "      <th>103</th>\n",
       "      <td>RPG9019</td>\n",
       "      <td>31</td>\n",
       "      <td>1</td>\n",
       "      <td>2</td>\n",
       "      <td>2.240</td>\n",
       "      <td>2.150</td>\n",
       "      <td>1.995</td>\n",
       "      <td>2.254</td>\n",
       "      <td>2.164</td>\n",
       "      <td>2.008</td>\n",
       "      <td>...</td>\n",
       "      <td>2.273</td>\n",
       "      <td>2.288</td>\n",
       "      <td>2.395</td>\n",
       "      <td>2.105</td>\n",
       "      <td>3.267</td>\n",
       "      <td>2.257</td>\n",
       "      <td>3.231</td>\n",
       "      <td>2.574</td>\n",
       "      <td>2.920</td>\n",
       "      <td>2.899</td>\n",
       "    </tr>\n",
       "    <tr>\n",
       "      <th>104</th>\n",
       "      <td>RPG9102</td>\n",
       "      <td>42</td>\n",
       "      <td>2</td>\n",
       "      <td>2</td>\n",
       "      <td>2.269</td>\n",
       "      <td>2.124</td>\n",
       "      <td>2.531</td>\n",
       "      <td>2.502</td>\n",
       "      <td>2.250</td>\n",
       "      <td>2.183</td>\n",
       "      <td>...</td>\n",
       "      <td>2.302</td>\n",
       "      <td>2.182</td>\n",
       "      <td>2.182</td>\n",
       "      <td>2.327</td>\n",
       "      <td>2.881</td>\n",
       "      <td>2.124</td>\n",
       "      <td>3.159</td>\n",
       "      <td>2.450</td>\n",
       "      <td>2.753</td>\n",
       "      <td>2.791</td>\n",
       "    </tr>\n",
       "    <tr>\n",
       "      <th>105</th>\n",
       "      <td>RPG9119</td>\n",
       "      <td>41</td>\n",
       "      <td>1</td>\n",
       "      <td>2</td>\n",
       "      <td>2.273</td>\n",
       "      <td>2.559</td>\n",
       "      <td>2.578</td>\n",
       "      <td>2.463</td>\n",
       "      <td>2.463</td>\n",
       "      <td>2.053</td>\n",
       "      <td>...</td>\n",
       "      <td>2.534</td>\n",
       "      <td>2.604</td>\n",
       "      <td>2.449</td>\n",
       "      <td>2.370</td>\n",
       "      <td>3.111</td>\n",
       "      <td>2.190</td>\n",
       "      <td>3.480</td>\n",
       "      <td>2.294</td>\n",
       "      <td>2.571</td>\n",
       "      <td>2.875</td>\n",
       "    </tr>\n",
       "    <tr>\n",
       "      <th>106</th>\n",
       "      <td>RPG9121</td>\n",
       "      <td>51</td>\n",
       "      <td>1</td>\n",
       "      <td>2</td>\n",
       "      <td>1.940</td>\n",
       "      <td>2.438</td>\n",
       "      <td>2.272</td>\n",
       "      <td>2.272</td>\n",
       "      <td>2.610</td>\n",
       "      <td>2.099</td>\n",
       "      <td>...</td>\n",
       "      <td>2.638</td>\n",
       "      <td>2.225</td>\n",
       "      <td>2.013</td>\n",
       "      <td>2.115</td>\n",
       "      <td>3.853</td>\n",
       "      <td>2.231</td>\n",
       "      <td>3.187</td>\n",
       "      <td>2.510</td>\n",
       "      <td>2.759</td>\n",
       "      <td>2.838</td>\n",
       "    </tr>\n",
       "    <tr>\n",
       "      <th>107</th>\n",
       "      <td>RPG9126</td>\n",
       "      <td>56</td>\n",
       "      <td>1</td>\n",
       "      <td>2</td>\n",
       "      <td>2.108</td>\n",
       "      <td>2.269</td>\n",
       "      <td>2.145</td>\n",
       "      <td>2.192</td>\n",
       "      <td>2.443</td>\n",
       "      <td>1.977</td>\n",
       "      <td>...</td>\n",
       "      <td>2.013</td>\n",
       "      <td>2.251</td>\n",
       "      <td>2.021</td>\n",
       "      <td>2.419</td>\n",
       "      <td>3.679</td>\n",
       "      <td>1.970</td>\n",
       "      <td>3.192</td>\n",
       "      <td>2.551</td>\n",
       "      <td>2.855</td>\n",
       "      <td>2.985</td>\n",
       "    </tr>\n",
       "  </tbody>\n",
       "</table>\n",
       "<p>108 rows × 312 columns</p>\n",
       "</div>"
      ],
      "text/plain": [
       "    Subject ID  Age  Sex  Group  lh_bankssts_part1_thickness  \\\n",
       "0      CON9225   21    2      1                        2.180   \n",
       "1      CON9229   28    2      1                        2.394   \n",
       "2      CON9231   29    2      1                        2.551   \n",
       "3     GASP3037   61    1      2                        2.187   \n",
       "4     GASP3040   47    1      2                        1.862   \n",
       "..         ...  ...  ...    ...                          ...   \n",
       "103    RPG9019   31    1      2                        2.240   \n",
       "104    RPG9102   42    2      2                        2.269   \n",
       "105    RPG9119   41    1      2                        2.273   \n",
       "106    RPG9121   51    1      2                        1.940   \n",
       "107    RPG9126   56    1      2                        2.108   \n",
       "\n",
       "     lh_bankssts_part2_thickness  lh_caudalanteriorcingulate_part1_thickness  \\\n",
       "0                          2.382                                       2.346   \n",
       "1                          1.973                                       2.534   \n",
       "2                          2.567                                       1.954   \n",
       "3                          1.923                                       2.160   \n",
       "4                          1.750                                       2.129   \n",
       "..                           ...                                         ...   \n",
       "103                        2.150                                       1.995   \n",
       "104                        2.124                                       2.531   \n",
       "105                        2.559                                       2.578   \n",
       "106                        2.438                                       2.272   \n",
       "107                        2.269                                       2.145   \n",
       "\n",
       "     lh_caudalmiddlefrontal_part1_thickness  \\\n",
       "0                                     2.526   \n",
       "1                                     2.439   \n",
       "2                                     2.439   \n",
       "3                                     2.410   \n",
       "4                                     2.516   \n",
       "..                                      ...   \n",
       "103                                   2.254   \n",
       "104                                   2.502   \n",
       "105                                   2.463   \n",
       "106                                   2.272   \n",
       "107                                   2.192   \n",
       "\n",
       "     lh_caudalmiddlefrontal_part2_thickness  \\\n",
       "0                                     2.747   \n",
       "1                                     2.485   \n",
       "2                                     2.428   \n",
       "3                                     2.381   \n",
       "4                                     2.244   \n",
       "..                                      ...   \n",
       "103                                   2.164   \n",
       "104                                   2.250   \n",
       "105                                   2.463   \n",
       "106                                   2.610   \n",
       "107                                   2.443   \n",
       "\n",
       "     lh_caudalmiddlefrontal_part3_thickness  ...  \\\n",
       "0                                     2.544  ...   \n",
       "1                                     2.435  ...   \n",
       "2                                     2.190  ...   \n",
       "3                                     2.277  ...   \n",
       "4                                     2.169  ...   \n",
       "..                                      ...  ...   \n",
       "103                                   2.008  ...   \n",
       "104                                   2.183  ...   \n",
       "105                                   2.053  ...   \n",
       "106                                   2.099  ...   \n",
       "107                                   1.977  ...   \n",
       "\n",
       "     rh_supramarginal_part5_thickness  rh_supramarginal_part6_thickness  \\\n",
       "0                               2.817                             2.325   \n",
       "1                               2.611                             2.418   \n",
       "2                               2.777                             2.309   \n",
       "3                               2.265                             2.306   \n",
       "4                               2.582                             2.314   \n",
       "..                                ...                               ...   \n",
       "103                             2.273                             2.288   \n",
       "104                             2.302                             2.182   \n",
       "105                             2.534                             2.604   \n",
       "106                             2.638                             2.225   \n",
       "107                             2.013                             2.251   \n",
       "\n",
       "     rh_supramarginal_part7_thickness  rh_frontalpole_part1_thickness  \\\n",
       "0                               2.430                           3.004   \n",
       "1                               2.317                           2.794   \n",
       "2                               2.390                           2.365   \n",
       "3                               2.129                           2.281   \n",
       "4                               2.047                           2.389   \n",
       "..                                ...                             ...   \n",
       "103                             2.395                           2.105   \n",
       "104                             2.182                           2.327   \n",
       "105                             2.449                           2.370   \n",
       "106                             2.013                           2.115   \n",
       "107                             2.021                           2.419   \n",
       "\n",
       "     rh_temporalpole_part1_thickness  rh_transversetemporal_part1_thickness  \\\n",
       "0                              3.979                                  2.329   \n",
       "1                              3.851                                  2.034   \n",
       "2                              4.039                                  2.337   \n",
       "3                              3.505                                  2.275   \n",
       "4                              3.272                                  2.445   \n",
       "..                               ...                                    ...   \n",
       "103                            3.267                                  2.257   \n",
       "104                            2.881                                  2.124   \n",
       "105                            3.111                                  2.190   \n",
       "106                            3.853                                  2.231   \n",
       "107                            3.679                                  1.970   \n",
       "\n",
       "     rh_insula_part1_thickness  rh_insula_part2_thickness  \\\n",
       "0                        3.620                      2.776   \n",
       "1                        3.588                      2.654   \n",
       "2                        3.657                      2.495   \n",
       "3                        3.121                      2.333   \n",
       "4                        3.171                      2.216   \n",
       "..                         ...                        ...   \n",
       "103                      3.231                      2.574   \n",
       "104                      3.159                      2.450   \n",
       "105                      3.480                      2.294   \n",
       "106                      3.187                      2.510   \n",
       "107                      3.192                      2.551   \n",
       "\n",
       "     rh_insula_part3_thickness  rh_insula_part4_thickness  \n",
       "0                        3.282                      3.347  \n",
       "1                        3.124                      3.214  \n",
       "2                        2.669                      2.886  \n",
       "3                        2.604                      2.731  \n",
       "4                        2.659                      2.657  \n",
       "..                         ...                        ...  \n",
       "103                      2.920                      2.899  \n",
       "104                      2.753                      2.791  \n",
       "105                      2.571                      2.875  \n",
       "106                      2.759                      2.838  \n",
       "107                      2.855                      2.985  \n",
       "\n",
       "[108 rows x 312 columns]"
      ]
     },
     "execution_count": 23,
     "metadata": {},
     "output_type": "execute_result"
    }
   ],
   "source": [
    "CT_Dublin"
   ]
  },
  {
   "cell_type": "code",
   "execution_count": 29,
   "id": "f8765636",
   "metadata": {},
   "outputs": [
    {
     "data": {
      "text/html": [
       "<div>\n",
       "<style scoped>\n",
       "    .dataframe tbody tr th:only-of-type {\n",
       "        vertical-align: middle;\n",
       "    }\n",
       "\n",
       "    .dataframe tbody tr th {\n",
       "        vertical-align: top;\n",
       "    }\n",
       "\n",
       "    .dataframe thead th {\n",
       "        text-align: right;\n",
       "    }\n",
       "</style>\n",
       "<table border=\"1\" class=\"dataframe\">\n",
       "  <thead>\n",
       "    <tr style=\"text-align: right;\">\n",
       "      <th></th>\n",
       "      <th>Age</th>\n",
       "      <th>Sex</th>\n",
       "      <th>lh_bankssts_part1_thickness</th>\n",
       "      <th>lh_bankssts_part2_thickness</th>\n",
       "      <th>lh_caudalanteriorcingulate_part1_thickness</th>\n",
       "      <th>lh_caudalmiddlefrontal_part1_thickness</th>\n",
       "      <th>lh_caudalmiddlefrontal_part2_thickness</th>\n",
       "      <th>lh_caudalmiddlefrontal_part3_thickness</th>\n",
       "      <th>lh_caudalmiddlefrontal_part4_thickness</th>\n",
       "      <th>lh_cuneus_part1_thickness</th>\n",
       "      <th>...</th>\n",
       "      <th>rh_supramarginal_part5_thickness</th>\n",
       "      <th>rh_supramarginal_part6_thickness</th>\n",
       "      <th>rh_supramarginal_part7_thickness</th>\n",
       "      <th>rh_frontalpole_part1_thickness</th>\n",
       "      <th>rh_temporalpole_part1_thickness</th>\n",
       "      <th>rh_transversetemporal_part1_thickness</th>\n",
       "      <th>rh_insula_part1_thickness</th>\n",
       "      <th>rh_insula_part2_thickness</th>\n",
       "      <th>rh_insula_part3_thickness</th>\n",
       "      <th>rh_insula_part4_thickness</th>\n",
       "    </tr>\n",
       "    <tr>\n",
       "      <th>Group</th>\n",
       "      <th></th>\n",
       "      <th></th>\n",
       "      <th></th>\n",
       "      <th></th>\n",
       "      <th></th>\n",
       "      <th></th>\n",
       "      <th></th>\n",
       "      <th></th>\n",
       "      <th></th>\n",
       "      <th></th>\n",
       "      <th></th>\n",
       "      <th></th>\n",
       "      <th></th>\n",
       "      <th></th>\n",
       "      <th></th>\n",
       "      <th></th>\n",
       "      <th></th>\n",
       "      <th></th>\n",
       "      <th></th>\n",
       "      <th></th>\n",
       "      <th></th>\n",
       "    </tr>\n",
       "  </thead>\n",
       "  <tbody>\n",
       "    <tr>\n",
       "      <th>1</th>\n",
       "      <td>28.200000</td>\n",
       "      <td>1.525000</td>\n",
       "      <td>2.401038</td>\n",
       "      <td>2.373775</td>\n",
       "      <td>2.446513</td>\n",
       "      <td>2.578638</td>\n",
       "      <td>2.585075</td>\n",
       "      <td>2.295387</td>\n",
       "      <td>2.621975</td>\n",
       "      <td>1.837425</td>\n",
       "      <td>...</td>\n",
       "      <td>2.691400</td>\n",
       "      <td>2.599250</td>\n",
       "      <td>2.426575</td>\n",
       "      <td>2.539175</td>\n",
       "      <td>3.707100</td>\n",
       "      <td>2.419613</td>\n",
       "      <td>3.501175</td>\n",
       "      <td>2.693612</td>\n",
       "      <td>3.026488</td>\n",
       "      <td>3.112950</td>\n",
       "    </tr>\n",
       "    <tr>\n",
       "      <th>2</th>\n",
       "      <td>39.892857</td>\n",
       "      <td>1.214286</td>\n",
       "      <td>2.209143</td>\n",
       "      <td>2.197500</td>\n",
       "      <td>2.332000</td>\n",
       "      <td>2.361286</td>\n",
       "      <td>2.409857</td>\n",
       "      <td>2.116714</td>\n",
       "      <td>2.442500</td>\n",
       "      <td>1.738429</td>\n",
       "      <td>...</td>\n",
       "      <td>2.454321</td>\n",
       "      <td>2.413071</td>\n",
       "      <td>2.260607</td>\n",
       "      <td>2.255821</td>\n",
       "      <td>3.483464</td>\n",
       "      <td>2.255679</td>\n",
       "      <td>3.302893</td>\n",
       "      <td>2.521464</td>\n",
       "      <td>2.874179</td>\n",
       "      <td>2.923357</td>\n",
       "    </tr>\n",
       "  </tbody>\n",
       "</table>\n",
       "<p>2 rows × 310 columns</p>\n",
       "</div>"
      ],
      "text/plain": [
       "             Age       Sex  lh_bankssts_part1_thickness  \\\n",
       "Group                                                     \n",
       "1      28.200000  1.525000                     2.401038   \n",
       "2      39.892857  1.214286                     2.209143   \n",
       "\n",
       "       lh_bankssts_part2_thickness  \\\n",
       "Group                                \n",
       "1                         2.373775   \n",
       "2                         2.197500   \n",
       "\n",
       "       lh_caudalanteriorcingulate_part1_thickness  \\\n",
       "Group                                               \n",
       "1                                        2.446513   \n",
       "2                                        2.332000   \n",
       "\n",
       "       lh_caudalmiddlefrontal_part1_thickness  \\\n",
       "Group                                           \n",
       "1                                    2.578638   \n",
       "2                                    2.361286   \n",
       "\n",
       "       lh_caudalmiddlefrontal_part2_thickness  \\\n",
       "Group                                           \n",
       "1                                    2.585075   \n",
       "2                                    2.409857   \n",
       "\n",
       "       lh_caudalmiddlefrontal_part3_thickness  \\\n",
       "Group                                           \n",
       "1                                    2.295387   \n",
       "2                                    2.116714   \n",
       "\n",
       "       lh_caudalmiddlefrontal_part4_thickness  lh_cuneus_part1_thickness  ...  \\\n",
       "Group                                                                     ...   \n",
       "1                                    2.621975                   1.837425  ...   \n",
       "2                                    2.442500                   1.738429  ...   \n",
       "\n",
       "       rh_supramarginal_part5_thickness  rh_supramarginal_part6_thickness  \\\n",
       "Group                                                                       \n",
       "1                              2.691400                          2.599250   \n",
       "2                              2.454321                          2.413071   \n",
       "\n",
       "       rh_supramarginal_part7_thickness  rh_frontalpole_part1_thickness  \\\n",
       "Group                                                                     \n",
       "1                              2.426575                        2.539175   \n",
       "2                              2.260607                        2.255821   \n",
       "\n",
       "       rh_temporalpole_part1_thickness  rh_transversetemporal_part1_thickness  \\\n",
       "Group                                                                           \n",
       "1                             3.707100                               2.419613   \n",
       "2                             3.483464                               2.255679   \n",
       "\n",
       "       rh_insula_part1_thickness  rh_insula_part2_thickness  \\\n",
       "Group                                                         \n",
       "1                       3.501175                   2.693612   \n",
       "2                       3.302893                   2.521464   \n",
       "\n",
       "       rh_insula_part3_thickness  rh_insula_part4_thickness  \n",
       "Group                                                        \n",
       "1                       3.026488                   3.112950  \n",
       "2                       2.874179                   2.923357  \n",
       "\n",
       "[2 rows x 310 columns]"
      ]
     },
     "execution_count": 29,
     "metadata": {},
     "output_type": "execute_result"
    }
   ],
   "source": [
    "#compute mean for controls and patients\n",
    "\n",
    "CT_Dublin.groupby('Group').mean()"
   ]
  },
  {
   "cell_type": "code",
   "execution_count": 31,
   "id": "8a6ab0c8",
   "metadata": {},
   "outputs": [
    {
     "data": {
      "text/plain": [
       "Group\n",
       "1    AxesSubplot(0.125,0.125;0.775x0.755)\n",
       "2    AxesSubplot(0.125,0.125;0.775x0.755)\n",
       "dtype: object"
      ]
     },
     "execution_count": 31,
     "metadata": {},
     "output_type": "execute_result"
    },
    {
     "data": {
      "image/png": "[encoded data removed]",
      "text/plain": [
       "<Figure size 432x288 with 1 Axes>"
      ]
     },
     "metadata": {
      "needs_background": "light"
     },
     "output_type": "display_data"
    },
    {
     "data": {
      "image/png": "[encoded data removed]",
      "text/plain": [
       "<Figure size 432x288 with 1 Axes>"
      ]
     },
     "metadata": {
      "needs_background": "light"
     },
     "output_type": "display_data"
    }
   ],
   "source": [
    "CT_Dublin.groupby('Group').plot(legend=False)"
   ]
  },
  {
   "cell_type": "code",
   "execution_count": null,
   "id": "b1456dc0",
   "metadata": {},
   "outputs": [],
   "source": [
    "#import modules for visualization\n",
    "\n",
    "import seaborn as sns\n",
    "import matplotlib.pyplot as plt"
   ]
  },
  {
   "cell_type": "code",
   "execution_count": null,
   "id": "e2c4136e",
   "metadata": {},
   "outputs": [],
   "source": [
    "df2 = CT_Dublin.iloc[:5]"
   ]
  },
  {
   "cell_type": "code",
   "execution_count": null,
   "id": "88ad687c",
   "metadata": {},
   "outputs": [],
   "source": [
    "# Set figure size for the notebook\n",
    "plt.rcParams[\"figure.figsize\"]=12,8\n",
    "\n",
    "# set seaborn whitegrid theme\n",
    "sns.set(style=\"whitegrid\")\n",
    "\n",
    "# Without transparency\n",
    "sns.kdeplot(data=CT_Dublin, x=\"df2\", hue=\"Group\", cut=0, fill=True, common_norm=False, alpha=1)\n",
    "plt.show()"
   ]
  },
  {
   "cell_type": "markdown",
   "id": "48a0094c",
   "metadata": {},
   "source": [
    "## 3.1 DTI Networks"
   ]
  },
  {
   "cell_type": "markdown",
   "id": "d2ba0be6",
   "metadata": {},
   "source": [
    "First of all, I am going to explore the DTI network data, followed by the regional MD and FA values and lastly the CT data."
   ]
  },
  {
   "cell_type": "markdown",
   "id": "86c38d60",
   "metadata": {},
   "source": [
    "The data that contains the DTI networks are available as matlab files. In the following, it is depicted how the matlab files can be downloaded and read."
   ]
  },
  {
   "cell_type": "markdown",
   "id": "10e5161d",
   "metadata": {},
   "source": [
    "####  3.1.1 Download the .mat files"
   ]
  },
  {
   "cell_type": "markdown",
   "id": "04d01d26",
   "metadata": {},
   "source": [
    "If you click on the name of the matlab datafile on figshare , it then only shows you the preview of the matlab file and the link of that is for the respective preview. If you want to copy the link of the matlab file itself, you have to right-click on the datafile name and then copy the link."
   ]
  },
  {
   "cell_type": "code",
   "execution_count": null,
   "id": "f19787fd",
   "metadata": {},
   "outputs": [],
   "source": [
    "import urllib.request"
   ]
  },
  {
   "cell_type": "code",
   "execution_count": null,
   "id": "90cd75aa",
   "metadata": {},
   "outputs": [],
   "source": [
    "print('Beginning file download with urllib2...')\n",
    "\n",
    "url = \"https://figshare.com/ndownloader/files/22782440\"\n",
    "urllib.request.urlretrieve(url, '/Users/mello/data/Msc5_research_project/data/DTI_Dublin.mat')"
   ]
  },
  {
   "cell_type": "code",
   "execution_count": null,
   "id": "913de0aa",
   "metadata": {},
   "outputs": [],
   "source": [
    "print('Beginning file download with urllib2...')\n",
    "\n",
    "url = \"https://figshare.com/articles/dataset/Data_for_Functional_MRI_connectivity_accurately_distinguishes_cases_with_psychotic_disorders_from_healthy_controls_based_on_cortical_features_associated_with_brain_network_development_/12361550?file=22782443\" \n",
    "urllib.request.urlretrieve(url, '/Users/mello/data/Msc5_research_project/data/DTI_Maastricht.mat')"
   ]
  },
  {
   "cell_type": "markdown",
   "id": "cc431cb7",
   "metadata": {},
   "source": [
    "#### 3.1.2 Read the .mat files"
   ]
  },
  {
   "cell_type": "code",
   "execution_count": null,
   "id": "2a0888cf",
   "metadata": {},
   "outputs": [],
   "source": [
    "import scipy.io"
   ]
  },
  {
   "cell_type": "markdown",
   "id": "8bd79bc9",
   "metadata": {},
   "source": [
    "**Dublin**"
   ]
  },
  {
   "cell_type": "code",
   "execution_count": null,
   "id": "caa6af8e",
   "metadata": {},
   "outputs": [],
   "source": [
    "DTI_Dublin = scipy.io.loadmat('/Users/mello/data/Msc5_research_project/data/DTI_Dublin.mat')"
   ]
  },
  {
   "cell_type": "code",
   "execution_count": null,
   "id": "846c9cb8",
   "metadata": {},
   "outputs": [],
   "source": [
    "DTI_Dublin.keys()"
   ]
  },
  {
   "cell_type": "code",
   "execution_count": null,
   "id": "bf5dec54",
   "metadata": {},
   "outputs": [],
   "source": [
    "DTI_Dublin['nostreamlines_new'].shape"
   ]
  },
  {
   "cell_type": "markdown",
   "id": "105ac268",
   "metadata": {},
   "source": [
    "123 Probanden mit DTI Matrizen.\n",
    "Wie sehen DTI Matrizen aus?"
   ]
  },
  {
   "cell_type": "code",
   "execution_count": null,
   "id": "cb224776",
   "metadata": {},
   "outputs": [],
   "source": [
    "DTI_Dublin['nostreamlines_new'][0].shape"
   ]
  },
  {
   "cell_type": "code",
   "execution_count": null,
   "id": "3768ff65",
   "metadata": {},
   "outputs": [],
   "source": [
    "DTI_Dublin['nostreamlines_new'][0][0].shape"
   ]
  },
  {
   "cell_type": "markdown",
   "id": "ec5118dd",
   "metadata": {},
   "source": [
    "Zwischen 308 Regionen basierend auf DTI Daten Werte (siehe course website, nochmal durchlesen!!)"
   ]
  },
  {
   "cell_type": "code",
   "execution_count": null,
   "id": "aba1649d",
   "metadata": {},
   "outputs": [],
   "source": [
    "import matplotlib.pyplot as plt\n",
    "import seaborn as sns\n",
    "\n",
    "plt.figure(figsize=(10,7))\n",
    "sns.heatmap(DTI_Dublin['nostreamlines_new'][0][0], xticklabels=False, cmap='rocket')"
   ]
  },
  {
   "cell_type": "markdown",
   "id": "ad17563a",
   "metadata": {},
   "source": [
    "**Maastricht**"
   ]
  },
  {
   "cell_type": "code",
   "execution_count": null,
   "id": "bcd06b42",
   "metadata": {},
   "outputs": [],
   "source": [
    "DTI_Maastricht = scipy.io.loadmat('/Users/mello/Desktop/Dataset//DTI_Maastricht.mat')"
   ]
  },
  {
   "cell_type": "code",
   "execution_count": null,
   "id": "0837fb14",
   "metadata": {},
   "outputs": [],
   "source": [
    "DTI_Maastricht.keys()"
   ]
  },
  {
   "cell_type": "markdown",
   "id": "8341741f",
   "metadata": {},
   "source": [
    "### 3.2 Regional Mean diffusivity (MD) and functional anisotropy (FA) values"
   ]
  },
  {
   "cell_type": "code",
   "execution_count": null,
   "id": "8c5e4836",
   "metadata": {},
   "outputs": [],
   "source": [
    "import pandas as pd"
   ]
  },
  {
   "cell_type": "code",
   "execution_count": null,
   "id": "7dc4bfdf",
   "metadata": {},
   "outputs": [],
   "source": [
    "MD_Dublin = pd.read_csv('/Users/mello/Desktop/Dataset/PARC_500.aparc_MD_cortexAv_mean_Dublin.csv', delimiter = ',')\n",
    "MD_Maastricht = pd.read_csv('/Users/mello/Desktop/Dataset/PARC_500.aparc_MD_cortexAv_mean_Maastricht.csv', delimiter = ',')"
   ]
  },
  {
   "cell_type": "code",
   "execution_count": null,
   "id": "aebc11a4",
   "metadata": {},
   "outputs": [],
   "source": [
    "FA_Dublin = pd.read_csv('/Users/mello/Desktop/Dataset/PARC_500.aparc_FA_cortexAv_mean_Dublin.csv', delimiter = ',')\n",
    "FA_Maastricht = pd.read_csv('/Users/mello/Desktop/Dataset/PARC_500.aparc_FA_cortexAv_mean_Maastricht.csv', delimiter = ',')"
   ]
  },
  {
   "cell_type": "code",
   "execution_count": null,
   "id": "2b85ec07",
   "metadata": {},
   "outputs": [],
   "source": [
    "MD_Dublin"
   ]
  },
  {
   "cell_type": "code",
   "execution_count": null,
   "id": "58c3d4ea",
   "metadata": {},
   "outputs": [],
   "source": [
    "FA_Dublin"
   ]
  },
  {
   "cell_type": "code",
   "execution_count": null,
   "id": "f42ed19a",
   "metadata": {},
   "outputs": [],
   "source": []
  },
  {
   "cell_type": "code",
   "execution_count": null,
   "id": "2ceddd5f",
   "metadata": {},
   "outputs": [],
   "source": []
  },
  {
   "cell_type": "code",
   "execution_count": null,
   "id": "a78fd8ae",
   "metadata": {},
   "outputs": [],
   "source": [
    "CT_Dublin = pd.read_csv('/Users/mello/Desktop/Dataset/PARC_500.aparc_thickness_Dublin.csv', delimiter = ',')\n",
    "CT_Maastricht = pd.read_csv('/Users/mello/Desktop/Dataset/PARC_500.aparc_thickness_Maast.csv', delimiter = ',')\n",
    "CT_Cobre = pd.read_csv('/Users/mello/Desktop/Dataset/PARC_500.aparc_thickness_Cobre.csv', delimiter = ',')"
   ]
  },
  {
   "cell_type": "code",
   "execution_count": null,
   "id": "2fe57019",
   "metadata": {},
   "outputs": [],
   "source": [
    "CT_Dublin"
   ]
  },
  {
   "cell_type": "code",
   "execution_count": null,
   "id": "311d8c40",
   "metadata": {},
   "outputs": [],
   "source": [
    "CT_Maastricht"
   ]
  },
  {
   "cell_type": "code",
   "execution_count": null,
   "id": "31afe9c4",
   "metadata": {},
   "outputs": [],
   "source": []
  },
  {
   "cell_type": "code",
   "execution_count": null,
   "id": "fc83b23f",
   "metadata": {},
   "outputs": [],
   "source": []
  },
  {
   "cell_type": "code",
   "execution_count": null,
   "id": "319742d7",
   "metadata": {},
   "outputs": [],
   "source": []
  },
  {
   "cell_type": "code",
   "execution_count": null,
   "id": "04cec35d",
   "metadata": {},
   "outputs": [],
   "source": []
  },
  {
   "cell_type": "code",
   "execution_count": null,
   "id": "eb817d22",
   "metadata": {},
   "outputs": [],
   "source": []
  },
  {
   "cell_type": "code",
   "execution_count": null,
   "id": "17477279",
   "metadata": {},
   "outputs": [],
   "source": []
  },
  {
   "cell_type": "code",
   "execution_count": null,
   "id": "09708f0e",
   "metadata": {},
   "outputs": [],
   "source": []
  }
 ],
 "metadata": {
  "kernelspec": {
   "display_name": "Python 3 (ipykernel)",
   "language": "python",
   "name": "python3"
  },
  "language_info": {
   "codemirror_mode": {
    "name": "ipython",
    "version": 3
   },
   "file_extension": ".py",
   "mimetype": "text/x-python",
   "name": "python",
   "nbconvert_exporter": "python",
   "pygments_lexer": "ipython3",
   "version": "3.7.0"
  },
  "vscode": {
   "interpreter": {
    "hash": "578504114d49301275c44c87035f08411733f9928d9347745d7de100c09f7611"
   }
  }
 },
 "nbformat": 4,
 "nbformat_minor": 5
}
