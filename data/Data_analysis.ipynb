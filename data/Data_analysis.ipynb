{
 "cells": [
  {
   "cell_type": "markdown",
   "id": "a966c8cb",
   "metadata": {},
   "source": [
    "# Data analysis for MSc5_research_project "
   ]
  },
  {
   "cell_type": "markdown",
   "id": "f6f0caba",
   "metadata": {},
   "source": [
    "This jupyter notebook deals with analysing the data for my research project within the MSc05 course in the Neurocognitive Psychology lab at Goethe University Frankfurt within the psychology master degree program."
   ]
  },
  {
   "cell_type": "markdown",
   "id": "d6922c12",
   "metadata": {},
   "source": [
    "Just to repeat briefly, the aim of the project is to use machine learning in order to predict whether a particpant can be classified either as control or patient with psychotic disorder based on different brain modalities. Before starting with our first modality being **cortical thickness (CT)**, the learning problem and the task type should be defined to know which model suits the best for the purpose of the project aim."
   ]
  },
  {
   "cell_type": "markdown",
   "id": "11812b4b",
   "metadata": {},
   "source": [
    "## 1. Learning problem and task type"
   ]
  },
  {
   "cell_type": "markdown",
   "id": "feddd06e",
   "metadata": {},
   "source": [
    "Following the scikit-learn algorhitm cheat-sheet, for the data at hand the performance of a **linear SVM** is recommended. The data contains more than 50 participants (samples), the aim is to predict a category (control/patient) and the data is labeled. \n",
    "Since I want to use the given information regarding the labels for each sample, the learning problem is **supervised**. Considering the task type, our purpose is to classify the samples in two categories being control and patient. Hence, the task type is **classification**."
   ]
  },
  {
   "cell_type": "code",
   "execution_count": null,
   "id": "72b7e866",
   "metadata": {},
   "outputs": [],
   "source": []
  },
  {
   "attachments": {},
   "cell_type": "markdown",
   "id": "d9e239fd",
   "metadata": {},
   "source": [
    "SVMs are a set of supervised learning methods used that can be used for classifcation, regression and outliers detection (for further information click here). The basic idea is to find an optimal separating line (or hyperplane) as output that separates the data into two classes. The SVM algorithm looks for the data points that are the clostest to the line from both classes. These points are called support vectors. Then, the distance between the support vectors and the hyperplane which is called the margin is computed. To find the best and optimal hyperplane, the margin should be maximized.\n"
   ]
  },
  {
   "attachments": {},
   "cell_type": "markdown",
   "id": "27fb12fe",
   "metadata": {},
   "source": [
    "Support vector classification(SVC) or Linear Support vector classification (LinearSVC) are methods of SVMs making it feasible to perfom a binary or mulit-class classification on a dataset. For the purpose of this project, LinearSVC is going to be performed."
   ]
  },
  {
   "attachments": {},
   "cell_type": "markdown",
   "id": "d35e81a3",
   "metadata": {},
   "source": [
    "### 1.1 Macro-structural data: Cortical Thickness (CT)"
   ]
  },
  {
   "attachments": {},
   "cell_type": "markdown",
   "id": "71e032f4",
   "metadata": {},
   "source": [
    "First of all, I use CT data as my input data for the classification.\n"
   ]
  },
  {
   "cell_type": "code",
   "execution_count": null,
   "id": "a2598d58",
   "metadata": {},
   "outputs": [],
   "source": [
    "#load CT data"
   ]
  },
  {
   "cell_type": "code",
   "execution_count": null,
   "id": "b0ce6f5b",
   "metadata": {},
   "outputs": [],
   "source": []
  },
  {
   "cell_type": "code",
   "execution_count": null,
   "id": "63f694c5",
   "metadata": {},
   "outputs": [],
   "source": []
  },
  {
   "cell_type": "code",
   "execution_count": null,
   "id": "e01a3903",
   "metadata": {},
   "outputs": [],
   "source": []
  },
  {
   "cell_type": "code",
   "execution_count": null,
   "id": "879914f3",
   "metadata": {},
   "outputs": [],
   "source": []
  }
 ],
 "metadata": {
  "kernelspec": {
   "display_name": "neuro_ai",
   "language": "python",
   "name": "python3"
  },
  "language_info": {
   "codemirror_mode": {
    "name": "ipython",
    "version": 3
   },
   "file_extension": ".py",
   "mimetype": "text/x-python",
   "name": "python",
   "nbconvert_exporter": "python",
   "pygments_lexer": "ipython3",
   "version": "3.7.0 | packaged by conda-forge | (default, Nov 12 2018, 12:34:36) \n[Clang 4.0.1 (tags/RELEASE_401/final)]"
  },
  "vscode": {
   "interpreter": {
    "hash": "197750af2f3e6af0bfce9c7aa609a0a9c4ddab34bbe7a4296d7aadbc15871ba4"
   }
  }
 },
 "nbformat": 4,
 "nbformat_minor": 5
}
