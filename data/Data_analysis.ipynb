{
 "cells": [
  {
   "cell_type": "markdown",
   "id": "a966c8cb",
   "metadata": {},
   "source": [
    "# Data analysis for MSc5_research_project "
   ]
  },
  {
   "cell_type": "markdown",
   "id": "f6f0caba",
   "metadata": {},
   "source": [
    "This jupyter notebook deals with analysing the data for my research project within the MSc05 course in the Neurocognitive Psychology lab at Goethe University Frankfurt within the psychology master degree program."
   ]
  },
  {
   "cell_type": "markdown",
   "id": "d6922c12",
   "metadata": {},
   "source": [
    "Just to repeat briefly, the aim of the project is to use machine learning in order to predict whether a particpant can be classified either as control or patient with psychotic disorder based on different brain modalities. Before starting with our first modality being **cortical thickness (CT)**, the learning problem and the task type should be defined to know which model suits the best for the purpose of the project aim."
   ]
  },
  {
   "cell_type": "markdown",
   "id": "11812b4b",
   "metadata": {},
   "source": [
    "## 1. Learning problem and task type"
   ]
  },
  {
   "cell_type": "markdown",
   "id": "feddd06e",
   "metadata": {},
   "source": [
    "Following the scikit-learn algorhitm cheat-sheet, for the data at hand the performance of a **linear Support vector machine (SVM)** is recommended. The data contains more than 50 participants (samples), the aim is to predict a category (control/patient) and the data is labeled. \n",
    "Since I want to use the given information regarding the labels for each sample, the learning problem is **supervised**. Considering the task type, our purpose is to classify the samples in two categories being control and patient. Hence, the task type is **classification**."
   ]
  },
  {
   "cell_type": "markdown",
   "id": "338e7f19",
   "metadata": {},
   "source": [
    "**SVMs** are a set of supervised learning methods used that can be used for classifcation, regression and outliers detection (for further information click [here](https://scikit-learn.org/stable/modules/svm.html)). The basic idea is to find an optimal separating line (or hyperplane) as output that separates the data into two classes. The **SVM** algorithm looks for the data points that are the clostest to the line from both classes. These points are called support vectors. Then, the distance between the support vectors and the hyperplane which is called the margin is computed. To find the best and optimal hyperplane, the margin should be maximized. "
   ]
  },
  {
   "cell_type": "markdown",
   "id": "e8f9a284",
   "metadata": {},
   "source": [
    "**Support vector classification(SVC)** or **Linear Support vector classification (LinearSVC)** are methods of **SVMs** making it feasible to perfom a binary or mulit-class classification on a dataset. For the purpose of this project, **LinearSVC** is going to be performed. "
   ]
  },
  {
   "cell_type": "markdown",
   "id": "2d00e1ea",
   "metadata": {},
   "source": [
    "### 1.1 Macro-structural data: Cortical Thickness (CT)"
   ]
  },
  {
   "cell_type": "markdown",
   "id": "e65c0b59",
   "metadata": {},
   "source": [
    "First of all, I use **CT** data as my input data for the classification. "
   ]
  },
  {
   "cell_type": "code",
   "execution_count": null,
   "id": "b0ce6f5b",
   "metadata": {},
   "outputs": [],
   "source": [
    "#load the CT data\n"
   ]
  },
  {
   "cell_type": "code",
   "execution_count": null,
   "id": "63f694c5",
   "metadata": {},
   "outputs": [],
   "source": []
  },
  {
   "cell_type": "code",
   "execution_count": null,
   "id": "e01a3903",
   "metadata": {},
   "outputs": [],
   "source": []
  },
  {
   "cell_type": "code",
   "execution_count": null,
   "id": "879914f3",
   "metadata": {},
   "outputs": [],
   "source": []
  }
 ],
 "metadata": {
  "kernelspec": {
   "display_name": "neuro_ai",
   "language": "python",
   "name": "neuro_ai"
  },
  "language_info": {
   "codemirror_mode": {
    "name": "ipython",
    "version": 3
   },
   "file_extension": ".py",
   "mimetype": "text/x-python",
   "name": "python",
   "nbconvert_exporter": "python",
   "pygments_lexer": "ipython3",
   "version": "3.7.0"
  }
 },
 "nbformat": 4,
 "nbformat_minor": 5
}
