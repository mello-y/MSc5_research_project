{
 "cells": [
  {
   "cell_type": "markdown",
   "id": "97761504",
   "metadata": {},
   "source": [
    "# Data exploration"
   ]
  },
  {
   "cell_type": "markdown",
   "id": "8b379b25",
   "metadata": {},
   "source": [
    "This jupyter notebook deals with exploring the data for my research project within the MSc05 course in the Neurocognitive Psychology lab at Goethe University Frankfurt within the psychology master degree program. \n",
    "\n",
    "The main idea of the project is to use machine learning in order to predict whether a person can be classified either as a healthy control or a patient with psychotic disorder based on different MRI metrics and to see which of them provides more accuracy. \n",
    "\n",
    "\n",
    "\n"
   ]
  },
  {
   "cell_type": "markdown",
   "id": "e6b3afe2",
   "metadata": {},
   "source": [
    "## 1. Demographic data"
   ]
  },
  {
   "cell_type": "markdown",
   "id": "b0cd24c6",
   "metadata": {},
   "source": [
    "First of all, I am going to explore the demographic data to get a better understanding of the sample. In the Dublin dataset, there is a different subset of patients with **micro-structural (MD and FA)** data compared to those with **macro-structural (CT)** data. Both \"subsets\" are loaded and compared with regard to basic demographic variables."
   ]
  },
  {
   "cell_type": "code",
   "execution_count": 36,
   "id": "43d78adc",
   "metadata": {},
   "outputs": [],
   "source": [
    "#import module to read the CT and DTI data\n",
    "\n",
    "import pandas as pd\n",
    "import os\n",
    "\n",
    "#store CT data in variable \"CT_Dublin\"\n",
    "\n",
    "CT_Dublin_path = os.path.join(os.pardir, 'data', 'PARC_500.aparc_thickness_Dublin.csv')\n",
    "CT_Dublin = pd.read_csv(CT_Dublin_path)"
   ]
  },
  {
   "cell_type": "code",
   "execution_count": 37,
   "id": "e8565247",
   "metadata": {},
   "outputs": [
    {
     "data": {
      "text/plain": [
       "Index(['Subject ID', 'Age', 'Sex', 'Group', 'lh_bankssts_part1_thickness',\n",
       "       'lh_bankssts_part2_thickness',\n",
       "       'lh_caudalanteriorcingulate_part1_thickness',\n",
       "       'lh_caudalmiddlefrontal_part1_thickness',\n",
       "       'lh_caudalmiddlefrontal_part2_thickness',\n",
       "       'lh_caudalmiddlefrontal_part3_thickness',\n",
       "       ...\n",
       "       'rh_supramarginal_part5_thickness', 'rh_supramarginal_part6_thickness',\n",
       "       'rh_supramarginal_part7_thickness', 'rh_frontalpole_part1_thickness',\n",
       "       'rh_temporalpole_part1_thickness',\n",
       "       'rh_transversetemporal_part1_thickness', 'rh_insula_part1_thickness',\n",
       "       'rh_insula_part2_thickness', 'rh_insula_part3_thickness',\n",
       "       'rh_insula_part4_thickness'],\n",
       "      dtype='object', length=312)"
      ]
     },
     "execution_count": 37,
     "metadata": {},
     "output_type": "execute_result"
    }
   ],
   "source": [
    "#get columns of pandas dataframe\n",
    "\n",
    "CT_Dublin.columns"
   ]
  },
  {
   "cell_type": "markdown",
   "id": "0dcbaebb",
   "metadata": {},
   "source": [
    "As we can see, besides the different brain regions there are columns that indicate the demographic data that we are interested in for now. "
   ]
  },
  {
   "cell_type": "code",
   "execution_count": 38,
   "id": "7e4759c6",
   "metadata": {},
   "outputs": [],
   "source": [
    "#select a subset of the CT data\n",
    "\n",
    "demographic_CT = CT_Dublin[[\"Subject ID\", \"Age\", \"Sex\", \"Group\"]]"
   ]
  },
  {
   "cell_type": "code",
   "execution_count": 39,
   "id": "a4d72b9b",
   "metadata": {
    "scrolled": false
   },
   "outputs": [
    {
     "data": {
      "text/html": [
       "<div>\n",
       "<style scoped>\n",
       "    .dataframe tbody tr th:only-of-type {\n",
       "        vertical-align: middle;\n",
       "    }\n",
       "\n",
       "    .dataframe tbody tr th {\n",
       "        vertical-align: top;\n",
       "    }\n",
       "\n",
       "    .dataframe thead th {\n",
       "        text-align: right;\n",
       "    }\n",
       "</style>\n",
       "<table border=\"1\" class=\"dataframe\">\n",
       "  <thead>\n",
       "    <tr style=\"text-align: right;\">\n",
       "      <th></th>\n",
       "      <th>Subject ID</th>\n",
       "      <th>Age</th>\n",
       "      <th>Sex</th>\n",
       "      <th>Group</th>\n",
       "    </tr>\n",
       "  </thead>\n",
       "  <tbody>\n",
       "    <tr>\n",
       "      <th>0</th>\n",
       "      <td>CON9225</td>\n",
       "      <td>21</td>\n",
       "      <td>2</td>\n",
       "      <td>1</td>\n",
       "    </tr>\n",
       "    <tr>\n",
       "      <th>1</th>\n",
       "      <td>CON9229</td>\n",
       "      <td>28</td>\n",
       "      <td>2</td>\n",
       "      <td>1</td>\n",
       "    </tr>\n",
       "    <tr>\n",
       "      <th>2</th>\n",
       "      <td>CON9231</td>\n",
       "      <td>29</td>\n",
       "      <td>2</td>\n",
       "      <td>1</td>\n",
       "    </tr>\n",
       "    <tr>\n",
       "      <th>3</th>\n",
       "      <td>GASP3037</td>\n",
       "      <td>61</td>\n",
       "      <td>1</td>\n",
       "      <td>2</td>\n",
       "    </tr>\n",
       "    <tr>\n",
       "      <th>4</th>\n",
       "      <td>GASP3040</td>\n",
       "      <td>47</td>\n",
       "      <td>1</td>\n",
       "      <td>2</td>\n",
       "    </tr>\n",
       "    <tr>\n",
       "      <th>...</th>\n",
       "      <td>...</td>\n",
       "      <td>...</td>\n",
       "      <td>...</td>\n",
       "      <td>...</td>\n",
       "    </tr>\n",
       "    <tr>\n",
       "      <th>103</th>\n",
       "      <td>RPG9019</td>\n",
       "      <td>31</td>\n",
       "      <td>1</td>\n",
       "      <td>2</td>\n",
       "    </tr>\n",
       "    <tr>\n",
       "      <th>104</th>\n",
       "      <td>RPG9102</td>\n",
       "      <td>42</td>\n",
       "      <td>2</td>\n",
       "      <td>2</td>\n",
       "    </tr>\n",
       "    <tr>\n",
       "      <th>105</th>\n",
       "      <td>RPG9119</td>\n",
       "      <td>41</td>\n",
       "      <td>1</td>\n",
       "      <td>2</td>\n",
       "    </tr>\n",
       "    <tr>\n",
       "      <th>106</th>\n",
       "      <td>RPG9121</td>\n",
       "      <td>51</td>\n",
       "      <td>1</td>\n",
       "      <td>2</td>\n",
       "    </tr>\n",
       "    <tr>\n",
       "      <th>107</th>\n",
       "      <td>RPG9126</td>\n",
       "      <td>56</td>\n",
       "      <td>1</td>\n",
       "      <td>2</td>\n",
       "    </tr>\n",
       "  </tbody>\n",
       "</table>\n",
       "<p>108 rows × 4 columns</p>\n",
       "</div>"
      ],
      "text/plain": [
       "    Subject ID  Age  Sex  Group\n",
       "0      CON9225   21    2      1\n",
       "1      CON9229   28    2      1\n",
       "2      CON9231   29    2      1\n",
       "3     GASP3037   61    1      2\n",
       "4     GASP3040   47    1      2\n",
       "..         ...  ...  ...    ...\n",
       "103    RPG9019   31    1      2\n",
       "104    RPG9102   42    2      2\n",
       "105    RPG9119   41    1      2\n",
       "106    RPG9121   51    1      2\n",
       "107    RPG9126   56    1      2\n",
       "\n",
       "[108 rows x 4 columns]"
      ]
     },
     "execution_count": 39,
     "metadata": {},
     "output_type": "execute_result"
    }
   ],
   "source": [
    "#view demographic data of CT data\n",
    "\n",
    "demographic_CT"
   ]
  },
  {
   "cell_type": "markdown",
   "id": "788ce172",
   "metadata": {},
   "source": [
    "As it can be seen, for the **CT** data there is a total of N=108 participants. "
   ]
  },
  {
   "cell_type": "markdown",
   "id": "522e1048",
   "metadata": {},
   "source": [
    "Having the subset of demographic information for the **CT** data, there is an excel file for the demographic information for the **DWI** data. "
   ]
  },
  {
   "cell_type": "code",
   "execution_count": 47,
   "id": "4f9c2d09",
   "metadata": {},
   "outputs": [
    {
     "ename": "FileNotFoundError",
     "evalue": "[Errno 2] No such file or directory: '../data/DTI_demographics_Dublin.xlsx'",
     "output_type": "error",
     "traceback": [
      "\u001b[0;31m---------------------------------------------------------------------------\u001b[0m",
      "\u001b[0;31mFileNotFoundError\u001b[0m                         Traceback (most recent call last)",
      "\u001b[0;32m/var/folders/3m/1g132z9j3_14k03_9l9qv2wr0000gn/T/ipykernel_17814/1883115006.py\u001b[0m in \u001b[0;36m<module>\u001b[0;34m\u001b[0m\n\u001b[1;32m      3\u001b[0m \u001b[0;34m\u001b[0m\u001b[0m\n\u001b[1;32m      4\u001b[0m \u001b[0mdemographic_DWI_path\u001b[0m \u001b[0;34m=\u001b[0m \u001b[0mos\u001b[0m\u001b[0;34m.\u001b[0m\u001b[0mpath\u001b[0m\u001b[0;34m.\u001b[0m\u001b[0mjoin\u001b[0m\u001b[0;34m(\u001b[0m\u001b[0mos\u001b[0m\u001b[0;34m.\u001b[0m\u001b[0mpardir\u001b[0m\u001b[0;34m,\u001b[0m \u001b[0;34m'data'\u001b[0m\u001b[0;34m,\u001b[0m \u001b[0;34m'DTI_demographics_Dublin.xlsx'\u001b[0m\u001b[0;34m)\u001b[0m\u001b[0;34m\u001b[0m\u001b[0m\n\u001b[0;32m----> 5\u001b[0;31m \u001b[0mdemographic_DWI\u001b[0m \u001b[0;34m=\u001b[0m \u001b[0mpd\u001b[0m\u001b[0;34m.\u001b[0m\u001b[0mread_excel\u001b[0m\u001b[0;34m(\u001b[0m\u001b[0mdemographic_DWI_path\u001b[0m\u001b[0;34m)\u001b[0m\u001b[0;34m\u001b[0m\u001b[0m\n\u001b[0m",
      "\u001b[0;32m~/miniconda3/envs/neuro_ai/lib/python3.7/site-packages/pandas/util/_decorators.py\u001b[0m in \u001b[0;36mwrapper\u001b[0;34m(*args, **kwargs)\u001b[0m\n\u001b[1;32m    294\u001b[0m                 )\n\u001b[1;32m    295\u001b[0m                 \u001b[0mwarnings\u001b[0m\u001b[0;34m.\u001b[0m\u001b[0mwarn\u001b[0m\u001b[0;34m(\u001b[0m\u001b[0mmsg\u001b[0m\u001b[0;34m,\u001b[0m \u001b[0mFutureWarning\u001b[0m\u001b[0;34m,\u001b[0m \u001b[0mstacklevel\u001b[0m\u001b[0;34m=\u001b[0m\u001b[0mstacklevel\u001b[0m\u001b[0;34m)\u001b[0m\u001b[0;34m\u001b[0m\u001b[0m\n\u001b[0;32m--> 296\u001b[0;31m             \u001b[0;32mreturn\u001b[0m \u001b[0mfunc\u001b[0m\u001b[0;34m(\u001b[0m\u001b[0;34m*\u001b[0m\u001b[0margs\u001b[0m\u001b[0;34m,\u001b[0m \u001b[0;34m**\u001b[0m\u001b[0mkwargs\u001b[0m\u001b[0;34m)\u001b[0m\u001b[0;34m\u001b[0m\u001b[0m\n\u001b[0m\u001b[1;32m    297\u001b[0m \u001b[0;34m\u001b[0m\u001b[0m\n\u001b[1;32m    298\u001b[0m         \u001b[0;32mreturn\u001b[0m \u001b[0mwrapper\u001b[0m\u001b[0;34m\u001b[0m\u001b[0m\n",
      "\u001b[0;32m~/miniconda3/envs/neuro_ai/lib/python3.7/site-packages/pandas/io/excel/_base.py\u001b[0m in \u001b[0;36mread_excel\u001b[0;34m(io, sheet_name, header, names, index_col, usecols, squeeze, dtype, engine, converters, true_values, false_values, skiprows, nrows, na_values, keep_default_na, na_filter, verbose, parse_dates, date_parser, thousands, comment, skipfooter, convert_float, mangle_dupe_cols)\u001b[0m\n\u001b[1;32m    302\u001b[0m \u001b[0;34m\u001b[0m\u001b[0m\n\u001b[1;32m    303\u001b[0m     \u001b[0;32mif\u001b[0m \u001b[0;32mnot\u001b[0m \u001b[0misinstance\u001b[0m\u001b[0;34m(\u001b[0m\u001b[0mio\u001b[0m\u001b[0;34m,\u001b[0m \u001b[0mExcelFile\u001b[0m\u001b[0;34m)\u001b[0m\u001b[0;34m:\u001b[0m\u001b[0;34m\u001b[0m\u001b[0m\n\u001b[0;32m--> 304\u001b[0;31m         \u001b[0mio\u001b[0m \u001b[0;34m=\u001b[0m \u001b[0mExcelFile\u001b[0m\u001b[0;34m(\u001b[0m\u001b[0mio\u001b[0m\u001b[0;34m,\u001b[0m \u001b[0mengine\u001b[0m\u001b[0;34m=\u001b[0m\u001b[0mengine\u001b[0m\u001b[0;34m)\u001b[0m\u001b[0;34m\u001b[0m\u001b[0m\n\u001b[0m\u001b[1;32m    305\u001b[0m     \u001b[0;32melif\u001b[0m \u001b[0mengine\u001b[0m \u001b[0;32mand\u001b[0m \u001b[0mengine\u001b[0m \u001b[0;34m!=\u001b[0m \u001b[0mio\u001b[0m\u001b[0;34m.\u001b[0m\u001b[0mengine\u001b[0m\u001b[0;34m:\u001b[0m\u001b[0;34m\u001b[0m\u001b[0m\n\u001b[1;32m    306\u001b[0m         raise ValueError(\n",
      "\u001b[0;32m~/miniconda3/envs/neuro_ai/lib/python3.7/site-packages/pandas/io/excel/_base.py\u001b[0m in \u001b[0;36m__init__\u001b[0;34m(self, path_or_buffer, engine)\u001b[0m\n\u001b[1;32m    865\u001b[0m         \u001b[0mself\u001b[0m\u001b[0;34m.\u001b[0m\u001b[0m_io\u001b[0m \u001b[0;34m=\u001b[0m \u001b[0mstringify_path\u001b[0m\u001b[0;34m(\u001b[0m\u001b[0mpath_or_buffer\u001b[0m\u001b[0;34m)\u001b[0m\u001b[0;34m\u001b[0m\u001b[0m\n\u001b[1;32m    866\u001b[0m \u001b[0;34m\u001b[0m\u001b[0m\n\u001b[0;32m--> 867\u001b[0;31m         \u001b[0mself\u001b[0m\u001b[0;34m.\u001b[0m\u001b[0m_reader\u001b[0m \u001b[0;34m=\u001b[0m \u001b[0mself\u001b[0m\u001b[0;34m.\u001b[0m\u001b[0m_engines\u001b[0m\u001b[0;34m[\u001b[0m\u001b[0mengine\u001b[0m\u001b[0;34m]\u001b[0m\u001b[0;34m(\u001b[0m\u001b[0mself\u001b[0m\u001b[0;34m.\u001b[0m\u001b[0m_io\u001b[0m\u001b[0;34m)\u001b[0m\u001b[0;34m\u001b[0m\u001b[0m\n\u001b[0m\u001b[1;32m    868\u001b[0m \u001b[0;34m\u001b[0m\u001b[0m\n\u001b[1;32m    869\u001b[0m     \u001b[0;32mdef\u001b[0m \u001b[0m__fspath__\u001b[0m\u001b[0;34m(\u001b[0m\u001b[0mself\u001b[0m\u001b[0;34m)\u001b[0m\u001b[0;34m:\u001b[0m\u001b[0;34m\u001b[0m\u001b[0m\n",
      "\u001b[0;32m~/miniconda3/envs/neuro_ai/lib/python3.7/site-packages/pandas/io/excel/_xlrd.py\u001b[0m in \u001b[0;36m__init__\u001b[0;34m(self, filepath_or_buffer)\u001b[0m\n\u001b[1;32m     20\u001b[0m         \u001b[0merr_msg\u001b[0m \u001b[0;34m=\u001b[0m \u001b[0;34m\"Install xlrd >= 1.0.0 for Excel support\"\u001b[0m\u001b[0;34m\u001b[0m\u001b[0m\n\u001b[1;32m     21\u001b[0m         \u001b[0mimport_optional_dependency\u001b[0m\u001b[0;34m(\u001b[0m\u001b[0;34m\"xlrd\"\u001b[0m\u001b[0;34m,\u001b[0m \u001b[0mextra\u001b[0m\u001b[0;34m=\u001b[0m\u001b[0merr_msg\u001b[0m\u001b[0;34m)\u001b[0m\u001b[0;34m\u001b[0m\u001b[0m\n\u001b[0;32m---> 22\u001b[0;31m         \u001b[0msuper\u001b[0m\u001b[0;34m(\u001b[0m\u001b[0;34m)\u001b[0m\u001b[0;34m.\u001b[0m\u001b[0m__init__\u001b[0m\u001b[0;34m(\u001b[0m\u001b[0mfilepath_or_buffer\u001b[0m\u001b[0;34m)\u001b[0m\u001b[0;34m\u001b[0m\u001b[0m\n\u001b[0m\u001b[1;32m     23\u001b[0m \u001b[0;34m\u001b[0m\u001b[0m\n\u001b[1;32m     24\u001b[0m     \u001b[0;34m@\u001b[0m\u001b[0mproperty\u001b[0m\u001b[0;34m\u001b[0m\u001b[0m\n",
      "\u001b[0;32m~/miniconda3/envs/neuro_ai/lib/python3.7/site-packages/pandas/io/excel/_base.py\u001b[0m in \u001b[0;36m__init__\u001b[0;34m(self, filepath_or_buffer)\u001b[0m\n\u001b[1;32m    351\u001b[0m             \u001b[0mself\u001b[0m\u001b[0;34m.\u001b[0m\u001b[0mbook\u001b[0m \u001b[0;34m=\u001b[0m \u001b[0mself\u001b[0m\u001b[0;34m.\u001b[0m\u001b[0mload_workbook\u001b[0m\u001b[0;34m(\u001b[0m\u001b[0mfilepath_or_buffer\u001b[0m\u001b[0;34m)\u001b[0m\u001b[0;34m\u001b[0m\u001b[0m\n\u001b[1;32m    352\u001b[0m         \u001b[0;32melif\u001b[0m \u001b[0misinstance\u001b[0m\u001b[0;34m(\u001b[0m\u001b[0mfilepath_or_buffer\u001b[0m\u001b[0;34m,\u001b[0m \u001b[0mstr\u001b[0m\u001b[0;34m)\u001b[0m\u001b[0;34m:\u001b[0m\u001b[0;34m\u001b[0m\u001b[0m\n\u001b[0;32m--> 353\u001b[0;31m             \u001b[0mself\u001b[0m\u001b[0;34m.\u001b[0m\u001b[0mbook\u001b[0m \u001b[0;34m=\u001b[0m \u001b[0mself\u001b[0m\u001b[0;34m.\u001b[0m\u001b[0mload_workbook\u001b[0m\u001b[0;34m(\u001b[0m\u001b[0mfilepath_or_buffer\u001b[0m\u001b[0;34m)\u001b[0m\u001b[0;34m\u001b[0m\u001b[0m\n\u001b[0m\u001b[1;32m    354\u001b[0m         \u001b[0;32melif\u001b[0m \u001b[0misinstance\u001b[0m\u001b[0;34m(\u001b[0m\u001b[0mfilepath_or_buffer\u001b[0m\u001b[0;34m,\u001b[0m \u001b[0mbytes\u001b[0m\u001b[0;34m)\u001b[0m\u001b[0;34m:\u001b[0m\u001b[0;34m\u001b[0m\u001b[0m\n\u001b[1;32m    355\u001b[0m             \u001b[0mself\u001b[0m\u001b[0;34m.\u001b[0m\u001b[0mbook\u001b[0m \u001b[0;34m=\u001b[0m \u001b[0mself\u001b[0m\u001b[0;34m.\u001b[0m\u001b[0mload_workbook\u001b[0m\u001b[0;34m(\u001b[0m\u001b[0mBytesIO\u001b[0m\u001b[0;34m(\u001b[0m\u001b[0mfilepath_or_buffer\u001b[0m\u001b[0;34m)\u001b[0m\u001b[0;34m)\u001b[0m\u001b[0;34m\u001b[0m\u001b[0m\n",
      "\u001b[0;32m~/miniconda3/envs/neuro_ai/lib/python3.7/site-packages/pandas/io/excel/_xlrd.py\u001b[0m in \u001b[0;36mload_workbook\u001b[0;34m(self, filepath_or_buffer)\u001b[0m\n\u001b[1;32m     35\u001b[0m             \u001b[0;32mreturn\u001b[0m \u001b[0mopen_workbook\u001b[0m\u001b[0;34m(\u001b[0m\u001b[0mfile_contents\u001b[0m\u001b[0;34m=\u001b[0m\u001b[0mdata\u001b[0m\u001b[0;34m)\u001b[0m\u001b[0;34m\u001b[0m\u001b[0m\n\u001b[1;32m     36\u001b[0m         \u001b[0;32melse\u001b[0m\u001b[0;34m:\u001b[0m\u001b[0;34m\u001b[0m\u001b[0m\n\u001b[0;32m---> 37\u001b[0;31m             \u001b[0;32mreturn\u001b[0m \u001b[0mopen_workbook\u001b[0m\u001b[0;34m(\u001b[0m\u001b[0mfilepath_or_buffer\u001b[0m\u001b[0;34m)\u001b[0m\u001b[0;34m\u001b[0m\u001b[0m\n\u001b[0m\u001b[1;32m     38\u001b[0m \u001b[0;34m\u001b[0m\u001b[0m\n\u001b[1;32m     39\u001b[0m     \u001b[0;34m@\u001b[0m\u001b[0mproperty\u001b[0m\u001b[0;34m\u001b[0m\u001b[0m\n",
      "\u001b[0;32m~/miniconda3/envs/neuro_ai/lib/python3.7/site-packages/xlrd/__init__.py\u001b[0m in \u001b[0;36mopen_workbook\u001b[0;34m(filename, logfile, verbosity, use_mmap, file_contents, encoding_override, formatting_info, on_demand, ragged_rows, ignore_workbook_corruption)\u001b[0m\n\u001b[1;32m    164\u001b[0m     \"\"\"\n\u001b[1;32m    165\u001b[0m \u001b[0;34m\u001b[0m\u001b[0m\n\u001b[0;32m--> 166\u001b[0;31m     \u001b[0mfile_format\u001b[0m \u001b[0;34m=\u001b[0m \u001b[0minspect_format\u001b[0m\u001b[0;34m(\u001b[0m\u001b[0mfilename\u001b[0m\u001b[0;34m,\u001b[0m \u001b[0mfile_contents\u001b[0m\u001b[0;34m)\u001b[0m\u001b[0;34m\u001b[0m\u001b[0m\n\u001b[0m\u001b[1;32m    167\u001b[0m     \u001b[0;31m# We have to let unknown file formats pass through here, as some ancient\u001b[0m\u001b[0;34m\u001b[0m\u001b[0;34m\u001b[0m\u001b[0m\n\u001b[1;32m    168\u001b[0m     \u001b[0;31m# files that xlrd can parse don't start with the expected signature.\u001b[0m\u001b[0;34m\u001b[0m\u001b[0;34m\u001b[0m\u001b[0m\n",
      "\u001b[0;32m~/miniconda3/envs/neuro_ai/lib/python3.7/site-packages/xlrd/__init__.py\u001b[0m in \u001b[0;36minspect_format\u001b[0;34m(path, content)\u001b[0m\n\u001b[1;32m     58\u001b[0m     \u001b[0;32melse\u001b[0m\u001b[0;34m:\u001b[0m\u001b[0;34m\u001b[0m\u001b[0m\n\u001b[1;32m     59\u001b[0m         \u001b[0mpath\u001b[0m \u001b[0;34m=\u001b[0m \u001b[0mos\u001b[0m\u001b[0;34m.\u001b[0m\u001b[0mpath\u001b[0m\u001b[0;34m.\u001b[0m\u001b[0mexpanduser\u001b[0m\u001b[0;34m(\u001b[0m\u001b[0mpath\u001b[0m\u001b[0;34m)\u001b[0m\u001b[0;34m\u001b[0m\u001b[0m\n\u001b[0;32m---> 60\u001b[0;31m         \u001b[0;32mwith\u001b[0m \u001b[0mopen\u001b[0m\u001b[0;34m(\u001b[0m\u001b[0mpath\u001b[0m\u001b[0;34m,\u001b[0m \u001b[0;34m\"rb\"\u001b[0m\u001b[0;34m)\u001b[0m \u001b[0;32mas\u001b[0m \u001b[0mf\u001b[0m\u001b[0;34m:\u001b[0m\u001b[0;34m\u001b[0m\u001b[0m\n\u001b[0m\u001b[1;32m     61\u001b[0m             \u001b[0mpeek\u001b[0m \u001b[0;34m=\u001b[0m \u001b[0mf\u001b[0m\u001b[0;34m.\u001b[0m\u001b[0mread\u001b[0m\u001b[0;34m(\u001b[0m\u001b[0mPEEK_SIZE\u001b[0m\u001b[0;34m)\u001b[0m\u001b[0;34m\u001b[0m\u001b[0m\n\u001b[1;32m     62\u001b[0m \u001b[0;34m\u001b[0m\u001b[0m\n",
      "\u001b[0;31mFileNotFoundError\u001b[0m: [Errno 2] No such file or directory: '../data/DTI_demographics_Dublin.xlsx'"
     ]
    }
   ],
   "source": [
    "#read Excel file as pandas dataframe\n",
    "\n",
    "\n",
    "demographic_DWI_path = os.path.join(os.pardir, 'data', 'DTI_demographics_Dublin.xlsx')\n",
    "demographic_DWI = pd.read_excel(demographic_DWI_path)"
   ]
  },
  {
   "cell_type": "code",
   "execution_count": null,
   "id": "c75c88d7",
   "metadata": {},
   "outputs": [],
   "source": []
  },
  {
   "cell_type": "code",
   "execution_count": 41,
   "id": "2c5ad0a3",
   "metadata": {},
   "outputs": [
    {
     "ename": "NameError",
     "evalue": "name 'demographic_DWI' is not defined",
     "output_type": "error",
     "traceback": [
      "\u001b[0;31m---------------------------------------------------------------------------\u001b[0m",
      "\u001b[0;31mNameError\u001b[0m                                 Traceback (most recent call last)",
      "\u001b[0;32m/var/folders/3m/1g132z9j3_14k03_9l9qv2wr0000gn/T/ipykernel_17814/2378468056.py\u001b[0m in \u001b[0;36m<module>\u001b[0;34m\u001b[0m\n\u001b[0;32m----> 1\u001b[0;31m \u001b[0mdemographic_DWI\u001b[0m\u001b[0;34m\u001b[0m\u001b[0m\n\u001b[0m",
      "\u001b[0;31mNameError\u001b[0m: name 'demographic_DWI' is not defined"
     ]
    }
   ],
   "source": [
    "demographic_DWI"
   ]
  },
  {
   "cell_type": "markdown",
   "id": "3cf47c65",
   "metadata": {},
   "source": [
    "For the **DWI** data there is a total of N=123 participants."
   ]
  },
  {
   "cell_type": "markdown",
   "id": "ab075d9d",
   "metadata": {},
   "source": [
    "<font color='red'>**NOTE:**</font> **In my case, the excel file format had to be in \"xls\" for it to be converted into a pandas data frame. The formats \"xlsm\" and \"xlsx\" did not work for me. In case you get an import error saying \"Missing optional dependency \"xlrd\"\", run the following code below in bash. For further help, click [here](https://datatofish.com/read_excel/).**"
   ]
  },
  {
   "cell_type": "code",
   "execution_count": 35,
   "id": "01969357",
   "metadata": {},
   "outputs": [],
   "source": [
    "#use ! to run command in bash; remove the hashtag below to run the code\n",
    "\n",
    "#!pip install xlrd"
   ]
  },
  {
   "cell_type": "markdown",
   "id": "6c190f7c",
   "metadata": {},
   "source": [
    "Now, having demographic data subsets of both **CT** and **DWI** data, they can be explored. The documentation on [figshare](https://figshare.com/articles/dataset/Data_for_Functional_MRI_connectivity_accurately_distinguishes_cases_with_psychotic_disorders_from_healthy_controls_based_on_cortical_features_associated_with_brain_network_development_/12361550) provides label information for Sex (1=male, 2=female) and Group (1=control, 2=case)."
   ]
  },
  {
   "cell_type": "code",
   "execution_count": null,
   "id": "5a6c3dcb",
   "metadata": {},
   "outputs": [],
   "source": [
    "#n of control and patients\n",
    "print(demographic_CT['Group'].value_counts()) "
   ]
  },
  {
   "cell_type": "code",
   "execution_count": null,
   "id": "73e36f22",
   "metadata": {},
   "outputs": [],
   "source": [
    "#n of males and females\n",
    "print(demographic_CT['Sex'].value_counts()) "
   ]
  },
  {
   "cell_type": "code",
   "execution_count": null,
   "id": "aed3be6b",
   "metadata": {},
   "outputs": [],
   "source": [
    "#get age information\n",
    "demographic_CT['Age'].describe()"
   ]
  },
  {
   "cell_type": "markdown",
   "id": "e1e2bac2",
   "metadata": {},
   "source": [
    "To sum up the demographic data, for the **CT** data within the Dublin sample there is n=80 controls and n=28 patients, a total of N=108 participants of which n=60 are males and n=48 females. The mean age is M=31.23 years with a standard deviation of SD=10.91 years. The age ranges from min=18 years to max=64 years."
   ]
  },
  {
   "cell_type": "code",
   "execution_count": null,
   "id": "7b768ed6",
   "metadata": {},
   "outputs": [],
   "source": [
    "#n of control and patients\n",
    "print(demographic_DWI['Group'].value_counts()) "
   ]
  },
  {
   "cell_type": "code",
   "execution_count": null,
   "id": "2d9290fc",
   "metadata": {},
   "outputs": [],
   "source": [
    "#n of males and females\n",
    "print(demographic_DWI['Sex'].value_counts()) "
   ]
  },
  {
   "cell_type": "code",
   "execution_count": null,
   "id": "fc50e403",
   "metadata": {},
   "outputs": [],
   "source": [
    "#get age information\n",
    "demographic_DWI['Age'].describe()"
   ]
  },
  {
   "cell_type": "markdown",
   "id": "abf93314",
   "metadata": {},
   "source": [
    "The **DWI data** subset for the Dublin sample consists of a total of N=123 particpants with n=56 being control and n=64 patients. There are n=66 males and n=57 females. The mean age is M=28.46 years with a standard deviation of SD=8.52 years. The age ranges from min=17 years to max=50 years."
   ]
  },
  {
   "cell_type": "markdown",
   "id": "e75fa436",
   "metadata": {},
   "source": [
    "## 2. Exploring the different modalities"
   ]
  },
  {
   "cell_type": "markdown",
   "id": "bece3636",
   "metadata": {},
   "source": [
    "In the following chapter, the different modalities are explored. Before getting a deeper look at the data, the derived form of the Desikan-Killiany Atlas with 308 cortical regions that is used for the **macro- and micro-structural data** is visualized.\n",
    "As already mentioned above, there is a [github repository](https://github.com/RafaelRomeroGarcia/subParcellation) for that specific atlas with the required files therein. Since there is a poor documentation of the files and their content, it might be confusing which of them is actually required for visualization purposes. \n"
   ]
  },
  {
   "cell_type": "markdown",
   "id": "e7eedcd0",
   "metadata": {},
   "source": [
    "If you click on the repository link, the first folder with the title \"500mm parcellation (308 regions)\" is the relevant one. In the folder itself, there are two text files (.txt) with the coordinates and names of the 308 regions and two NIFTI files (.nii.gz). These are the files, that I used for visualization. For that, I used the nibabel and nilearn modules. "
   ]
  },
  {
   "cell_type": "code",
   "execution_count": null,
   "id": "0ec68278",
   "metadata": {},
   "outputs": [],
   "source": [
    "#import relevant modules\n",
    "\n",
    "import nibabel as nb\n",
    "from nilearn import plotting"
   ]
  },
  {
   "cell_type": "code",
   "execution_count": null,
   "id": "fc780291",
   "metadata": {},
   "outputs": [],
   "source": [
    "#load NIFTI file\n",
    "\n",
    "atlas_path = os.path.join(os.pardir,'data','500.aparc_cortical_consecutive.nii')\n",
    "\n",
    "atlas = nb.load(atlas_path)"
   ]
  },
  {
   "cell_type": "code",
   "execution_count": null,
   "id": "6d043621",
   "metadata": {
    "scrolled": true
   },
   "outputs": [],
   "source": [
    "#plot atlas\n",
    "plotting.plot_roi(atlas, draw_cross = False, annotate = False, colorbar=True, cmap='Paired', title=\"Cortical parcellation with 308 cortical regions\")"
   ]
  },
  {
   "cell_type": "markdown",
   "id": "6684adaa",
   "metadata": {},
   "source": [
    "There is also a.txt file that contains all the 308 cortical region names. In the following, the .txt file is read."
   ]
  },
  {
   "cell_type": "code",
   "execution_count": null,
   "id": "34fd38ef",
   "metadata": {},
   "outputs": [],
   "source": [
    "#read the .txt files with region names\n",
    "\n",
    "with open('../data/atlas/308_regions_names.txt') as f:\n",
    "    lines = f.readlines()"
   ]
  },
  {
   "cell_type": "code",
   "execution_count": null,
   "id": "4bc8d33c",
   "metadata": {
    "scrolled": true
   },
   "outputs": [],
   "source": [
    "#region names\n",
    "lines"
   ]
  },
  {
   "cell_type": "code",
   "execution_count": null,
   "id": "485edcb3",
   "metadata": {},
   "outputs": [],
   "source": [
    "#proving 308 regions \n",
    "len(lines)"
   ]
  },
  {
   "cell_type": "markdown",
   "id": "d417314d",
   "metadata": {},
   "source": [
    "As we can see above, the 308 cortical region names are displayed in a chronological order from 1 to 308 for both left and right hemisphere. Each of the regions mostly consists of several parts as the names indicate.\n",
    "Now, having visualized the used atlas with its regions and according labels, we can explore our first modality. "
   ]
  },
  {
   "cell_type": "markdown",
   "id": "6cc737cc",
   "metadata": {},
   "source": [
    "### 2.1 Macro-structural data: cortical thickness (CT)"
   ]
  },
  {
   "cell_type": "markdown",
   "id": "20784cd8",
   "metadata": {},
   "source": [
    "For the **macro-structural data**, T1-weighted MPRAGE images were used. The images were aquired with MPRAGE sequences, capturing high tissue contrast and providing high spatial resolution with whole brain coverage in a short scan time [(Wang et al.,2014)](https://doi.org/10.1371/journal.pone.0096899). These were already preprocessed by a prior pipeline [(Withtaker et al., 2016)](https://pubmed.ncbi.nlm.nih.gov/27457931/), using the command from FreeSurfer called \"recon-all\" [(Dale et al., 1999)](https://pubmed.ncbi.nlm.nih.gov/9931268/). The surface was parcellated according to the above displayed atlas into 308 regions. For each of those regions cortical thickness was estimated."
   ]
  },
  {
   "cell_type": "markdown",
   "id": "5f4c427d",
   "metadata": {},
   "source": [
    "**Cortical thickness (CT)** is a measurement of the *width of gray matter* of the cerebral cortex, whereas *gray matter* marks the area from the pial surface to the internal surface (where *white matter* begins). It has been shown that **CT** correlates with the diagnosis and prognosis of several psychiatric and neurological conditions [(Tahedl, 2020)](https://translational-medicine.biomedcentral.com/articles/10.1186/s12967-020-02317-9)."
   ]
  },
  {
   "cell_type": "code",
   "execution_count": null,
   "id": "b7eb5e22",
   "metadata": {},
   "outputs": [],
   "source": [
    "#load estimated CT data\n",
    "\n",
    "CT_Dublin_path = os.path.join(os.pardir, 'data', 'PARC_500.aparc_thickness_Dublin.csv')\n",
    "CT_Dublin = pd.read_csv(CT_Dublin_path)\n"
   ]
  },
  {
   "cell_type": "code",
   "execution_count": null,
   "id": "8c4dfd84",
   "metadata": {
    "scrolled": false
   },
   "outputs": [],
   "source": [
    "CT_Dublin"
   ]
  },
  {
   "cell_type": "code",
   "execution_count": null,
   "id": "86d3d9df",
   "metadata": {},
   "outputs": [],
   "source": [
    "#adjust data frame\n",
    "\n",
    "CT_Dublin_ad = CT_Dublin.drop(['Subject ID','Age', 'Sex'], axis=1)\n",
    "CT_Dublin_ad"
   ]
  },
  {
   "cell_type": "code",
   "execution_count": null,
   "id": "b1fb3cdc",
   "metadata": {},
   "outputs": [],
   "source": [
    "#compute mean for patients and control in each brain region\n",
    "\n",
    "df_mean = CT_Dublin_ad.groupby('Group').mean()"
   ]
  },
  {
   "cell_type": "code",
   "execution_count": null,
   "id": "0691ad74",
   "metadata": {},
   "outputs": [],
   "source": [
    "df_mean"
   ]
  },
  {
   "cell_type": "code",
   "execution_count": null,
   "id": "d3897f87",
   "metadata": {},
   "outputs": [],
   "source": [
    "#mean of cortical thickness for control and patients\n",
    "\n",
    "df_mean.mean(axis=1)"
   ]
  },
  {
   "cell_type": "markdown",
   "id": "e51bb9b5",
   "metadata": {},
   "source": [
    "As the mean values indicate, the control group has higher mean in **CT** over all brain areas compared to the patients group. Although the difference does not seem too big at first glance, visualization might help to have a better imagination of the data. Before visualizing the difference in mean values for control and patients, it might be helpful to reshape the dataframe as the columns indicate the respective groups and the rows each brain region."
   ]
  },
  {
   "cell_type": "code",
   "execution_count": null,
   "id": "9c4937dd",
   "metadata": {},
   "outputs": [],
   "source": [
    "#switch colums and rows\n",
    "\n",
    "df_trans = df_mean.T"
   ]
  },
  {
   "cell_type": "code",
   "execution_count": null,
   "id": "5bc9f080",
   "metadata": {},
   "outputs": [],
   "source": [
    "df_trans"
   ]
  },
  {
   "cell_type": "code",
   "execution_count": null,
   "id": "b1456dc0",
   "metadata": {},
   "outputs": [],
   "source": [
    "#import modules for visualization\n",
    "\n",
    "import seaborn as sb\n",
    "import matplotlib.pyplot as plt"
   ]
  },
  {
   "cell_type": "code",
   "execution_count": null,
   "id": "1298934c",
   "metadata": {
    "scrolled": false
   },
   "outputs": [],
   "source": [
    "#plot the CT\n",
    "\n",
    "plt.figure(figsize=(8,6))\n",
    "ax = sb.violinplot(data=df_trans)\n",
    "ax.set(xlabel='Groups', ylabel='Cortical Thickness')\n",
    "plt.title(\"Distribution of means of Cortical Thickness for Controls vs. Patients\", pad = '20')"
   ]
  },
  {
   "cell_type": "markdown",
   "id": "120defa5",
   "metadata": {},
   "source": [
    "The violin plot reveals that the overall cortical thickness in the patient group is lower compared to the controls. "
   ]
  },
  {
   "cell_type": "markdown",
   "id": "a00ac6ee",
   "metadata": {},
   "source": [
    "Group differences between metrics for different brain areas "
   ]
  },
  {
   "cell_type": "markdown",
   "id": "1d824d4d",
   "metadata": {},
   "source": [
    "To get a broad idea and see, whether there is an effect in certain brain areas in a specific direction compared both groups, the differences in every brain region between the patient and control group is computed and plotted. "
   ]
  },
  {
   "cell_type": "code",
   "execution_count": null,
   "id": "7933c84d",
   "metadata": {},
   "outputs": [],
   "source": [
    "#compute difference\n",
    "\n",
    "df_trans['diff'] = df_trans.iloc[:,0] - df_trans.iloc[:,1]"
   ]
  },
  {
   "cell_type": "code",
   "execution_count": null,
   "id": "4aaaafd1",
   "metadata": {},
   "outputs": [],
   "source": [
    "df_trans"
   ]
  },
  {
   "cell_type": "code",
   "execution_count": null,
   "id": "cce2c688",
   "metadata": {
    "scrolled": false
   },
   "outputs": [],
   "source": [
    "#plot the difference \n",
    "\n",
    "# Initialize layout\n",
    "fig, ax = plt.subplots(figsize = (20, 20))\n",
    "\n",
    "# Make histogram\n",
    "ax.hist(df_trans[\"diff\"],bins= 100, edgecolor = 'black')\n",
    "\n",
    "plt.title('My title')\n",
    "plt.xlabel('categories')\n",
    "plt.ylabel('values')"
   ]
  },
  {
   "cell_type": "markdown",
   "id": "4f9bdb48",
   "metadata": {},
   "source": []
  },
  {
   "cell_type": "markdown",
   "id": "e19e823a",
   "metadata": {},
   "source": [
    "### 3.2 Micro-structural data: mean diffusivity (MD) and fractional anisotropy (FA)"
   ]
  },
  {
   "cell_type": "markdown",
   "id": "154f5ce7",
   "metadata": {},
   "source": [
    "The **micro-structural** data contains diffusion weighted images (DWI) from which regional cortical measures such as ***mean diffusivity (MD)*** and ***fractional anisotropy (FA)*** were estimated. \n",
    "\n",
    "In general, Diffusion MRI measures white matter fibres which makes it feasible to examine connections between different regions. For that, we look at how water diffuses in the brain which again provides information of the brain itself. The diffusion of water can be visualized as cloud if points which again can be approximated with a tensor model. Since there is a distinction in isotropic (characteristics are similar in all directions) vs anisotropic (characteristics e.g. faster in a given direction) diffusion, the tensor model might differ."
   ]
  },
  {
   "cell_type": "markdown",
   "id": "b65d5fa4",
   "metadata": {},
   "source": [
    "**MD** and **FA** are central characteristics of tensors. **MD** indicates how much diffusion there is inside a voxel. **FA** is a measurement of the anisotropy of diffusion with a value range between 0 and 1. While the a **FA** value of 0 stands for isotropic diffusion, the **FA** value of 1 indicates anisotropic diffusion."
   ]
  },
  {
   "cell_type": "code",
   "execution_count": null,
   "id": "d0912302",
   "metadata": {},
   "outputs": [],
   "source": [
    "#read MD and FA datasets\n",
    "\n",
    "\n",
    "MD_Dublin_path = os.path.join(os.pardir, 'data', 'PARC_500.aparc_MD_cortexAv_mean_Dublin.csv')\n",
    "\n",
    "FA_Dublin_path = os.path.join(os.pardir, 'data', 'PARC_500.aparc_FA_cortexAv_mean_Dublin.csv')\n",
    "\n",
    "\n",
    "MD_Dublin= pd.read_csv(MD_Dublin_path)\n",
    "FA_Dublin = pd.read_csv(FA_Dublin_path)"
   ]
  },
  {
   "cell_type": "code",
   "execution_count": null,
   "id": "f087b512",
   "metadata": {},
   "outputs": [],
   "source": [
    "MD_Dublin"
   ]
  },
  {
   "cell_type": "code",
   "execution_count": null,
   "id": "1b814d67",
   "metadata": {},
   "outputs": [],
   "source": [
    "#adjust data frame\n",
    "MD_Dublin_ad = MD_Dublin.drop(['Subject ID','Age', 'Sex'], axis=1)"
   ]
  },
  {
   "cell_type": "code",
   "execution_count": null,
   "id": "093cff19",
   "metadata": {},
   "outputs": [],
   "source": [
    "MD_Dublin_ad"
   ]
  },
  {
   "cell_type": "code",
   "execution_count": null,
   "id": "82c474dd",
   "metadata": {},
   "outputs": [],
   "source": [
    "MD_Dublin_ad.describe()"
   ]
  },
  {
   "cell_type": "code",
   "execution_count": null,
   "id": "ce8616bb",
   "metadata": {},
   "outputs": [],
   "source": [
    "#compute mean for patients and control in each brain region\n",
    "\n",
    "MD_df_mean = MD_Dublin_ad.groupby('Group').mean()"
   ]
  },
  {
   "cell_type": "code",
   "execution_count": null,
   "id": "149be8c7",
   "metadata": {},
   "outputs": [],
   "source": [
    "MD_df_mean"
   ]
  },
  {
   "cell_type": "code",
   "execution_count": null,
   "id": "e12a196d",
   "metadata": {},
   "outputs": [],
   "source": [
    "#mean of mean diffusivity for control and patients\n",
    "\n",
    "MD_df_mean.mean(axis=1)"
   ]
  },
  {
   "cell_type": "markdown",
   "id": "8284d3b0",
   "metadata": {},
   "source": [
    "The values indicate descriptively that the control group has a lower average mean diffusivity compared to patients."
   ]
  },
  {
   "cell_type": "code",
   "execution_count": null,
   "id": "95aa94bc",
   "metadata": {},
   "outputs": [],
   "source": [
    "#switch colums and rows\n",
    "\n",
    "MD_df_trans = MD_df_mean.T"
   ]
  },
  {
   "cell_type": "code",
   "execution_count": null,
   "id": "fc32d47a",
   "metadata": {},
   "outputs": [],
   "source": [
    "MD_df_trans"
   ]
  },
  {
   "cell_type": "code",
   "execution_count": null,
   "id": "4bd5dc38",
   "metadata": {},
   "outputs": [],
   "source": [
    "#plot the MD\n",
    "\n",
    "plt.figure(figsize=(8,6))\n",
    "ax = sb.violinplot(data=MD_df_trans)\n",
    "ax.set(xlabel='Groups', ylabel='Mean Diffusivity')\n",
    "plt.title(\"Distribution of Mean Diffusivity Means for Controls vs. Patients\", pad = '20')"
   ]
  },
  {
   "cell_type": "markdown",
   "id": "81ace3b8",
   "metadata": {},
   "source": [
    "Group differences"
   ]
  },
  {
   "cell_type": "code",
   "execution_count": null,
   "id": "0644dce9",
   "metadata": {},
   "outputs": [],
   "source": [
    "#compute difference\n",
    "\n",
    "MD_df_trans['diff'] = MD_df_trans.iloc[:,0] - MD_df_trans.iloc[:,1]"
   ]
  },
  {
   "cell_type": "code",
   "execution_count": null,
   "id": "b78c0f20",
   "metadata": {},
   "outputs": [],
   "source": [
    "MD_df_trans"
   ]
  },
  {
   "cell_type": "code",
   "execution_count": null,
   "id": "671cdd4f",
   "metadata": {},
   "outputs": [],
   "source": [
    "#plot the difference \n",
    "\n",
    "# Initialize layout\n",
    "fig, ax = plt.subplots(figsize = (9, 9))\n",
    "\n",
    "# Make histogram\n",
    "ax.hist(MD_df_trans[\"diff\"], edgecolor = 'black')\n"
   ]
  },
  {
   "cell_type": "code",
   "execution_count": null,
   "id": "a97066b1",
   "metadata": {
    "scrolled": true
   },
   "outputs": [],
   "source": [
    "FA_Dublin"
   ]
  },
  {
   "cell_type": "code",
   "execution_count": null,
   "id": "d57be6d1",
   "metadata": {},
   "outputs": [],
   "source": [
    "#adjust data frame\n",
    "\n",
    "FA_Dublin_ad = FA_Dublin.drop(['Subject ID','Age', 'Sex'], axis=1)"
   ]
  },
  {
   "cell_type": "code",
   "execution_count": null,
   "id": "4c8ed4de",
   "metadata": {},
   "outputs": [],
   "source": [
    "FA_Dublin_ad"
   ]
  },
  {
   "cell_type": "code",
   "execution_count": null,
   "id": "ceb0b9b1",
   "metadata": {},
   "outputs": [],
   "source": [
    "FA_Dublin_ad.describe()"
   ]
  },
  {
   "cell_type": "code",
   "execution_count": null,
   "id": "c0bf6da2",
   "metadata": {},
   "outputs": [],
   "source": [
    "#compute mean for patients and control in each brain region\n",
    "\n",
    "FA_df_mean = FA_Dublin_ad.groupby('Group').mean()"
   ]
  },
  {
   "cell_type": "code",
   "execution_count": null,
   "id": "cbb58a8f",
   "metadata": {},
   "outputs": [],
   "source": [
    "FA_df_mean"
   ]
  },
  {
   "cell_type": "code",
   "execution_count": null,
   "id": "e02b004c",
   "metadata": {},
   "outputs": [],
   "source": [
    "#mean of fractional anisotropy for control and patients\n",
    "\n",
    "FA_df_mean.mean(axis=1)"
   ]
  },
  {
   "cell_type": "markdown",
   "id": "02f9137d",
   "metadata": {},
   "source": [
    "The values seem to indicate an isotropic diffusion in both control and patient groups."
   ]
  },
  {
   "cell_type": "code",
   "execution_count": null,
   "id": "349f4659",
   "metadata": {},
   "outputs": [],
   "source": [
    "#switch colums and rows\n",
    "\n",
    "FA_df_trans = FA_df_mean.T"
   ]
  },
  {
   "cell_type": "code",
   "execution_count": null,
   "id": "5d37e52a",
   "metadata": {
    "scrolled": true
   },
   "outputs": [],
   "source": [
    "FA_df_trans"
   ]
  },
  {
   "cell_type": "code",
   "execution_count": null,
   "id": "e6d4bd9b",
   "metadata": {},
   "outputs": [],
   "source": [
    "#plot the FA\n",
    "\n",
    "plt.figure(figsize=(8,6))\n",
    "ax = sb.violinplot(data=FA_df_trans)\n",
    "ax.set(xlabel='Groups', ylabel='Fractional Anisotropy')\n",
    "plt.title(\"Distribution of Fractional Anisotropy Means for Controls vs. Patients\", pad = '20')"
   ]
  },
  {
   "cell_type": "code",
   "execution_count": null,
   "id": "a35e9894",
   "metadata": {},
   "outputs": [],
   "source": [
    "#compute difference\n",
    "\n",
    "FA_df_trans['diff'] = FA_df_trans.iloc[:,0] - FA_df_trans.iloc[:,1]"
   ]
  },
  {
   "cell_type": "code",
   "execution_count": null,
   "id": "4d33bb53",
   "metadata": {},
   "outputs": [],
   "source": [
    "FA_df_trans"
   ]
  },
  {
   "cell_type": "code",
   "execution_count": null,
   "id": "a32866a2",
   "metadata": {},
   "outputs": [],
   "source": [
    "#plot the difference \n",
    "\n",
    "# Initialize layout\n",
    "fig, ax = plt.subplots(figsize = (9, 9))\n",
    "\n",
    "# Make histogram\n",
    "ax.hist(FA_df_trans[\"diff\"], edgecolor = 'black')"
   ]
  },
  {
   "cell_type": "markdown",
   "id": "48a0094c",
   "metadata": {},
   "source": [
    "## 3.1 DTI Networks"
   ]
  },
  {
   "cell_type": "markdown",
   "id": "d2ba0be6",
   "metadata": {},
   "source": [
    "First of all, I am going to explore the DTI network data, followed by the regional MD and FA values and lastly the CT data."
   ]
  },
  {
   "cell_type": "markdown",
   "id": "86c38d60",
   "metadata": {},
   "source": [
    "The data that contains the DTI networks are available as matlab files. In the following, it is depicted how the matlab files can be downloaded and read."
   ]
  },
  {
   "cell_type": "markdown",
   "id": "10e5161d",
   "metadata": {},
   "source": [
    "####  3.1.1 Download the .mat files"
   ]
  },
  {
   "cell_type": "markdown",
   "id": "04d01d26",
   "metadata": {},
   "source": [
    "If you click on the name of the matlab datafile on figshare , it then only shows you the preview of the matlab file and the link of that is for the respective preview. If you want to copy the link of the matlab file itself, you have to right-click on the datafile name and then copy the link."
   ]
  },
  {
   "cell_type": "code",
   "execution_count": null,
   "id": "f19787fd",
   "metadata": {},
   "outputs": [],
   "source": [
    "import urllib.request"
   ]
  },
  {
   "cell_type": "code",
   "execution_count": null,
   "id": "90cd75aa",
   "metadata": {},
   "outputs": [],
   "source": [
    "print('Beginning file download with urllib2...')\n",
    "\n",
    "url = \"https://figshare.com/ndownloader/files/22782440\"\n",
    "urllib.request.urlretrieve(url, r'../data/DTI_Dublin.mat')"
   ]
  },
  {
   "cell_type": "markdown",
   "id": "cc431cb7",
   "metadata": {},
   "source": [
    "#### 3.1.2 Read the .mat files"
   ]
  },
  {
   "cell_type": "code",
   "execution_count": null,
   "id": "2a0888cf",
   "metadata": {},
   "outputs": [],
   "source": [
    "import scipy.io"
   ]
  },
  {
   "cell_type": "markdown",
   "id": "8bd79bc9",
   "metadata": {},
   "source": [
    "**Dublin**"
   ]
  },
  {
   "cell_type": "code",
   "execution_count": null,
   "id": "caa6af8e",
   "metadata": {},
   "outputs": [],
   "source": [
    "DTI_Dublin = scipy.io.loadmat(r'../data/DTI_Dublin.mat')"
   ]
  },
  {
   "cell_type": "code",
   "execution_count": null,
   "id": "846c9cb8",
   "metadata": {},
   "outputs": [],
   "source": [
    "DTI_Dublin.keys()"
   ]
  },
  {
   "cell_type": "code",
   "execution_count": null,
   "id": "bf5dec54",
   "metadata": {},
   "outputs": [],
   "source": [
    "DTI_Dublin['nostreamlines_new'].shape"
   ]
  },
  {
   "cell_type": "markdown",
   "id": "105ac268",
   "metadata": {},
   "source": [
    "123 Probanden mit DTI Matrizen.\n",
    "Wie sehen DTI Matrizen aus?"
   ]
  },
  {
   "cell_type": "code",
   "execution_count": null,
   "id": "cb224776",
   "metadata": {},
   "outputs": [],
   "source": [
    "DTI_Dublin['nostreamlines_new'][0].shape"
   ]
  },
  {
   "cell_type": "code",
   "execution_count": null,
   "id": "3768ff65",
   "metadata": {},
   "outputs": [],
   "source": [
    "DTI_Dublin['nostreamlines_new'][0][0].shape"
   ]
  },
  {
   "cell_type": "markdown",
   "id": "ec5118dd",
   "metadata": {},
   "source": [
    "Zwischen 308 Regionen basierend auf DTI Daten Werte (siehe course website, nochmal durchlesen!!)"
   ]
  },
  {
   "cell_type": "code",
   "execution_count": null,
   "id": "aba1649d",
   "metadata": {},
   "outputs": [],
   "source": [
    "import matplotlib.pyplot as plt\n",
    "import seaborn as sns\n",
    "\n",
    "plt.figure(figsize=(10,7))\n",
    "sns.heatmap(DTI_Dublin['nostreamlines_new'][0][0], xticklabels=False, cmap='rocket')"
   ]
  },
  {
   "cell_type": "code",
   "execution_count": null,
   "id": "efdd27a1",
   "metadata": {},
   "outputs": [],
   "source": []
  },
  {
   "cell_type": "code",
   "execution_count": null,
   "id": "9294c07e",
   "metadata": {},
   "outputs": [],
   "source": []
  },
  {
   "cell_type": "code",
   "execution_count": null,
   "id": "d741bd1b",
   "metadata": {},
   "outputs": [],
   "source": []
  },
  {
   "cell_type": "code",
   "execution_count": null,
   "id": "d1990bc5",
   "metadata": {},
   "outputs": [],
   "source": []
  },
  {
   "cell_type": "code",
   "execution_count": null,
   "id": "628457b0",
   "metadata": {},
   "outputs": [],
   "source": []
  },
  {
   "cell_type": "code",
   "execution_count": null,
   "id": "365a8376",
   "metadata": {},
   "outputs": [],
   "source": []
  },
  {
   "cell_type": "code",
   "execution_count": null,
   "id": "69bbb4a6",
   "metadata": {},
   "outputs": [],
   "source": []
  }
 ],
 "metadata": {
  "kernelspec": {
   "display_name": "Python 3 (ipykernel)",
   "language": "python",
   "name": "python3"
  },
  "language_info": {
   "codemirror_mode": {
    "name": "ipython",
    "version": 3
   },
   "file_extension": ".py",
   "mimetype": "text/x-python",
   "name": "python",
   "nbconvert_exporter": "python",
   "pygments_lexer": "ipython3",
   "version": "3.7.0"
  },
  "vscode": {
   "interpreter": {
    "hash": "578504114d49301275c44c87035f08411733f9928d9347745d7de100c09f7611"
   }
  }
 },
 "nbformat": 4,
 "nbformat_minor": 5
}
